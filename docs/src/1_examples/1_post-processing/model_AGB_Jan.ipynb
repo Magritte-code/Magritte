{
 "cells": [
  {
   "cell_type": "markdown",
   "metadata": {},
   "source": [
    "# Model AGB Jan\n",
    "---"
   ]
  },
  {
   "cell_type": "markdown",
   "metadata": {},
   "source": [
    "## Imports"
   ]
  },
  {
   "cell_type": "code",
   "execution_count": 1,
   "metadata": {},
   "outputs": [],
   "source": [
    "import yt\n",
    "import vtk\n",
    "import h5py\n",
    "import meshio\n",
    "import matplotlib.pyplot as plt\n",
    "import numpy             as np\n",
    "import magritte.setup    as setup\n",
    "import magritte.mesher   as mesher\n",
    "import magritte.core     as magritte\n",
    "\n",
    "from tqdm                   import tqdm\n",
    "from astropy                import units, constants\n",
    "from vtk.util.numpy_support import vtk_to_numpy\n",
    "from scipy.spatial          import Delaunay, cKDTree\n",
    "from scipy.interpolate      import griddata\n",
    "from numba                  import njit\n",
    "from yt.funcs               import mylog\n",
    "mylog.setLevel(40) # This sets the log level to \"ERROR\"\n",
    "from ipywidgets             import Dropdown, interact\n",
    "from palettable.cubehelix   import cubehelix2_16\n",
    "from matplotlib.gridspec    import GridSpec\n",
    "from matplotlib             import rcParams, rc\n",
    "from glob                   import glob"
   ]
  },
  {
   "cell_type": "markdown",
   "metadata": {},
   "source": [
    "## Model level populations"
   ]
  },
  {
   "cell_type": "code",
   "execution_count": 2,
   "metadata": {},
   "outputs": [],
   "source": [
    "model_file = 'model_Jan_reduced.hdf5'"
   ]
  },
  {
   "cell_type": "code",
   "execution_count": 3,
   "metadata": {},
   "outputs": [],
   "source": [
    "# Load model\n",
    "model = magritte.Model (model_file)"
   ]
  },
  {
   "cell_type": "code",
   "execution_count": 4,
   "metadata": {},
   "outputs": [
    {
     "data": {
      "text/plain": [
       "0"
      ]
     },
     "execution_count": 4,
     "metadata": {},
     "output_type": "execute_result"
    }
   ],
   "source": [
    "# Some setup\n",
    "model.compute_spectral_discretisation ()\n",
    "model.compute_inverse_line_widths     ()\n",
    "model.compute_LTE_level_populations   ()"
   ]
  },
  {
   "cell_type": "code",
   "execution_count": 5,
   "metadata": {},
   "outputs": [],
   "source": [
    "# Compute level populations from statistical equilibrium\n",
    "# model.compute_level_populations (False, 1)"
   ]
  },
  {
   "cell_type": "markdown",
   "metadata": {},
   "source": [
    "## Create synthetic observations"
   ]
  },
  {
   "cell_type": "code",
   "execution_count": 6,
   "metadata": {},
   "outputs": [],
   "source": [
    "fcen = model.lines.lineProducingSpecies[0].linedata.frequency[0]\n",
    "vpix = 1000\n",
    "dd = vpix * (model.parameters.nfreqs()-1)/2 / magritte.CC\n",
    "fmin = fcen - fcen*dd\n",
    "fmax = fcen + fcen*dd\n",
    "\n",
    "model.compute_spectral_discretisation (fmin, fmax)\n",
    "model.compute_image (model.parameters.hnrays()-1)\n",
    "\n",
    "imx = np.array(model.images[-1].ImX)\n",
    "imy = np.array(model.images[-1].ImY)\n",
    "imI = np.array(model.images[-1].I)\n",
    "imv = np.array(model.radiation.frequencies.nu)[0]"
   ]
  },
  {
   "cell_type": "code",
   "execution_count": 7,
   "metadata": {},
   "outputs": [],
   "source": [
    "# Extract the number of frequency bins\n",
    "nfreqs = model.parameters.nfreqs()\n",
    "\n",
    "# Set number of pixels in x and y direction\n",
    "ngridx = 300\n",
    "ngridy = 300\n",
    "\n",
    "# Set a zoom factor\n",
    "zoom = 1.3\n",
    "\n",
    "# Set image boundaries\n",
    "x_min, x_max = np.min(imx)/zoom, np.max(imx)/zoom\n",
    "y_min, y_max = np.min(imy)/zoom, np.max(imy)/zoom\n",
    "\n",
    "# Create image grid values\n",
    "xs = np.linspace(x_min, x_max, ngridx)\n",
    "ys = np.linspace(y_min, y_max, ngridy)\n",
    "\n",
    "# Extract the spectral / velocity data\n",
    "freqs = np.array(model.radiation.frequencies.nu)[0]\n",
    "f_ij  = np.mean(freqs)\n",
    "velos = (freqs - f_ij) / f_ij * constants.c.si.value * 1.0e-3   # [km/s]\n",
    "\n",
    "# Interpolate the scattered data to an image (regular grid)\n",
    "Is = np.zeros((nfreqs))\n",
    "zs = np.zeros((nfreqs, ngridx, ngridy))\n",
    "for f in range(nfreqs):\n",
    "    zs[f] = griddata((imx, imy), imI[:,f], (xs[None,:], ys[:,None]), method='nearest')\n",
    "    Is[f] = np.sum(zs[f])\n",
    "Is = Is / np.max(Is)\n",
    "\n",
    "# Get the logarithm of the data (matplotlib has a hard time handling logarithmic data.)\n",
    "log_zs     = np.log(zs)\n",
    "log_zs_min = np.min(log_zs)\n",
    "log_zs_max = np.max(log_zs)"
   ]
  },
  {
   "cell_type": "code",
   "execution_count": 8,
   "metadata": {},
   "outputs": [
    {
     "name": "stderr",
     "output_type": "stream",
     "text": [
      "100%|██████████| 101/101 [01:51<00:00,  1.10s/it]\n"
     ]
    },
    {
     "data": {
      "application/vnd.jupyter.widget-view+json": {
       "model_id": "151478de68cd41098865fd55cfbfb085",
       "version_major": 2,
       "version_minor": 0
      },
      "text/plain": [
       "interactive(children=(IntSlider(value=50, description='q'), Output()), _dom_classes=('widget-interact',))"
      ]
     },
     "metadata": {},
     "output_type": "display_data"
    },
    {
     "data": {
      "text/plain": [
       "<function __main__.<lambda>(q)>"
      ]
     },
     "execution_count": 8,
     "metadata": {},
     "output_type": "execute_result"
    }
   ],
   "source": [
    "au = (1.0 * units.au).si.value\n",
    "\n",
    "figs = []\n",
    "gs   = GridSpec(1,2, wspace=.1, width_ratios=[2, 1])\n",
    "\n",
    "for f in tqdm(range(nfreqs)):\n",
    "    fig = plt.figure(dpi=300)\n",
    "    ax1 = fig.add_subplot(gs[0])\n",
    "    ax1.contourf(xs/au, ys/au, log_zs[f], cmap=cubehelix2_16.mpl_colormap, vmin=log_zs_min, vmax=log_zs_max, levels=250)\n",
    "    ax1.set_aspect('equal')\n",
    "    ax1.set_xlabel('image x [au]', labelpad = 10)\n",
    "    ax1.set_ylabel('image y [au]', labelpad = 10)\n",
    "    \n",
    "    ax2 = fig.add_subplot(gs[1])\n",
    "    ax2.plot(velos, Is/np.max(Is))\n",
    "    ax2.yaxis.set_label_position(\"right\")\n",
    "    ax2.yaxis.tick_right()\n",
    "    ax2.axvline(velos[f], c='red')\n",
    "    ax2.set_ylabel('Relative intensity', labelpad=15)\n",
    "    ax2.set_xlabel('velocity [km/s]',    labelpad=10)\n",
    "    asp = 2*np.diff(ax2.get_xlim())[0] / np.diff(ax2.get_ylim())[0]\n",
    "    ax2.set_aspect(asp)\n",
    "    \n",
    "    plt.savefig(f\"images/image_{f:0>3d}.png\", bbox_inches='tight')\n",
    "    \n",
    "    figs.append(fig)\n",
    "    \n",
    "    plt.close()\n",
    "    \n",
    "# Crete interactive figure\n",
    "interact(lambda q: figs[q], q=(0, len(figs)-1))"
   ]
  },
  {
   "cell_type": "code",
   "execution_count": null,
   "metadata": {},
   "outputs": [],
   "source": []
  }
 ],
 "metadata": {
  "kernelspec": {
   "display_name": "Python 3",
   "language": "python",
   "name": "python3"
  },
  "language_info": {
   "codemirror_mode": {
    "name": "ipython",
    "version": 3
   },
   "file_extension": ".py",
   "mimetype": "text/x-python",
   "name": "python",
   "nbconvert_exporter": "python",
   "pygments_lexer": "ipython3",
   "version": "3.6.12"
  }
 },
 "nbformat": 4,
 "nbformat_minor": 4
}

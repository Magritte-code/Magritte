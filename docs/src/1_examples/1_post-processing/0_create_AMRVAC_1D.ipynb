{
 "cells": [
  {
   "cell_type": "markdown",
   "metadata": {},
   "source": [
    "# 1D AMRVAC snapshot"
   ]
  },
  {
   "cell_type": "markdown",
   "metadata": {},
   "source": [
    "We create a Magritte model form a snapshot of 1D AMRVAC hydrodynamics simulation.\n",
    "Currently, the AMRVAC binary files can not yet be used directly to extract the snapshot data.\n",
    "Currently we use the corresponding `.vtu` files.  "
   ]
  },
  {
   "cell_type": "markdown",
   "metadata": {},
   "source": [
    "## Setup"
   ]
  },
  {
   "cell_type": "markdown",
   "metadata": {},
   "source": [
    "Import the required functionalty."
   ]
  },
  {
   "cell_type": "code",
   "execution_count": 1,
   "metadata": {},
   "outputs": [],
   "source": [
    "import magritte.setup as setup                    # Model setup\n",
    "import magritte.core  as magritte                 # Core functionality\n",
    "# import magritte.core  as magritte                 # Core functionality\n",
    "import vtk                                        # Reading the model\n",
    "import numpy as np                                # Data structures\n",
    "import matplotlib.pyplot as plt                   # Plotting\n",
    "\n",
    "from tqdm                   import tqdm           # Progress bars\n",
    "from astropy                import constants      # Unit conversions\n",
    "from vtk.util.numpy_support import vtk_to_numpy   # Converting data"
   ]
  },
  {
   "cell_type": "markdown",
   "metadata": {},
   "source": [
    "Define a working directory (you will have to change this)."
   ]
  },
  {
   "cell_type": "code",
   "execution_count": 2,
   "metadata": {},
   "outputs": [],
   "source": [
    "wdir = \"/home/frederik/Magritte-examples/AMRVAC_1D/\""
   ]
  },
  {
   "cell_type": "markdown",
   "metadata": {},
   "source": [
    "Create the working directory."
   ]
  },
  {
   "cell_type": "code",
   "execution_count": 3,
   "metadata": {},
   "outputs": [],
   "source": [
    "!mkdir -p $wdir"
   ]
  },
  {
   "cell_type": "markdown",
   "metadata": {},
   "source": [
    "Define file names."
   ]
  },
  {
   "cell_type": "code",
   "execution_count": 4,
   "metadata": {},
   "outputs": [],
   "source": [
    "input_file = f'{wdir}model_AMRVAC_1D.vtu'    # AMRVAC snapshot\n",
    "model_file = f'{wdir}model_AMRVAC_1D.hdf5'   # Resulting Magritte model\n",
    "lamda_file = f'{wdir}co.txt'                 # Line data file"
   ]
  },
  {
   "cell_type": "markdown",
   "metadata": {},
   "source": [
    "We use a snapshot and data file that can be downloaded with the following links."
   ]
  },
  {
   "cell_type": "code",
   "execution_count": 5,
   "metadata": {},
   "outputs": [],
   "source": [
    "input_link = \"https://owncloud.ster.kuleuven.be/index.php/s/NpPG88x5LCbaZNC/download\"\n",
    "lamda_link = \"https://home.strw.leidenuniv.nl/~moldata/datafiles/co.dat\""
   ]
  },
  {
   "cell_type": "markdown",
   "metadata": {},
   "source": [
    "Dowload the snapshot and the linedata (``%%capture`` is just used to suppress the output)."
   ]
  },
  {
   "cell_type": "code",
   "execution_count": 6,
   "metadata": {},
   "outputs": [],
   "source": [
    "%%capture\n",
    "!wget $input_link --output-document $input_file\n",
    "!wget $lamda_link --output-document $lamda_file"
   ]
  },
  {
   "cell_type": "markdown",
   "metadata": {},
   "source": [
    "## Extract data "
   ]
  },
  {
   "cell_type": "markdown",
   "metadata": {},
   "source": [
    "The script below extract the required data from the snapshot `.vtu` file."
   ]
  },
  {
   "cell_type": "code",
   "execution_count": 7,
   "metadata": {},
   "outputs": [
    {
     "name": "stderr",
     "output_type": "stream",
     "text": [
      "100%|██████████| 85/85 [00:00<00:00, 332260.80it/s]\n",
      "100%|██████████| 2000/2000 [00:00<00:00, 76201.19it/s]\n"
     ]
    }
   ],
   "source": [
    "# Create a vtk reader to read the AMRVAC file and extract its contents.\n",
    "reader = vtk.vtkXMLUnstructuredGridReader()\n",
    "reader.SetFileName(input_file)\n",
    "reader.Update()\n",
    "\n",
    "# Extract the grid output\n",
    "grid = reader.GetOutput()\n",
    "\n",
    "# Extract the number of cells\n",
    "ncells = grid.GetNumberOfCells() \n",
    "\n",
    "# Extract cell data\n",
    "cellData = grid.GetCellData()\n",
    "for i in tqdm(range(cellData.GetNumberOfArrays())):\n",
    "    array = cellData.GetArray(i)\n",
    "    if (array.GetName() == 'rho'):\n",
    "        rho = vtk_to_numpy(array)\n",
    "    if (array.GetName() == 'temperature'):\n",
    "        tmp = vtk_to_numpy(array)\n",
    "    if (array.GetName() == 'v1'):\n",
    "        v_x = vtk_to_numpy(array)\n",
    "\n",
    "# Convert rho (total density) to abundances\n",
    "nH2 = rho * 1.0e+6 * constants.N_A.si.value / 2.02\n",
    "nCO = nH2 * 1.0e-4\n",
    "\n",
    "# Convenience arrays\n",
    "zeros = np.zeros(ncells)\n",
    "ones  = np.ones (ncells)\n",
    "\n",
    "# Since it is a 1D model there is no y or z data.\n",
    "v_y = v_z = zeros\n",
    "\n",
    "# Convert to fractions of the speed of light\n",
    "velocity = np.array((v_x, v_y, v_z)).transpose() / constants.c.cgs.value\n",
    "\n",
    "# Define turbulence at 150 m/s\n",
    "trb = (150.0/constants.c.si.value)**2 * ones\n",
    "\n",
    "# Extract cell centres to use as positions of the Magritte points.\n",
    "centres = []\n",
    "for c in tqdm(range(ncells)):\n",
    "    cell = grid.GetCell(c)\n",
    "    centre = np.zeros(3)\n",
    "    for i in range(2):\n",
    "        centre = centre + np.array(cell.GetPoints().GetPoint(i))\n",
    "    centre = 0.5 * centre\n",
    "    centres.append(centre)\n",
    "centres  = np.array(centres)\n",
    "centres *= 1.0e-2   # convert [cm] to [m]\n",
    "\n",
    "# Define AMRVAC cell centres as Magritte point positions\n",
    "position = centres"
   ]
  },
  {
   "cell_type": "markdown",
   "metadata": {},
   "source": [
    "## Create model"
   ]
  },
  {
   "cell_type": "markdown",
   "metadata": {},
   "source": [
    "Now all data is read we can use it to construct a Magritte model."
   ]
  },
  {
   "cell_type": "code",
   "execution_count": 8,
   "metadata": {},
   "outputs": [],
   "source": [
    "model = magritte.Model ()                              # Create model object\n",
    "\n",
    "model.parameters.set_model_name         (model_file)   # Magritte model file\n",
    "model.parameters.set_spherical_symmetry (True)         # Assume spherical symmetry\n",
    "model.parameters.set_dimension          (1)            # Spherical symmetry is 1D\n",
    "model.parameters.set_npoints            (ncells)       # Number of points\n",
    "model.parameters.set_nrays              (50)           # Number of rays  \n",
    "model.parameters.set_nspecs             (5)            # Number of species (min. 5)\n",
    "model.parameters.set_nlspecs            (1)            # Number of line species\n",
    "model.parameters.set_nquads             (21)           # Number of quadrature points\n",
    "model.parameters.set_pop_prec           (1.0e-6)       # Pops. convergence criterion\n",
    "\n",
    "model.geometry.points.position.set (position)\n",
    "model.geometry.points.velocity.set (velocity)\n",
    "\n",
    "model.chemistry.species.abundance = np.array((zeros, nCO, nH2, zeros, ones)).T\n",
    "model.chemistry.species.symbol    = ['dummy0', 'test', 'H2', 'e-', 'dummy1']\n",
    "\n",
    "model.thermodynamics.temperature.gas  .set(tmp)\n",
    "model.thermodynamics.turbulence.vturb2.set(trb)\n",
    "\n",
    "model = setup.set_Delaunay_neighbor_lists  (model)\n",
    "model = setup.set_Delaunay_boundary        (model)\n",
    "model = setup.set_boundary_condition_CMB   (model)\n",
    "model = setup.set_uniform_rays             (model)\n",
    "model = setup.set_linedata_from_LAMDA_file (model, lamda_file)\n",
    "model = setup.set_quadrature               (model)\n",
    "\n",
    "model.write()"
   ]
  },
  {
   "cell_type": "markdown",
   "metadata": {},
   "source": [
    "## Plot model"
   ]
  },
  {
   "cell_type": "markdown",
   "metadata": {},
   "source": [
    "The data can be extracted from the Magritte model by casting it into numpy arrays."
   ]
  },
  {
   "cell_type": "code",
   "execution_count": 20,
   "metadata": {},
   "outputs": [],
   "source": [
    "position  = np.array(model.geometry.points.position)\n",
    "velocity  = np.array(model.geometry.points.velocity)\n",
    "abundance = np.array(model.chemistry.species.abundance)\n",
    "\n",
    "rs  = np.linalg.norm(position, axis=1)\n",
    "vs  = np.linalg.norm(velocity, axis=1)\n",
    "nCO = abundance[:,1]"
   ]
  },
  {
   "cell_type": "markdown",
   "metadata": {},
   "source": [
    "Plot of the CO number density."
   ]
  },
  {
   "cell_type": "code",
   "execution_count": 26,
   "metadata": {},
   "outputs": [
    {
     "data": {
      "text/plain": [
       "Text(0, 0.5, 'CO number density [m$^{-3}$]')"
      ]
     },
     "execution_count": 26,
     "metadata": {},
     "output_type": "execute_result"
    },
    {
     "data": {
      "image/png": "[encoded data removed]",
      "text/plain": [
       "<Figure size 780x520 with 1 Axes>"
      ]
     },
     "metadata": {
      "needs_background": "light"
     },
     "output_type": "display_data"
    }
   ],
   "source": [
    "plt.figure(dpi=130)\n",
    "plt.title('CO number density')\n",
    "plt.plot(rs, nCO)\n",
    "plt.xscale('log')\n",
    "plt.yscale('log')\n",
    "plt.xlabel(r'r [m]')\n",
    "plt.ylabel(r'CO number density [m$^{-3}$]')"
   ]
  },
  {
   "cell_type": "markdown",
   "metadata": {},
   "source": [
    "Plot of the lengths of the velocity vectors."
   ]
  },
  {
   "cell_type": "code",
   "execution_count": 29,
   "metadata": {},
   "outputs": [
    {
     "data": {
      "text/plain": [
       "Text(0, 0.5, '|velocity| [m/s]')"
      ]
     },
     "execution_count": 29,
     "metadata": {},
     "output_type": "execute_result"
    },
    {
     "data": {
      "image/png": "[encoded data removed]",
      "text/plain": [
       "<Figure size 780x520 with 1 Axes>"
      ]
     },
     "metadata": {
      "needs_background": "light"
     },
     "output_type": "display_data"
    }
   ],
   "source": [
    "plt.figure(dpi=130)\n",
    "plt.title('|velocity|')\n",
    "plt.plot(rs, vs)\n",
    "plt.xscale('log')\n",
    "# plt.yscale('log')\n",
    "plt.xlabel(r'r [m]')\n",
    "plt.ylabel(r'|velocity| [m/s]')"
   ]
  },
  {
   "cell_type": "code",
   "execution_count": null,
   "metadata": {},
   "outputs": [],
   "source": []
  }
 ],
 "metadata": {
  "kernelspec": {
   "display_name": "Python 3",
   "language": "python",
   "name": "python3"
  },
  "language_info": {
   "codemirror_mode": {
    "name": "ipython",
    "version": 3
   },
   "file_extension": ".py",
   "mimetype": "text/x-python",
   "name": "python",
   "nbconvert_exporter": "python",
   "pygments_lexer": "ipython3",
   "version": "3.6.12"
  }
 },
 "nbformat": 4,
 "nbformat_minor": 4
}

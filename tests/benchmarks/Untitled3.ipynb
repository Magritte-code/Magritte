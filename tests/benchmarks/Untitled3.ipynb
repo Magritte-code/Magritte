{
 "cells": [
  {
   "cell_type": "code",
   "execution_count": 1,
   "metadata": {},
   "outputs": [],
   "source": [
    "import os\n",
    "import sys\n",
    "sys.path.append(f'{os.getcwd()}/../../')\n",
    "sys.path.append(f'{os.getcwd()}/analytic')"
   ]
  },
  {
   "cell_type": "code",
   "execution_count": 2,
   "metadata": {},
   "outputs": [],
   "source": [
    "import numpy             as np\n",
    "import scipy             as sp\n",
    "import magritte.setup    as setup\n",
    "import magritte.core     as magritte\n",
    "import magritte.mesher   as mesher\n",
    "import healpy\n",
    "\n",
    "dimension = 3\n",
    "nrays     = 12*3**2\n",
    "nspecs    = 5\n",
    "nlspecs   = 1\n",
    "nquads    = 15\n",
    "\n",
    "r_in   = 1.0E13   # [m]\n",
    "r_out  = 7.8E16   # [m]\n",
    "nH2_in = 2.0E13   # [m^-3]\n",
    "X_mol  = 1.0E-8   # [.]\n",
    "temp   = 20.0     # [K]\n",
    "turb   = 150.00   # [.]\n",
    "\n",
    "\n",
    "def nH2(r):\n",
    "    return nH2_in * np.power(r_in/r, 2.0)\n",
    "\n",
    "def nTT(r):\n",
    "    return X_mol * nH2(r)\n",
    "\n",
    "\n",
    "scale_max = 0.07 * r_out\n",
    "scale_min = 0.1 * r_in\n",
    "scale_cte = 0.1 * r_in\n",
    "scale_fun = f\"{scale_cte / r_in**2} * (x*x + y*y + z*z)\"\n",
    "\n",
    "\n",
    "meshName = 'test_model.vtk'\n",
    "\n",
    "# mesher.create_mesh_from_function(\n",
    "#     meshName       = meshName,\n",
    "#     boundary       = mesher.boundary_sphere_in_sphere(\n",
    "#                          radius_in  = r_in,\n",
    "#                          radius_out = r_out),\n",
    "#     scale_min      = scale_min,\n",
    "#     scale_max      = scale_max,\n",
    "#     scale_function = scale_fun )"
   ]
  },
  {
   "cell_type": "code",
   "execution_count": 3,
   "metadata": {},
   "outputs": [
    {
     "name": "stdout",
     "output_type": "stream",
     "text": [
      "0\n",
      "6\n"
     ]
    }
   ],
   "source": [
    "mesh = mesher.Mesh(meshName)\n",
    "\n",
    "npoints = len(mesh.points)\n",
    "nbs     = [n for sublist in mesh.neighbors for n in sublist]\n",
    "n_nbs   = [len(sublist) for sublist in mesh.neighbors]\n",
    "\n",
    "\n",
    "modelFile = 'test_model.hdf5'\n",
    "lamdaFile = '../data/test.txt'\n",
    "\n",
    "\n",
    "model = magritte.Model ()\n",
    "model.parameters.set_spherical_symmetry(False)\n",
    "model.parameters.set_pop_prec          (1.0e-6)\n",
    "model.parameters.set_model_name        (modelFile)\n",
    "model.parameters.set_dimension         (dimension)\n",
    "model.parameters.set_npoints           (npoints)\n",
    "model.parameters.set_nrays             (nrays)\n",
    "model.parameters.set_nspecs            (nspecs)\n",
    "model.parameters.set_nlspecs           (nlspecs)\n",
    "model.parameters.set_nquads            (nquads)\n",
    "\n",
    "model.geometry.points.position.set(mesh.points)\n",
    "model.geometry.points.velocity.set(np.zeros((npoints, 3)))\n",
    "\n",
    "model.geometry.points.multiscale.set_all_neighbors(n_nbs, nbs)",
    "\n",
    "rs = np.linalg.norm(mesh.points, axis=1)\n",
    "\n",
    "model.chemistry.species.abundance = [[     0.0, nTT(r), nH2(r),  0.0,      1.0] for r in rs]\n",
    "model.chemistry.species.symbol    =  ['dummy0', 'test',   'H2', 'e-', 'dummy1']\n",
    "\n",
    "model.thermodynamics.temperature.gas  .set( temp                 * np.ones(npoints))\n",
    "model.thermodynamics.turbulence.vturb2.set((turb/magritte.CC)**2 * np.ones(npoints))\n",
    "\n",
    "model.parameters.set_nboundary(len(mesh.boundary))\n",
    "model.geometry.boundary.boundary2point.set(mesh.boundary)\n",
    "\n",
    "model = setup.set_boundary_condition_CMB  (model)\n",
    "model = setup.set_uniform_rays            (model)\n",
    "model = setup.set_linedata_from_LAMDA_file(model, lamdaFile)\n",
    "model = setup.set_quadrature              (model)\n",
    "\n",
    "model.write()\n",
    "# model.read ()\n",
    "\n",
    "# model.compute_spectral_discretisation ()\n",
    "# model.compute_inverse_line_widths     ()\n",
    "# model.compute_LTE_level_populations   ()\n",
    "\n",
    "# model.compute_radation_field()\n",
    "\n",
    "# model.compute_level_populations       (False, 50)"
   ]
  },
  {
   "cell_type": "code",
   "execution_count": 4,
   "metadata": {},
   "outputs": [],
   "source": [
    "import magritte.core as magritte"
   ]
  },
  {
   "cell_type": "code",
   "execution_count": 5,
   "metadata": {},
   "outputs": [],
   "source": [
    "model = magritte.Model('test_model.hdf5')"
   ]
  },
  {
   "cell_type": "code",
   "execution_count": 7,
   "metadata": {},
   "outputs": [
    {
     "data": {
      "text/plain": [
       "0"
      ]
     },
     "execution_count": 7,
     "metadata": {},
     "output_type": "execute_result"
    }
   ],
   "source": [
    "model.compute_spectral_discretisation ()\n",
    "model.compute_inverse_line_widths     ()\n",
    "model.compute_LTE_level_populations   ()"
   ]
  },
  {
   "cell_type": "code",
   "execution_count": 8,
   "metadata": {},
   "outputs": [
    {
     "data": {
      "text/plain": [
       "0"
      ]
     },
     "execution_count": 8,
     "metadata": {},
     "output_type": "execute_result"
    }
   ],
   "source": [
    "model.compute_radiation_field_2nd_order_Feautrier()"
   ]
  },
  {
   "cell_type": "code",
   "execution_count": 6,
   "metadata": {},
   "outputs": [
    {
     "data": {
      "text/plain": [
       "False"
      ]
     },
     "execution_count": 6,
     "metadata": {},
     "output_type": "execute_result"
    }
   ],
   "source": [
    "model.parameters.spherical_symmetry()"
   ]
  },
  {
   "cell_type": "code",
   "execution_count": null,
   "metadata": {},
   "outputs": [],
   "source": []
  }
 ],
 "metadata": {
  "kernelspec": {
   "display_name": "Python 3",
   "language": "python",
   "name": "python3"
  },
  "language_info": {
   "codemirror_mode": {
    "name": "ipython",
    "version": 3
   },
   "file_extension": ".py",
   "mimetype": "text/x-python",
   "name": "python",
   "nbconvert_exporter": "python",
   "pygments_lexer": "ipython3",
   "version": "3.7.5"
  }
 },
 "nbformat": 4,
 "nbformat_minor": 4
}

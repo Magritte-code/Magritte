{
 "cells": [
  {
   "cell_type": "code",
   "execution_count": 9,
   "metadata": {},
   "outputs": [
    {
     "name": "stdout",
     "output_type": "stream",
     "text": [
      "['cmb', 'cmb']\n",
      "max error in u = 0.169170704013398693\n"
     ]
    }
   ],
   "source": [
    "import os\n",
    "import sys\n",
    "\n",
    "sys.path.append(f'../../')\n",
    "sys.path.append(f'analytic')\n",
    "\n",
    "\n",
    "from tools import LTEpop, profile, lineEmissivity, lineOpacity, lineSource, I_CMB\n",
    "\n",
    "\n",
    "import numpy             as np\n",
    "import magritte.setup    as setup\n",
    "import magritte.core     as magritte\n",
    "\n",
    "\n",
    "dimension = 1\n",
    "npoints   = 50\n",
    "nrays     = 2\n",
    "nspecs    = 5\n",
    "nlspecs   = 1\n",
    "nquads    = 1\n",
    "\n",
    "r_in   = 1.0E13   # [m]\n",
    "r_out  = 7.8E16   # [m]\n",
    "rho_in = 2.0E13   # [m^-3]\n",
    "temp   = 2.0E+01                 # [K]\n",
    "turb   = 0#1.5E+02                 # [m/s]\n",
    "X_mol  = 1.0E-8   # [.]\n",
    "\n",
    "def rho (r):\n",
    "    return rho_in * np.power(r_in/r, 2.0)\n",
    "\n",
    "def abn (r):\n",
    "    return X_mol * rho(r)\n",
    "\n",
    "rs = np.logspace (np.log10(r_in), np.log10(r_out), npoints, endpoint=True)\n",
    "\n",
    "modelFile = 'all_constant_1D.hdf5'\n",
    "lamdaFile = '../data/test.txt'\n",
    "\n",
    "model = magritte.Model ()\n",
    "\n",
    "model.parameters.set_spherical_symmetry(False)\n",
    "model.parameters.set_model_name(modelFile)\n",
    "model.parameters.set_dimension (dimension)\n",
    "model.parameters.set_npoints   (npoints)\n",
    "model.parameters.set_nrays     (nrays)\n",
    "model.parameters.set_nspecs    (nspecs)\n",
    "model.parameters.set_nlspecs   (nlspecs)\n",
    "model.parameters.set_nquads    (nquads)\n",
    "\n",
    "model.geometry.points.position.set([[r, 0, 0] for r in rs])\n",
    "model.geometry.points.velocity.set([[0, 0, 0] for i in range(npoints)])\n",
    "\n",
    "model.chemistry.species.abundance = [[     0.0, abn(r), rho(r),  0.0,      1.0] for r in rs]\n",
    "model.chemistry.species.symbol    =  ['dummy0', 'test',   'H2', 'e-', 'dummy1']\n",
    "\n",
    "model.thermodynamics.temperature.gas  .set( temp                 * np.ones(npoints))\n",
    "model.thermodynamics.turbulence.vturb2.set((turb/magritte.CC)**2 * np.ones(npoints))\n",
    "\n",
    "model = setup.set_Delaunay_neighbor_lists (model)\n",
    "model = setup.set_Delaunay_boundary       (model)\n",
    "model = setup.set_boundary_condition_CMB  (model)\n",
    "model = setup.set_uniform_rays            (model)\n",
    "model = setup.set_linedata_from_LAMDA_file(model, lamdaFile)\n",
    "model = setup.set_quadrature              (model)\n",
    "\n",
    "model.write()\n",
    "model.read ()\n",
    "\n",
    "model.compute_spectral_discretisation ()\n",
    "model.compute_inverse_line_widths     ()\n",
    "model.compute_LTE_level_populations   ()\n",
    "# model.compute_radiation_field         ()\n",
    "model.compute_radiation_field_2nd_order_Feautrier()\n",
    "\n",
    "\n",
    "x  = np.array(model.geometry.points.position)[:,0]\n",
    "nu = np.array(model.radiation.frequencies.nu)\n",
    "u  = np.array(model.radiation.u)\n",
    "\n",
    "\n",
    "ld = model.lines.lineProducingSpecies[0].linedata\n",
    "\n",
    "k = 0\n",
    "\n",
    "frq = ld.frequency[k]\n",
    "pop = LTEpop         (ld, temp)\n",
    "phi = profile        (ld, k, temp, (turb/magritte.CC)**2, frq)\n",
    "eta = lineEmissivity (ld, pop)[k] * phi\n",
    "chi = lineOpacity    (ld, pop)[k] * phi\n",
    "src = lineSource     (ld, pop)[k]\n",
    "bdy = I_CMB          (frq)\n",
    "\n",
    "\n",
    "def I_0 (x):\n",
    "    return src + (bdy-src)*np.exp(-chi*X_mol*rho_in*r_in*(1.0    - r_in/x    ))\n",
    "\n",
    "def I_1 (x):\n",
    "    return src + (bdy-src)*np.exp(-chi*X_mol*rho_in*r_in*(r_in/x - r_in/r_out))\n",
    "\n",
    "def u_01 (x):\n",
    "    return 0.5 * (I_0(x) + I_1(x))\n",
    "\n",
    "def relative_error (a,b):\n",
    "    return 2.0*(a-b)/(a+b)\n",
    "\n",
    "\n",
    "error = relative_error (u_01(x), u[0,:,0])\n",
    "\n",
    "print('max error in u =', np.max(np.abs(error)))"
   ]
  },
  {
   "cell_type": "code",
   "execution_count": 10,
   "metadata": {},
   "outputs": [],
   "source": [
    "import matplotlib.pyplot as plt"
   ]
  },
  {
   "cell_type": "code",
   "execution_count": 11,
   "metadata": {},
   "outputs": [
    {
     "data": {
      "image/png": "[encoded data removed]",
      "text/plain": [
       "<Figure size 432x288 with 1 Axes>"
      ]
     },
     "metadata": {
      "needs_background": "light"
     },
     "output_type": "display_data"
    }
   ],
   "source": [
    "plt.plot(x, u[0,:,0])\n",
    "plt.plot(x, u_01(x) )\n",
    "plt.xscale('log')"
   ]
  },
  {
   "cell_type": "code",
   "execution_count": null,
   "metadata": {},
   "outputs": [],
   "source": []
  },
  {
   "cell_type": "code",
   "execution_count": null,
   "metadata": {},
   "outputs": [],
   "source": []
  }
 ],
 "metadata": {
  "kernelspec": {
   "display_name": "Python 3",
   "language": "python",
   "name": "python3"
  },
  "language_info": {
   "codemirror_mode": {
    "name": "ipython",
    "version": 3
   },
   "file_extension": ".py",
   "mimetype": "text/x-python",
   "name": "python",
   "nbconvert_exporter": "python",
   "pygments_lexer": "ipython3",
   "version": "3.7.5"
  }
 },
 "nbformat": 4,
 "nbformat_minor": 4
}

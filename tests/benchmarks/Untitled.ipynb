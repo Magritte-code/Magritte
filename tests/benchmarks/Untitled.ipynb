{
 "cells": [
  {
   "cell_type": "code",
   "execution_count": 1,
   "metadata": {
    "Collapsed": "false"
   },
   "outputs": [],
   "source": [
    "import os\n",
    "import sys\n",
    "sys.path.append(f'{os.getcwd()}/../../')\n",
    "sys.path.append(f'{os.getcwd()}/analytic')\n",
    "\n",
    "import numpy             as np\n",
    "import matplotlib.pyplot as plt\n",
    "import magritte.setup    as setup\n",
    "import magritte.core     as magritte"
   ]
  },
  {
   "cell_type": "code",
   "execution_count": 2,
   "metadata": {
    "Collapsed": "false"
   },
   "outputs": [
    {
     "data": {
      "text/plain": [
       "31"
      ]
     },
     "execution_count": 2,
     "metadata": {},
     "output_type": "execute_result"
    }
   ],
   "source": [
    "dimension = 1\n",
    "npoints   = 100\n",
    "nrays     = 100\n",
    "nspecs    = 5\n",
    "nlspecs   = 1\n",
    "nquads    = 15\n",
    "\n",
    "r_in   = 1.0E13   # [m]\n",
    "r_out  = 7.8E16   # [m]\n",
    "rho_in = 2.0E13   # [m^-3]\n",
    "X_mol  = 1.0E-8   # [.]\n",
    "temp   = 20.0     # [K]\n",
    "turb   = 150.00   # [.]\n",
    "\n",
    "\n",
    "def rho (r):\n",
    "    return rho_in * np.power(r_in/r, 2.0)\n",
    "\n",
    "def abn (r):\n",
    "    return X_mol * rho(r)\n",
    "\n",
    "\n",
    "rs = np.logspace (np.log10(r_in), np.log10(r_out), npoints, endpoint=True)\n",
    "# rs = np.linspace (r_in, r_out, npoints, endpoint=True)\n",
    "\n",
    "modelFile = 'vanZadelhoff_1a_1D.hdf5'\n",
    "lamdaFile = '../data/test.txt'\n",
    "\n",
    "\n",
    "model = magritte.Model ()\n",
    "model.parameters.set_spherical_symmetry(True)\n",
    "model.parameters.set_pop_prec          (1.0e-6)\n",
    "model.parameters.set_model_name        (modelFile)\n",
    "model.parameters.set_dimension         (dimension)\n",
    "model.parameters.set_npoints           (npoints)\n",
    "model.parameters.set_nrays             (nrays)\n",
    "model.parameters.set_nspecs            (nspecs)\n",
    "model.parameters.set_nlspecs           (nlspecs)\n",
    "model.parameters.set_nquads            (nquads)\n",
    "\n",
    "model.geometry.points.position.set([[r, 0, 0] for r in rs])\n",
    "model.geometry.points.velocity.set(np.zeros((npoints, 3)))\n",
    "\n",
    "model.chemistry.species.abundance = [[     0.0, abn(r), rho(r),  0.0,      1.0] for r in rs]\n",
    "model.chemistry.species.symbol    =  ['dummy0', 'test',   'H2', 'e-', 'dummy1']\n",
    "\n",
    "model.thermodynamics.temperature.gas  .set( temp                 * np.ones(npoints))\n",
    "model.thermodynamics.turbulence.vturb2.set((turb/magritte.CC)**2 * np.ones(npoints))\n",
    "\n",
    "model = setup.set_Delaunay_neighbor_lists (model)\n",
    "model = setup.set_Delaunay_boundary       (model)\n",
    "model = setup.set_boundary_condition_CMB  (model)\n",
    "model = setup.set_rays_spherical_symmetry (model)\n",
    "model = setup.set_linedata_from_LAMDA_file(model, lamdaFile)\n",
    "model = setup.set_quadrature              (model)\n",
    "\n",
    "model.write()\n",
    "model.read ()\n",
    "\n",
    "model.compute_spectral_discretisation ()\n",
    "model.compute_inverse_line_widths     ()\n",
    "model.compute_LTE_level_populations   ()\n",
    "model.compute_level_populations       (False, 50)"
   ]
  },
  {
   "cell_type": "code",
   "execution_count": 6,
   "metadata": {
    "Collapsed": "false"
   },
   "outputs": [],
   "source": [
    "pops = np.array(model.lines.lineProducingSpecies[0].population).reshape((model.parameters.npoints(), 2))\n",
    "abun = np.array(model.chemistry.species.abundance)[:,1]\n",
    "r    = np.linalg.norm(np.array(model.geometry.points.position), axis=1)"
   ]
  },
  {
   "cell_type": "code",
   "execution_count": 7,
   "metadata": {
    "Collapsed": "false"
   },
   "outputs": [],
   "source": [
    "(i,ra,rb,nh,tk,nm,vr,db,td,lp0,lp1) = np.loadtxt ('numeric/vanZadelhoff_1a.out', skiprows=14, unpack=True)"
   ]
  },
  {
   "cell_type": "code",
   "execution_count": 8,
   "metadata": {
    "Collapsed": "false"
   },
   "outputs": [
    {
     "data": {
      "image/png": "[encoded data removed]",
      "text/plain": [
       "<Figure size 432x288 with 1 Axes>"
      ]
     },
     "metadata": {
      "needs_background": "light"
     },
     "output_type": "display_data"
    }
   ],
   "source": [
    "plt.scatter(r, pops[:,0]/abun, s=.3)\n",
    "plt.scatter(r, pops[:,1]/abun, s=.3)\n",
    "\n",
    "plt.plot(ra, lp0)\n",
    "plt.plot(ra, lp1)\n",
    "\n",
    "\n",
    "plt.xscale('log')\n",
    "# plt.yscale('log')"
   ]
  },
  {
   "cell_type": "code",
   "execution_count": 9,
   "metadata": {
    "Collapsed": "false"
   },
   "outputs": [
    {
     "data": {
      "text/plain": [
       "array([[1.00000000e+13, 0.00000000e+00, 0.00000000e+00],\n",
       "       [1.09474781e+13, 0.00000000e+00, 0.00000000e+00],\n",
       "       [1.19847278e+13, 0.00000000e+00, 0.00000000e+00],\n",
       "       [1.31202545e+13, 0.00000000e+00, 0.00000000e+00],\n",
       "       [1.43633700e+13, 0.00000000e+00, 0.00000000e+00],\n",
       "       [1.57242679e+13, 0.00000000e+00, 0.00000000e+00],\n",
       "       [1.72141079e+13, 0.00000000e+00, 0.00000000e+00],\n",
       "       [1.88451070e+13, 0.00000000e+00, 0.00000000e+00],\n",
       "       [2.06306397e+13, 0.00000000e+00, 0.00000000e+00],\n",
       "       [2.25853478e+13, 0.00000000e+00, 0.00000000e+00],\n",
       "       [2.47252601e+13, 0.00000000e+00, 0.00000000e+00],\n",
       "       [2.70679245e+13, 0.00000000e+00, 0.00000000e+00],\n",
       "       [2.96325512e+13, 0.00000000e+00, 0.00000000e+00],\n",
       "       [3.24401706e+13, 0.00000000e+00, 0.00000000e+00],\n",
       "       [3.55138059e+13, 0.00000000e+00, 0.00000000e+00],\n",
       "       [3.88786614e+13, 0.00000000e+00, 0.00000000e+00],\n",
       "       [4.25623296e+13, 0.00000000e+00, 0.00000000e+00],\n",
       "       [4.65950173e+13, 0.00000000e+00, 0.00000000e+00],\n",
       "       [5.10097933e+13, 0.00000000e+00, 0.00000000e+00],\n",
       "       [5.58428598e+13, 0.00000000e+00, 0.00000000e+00],\n",
       "       [6.11338487e+13, 0.00000000e+00, 0.00000000e+00],\n",
       "       [6.69261473e+13, 0.00000000e+00, 0.00000000e+00],\n",
       "       [7.32672535e+13, 0.00000000e+00, 0.00000000e+00],\n",
       "       [8.02091656e+13, 0.00000000e+00, 0.00000000e+00],\n",
       "       [8.78088088e+13, 0.00000000e+00, 0.00000000e+00],\n",
       "       [9.61285015e+13, 0.00000000e+00, 0.00000000e+00],\n",
       "       [1.05236467e+14, 0.00000000e+00, 0.00000000e+00],\n",
       "       [1.15207392e+14, 0.00000000e+00, 0.00000000e+00],\n",
       "       [1.26123041e+14, 0.00000000e+00, 0.00000000e+00],\n",
       "       [1.38072923e+14, 0.00000000e+00, 0.00000000e+00],\n",
       "       [1.51155031e+14, 0.00000000e+00, 0.00000000e+00],\n",
       "       [1.65476640e+14, 0.00000000e+00, 0.00000000e+00],\n",
       "       [1.81155190e+14, 0.00000000e+00, 0.00000000e+00],\n",
       "       [1.98319248e+14, 0.00000000e+00, 0.00000000e+00],\n",
       "       [2.17109564e+14, 0.00000000e+00, 0.00000000e+00],\n",
       "       [2.37680220e+14, 0.00000000e+00, 0.00000000e+00],\n",
       "       [2.60199902e+14, 0.00000000e+00, 0.00000000e+00],\n",
       "       [2.84853274e+14, 0.00000000e+00, 0.00000000e+00],\n",
       "       [3.11842499e+14, 0.00000000e+00, 0.00000000e+00],\n",
       "       [3.41388894e+14, 0.00000000e+00, 0.00000000e+00],\n",
       "       [3.73734746e+14, 0.00000000e+00, 0.00000000e+00],\n",
       "       [4.09145296e+14, 0.00000000e+00, 0.00000000e+00],\n",
       "       [4.47910919e+14, 0.00000000e+00, 0.00000000e+00],\n",
       "       [4.90349500e+14, 0.00000000e+00, 0.00000000e+00],\n",
       "       [5.36809043e+14, 0.00000000e+00, 0.00000000e+00],\n",
       "       [5.87670527e+14, 0.00000000e+00, 0.00000000e+00],\n",
       "       [6.43351025e+14, 0.00000000e+00, 0.00000000e+00],\n",
       "       [7.04307129e+14, 0.00000000e+00, 0.00000000e+00],\n",
       "       [7.71038690e+14, 0.00000000e+00, 0.00000000e+00],\n",
       "       [8.44092921e+14, 0.00000000e+00, 0.00000000e+00],\n",
       "       [9.24068880e+14, 0.00000000e+00, 0.00000000e+00],\n",
       "       [1.01162239e+15, 0.00000000e+00, 0.00000000e+00],\n",
       "       [1.10747140e+15, 0.00000000e+00, 0.00000000e+00],\n",
       "       [1.21240189e+15, 0.00000000e+00, 0.00000000e+00],\n",
       "       [1.32727432e+15, 0.00000000e+00, 0.00000000e+00],\n",
       "       [1.45303066e+15, 0.00000000e+00, 0.00000000e+00],\n",
       "       [1.59070214e+15, 0.00000000e+00, 0.00000000e+00],\n",
       "       [1.74141769e+15, 0.00000000e+00, 0.00000000e+00],\n",
       "       [1.90641322e+15, 0.00000000e+00, 0.00000000e+00],\n",
       "       [2.08704170e+15, 0.00000000e+00, 0.00000000e+00],\n",
       "       [2.28478434e+15, 0.00000000e+00, 0.00000000e+00],\n",
       "       [2.50126266e+15, 0.00000000e+00, 0.00000000e+00],\n",
       "       [2.73825184e+15, 0.00000000e+00, 0.00000000e+00],\n",
       "       [2.99769521e+15, 0.00000000e+00, 0.00000000e+00],\n",
       "       [3.28172028e+15, 0.00000000e+00, 0.00000000e+00],\n",
       "       [3.59265611e+15, 0.00000000e+00, 0.00000000e+00],\n",
       "       [3.93305242e+15, 0.00000000e+00, 0.00000000e+00],\n",
       "       [4.30570055e+15, 0.00000000e+00, 0.00000000e+00],\n",
       "       [4.71365626e+15, 0.00000000e+00, 0.00000000e+00],\n",
       "       [5.16026489e+15, 0.00000000e+00, 0.00000000e+00],\n",
       "       [5.64918871e+15, 0.00000000e+00, 0.00000000e+00],\n",
       "       [6.18443700e+15, 0.00000000e+00, 0.00000000e+00],\n",
       "       [6.77039889e+15, 0.00000000e+00, 0.00000000e+00],\n",
       "       [7.41187939e+15, 0.00000000e+00, 0.00000000e+00],\n",
       "       [8.11413876e+15, 0.00000000e+00, 0.00000000e+00],\n",
       "       [8.88293567e+15, 0.00000000e+00, 0.00000000e+00],\n",
       "       [9.72457442e+15, 0.00000000e+00, 0.00000000e+00],\n",
       "       [1.06459566e+16, 0.00000000e+00, 0.00000000e+00],\n",
       "       [1.16546377e+16, 0.00000000e+00, 0.00000000e+00],\n",
       "       [1.27588892e+16, 0.00000000e+00, 0.00000000e+00],\n",
       "       [1.39677660e+16, 0.00000000e+00, 0.00000000e+00],\n",
       "       [1.52911813e+16, 0.00000000e+00, 0.00000000e+00],\n",
       "       [1.67399873e+16, 0.00000000e+00, 0.00000000e+00],\n",
       "       [1.83260646e+16, 0.00000000e+00, 0.00000000e+00],\n",
       "       [2.00624191e+16, 0.00000000e+00, 0.00000000e+00],\n",
       "       [2.19632895e+16, 0.00000000e+00, 0.00000000e+00],\n",
       "       [2.40442632e+16, 0.00000000e+00, 0.00000000e+00],\n",
       "       [2.63224046e+16, 0.00000000e+00, 0.00000000e+00],\n",
       "       [2.88163949e+16, 0.00000000e+00, 0.00000000e+00],\n",
       "       [3.15466853e+16, 0.00000000e+00, 0.00000000e+00],\n",
       "       [3.45356648e+16, 0.00000000e+00, 0.00000000e+00],\n",
       "       [3.78078436e+16, 0.00000000e+00, 0.00000000e+00],\n",
       "       [4.13900541e+16, 0.00000000e+00, 0.00000000e+00],\n",
       "       [4.53116713e+16, 0.00000000e+00, 0.00000000e+00],\n",
       "       [4.96048531e+16, 0.00000000e+00, 0.00000000e+00],\n",
       "       [5.43048046e+16, 0.00000000e+00, 0.00000000e+00],\n",
       "       [5.94500661e+16, 0.00000000e+00, 0.00000000e+00],\n",
       "       [6.50828300e+16, 0.00000000e+00, 0.00000000e+00],\n",
       "       [7.12492859e+16, 0.00000000e+00, 0.00000000e+00],\n",
       "       [7.80000000e+16, 0.00000000e+00, 0.00000000e+00]])"
      ]
     },
     "execution_count": 9,
     "metadata": {},
     "output_type": "execute_result"
    }
   ],
   "source": [
    "np.array(model.geometry.points.position)"
   ]
  },
  {
   "cell_type": "code",
   "execution_count": 10,
   "metadata": {
    "Collapsed": "false"
   },
   "outputs": [
    {
     "data": {
      "text/plain": [
       "array([[ 1.        ,  0.        ,  0.        ],\n",
       "       [ 0.99948622,  0.03205158,  0.        ],\n",
       "       [ 0.99794539,  0.06407022,  0.        ],\n",
       "       [ 0.99537911,  0.09602303,  0.        ],\n",
       "       [ 0.99179001,  0.12787716,  0.        ],\n",
       "       [ 0.98718178,  0.1595999 ,  0.        ],\n",
       "       [ 0.98155916,  0.19115863,  0.        ],\n",
       "       [ 0.97492791,  0.22252093,  0.        ],\n",
       "       [ 0.96729486,  0.25365458,  0.        ],\n",
       "       [ 0.95866785,  0.28452759,  0.        ],\n",
       "       [ 0.94905575,  0.31510822,  0.        ],\n",
       "       [ 0.93846842,  0.34536505,  0.        ],\n",
       "       [ 0.92691676,  0.375267  ,  0.        ],\n",
       "       [ 0.91441262,  0.40478334,  0.        ],\n",
       "       [ 0.90096887,  0.43388374,  0.        ],\n",
       "       [ 0.88659931,  0.46253829,  0.        ],\n",
       "       [ 0.8713187 ,  0.49071755,  0.        ],\n",
       "       [ 0.85514276,  0.51839257,  0.        ],\n",
       "       [ 0.8380881 ,  0.5455349 ,  0.        ],\n",
       "       [ 0.82017225,  0.57211666,  0.        ],\n",
       "       [ 0.80141362,  0.59811053,  0.        ],\n",
       "       [ 0.78183148,  0.6234898 ,  0.        ],\n",
       "       [ 0.76144596,  0.6482284 ,  0.        ],\n",
       "       [ 0.740278  ,  0.67230089,  0.        ],\n",
       "       [ 0.71834935,  0.69568255,  0.        ],\n",
       "       [ 0.69568255,  0.71834935,  0.        ],\n",
       "       [ 0.67230089,  0.740278  ,  0.        ],\n",
       "       [ 0.6482284 ,  0.76144596,  0.        ],\n",
       "       [ 0.6234898 ,  0.78183148,  0.        ],\n",
       "       [ 0.59811053,  0.80141362,  0.        ],\n",
       "       [ 0.57211666,  0.82017225,  0.        ],\n",
       "       [ 0.5455349 ,  0.8380881 ,  0.        ],\n",
       "       [ 0.51839257,  0.85514276,  0.        ],\n",
       "       [ 0.49071755,  0.8713187 ,  0.        ],\n",
       "       [ 0.46253829,  0.88659931,  0.        ],\n",
       "       [ 0.43388374,  0.90096887,  0.        ],\n",
       "       [ 0.40478334,  0.91441262,  0.        ],\n",
       "       [ 0.375267  ,  0.92691676,  0.        ],\n",
       "       [ 0.34536505,  0.93846842,  0.        ],\n",
       "       [ 0.31510822,  0.94905575,  0.        ],\n",
       "       [ 0.28452759,  0.95866785,  0.        ],\n",
       "       [ 0.25365458,  0.96729486,  0.        ],\n",
       "       [ 0.22252093,  0.97492791,  0.        ],\n",
       "       [ 0.19115863,  0.98155916,  0.        ],\n",
       "       [ 0.1595999 ,  0.98718178,  0.        ],\n",
       "       [ 0.12787716,  0.99179001,  0.        ],\n",
       "       [ 0.09602303,  0.99537911,  0.        ],\n",
       "       [ 0.06407022,  0.99794539,  0.        ],\n",
       "       [ 0.03205158,  0.99948622,  0.        ],\n",
       "       [ 0.        ,  1.        ,  0.        ],\n",
       "       [-1.        , -0.        , -0.        ],\n",
       "       [-0.99948622, -0.03205158, -0.        ],\n",
       "       [-0.99794539, -0.06407022, -0.        ],\n",
       "       [-0.99537911, -0.09602303, -0.        ],\n",
       "       [-0.99179001, -0.12787716, -0.        ],\n",
       "       [-0.98718178, -0.1595999 , -0.        ],\n",
       "       [-0.98155916, -0.19115863, -0.        ],\n",
       "       [-0.97492791, -0.22252093, -0.        ],\n",
       "       [-0.96729486, -0.25365458, -0.        ],\n",
       "       [-0.95866785, -0.28452759, -0.        ],\n",
       "       [-0.94905575, -0.31510822, -0.        ],\n",
       "       [-0.93846842, -0.34536505, -0.        ],\n",
       "       [-0.92691676, -0.375267  , -0.        ],\n",
       "       [-0.91441262, -0.40478334, -0.        ],\n",
       "       [-0.90096887, -0.43388374, -0.        ],\n",
       "       [-0.88659931, -0.46253829, -0.        ],\n",
       "       [-0.8713187 , -0.49071755, -0.        ],\n",
       "       [-0.85514276, -0.51839257, -0.        ],\n",
       "       [-0.8380881 , -0.5455349 , -0.        ],\n",
       "       [-0.82017225, -0.57211666, -0.        ],\n",
       "       [-0.80141362, -0.59811053, -0.        ],\n",
       "       [-0.78183148, -0.6234898 , -0.        ],\n",
       "       [-0.76144596, -0.6482284 , -0.        ],\n",
       "       [-0.740278  , -0.67230089, -0.        ],\n",
       "       [-0.71834935, -0.69568255, -0.        ],\n",
       "       [-0.69568255, -0.71834935, -0.        ],\n",
       "       [-0.67230089, -0.740278  , -0.        ],\n",
       "       [-0.6482284 , -0.76144596, -0.        ],\n",
       "       [-0.6234898 , -0.78183148, -0.        ],\n",
       "       [-0.59811053, -0.80141362, -0.        ],\n",
       "       [-0.57211666, -0.82017225, -0.        ],\n",
       "       [-0.5455349 , -0.8380881 , -0.        ],\n",
       "       [-0.51839257, -0.85514276, -0.        ],\n",
       "       [-0.49071755, -0.8713187 , -0.        ],\n",
       "       [-0.46253829, -0.88659931, -0.        ],\n",
       "       [-0.43388374, -0.90096887, -0.        ],\n",
       "       [-0.40478334, -0.91441262, -0.        ],\n",
       "       [-0.375267  , -0.92691676, -0.        ],\n",
       "       [-0.34536505, -0.93846842, -0.        ],\n",
       "       [-0.31510822, -0.94905575, -0.        ],\n",
       "       [-0.28452759, -0.95866785, -0.        ],\n",
       "       [-0.25365458, -0.96729486, -0.        ],\n",
       "       [-0.22252093, -0.97492791, -0.        ],\n",
       "       [-0.19115863, -0.98155916, -0.        ],\n",
       "       [-0.1595999 , -0.98718178, -0.        ],\n",
       "       [-0.12787716, -0.99179001, -0.        ],\n",
       "       [-0.09602303, -0.99537911, -0.        ],\n",
       "       [-0.06407022, -0.99794539, -0.        ],\n",
       "       [-0.03205158, -0.99948622, -0.        ],\n",
       "       [-0.        , -1.        , -0.        ]])"
      ]
     },
     "execution_count": 10,
     "metadata": {},
     "output_type": "execute_result"
    }
   ],
   "source": [
    "np.array(model.geometry.rays.direction)"
   ]
  },
  {
   "cell_type": "code",
   "execution_count": 11,
   "metadata": {
    "Collapsed": "false"
   },
   "outputs": [
    {
     "data": {
      "text/plain": [
       "True"
      ]
     },
     "execution_count": 11,
     "metadata": {},
     "output_type": "execute_result"
    }
   ],
   "source": [
    "model.parameters.spherical_symmetry()"
   ]
  },
  {
   "cell_type": "code",
   "execution_count": 12,
   "metadata": {
    "Collapsed": "false"
   },
   "outputs": [
    {
     "data": {
      "text/plain": [
       "array([50, 51, 52, 53, 54, 55, 56, 57, 58, 59, 60, 61, 62, 63, 64, 65, 66,\n",
       "       67, 68, 69, 70, 71, 72, 73, 74, 75, 76, 77, 78, 79, 80, 81, 82, 83,\n",
       "       84, 85, 86, 87, 88, 89, 90, 91, 92, 93, 94, 95, 96, 97, 98, 99,  0,\n",
       "        1,  2,  3,  4,  5,  6,  7,  8,  9, 10, 11, 12, 13, 14, 15, 16, 17,\n",
       "       18, 19, 20, 21, 22, 23, 24, 25, 26, 27, 28, 29, 30, 31, 32, 33, 34,\n",
       "       35, 36, 37, 38, 39, 40, 41, 42, 43, 44, 45, 46, 47, 48, 49],\n",
       "      dtype=uint32)"
      ]
     },
     "execution_count": 12,
     "metadata": {},
     "output_type": "execute_result"
    }
   ],
   "source": [
    "np.array(model.geometry.rays.antipod)"
   ]
  },
  {
   "cell_type": "code",
   "execution_count": 13,
   "metadata": {
    "Collapsed": "false"
   },
   "outputs": [
    {
     "data": {
      "text/plain": [
       "0.99999999999999977123"
      ]
     },
     "execution_count": 13,
     "metadata": {},
     "output_type": "execute_result"
    }
   ],
   "source": [
    "sum(np.array(model.geometry.rays.weight))"
   ]
  },
  {
   "cell_type": "code",
   "execution_count": 34,
   "metadata": {
    "Collapsed": "false"
   },
   "outputs": [],
   "source": [
    "Jeff = np.array(model.lines.lineProducingSpecies[0].Jeff).ravel()"
   ]
  },
  {
   "cell_type": "code",
   "execution_count": 35,
   "metadata": {
    "Collapsed": "false"
   },
   "outputs": [
    {
     "data": {
      "image/png": "[encoded data removed]",
      "text/plain": [
       "<Figure size 432x288 with 1 Axes>"
      ]
     },
     "metadata": {
      "needs_background": "light"
     },
     "output_type": "display_data"
    }
   ],
   "source": [
    "plt.plot(rs, Jeff)\n",
    "plt.yscale('log')\n",
    "plt.xscale('log')"
   ]
  },
  {
   "cell_type": "code",
   "execution_count": 17,
   "metadata": {
    "Collapsed": "false"
   },
   "outputs": [],
   "source": [
    "I = np.array(model.radiation.I)\n",
    "J = np.array(model.radiation.J)"
   ]
  },
  {
   "cell_type": "code",
   "execution_count": 23,
   "metadata": {
    "Collapsed": "false"
   },
   "outputs": [],
   "source": [
    "wt = np.array(model.geometry.rays.weight)"
   ]
  },
  {
   "cell_type": "code",
   "execution_count": 32,
   "metadata": {
    "Collapsed": "false"
   },
   "outputs": [
    {
     "data": {
      "text/plain": [
       "3.772803340446483841e-18"
      ]
     },
     "execution_count": 32,
     "metadata": {},
     "output_type": "execute_result"
    }
   ],
   "source": [
    "sum(I[:,-1,-1] * wt)"
   ]
  },
  {
   "cell_type": "code",
   "execution_count": 28,
   "metadata": {
    "Collapsed": "false"
   },
   "outputs": [
    {
     "data": {
      "text/plain": [
       "array([3.77282562e-18, 3.77425627e-18, 3.92481634e-18, 8.15400194e-18,\n",
       "       3.96115101e-17, 5.95616022e-17, 3.72080548e-17, 2.76795468e-17,\n",
       "       3.72079863e-17, 5.95615489e-17, 3.96116615e-17, 8.15403083e-18,\n",
       "       3.92480449e-18, 3.77423942e-18, 3.77280492e-18], dtype=float128)"
      ]
     },
     "execution_count": 28,
     "metadata": {},
     "output_type": "execute_result"
    }
   ],
   "source": [
    "J[0]"
   ]
  },
  {
   "cell_type": "code",
   "execution_count": null,
   "metadata": {
    "Collapsed": "false"
   },
   "outputs": [],
   "source": []
  }
 ],
 "metadata": {
  "kernelspec": {
   "display_name": "Python 3",
   "language": "python",
   "name": "python3"
  },
  "language_info": {
   "codemirror_mode": {
    "name": "ipython",
    "version": 3
   },
   "file_extension": ".py",
   "mimetype": "text/x-python",
   "name": "python",
   "nbconvert_exporter": "python",
   "pygments_lexer": "ipython3",
   "version": "3.7.5"
  }
 },
 "nbformat": 4,
 "nbformat_minor": 4
}

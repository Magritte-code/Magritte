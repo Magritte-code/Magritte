{
 "cells": [
  {
   "cell_type": "markdown",
   "metadata": {
    "Collapsed": "false"
   },
   "source": [
    "# Benchmarks"
   ]
  },
  {
   "cell_type": "code",
   "execution_count": 1,
   "metadata": {
    "Collapsed": "false"
   },
   "outputs": [],
   "source": [
    "import os\n",
    "import sys\n",
    "sys.path.append(f'{os.getcwd()}/../../')\n",
    "\n",
    "import numpy          as np\n",
    "import magritte.setup as setup\n",
    "\n",
    "from magritte.tools import dtypeSize, dtypeReal\n",
    "from magritte.core  import Model, CC"
   ]
  },
  {
   "cell_type": "code",
   "execution_count": 2,
   "metadata": {
    "Collapsed": "false"
   },
   "outputs": [],
   "source": [
    "dimension = 1\n",
    "npoints   = 100\n",
    "nrays     = 2\n",
    "nspecs    = 5\n",
    "nlspecs   = 1\n",
    "nquads    = 100\n",
    "\n",
    "dens = 1.0E+12        # [m^-3]\n",
    "abun = 1.0E+08        # [m^-3]\n",
    "temp = 4.5E+01        # [K]\n",
    "turb = 0.0E+00        # [m/s]\n",
    "dx   = 1.0E+04        # [m]\n",
    "dv   = 1.0E+02 / CC   # [fraction of speed of light]\n",
    "\n",
    "modelName    = 'constant_velocity_gradient_1d.hdf5'\n",
    "linedataFile = '../data/test.txt'\n",
    "\n",
    "model = Model ()\n",
    "model.parameters.set_model_name(modelName)\n",
    "model.parameters.set_dimension (dimension)\n",
    "model.parameters.set_npoints   (npoints)\n",
    "model.parameters.set_nrays     (nrays)\n",
    "model.parameters.set_nspecs    (nspecs)\n",
    "model.parameters.set_nlspecs   (nlspecs)\n",
    "model.parameters.set_nquads    (nquads)\n",
    "\n",
    "model.geometry.points.position = np.array([[i*dx, 0, 0] for i in range(npoints)], dtypeReal)\n",
    "model.geometry.points.velocity = np.array([[i*dv, 0, 0] for i in range(npoints)], dtypeReal)\n",
    "\n",
    "model = setup.set_Delaunay_neighbor_lists (model)\n",
    "model = setup.set_Delaunay_boundary       (model)\n",
    "model = setup.set_uniform_rays            (model)\n",
    "model = setup.set_linedata_from_LAMDA_file(model, linedataFile)\n",
    "model = setup.set_quadrature              (model)\n",
    "\n",
    "model.chemistry.species.abundance = [[     0.0,   abun,  dens,  0.0,      1.0] for _ in range(npoints)]\n",
    "model.chemistry.species.symbol    =  ['dummy0', 'test',  'H2', 'e-', 'dummy1']\n",
    "\n",
    "model.thermodynamics.temperature.gas   = temp * np.ones(npoints, dtypeReal)\n",
    "model.thermodynamics.turbulence.vturb2 = turb * np.ones(npoints, dtypeReal)\n",
    "\n",
    "model.write()\n",
    "model.read ()\n",
    "\n",
    "model.compute_spectral_discretisation ()\n",
    "model.compute_LTE_level_populations   ()\n",
    "model.compute_inverse_line_widths     ()\n",
    "model.compute_radiation_field         ()\n",
    "\n",
    "rad = model.radiation.I"
   ]
  },
  {
   "cell_type": "code",
   "execution_count": 3,
   "metadata": {
    "Collapsed": "false"
   },
   "outputs": [
    {
     "data": {
      "text/plain": [
       "[array([[3.7728779e-18, 3.7728758e-18, 3.7728742e-18, ..., 3.7727919e-18,\n",
       "         3.7727906e-18, 3.7727886e-18],\n",
       "        [3.7728779e-18, 3.7728758e-18, 3.7728742e-18, ..., 3.7727915e-18,\n",
       "         3.7727902e-18, 3.7727881e-18],\n",
       "        [3.7728775e-18, 3.7728754e-18, 3.7728738e-18, ..., 3.7727915e-18,\n",
       "         3.7727898e-18, 3.7727881e-18],\n",
       "        ...,\n",
       "        [3.7728589e-18, 3.7728572e-18, 3.7728556e-18, ..., 3.7727733e-18,\n",
       "         3.7727716e-18, 3.7727695e-18],\n",
       "        [3.7728589e-18, 3.7728568e-18, 3.7728556e-18, ..., 3.7727728e-18,\n",
       "         3.7727712e-18, 3.7727691e-18],\n",
       "        [3.7728589e-18, 3.7728568e-18, 3.7728551e-18, ..., 3.7727728e-18,\n",
       "         3.7727712e-18, 3.7727691e-18]], dtype=float32),\n",
       " array([[0., 0., 0., ..., 0., 0., 0.],\n",
       "        [0., 0., 0., ..., 0., 0., 0.],\n",
       "        [0., 0., 0., ..., 0., 0., 0.],\n",
       "        ...,\n",
       "        [0., 0., 0., ..., 0., 0., 0.],\n",
       "        [0., 0., 0., ..., 0., 0., 0.],\n",
       "        [0., 0., 0., ..., 0., 0., 0.]], dtype=float32)]"
      ]
     },
     "execution_count": 3,
     "metadata": {},
     "output_type": "execute_result"
    }
   ],
   "source": [
    "rad"
   ]
  },
  {
   "cell_type": "code",
   "execution_count": 4,
   "metadata": {
    "Collapsed": "false"
   },
   "outputs": [
    {
     "data": {
      "text/plain": [
       "[array([[3.7728779e-18, 3.7728758e-18, 3.7728742e-18, ..., 3.7727919e-18,\n",
       "         3.7727906e-18, 3.7727886e-18],\n",
       "        [3.7728779e-18, 3.7728758e-18, 3.7728742e-18, ..., 3.7727915e-18,\n",
       "         3.7727902e-18, 3.7727881e-18],\n",
       "        [3.7728775e-18, 3.7728754e-18, 3.7728738e-18, ..., 3.7727915e-18,\n",
       "         3.7727898e-18, 3.7727881e-18],\n",
       "        ...,\n",
       "        [3.7728589e-18, 3.7728572e-18, 3.7728556e-18, ..., 3.7727733e-18,\n",
       "         3.7727716e-18, 3.7727695e-18],\n",
       "        [3.7728589e-18, 3.7728568e-18, 3.7728556e-18, ..., 3.7727728e-18,\n",
       "         3.7727712e-18, 3.7727691e-18],\n",
       "        [3.7728589e-18, 3.7728568e-18, 3.7728551e-18, ..., 3.7727728e-18,\n",
       "         3.7727712e-18, 3.7727691e-18]], dtype=float32),\n",
       " array([[0., 0., 0., ..., 0., 0., 0.],\n",
       "        [0., 0., 0., ..., 0., 0., 0.],\n",
       "        [0., 0., 0., ..., 0., 0., 0.],\n",
       "        ...,\n",
       "        [0., 0., 0., ..., 0., 0., 0.],\n",
       "        [0., 0., 0., ..., 0., 0., 0.],\n",
       "        [0., 0., 0., ..., 0., 0., 0.]], dtype=float32)]"
      ]
     },
     "execution_count": 4,
     "metadata": {},
     "output_type": "execute_result"
    }
   ],
   "source": [
    "model.radiation.I"
   ]
  },
  {
   "cell_type": "code",
   "execution_count": null,
   "metadata": {
    "Collapsed": "false"
   },
   "outputs": [],
   "source": []
  }
 ],
 "metadata": {
  "kernelspec": {
   "display_name": "Python 3",
   "language": "python",
   "name": "python3"
  },
  "language_info": {
   "codemirror_mode": {
    "name": "ipython",
    "version": 3
   },
   "file_extension": ".py",
   "mimetype": "text/x-python",
   "name": "python",
   "nbconvert_exporter": "python",
   "pygments_lexer": "ipython3",
   "version": "3.7.5"
  }
 },
 "nbformat": 4,
 "nbformat_minor": 4
}

{
 "cells": [
  {
   "cell_type": "markdown",
   "metadata": {},
   "source": [
    "# Benchmarks"
   ]
  },
  {
   "cell_type": "code",
   "execution_count": 1,
   "metadata": {},
   "outputs": [],
   "source": [
    "import os\n",
    "import sys\n",
    "sys.path.append(f'{os.getcwd()}/../../')\n",
    "sys.path.append(f'{os.getcwd()}/analytic')\n",
    "\n",
    "import numpy             as np\n",
    "import matplotlib.pyplot as plt\n",
    "import magritte.setup    as setup\n",
    "import magritte.core     as magritte"
   ]
  },
  {
   "cell_type": "markdown",
   "metadata": {
    "collapsed": "true"
   },
   "source": [
    "# First"
   ]
  },
  {
   "cell_type": "code",
   "execution_count": 2,
   "metadata": {
    "Collapsed": "false"
   },
   "outputs": [
    {
     "data": {
      "text/plain": [
       "0"
      ]
     },
     "execution_count": 2,
     "metadata": {},
     "output_type": "execute_result"
    }
   ],
   "source": [
    "dimension = 1\n",
    "npoints   = 1000\n",
    "nrays     = 2\n",
    "nspecs    = 5\n",
    "nlspecs   = 1\n",
    "nquads    = 1\n",
    "\n",
    "dens = 1.0E+12                 # [m^-3]\n",
    "abun = 1.0E+10                 # [m^-3]\n",
    "temp = 4.5E+00                 # [K]\n",
    "turb = 0.0E+00                 # [m/s]\n",
    "dx   = 1.0E+04                 # [m]\n",
    "dv   = 0.0E+00 / magritte.CC   # [fraction of speed of light]\n",
    "\n",
    "modelFile = 'constant_velocity_gradient_1d.hdf5'\n",
    "lamdaFile = '../data/test.txt'\n",
    "\n",
    "model = magritte.Model ()\n",
    "model.parameters.set_model_name(modelFile)\n",
    "model.parameters.set_dimension (dimension)\n",
    "model.parameters.set_npoints   (npoints)\n",
    "model.parameters.set_nrays     (nrays)\n",
    "model.parameters.set_nspecs    (nspecs)\n",
    "model.parameters.set_nlspecs   (nlspecs)\n",
    "model.parameters.set_nquads    (nquads)\n",
    "\n",
    "model.geometry.points.position.set([[i*dx, 0, 0] for i in range(npoints)])\n",
    "model.geometry.points.velocity.set([[i*dv, 0, 0] for i in range(npoints)])\n",
    "\n",
    "model.chemistry.species.abundance = [[     0.0,   abun,  dens,  0.0,      1.0] for _ in range(npoints)]\n",
    "model.chemistry.species.symbol    =  ['dummy0', 'test',  'H2', 'e-', 'dummy1']\n",
    "\n",
    "model.thermodynamics.temperature.gas  .set( temp                 * np.ones(npoints))\n",
    "model.thermodynamics.turbulence.vturb2.set((turb/magritte.CC)**2 * np.ones(npoints))\n",
    "\n",
    "model = setup.set_Delaunay_neighbor_lists (model)\n",
    "model = setup.set_Delaunay_boundary       (model)\n",
    "model = setup.set_boundary_condition_CMB  (model)\n",
    "model = setup.set_uniform_rays            (model)\n",
    "model = setup.set_linedata_from_LAMDA_file(model, lamdaFile)\n",
    "model = setup.set_quadrature              (model)\n",
    "\n",
    "model.write()\n",
    "model.read ()\n",
    "\n",
    "model.compute_spectral_discretisation ()\n",
    "model.compute_LTE_level_populations   ()\n",
    "model.compute_inverse_line_widths     ()\n",
    "\n",
    "model.compute_radiation_field         ()"
   ]
  },
  {
   "cell_type": "code",
   "execution_count": 3,
   "metadata": {
    "Collapsed": "false"
   },
   "outputs": [],
   "source": [
    "eta = np.array(model.lines.emissivity)\n",
    "chi = np.array(model.lines.opacity)"
   ]
  },
  {
   "cell_type": "code",
   "execution_count": 4,
   "metadata": {
    "Collapsed": "false"
   },
   "outputs": [],
   "source": [
    "x  = np.array(model.geometry.points.position)[:,0]\n",
    "nu = np.array(model.radiation.frequencies.nu)\n",
    "I  = np.array(model.radiation.I, copy=True)"
   ]
  },
  {
   "cell_type": "code",
   "execution_count": 5,
   "metadata": {
    "Collapsed": "false"
   },
   "outputs": [],
   "source": [
    "from tools import LTEpop, profile, lineEmissivity, lineOpacity, lineSource, I_CMB\n",
    "\n",
    "ld = model.lines.lineProducingSpecies[0].linedata\n",
    "\n",
    "k = 0\n",
    "\n",
    "frq = ld.frequency[k]\n",
    "pop = LTEpop         (ld, temp) * abun\n",
    "phi = profile        (ld, k, temp, (turb/magritte.CC)**2, frq)\n",
    "eta = lineEmissivity (ld, pop)[k] * phi\n",
    "chi = lineOpacity    (ld, pop)[k] * phi\n",
    "src = lineSource     (ld, pop)[k]\n",
    "bdy = I_CMB          (frq)\n",
    "\n",
    "def I_0 (x):\n",
    "    return src + (bdy-src)*np.exp(-chi*x)\n",
    "\n",
    "def I_1 (x):\n",
    "    return src + (bdy-src)*np.exp(-chi*(x[-1]-x))\n",
    "\n",
    "def relative_error (a,b):\n",
    "    return 2.0*(a-b)/(a+b)"
   ]
  },
  {
   "cell_type": "code",
   "execution_count": 6,
   "metadata": {
    "Collapsed": "false"
   },
   "outputs": [
    {
     "data": {
      "text/plain": [
       "[<matplotlib.lines.Line2D at 0x7f252c1e6cd0>]"
      ]
     },
     "execution_count": 6,
     "metadata": {},
     "output_type": "execute_result"
    },
    {
     "data": {
      "image/png": "[encoded data removed]",
      "text/plain": [
       "<Figure size 432x288 with 1 Axes>"
      ]
     },
     "metadata": {
      "needs_background": "light"
     },
     "output_type": "display_data"
    }
   ],
   "source": [
    "plt.plot(x, I[0,:,0])\n",
    "plt.plot(x, I_0(x))"
   ]
  },
  {
   "cell_type": "code",
   "execution_count": 7,
   "metadata": {
    "Collapsed": "false"
   },
   "outputs": [
    {
     "data": {
      "text/plain": [
       "[<matplotlib.lines.Line2D at 0x7f252c181d10>]"
      ]
     },
     "execution_count": 7,
     "metadata": {},
     "output_type": "execute_result"
    },
    {
     "data": {
      "image/png": "[encoded data removed]",
      "text/plain": [
       "<Figure size 432x288 with 1 Axes>"
      ]
     },
     "metadata": {
      "needs_background": "light"
     },
     "output_type": "display_data"
    }
   ],
   "source": [
    "plt.plot(x, I[1,:,0])\n",
    "plt.plot(x, I_1(x))"
   ]
  },
  {
   "cell_type": "code",
   "execution_count": 9,
   "metadata": {
    "Collapsed": "false"
   },
   "outputs": [],
   "source": [
    "error_I_0 = relative_error (I_0(x), I[0,:,0])\n",
    "error_I_1 = relative_error (I_1(x), I[1,:,0])"
   ]
  },
  {
   "cell_type": "code",
   "execution_count": 10,
   "metadata": {
    "Collapsed": "false"
   },
   "outputs": [
    {
     "data": {
      "text/plain": [
       "0.0033759253999904835"
      ]
     },
     "execution_count": 10,
     "metadata": {},
     "output_type": "execute_result"
    }
   ],
   "source": [
    "np.max(error_I_0)"
   ]
  },
  {
   "cell_type": "code",
   "execution_count": 11,
   "metadata": {
    "Collapsed": "false"
   },
   "outputs": [
    {
     "data": {
      "text/plain": [
       "0.0033759253999904835"
      ]
     },
     "execution_count": 11,
     "metadata": {},
     "output_type": "execute_result"
    }
   ],
   "source": [
    "np.max(error_I_1)"
   ]
  },
  {
   "cell_type": "markdown",
   "metadata": {},
   "source": [
    "# Second"
   ]
  },
  {
   "cell_type": "code",
   "execution_count": 6,
   "metadata": {
    "collapsed": true,
    "jupyter": {
     "outputs_hidden": true
    }
   },
   "outputs": [
    {
     "data": {
      "text/plain": [
       "29"
      ]
     },
     "execution_count": 6,
     "metadata": {},
     "output_type": "execute_result"
    }
   ],
   "source": [
    "import numpy             as np\n",
    "import scipy             as sp\n",
    "import magritte.setup    as setup\n",
    "import magritte.core     as magritte\n",
    "import healpy\n",
    "\n",
    "\n",
    "dimension = 3\n",
    "nshells   = 20\n",
    "nrays     = 12*3**2\n",
    "nspecs    = 5\n",
    "nlspecs   = 1\n",
    "nquads    = 15\n",
    "\n",
    "r_in   = 1.0E13   # [m]\n",
    "r_out  = 7.8E16   # [m]\n",
    "rho_in = 2.0E13   # [m^-3]\n",
    "X_mol  = 1.0E-8   # [.]\n",
    "temp   =  20.00   # [K]\n",
    "turb   = 150.00   # [.]\n",
    "\n",
    "\n",
    "def rho (r):\n",
    "    return rho_in * np.power(r_in/r, 2.0)\n",
    "\n",
    "def abn (r):\n",
    "    return X_mol * rho(r)\n",
    "\n",
    "\n",
    "r_shell = np.logspace (np.log10(r_in), np.log10(r_out), nshells, endpoint=True)\n",
    "\n",
    "npoints_in_shell = [healpy.nside2npix(1+s) for s in range(nshells)]\n",
    "npoints          = sum(npoints_in_shell)\n",
    "\n",
    "\n",
    "xyz = np.array([[0, 0, 0]])\n",
    "for (r, n) in zip(r_shell, npoints_in_shell):\n",
    "    pos = r*np.array(healpy.pixelfunc.pix2vec(healpy.npix2nside(n), range(n))).T\n",
    "    pos = sp.spatial.transform.Rotation.random().apply(pos)\n",
    "    xyz = np.concatenate((xyz, pos))\n",
    "position = xyz[1:]\n",
    "\n",
    "rs = np.linalg.norm(position, axis=1)\n",
    "\n",
    "modelFile = 'vanZadelhoff_1a_1D.hdf5'\n",
    "lamdaFile = '../data/test.txt'\n",
    "\n",
    "\n",
    "model = magritte.Model ()\n",
    "model.parameters.set_model_name(modelFile)\n",
    "model.parameters.set_dimension (dimension)\n",
    "model.parameters.set_npoints   (npoints)\n",
    "model.parameters.set_nrays     (nrays)\n",
    "model.parameters.set_nspecs    (nspecs)\n",
    "model.parameters.set_nlspecs   (nlspecs)\n",
    "model.parameters.set_nquads    (nquads)\n",
    "\n",
    "model.parameters.set_pop_prec (1.0e-6)\n",
    "\n",
    "model.geometry.points.position.set(position)\n",
    "model.geometry.points.velocity.set(np.zeros((npoints, 3)))\n",
    "\n",
    "model.chemistry.species.abundance = [[     0.0, abn(r), rho(r),  0.0,      1.0] for r in rs]\n",
    "model.chemistry.species.symbol    =  ['dummy0', 'test',   'H2', 'e-', 'dummy1']\n",
    "\n",
    "model.thermodynamics.temperature.gas  .set( temp                 * np.ones(npoints))\n",
    "model.thermodynamics.turbulence.vturb2.set((turb/magritte.CC)**2 * np.ones(npoints))\n",
    "\n",
    "model = setup.set_Delaunay_neighbor_lists (model)\n",
    "\n",
    "model.parameters.set_nboundary(npoints_in_shell[-1])\n",
    "model.geometry.boundary.boundary2point.set(range(npoints-npoints_in_shell[-1], npoints))\n",
    "\n",
    "model = setup.set_boundary_condition_CMB  (model)\n",
    "model = setup.set_uniform_rays            (model)\n",
    "model = setup.set_linedata_from_LAMDA_file(model, lamdaFile)\n",
    "model = setup.set_quadrature              (model)\n",
    "\n",
    "model.write()\n",
    "model.read ()\n",
    "\n",
    "model.compute_spectral_discretisation ()\n",
    "model.compute_inverse_line_widths     ()\n",
    "model.compute_LTE_level_populations   ()\n",
    "\n",
    "model.compute_level_populations       (False, 50)"
   ]
  },
  {
   "cell_type": "code",
   "execution_count": 7,
   "metadata": {
    "collapsed": true,
    "jupyter": {
     "outputs_hidden": true
    }
   },
   "outputs": [],
   "source": [
    "pops = np.array(model.lines.lineProducingSpecies[0].population).reshape((model.parameters.npoints(), 2))\n",
    "abun = np.array(model.chemistry.species.abundance)[:,1]\n",
    "r    = np.linalg.norm(np.array(model.geometry.points.position), axis=1)"
   ]
  },
  {
   "cell_type": "code",
   "execution_count": 8,
   "metadata": {
    "collapsed": true,
    "jupyter": {
     "outputs_hidden": true
    }
   },
   "outputs": [],
   "source": [
    "(i,ra,rb,nh,tk,nm,vr,db,td,lp0,lp1) = np.loadtxt ('numeric/vanZadelhoff_1a.out', skiprows=14, unpack=True)"
   ]
  },
  {
   "cell_type": "code",
   "execution_count": 12,
   "metadata": {
    "collapsed": true,
    "jupyter": {
     "outputs_hidden": true
    }
   },
   "outputs": [
    {
     "data": {
      "image/png": "[encoded data removed]",
      "text/plain": [
       "<Figure size 432x288 with 1 Axes>"
      ]
     },
     "metadata": {
      "needs_background": "light"
     },
     "output_type": "display_data"
    }
   ],
   "source": [
    "plt.scatter(r, pops[:,0]/abun)\n",
    "plt.scatter(r, pops[:,1]/abun)\n",
    "\n",
    "plt.plot(ra, lp0)\n",
    "plt.plot(ra, lp1)\n",
    "\n",
    "\n",
    "plt.xscale('log')\n",
    "# plt.yscale('log')"
   ]
  },
  {
   "cell_type": "code",
   "execution_count": 10,
   "metadata": {
    "collapsed": true,
    "jupyter": {
     "outputs_hidden": true
    }
   },
   "outputs": [
    {
     "ename": "NameError",
     "evalue": "name 'pops_LTE' is not defined",
     "output_type": "error",
     "traceback": [
      "\u001b[0;31m---------------------------------------------------------------------------\u001b[0m",
      "\u001b[0;31mNameError\u001b[0m                                 Traceback (most recent call last)",
      "\u001b[0;32m<ipython-input-10-e27bd117162d>\u001b[0m in \u001b[0;36m<module>\u001b[0;34m\u001b[0m\n\u001b[0;32m----> 1\u001b[0;31m \u001b[0mpops_LTE\u001b[0m\u001b[0;34m\u001b[0m\u001b[0;34m\u001b[0m\u001b[0m\n\u001b[0m",
      "\u001b[0;31mNameError\u001b[0m: name 'pops_LTE' is not defined"
     ]
    }
   ],
   "source": [
    "pops_LTE"
   ]
  },
  {
   "cell_type": "code",
   "execution_count": 39,
   "metadata": {
    "collapsed": true,
    "jupyter": {
     "outputs_hidden": true
    }
   },
   "outputs": [
    {
     "data": {
      "image/png": "[encoded data removed]",
      "text/plain": [
       "<Figure size 432x288 with 1 Axes>"
      ]
     },
     "metadata": {
      "needs_background": "light"
     },
     "output_type": "display_data"
    }
   ],
   "source": [
    "plt.plot(r,abun)\n",
    "plt.xscale('log')\n",
    "plt.yscale('log')"
   ]
  },
  {
   "cell_type": "code",
   "execution_count": 12,
   "metadata": {
    "collapsed": true,
    "jupyter": {
     "outputs_hidden": true
    }
   },
   "outputs": [
    {
     "data": {
      "text/plain": [
       "array([0.000000e+00, 1.000000e+13, 1.200689e+13, 1.441654e+13,\n",
       "       1.730978e+13, 2.078366e+13, 2.495471e+13, 2.996284e+13,\n",
       "       3.597605e+13, 4.319605e+13, 5.186502e+13, 6.227375e+13,\n",
       "       7.477140e+13, 8.977719e+13, 1.077945e+14, 1.294276e+14,\n",
       "       1.554023e+14, 1.865899e+14, 2.240364e+14, 2.689980e+14,\n",
       "       3.229829e+14, 3.878020e+14, 4.656296e+14, 5.590763e+14,\n",
       "       6.712767e+14, 8.059944e+14, 9.677486e+14, 1.161965e+15,\n",
       "       1.395159e+15, 1.675151e+15, 2.011336e+15, 2.414988e+15,\n",
       "       2.899650e+15, 3.481578e+15, 4.180292e+15, 5.019230e+15,\n",
       "       6.026533e+15, 7.235992e+15, 8.688175e+15, 1.043180e+16,\n",
       "       1.252534e+16, 1.503904e+16, 1.805721e+16, 2.168109e+16,\n",
       "       2.603224e+16, 3.125663e+16, 3.752948e+16, 4.506124e+16,\n",
       "       5.410453e+16, 6.496271e+16])"
      ]
     },
     "execution_count": 12,
     "metadata": {},
     "output_type": "execute_result"
    }
   ],
   "source": [
    "ra"
   ]
  },
  {
   "cell_type": "code",
   "execution_count": 13,
   "metadata": {
    "collapsed": true,
    "jupyter": {
     "outputs_hidden": true
    }
   },
   "outputs": [
    {
     "data": {
      "text/plain": [
       "array([0.       , 0.3392711, 0.3393228, 0.3394485, 0.3396941, 0.3401967,\n",
       "       0.3411636, 0.3429922, 0.3460701, 0.3512577, 0.3591426, 0.3699297,\n",
       "       0.3848794, 0.4045552, 0.4304342, 0.461365 , 0.4976445, 0.5398288,\n",
       "       0.5871306, 0.6383877, 0.685203 , 0.7314961, 0.7698037, 0.8022523,\n",
       "       0.826276 , 0.8446579, 0.8579319, 0.8683927, 0.873988 , 0.879094 ,\n",
       "       0.8813577, 0.8833984, 0.8849738, 0.8860983, 0.8863653, 0.8869822,\n",
       "       0.8872817, 0.8874472, 0.8875881, 0.8877354, 0.8877727, 0.8878008,\n",
       "       0.8878277, 0.8878464, 0.8878792, 0.8878819, 0.8878914, 0.8878902,\n",
       "       0.8878956, 0.887896 ])"
      ]
     },
     "execution_count": 13,
     "metadata": {},
     "output_type": "execute_result"
    }
   ],
   "source": [
    "lp0"
   ]
  },
  {
   "cell_type": "code",
   "execution_count": null,
   "metadata": {
    "collapsed": true,
    "jupyter": {
     "outputs_hidden": true
    }
   },
   "outputs": [],
   "source": []
  }
 ],
 "metadata": {
  "kernelspec": {
   "display_name": "Python 3",
   "language": "python",
   "name": "python3"
  },
  "language_info": {
   "codemirror_mode": {
    "name": "ipython",
    "version": 3
   },
   "file_extension": ".py",
   "mimetype": "text/x-python",
   "name": "python",
   "nbconvert_exporter": "python",
   "pygments_lexer": "ipython3",
   "version": "3.7.5"
  }
 },
 "nbformat": 4,
 "nbformat_minor": 4
}

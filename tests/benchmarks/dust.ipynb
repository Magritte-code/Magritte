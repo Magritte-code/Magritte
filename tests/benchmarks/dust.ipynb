{
 "cells": [
  {
   "cell_type": "markdown",
   "id": "4cbd7de1-f147-4a85-a24f-b81d73210a44",
   "metadata": {},
   "source": [
    "# Dust\n",
    "---"
   ]
  },
  {
   "cell_type": "code",
   "execution_count": 1,
   "id": "bf7b11ad-8cdf-4713-bfea-3baf3549f8f4",
   "metadata": {},
   "outputs": [],
   "source": [
    "import os\n",
    "import sys\n",
    "\n",
    "curdir = os.getcwd()\n",
    "datdir = f'{curdir}/../data/'\n",
    "moddir = f'{curdir}/../models/'\n",
    "resdir = f'{curdir}/../results/'\n",
    "\n",
    "import numpy             as np\n",
    "import matplotlib.pyplot as plt\n",
    "import magritte.tools    as tools\n",
    "import magritte.setup    as setup\n",
    "import magritte.core     as magritte\n",
    "\n",
    "dimension = 1\n",
    "npoints   = 50\n",
    "nrays     = 2\n",
    "nspecs    = 5\n",
    "nlspecs   = 1\n",
    "nquads    = 1\n",
    "\n",
    "nH2  = 1.0E+12                 # [m^-3]\n",
    "nTT  = 1.0E+03                 # [m^-3]\n",
    "temp = 4.5E+00                 # [K]\n",
    "turb = 0.0E+00                 # [m/s]\n",
    "dx   = 1.0E+12                 # [m]\n",
    "dv   = 0.0E+00 / magritte.CC   # [fraction of speed of light]"
   ]
  },
  {
   "cell_type": "code",
   "execution_count": 2,
   "id": "04824ded-3843-4f18-beea-5d9276439139",
   "metadata": {},
   "outputs": [],
   "source": [
    "modelName = f'all_constant_single_ray'\n",
    "modelFile = f'{moddir}{modelName}.hdf5'\n",
    "lamdaFile = f'{datdir}test.txt'\n",
    "\n",
    "\n",
    "model = magritte.Model ()\n",
    "model.parameters.set_spherical_symmetry(False)\n",
    "model.parameters.set_model_name        (modelFile)\n",
    "model.parameters.set_dimension         (dimension)\n",
    "model.parameters.set_npoints           (npoints)\n",
    "model.parameters.set_nrays             (nrays)\n",
    "model.parameters.set_nspecs            (nspecs)\n",
    "model.parameters.set_nlspecs           (nlspecs)\n",
    "model.parameters.set_nquads            (nquads)\n",
    "\n",
    "model.geometry.points.position.set([[i*dx, 0, 0] for i in range(npoints)])\n",
    "model.geometry.points.velocity.set([[i*dv, 0, 0] for i in range(npoints)])\n",
    "\n",
    "model.chemistry.species.abundance = [[     0.0,    nTT,  nH2,  0.0,      1.0] for _ in range(npoints)]\n",
    "model.chemistry.species.symbol    =  ['dummy0', 'test', 'H2', 'e-', 'dummy1']\n",
    "\n",
    "model.thermodynamics.temperature.gas  .set( temp                 * np.ones(npoints))\n",
    "model.thermodynamics.turbulence.vturb2.set((turb/magritte.CC)**2 * np.ones(npoints))\n",
    "    \n",
    "model = setup.set_Delaunay_neighbor_lists (model)\n",
    "model = setup.set_Delaunay_boundary       (model)\n",
    "model = setup.set_boundary_condition_CMB  (model)\n",
    "model = setup.set_uniform_rays            (model)\n",
    "model = setup.set_linedata_from_LAMDA_file(model, lamdaFile)\n",
    "model = setup.set_quadrature              (model)\n",
    "\n",
    "##### DUST #####\n",
    "freqs   = [0.0, model.lines.lineProducingSpecies[0].linedata.frequency[0]]\n",
    "kappa   = [0.0, 1.0]\n",
    "density = [0.0 for i in range(npoints)] # [1.0e-17 for i in range(npoints)]\n",
    "T_dust  = [1.0e+3  for i in range(npoints)]\n",
    "################\n",
    "\n",
    "model.dust.freqs  .set(freqs)\n",
    "model.dust.kappa  .set(kappa)\n",
    "model.dust.density.set(density)\n",
    "\n",
    "model.thermodynamics.temperature.dust.set(T_dust)\n",
    "    \n",
    "model.write()"
   ]
  },
  {
   "cell_type": "code",
   "execution_count": 3,
   "id": "1af541a5-6ac9-49b8-94b7-a567f5e70590",
   "metadata": {},
   "outputs": [
    {
     "data": {
      "text/plain": [
       "Text(0, 0.5, 'Mean intensity [W/m$^{2}$]')"
      ]
     },
     "execution_count": 3,
     "metadata": {},
     "output_type": "execute_result"
    },
    {
     "data": {
      "image/png": "[encoded data removed]",
      "text/plain": [
       "<Figure size 900x600 with 1 Axes>"
      ]
     },
     "metadata": {
      "needs_background": "light"
     },
     "output_type": "display_data"
    }
   ],
   "source": [
    "model = magritte.Model (modelFile)\n",
    "\n",
    "model.compute_spectral_discretisation ()\n",
    "model.compute_inverse_line_widths     ()\n",
    "model.compute_LTE_level_populations   ()\n",
    "\n",
    "model.compute_radiation_field_feautrier_order_2 ()\n",
    "\n",
    "u_2f = np.array(model.radiation.u)\n",
    "\n",
    "x  = np.array(model.geometry.points.position)[:,0]\n",
    "nu = np.array(model.radiation.frequencies.nu)\n",
    "\n",
    "ld = model.lines.lineProducingSpecies[0].linedata\n",
    "\n",
    "k = 0\n",
    "\n",
    "frq = ld.frequency[k]\n",
    "pop = tools.LTEpop         (ld, temp) * nTT\n",
    "phi = tools.profile        (ld, k, temp, (turb/magritte.CC)**2, frq)\n",
    "eta = tools.lineEmissivity (ld, pop)[k] * phi\n",
    "chi = tools.lineOpacity    (ld, pop)[k] * phi\n",
    "src = tools.lineSource     (ld, pop)[k]\n",
    "bdy = tools.I_CMB          (frq)\n",
    "\n",
    "def I_0 (x):\n",
    "    return src + (bdy-src)*np.exp(-chi*x)\n",
    "\n",
    "def I_1 (x):\n",
    "    return src + (bdy-src)*np.exp(-chi*(x[-1]-x))\n",
    "\n",
    "def u_ (x):\n",
    "    return 0.5 * (I_0(x) + I_1(x))\n",
    "\n",
    "error_u_2f = tools.relative_error (u_(x), u_2f[0,:,0])\n",
    "\n",
    "fig = plt.figure(dpi=150)\n",
    "plt.title(modelName)\n",
    "plt.scatter(x, u_2f[0,:,0], s=0.5, label='2f', zorder=1)\n",
    "# plt.plot(x, u_(x), c='lightgray', zorder=0)\n",
    "plt.legend()\n",
    "# plt.xscale('log')\n",
    "plt.xlabel('r [m]')\n",
    "plt.ylabel('Mean intensity [W/m$^{2}$]')"
   ]
  },
  {
   "cell_type": "code",
   "execution_count": 4,
   "id": "74bcae24-ba28-41d3-872a-7048f3927adf",
   "metadata": {},
   "outputs": [
    {
     "data": {
      "text/plain": [
       "array([[[9.07182253e-18],\n",
       "        [9.41653334e-18],\n",
       "        [9.73684858e-18],\n",
       "        [1.00342278e-17],\n",
       "        [1.03100259e-17],\n",
       "        [1.05654998e-17],\n",
       "        [1.08018133e-17],\n",
       "        [1.10200434e-17],\n",
       "        [1.12211843e-17],\n",
       "        [1.14061526e-17],\n",
       "        [1.15757911e-17],\n",
       "        [1.17308727e-17],\n",
       "        [1.18721041e-17],\n",
       "        [1.20001289e-17],\n",
       "        [1.21155302e-17],\n",
       "        [1.22188341e-17],\n",
       "        [1.23105111e-17],\n",
       "        [1.23909791e-17],\n",
       "        [1.24606047e-17],\n",
       "        [1.25197050e-17],\n",
       "        [1.25685495e-17],\n",
       "        [1.26073607e-17],\n",
       "        [1.26363153e-17],\n",
       "        [1.26555455e-17],\n",
       "        [1.26651387e-17],\n",
       "        [1.26651387e-17],\n",
       "        [1.26555455e-17],\n",
       "        [1.26363153e-17],\n",
       "        [1.26073607e-17],\n",
       "        [1.25685495e-17],\n",
       "        [1.25197050e-17],\n",
       "        [1.24606047e-17],\n",
       "        [1.23909791e-17],\n",
       "        [1.23105111e-17],\n",
       "        [1.22188341e-17],\n",
       "        [1.21155302e-17],\n",
       "        [1.20001289e-17],\n",
       "        [1.18721041e-17],\n",
       "        [1.17308727e-17],\n",
       "        [1.15757911e-17],\n",
       "        [1.14061526e-17],\n",
       "        [1.12211843e-17],\n",
       "        [1.10200434e-17],\n",
       "        [1.08018133e-17],\n",
       "        [1.05654998e-17],\n",
       "        [1.03100259e-17],\n",
       "        [1.00342278e-17],\n",
       "        [9.73684858e-18],\n",
       "        [9.41653334e-18],\n",
       "        [9.07182253e-18]]], dtype=float128)"
      ]
     },
     "execution_count": 4,
     "metadata": {},
     "output_type": "execute_result"
    }
   ],
   "source": [
    "u_2f"
   ]
  },
  {
   "cell_type": "code",
   "execution_count": null,
   "id": "a707b011-9cd2-4c0f-9ca2-6d5614a1cff0",
   "metadata": {},
   "outputs": [],
   "source": []
  }
 ],
 "metadata": {
  "kernelspec": {
   "display_name": "Python 3",
   "language": "python",
   "name": "python3"
  },
  "language_info": {
   "codemirror_mode": {
    "name": "ipython",
    "version": 3
   },
   "file_extension": ".py",
   "mimetype": "text/x-python",
   "name": "python",
   "nbconvert_exporter": "python",
   "pygments_lexer": "ipython3",
   "version": "3.6.13"
  },
  "widgets": {
   "application/vnd.jupyter.widget-state+json": {
    "state": {},
    "version_major": 2,
    "version_minor": 0
   }
  }
 },
 "nbformat": 4,
 "nbformat_minor": 5
}

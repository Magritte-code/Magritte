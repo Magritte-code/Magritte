{
 "cells": [
  {
   "cell_type": "markdown",
   "metadata": {},
   "source": [
    "# Lambda Iterations"
   ]
  },
  {
   "cell_type": "code",
   "execution_count": 1,
   "metadata": {},
   "outputs": [],
   "source": [
    "import os\n",
    "import sys\n",
    "\n",
    "magritteFolder = '/home/frederik/Dropbox/GitHub/Magritte/'\n",
    "\n",
    "sys.path.append(magritteFolder)\n",
    "\n",
    "import numpy             as np\n",
    "import matplotlib.pyplot as plt\n",
    "import magritte.setup    as setup\n",
    "import magritte.core     as magritte"
   ]
  },
  {
   "cell_type": "code",
   "execution_count": 2,
   "metadata": {},
   "outputs": [
    {
     "name": "stdout",
     "output_type": "stream",
     "text": [
      "['cmb', 'cmb']\n"
     ]
    },
    {
     "data": {
      "text/plain": [
       "0"
      ]
     },
     "execution_count": 2,
     "metadata": {},
     "output_type": "execute_result"
    }
   ],
   "source": [
    "dimension = 1\n",
    "npoints   = 100\n",
    "nrays     = 200\n",
    "nspecs    = 5\n",
    "nlspecs   = 1\n",
    "nquads    = 15\n",
    "\n",
    "r_in   = 1.0E13   # [m]\n",
    "r_out  = 7.8E16   # [m]\n",
    "nH2_in = 2.0E13   # [m^-3]\n",
    "X_mol  = 1.0E-8   # [.]\n",
    "temp   = 20.0     # [K]\n",
    "turb   = 150.00   # [.]\n",
    "\n",
    "\n",
    "def nH2 (r):\n",
    "    return nH2_in * np.power(r_in/r, 2.0)\n",
    "\n",
    "def nTT (r):\n",
    "    return X_mol  * nH2(r)\n",
    "\n",
    "\n",
    "rs = np.logspace (np.log10(r_in), np.log10(r_out), npoints, endpoint=True)\n",
    "\n",
    "\n",
    "modelFile = 'vanZadelhoff_1a_1D.hdf5'\n",
    "lamdaFile = f'{magritteFolder}tests/data/test.txt'\n",
    "\n",
    "\n",
    "model = magritte.Model ()\n",
    "model.parameters.set_spherical_symmetry(True)\n",
    "model.parameters.set_pop_prec          (1.0e-6)\n",
    "model.parameters.set_model_name        (modelFile)\n",
    "model.parameters.set_dimension         (dimension)\n",
    "model.parameters.set_npoints           (npoints)\n",
    "model.parameters.set_nrays             (nrays)\n",
    "model.parameters.set_nspecs            (nspecs)\n",
    "model.parameters.set_nlspecs           (nlspecs)\n",
    "model.parameters.set_nquads            (nquads)\n",
    "\n",
    "model.geometry.points.position.set([[r, 0, 0] for r in rs])\n",
    "model.geometry.points.velocity.set(np.zeros((npoints, 3)))\n",
    "\n",
    "model.chemistry.species.abundance = [[     0.0, nTT(r), nH2(r),  0.0,      1.0] for r in rs]\n",
    "model.chemistry.species.symbol    =  ['dummy0', 'test',   'H2', 'e-', 'dummy1']\n",
    "\n",
    "model.thermodynamics.temperature.gas  .set( temp                 * np.ones(npoints))\n",
    "model.thermodynamics.turbulence.vturb2.set((turb/magritte.CC)**2 * np.ones(npoints))\n",
    "\n",
    "model = setup.set_Delaunay_neighbor_lists (model)\n",
    "model = setup.set_Delaunay_boundary       (model)\n",
    "model = setup.set_boundary_condition_CMB  (model)\n",
    "model = setup.set_rays_spherical_symmetry (model)\n",
    "model = setup.set_linedata_from_LAMDA_file(model, lamdaFile)\n",
    "model = setup.set_quadrature              (model)\n",
    "\n",
    "model.write()\n",
    "model.read ()\n",
    "\n",
    "model.compute_spectral_discretisation ()\n",
    "model.compute_inverse_line_widths     ()\n",
    "model.compute_LTE_level_populations   ()"
   ]
  },
  {
   "cell_type": "code",
   "execution_count": 3,
   "metadata": {},
   "outputs": [],
   "source": [
    "def max_relative_difference(a, b):\n",
    "    return np.max(2.0 * np.abs((a - b) / (a + b)))"
   ]
  },
  {
   "cell_type": "code",
   "execution_count": 4,
   "metadata": {},
   "outputs": [
    {
     "name": "stdout",
     "output_type": "stream",
     "text": [
      "After 0 iteration(s), max_diff = 1.396515213594935357\n",
      "After 1 iteration(s), max_diff = 0.5309831251917840938\n",
      "After 2 iteration(s), max_diff = 0.32563462102252937967\n",
      "After 3 iteration(s), max_diff = 0.23137569522567772061\n",
      "After 4 iteration(s), max_diff = 0.16983752740820533581\n",
      "After 5 iteration(s), max_diff = 0.122350813357215412254\n",
      "After 6 iteration(s), max_diff = 0.08486047808066352476\n",
      "After 7 iteration(s), max_diff = 0.05674414669651036924\n",
      "After 8 iteration(s), max_diff = 0.036741237378306990357\n",
      "After 9 iteration(s), max_diff = 0.023311967088741446318\n",
      "After 10 iteration(s), max_diff = 0.014542755176419202352\n",
      "After 11 iteration(s), max_diff = 0.008988290086022146678\n",
      "After 12 iteration(s), max_diff = 0.0055359174317171741\n",
      "After 13 iteration(s), max_diff = 0.0033965158228948814486\n",
      "After 14 iteration(s), max_diff = 0.0020795938982373599642\n",
      "After 15 iteration(s), max_diff = 0.0012719862327442149582\n",
      "After 16 iteration(s), max_diff = 0.0007776935054408728275\n",
      "After 17 iteration(s), max_diff = 0.0004754485586814062274\n",
      "After 18 iteration(s), max_diff = 0.00029070014463028068357\n",
      "After 19 iteration(s), max_diff = 0.00017777404821862683288\n",
      "After 20 iteration(s), max_diff = 0.00010874099896755151759\n",
      "After 21 iteration(s), max_diff = 6.652752657724747631e-05\n",
      "After 22 iteration(s), max_diff = 4.0711258939207411532e-05\n",
      "After 23 iteration(s), max_diff = 2.4917933186120823889e-05\n",
      "After 24 iteration(s), max_diff = 1.5253809854766932712e-05\n",
      "After 25 iteration(s), max_diff = 9.338047142699990929e-06\n",
      "After 26 iteration(s), max_diff = 5.7181994369947130157e-06\n",
      "After 27 iteration(s), max_diff = 3.5021401797660802675e-06\n",
      "After 28 iteration(s), max_diff = 2.1444402982680860795e-06\n",
      "After 29 iteration(s), max_diff = 1.3130815204057015825e-06\n"
     ]
    }
   ],
   "source": [
    "Nmax = 100\n",
    "\n",
    "pops = []\n",
    "pop  = np.copy(model.lines.lineProducingSpecies[0].population)\n",
    "pops.append(pop)\n",
    "\n",
    "for it in range(Nmax):\n",
    "    # Compute radiation field and resulting populations\n",
    "    model.compute_radiation_field()\n",
    "    model.compute_Jeff()\n",
    "    model.compute_level_populations_from_stateq()\n",
    "    # Compute the maximum relative change\n",
    "    pop = np.copy(model.lines.lineProducingSpecies[0].population)\n",
    "    pops.append(pop)\n",
    "    max_diff = max_relative_difference(pops[-1], pops[-2])\n",
    "    # Check for convergence\n",
    "    if (max_diff < 1.0e-6):\n",
    "        break\n",
    "    print('After', it, 'iteration(s), max_diff =', max_diff)"
   ]
  },
  {
   "cell_type": "code",
   "execution_count": null,
   "metadata": {},
   "outputs": [],
   "source": []
  }
 ],
 "metadata": {
  "kernelspec": {
   "display_name": "Python 3",
   "language": "python",
   "name": "python3"
  },
  "language_info": {
   "codemirror_mode": {
    "name": "ipython",
    "version": 3
   },
   "file_extension": ".py",
   "mimetype": "text/x-python",
   "name": "python",
   "nbconvert_exporter": "python",
   "pygments_lexer": "ipython3",
   "version": "3.7.5"
  }
 },
 "nbformat": 4,
 "nbformat_minor": 4
}

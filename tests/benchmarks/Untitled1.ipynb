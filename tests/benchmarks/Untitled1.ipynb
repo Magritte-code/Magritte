{
 "cells": [
  {
   "cell_type": "code",
   "execution_count": null,
   "metadata": {
    "Collapsed": "false"
   },
   "outputs": [],
   "source": [
    "import os\n",
    "import sys\n",
    "sys.path.append(f'{os.getcwd()}/../../')\n",
    "sys.path.append(f'{os.getcwd()}/analytic')"
   ]
  },
  {
   "cell_type": "code",
   "execution_count": 2,
   "metadata": {
    "Collapsed": "false"
   },
   "outputs": [],
   "source": [
    "import numpy             as np\n",
    "import scipy             as sp\n",
    "import magritte.setup    as setup\n",
    "import magritte.core     as magritte\n",
    "import magritte.mesher   as mesher\n",
    "import healpy\n",
    "\n",
    "dimension = 3\n",
    "nrays     = 12*3**2\n",
    "nspecs    = 5\n",
    "nlspecs   = 1\n",
    "nquads    = 15\n",
    "\n",
    "r_in   = 1.0E13   # [m]\n",
    "r_out  = 7.8E16   # [m]\n",
    "rho_in = 2.0E13   # [m^-3]\n",
    "X_mol  = 1.0E-8   # [.]\n",
    "temp   = 20.0     # [K]\n",
    "turb   = 150.00   # [.]\n",
    "\n",
    "\n",
    "def rho (r):\n",
    "    return rho_in * np.power(r_in/r, 2.0)\n",
    "\n",
    "def abn (r):\n",
    "    return X_mol * rho(r)\n",
    "\n",
    "\n",
    "scale_max = 0.07 * r_out\n",
    "scale_min = 0.07 * r_in\n",
    "scale_cte = 0.07 * r_in\n",
    "scale_fun = f\"{scale_cte / r_in**2} * (x*x + y*y + z*z)\"\n",
    "\n",
    "\n",
    "meshName = 'vanZadelhoff_1a.vtk'\n",
    "\n",
    "# mesher.create_mesh_from_function(\n",
    "#     meshName       = meshName,\n",
    "#     boundary       = mesher.boundary_sphere_in_sphere(\n",
    "#                          radius_in  = r_in,\n",
    "#                          radius_out = r_out),\n",
    "#     scale_min      = scale_min,\n",
    "#     scale_max      = scale_max,\n",
    "#     scale_function = scale_fun )"
   ]
  },
  {
   "cell_type": "code",
   "execution_count": 3,
   "metadata": {
    "Collapsed": "false"
   },
   "outputs": [
    {
     "name": "stdout",
     "output_type": "stream",
     "text": [
      "0\n",
      "6\n"
     ]
    },
    {
     "data": {
      "text/plain": [
       "0"
      ]
     },
     "execution_count": 3,
     "metadata": {},
     "output_type": "execute_result"
    }
   ],
   "source": [
    "mesh = mesher.Mesh(meshName)\n",
    "\n",
    "npoints = len(mesh.points)\n",
    "nbs     = [n for sublist in mesh.neighbors for n in sublist]\n",
    "n_nbs   = [len(sublist) for sublist in mesh.neighbors]\n",
    "\n",
    "\n",
    "modelFile = 'vanZadelhoff_1a_3D.hdf5'\n",
    "lamdaFile = '../data/test.txt'\n",
    "\n",
    "\n",
    "model = magritte.Model ()\n",
    "model.parameters.set_pop_prec  (1.0e-6)\n",
    "model.parameters.set_model_name(modelFile)\n",
    "model.parameters.set_dimension (dimension)\n",
    "model.parameters.set_npoints   (npoints)\n",
    "model.parameters.set_nrays     (nrays)\n",
    "model.parameters.set_nspecs    (nspecs)\n",
    "model.parameters.set_nlspecs   (nlspecs)\n",
    "model.parameters.set_nquads    (nquads)\n",
    "\n",
    "\n",
    "model.geometry.points.position.set(mesh.points)\n",
    "model.geometry.points.velocity.set(np.zeros((npoints, 3)))\n",
    "\n",
    "model.geometry.points.  neighbors.set(  nbs)\n",
    "model.geometry.points.n_neighbors.set(n_nbs)\n",
    "\n",
    "rs = np.linalg.norm(mesh.points, axis=1)\n",
    "\n",
    "model.chemistry.species.abundance = [[     0.0, abn(r), rho(r),  0.0,      1.0] for r in rs]\n",
    "model.chemistry.species.symbol    =  ['dummy0', 'test',   'H2', 'e-', 'dummy1']\n",
    "\n",
    "model.thermodynamics.temperature.gas  .set( temp                 * np.ones(npoints))\n",
    "model.thermodynamics.turbulence.vturb2.set((turb/magritte.CC)**2 * np.ones(npoints))\n",
    "\n",
    "model.parameters.set_nboundary(len(mesh.boundary))\n",
    "model.geometry.boundary.boundary2point.set(mesh.boundary)\n",
    "\n",
    "model = setup.set_boundary_condition_CMB  (model)\n",
    "model = setup.set_uniform_rays            (model)\n",
    "model = setup.set_linedata_from_LAMDA_file(model, lamdaFile)\n",
    "model = setup.set_quadrature              (model)\n",
    "\n",
    "model.write()\n",
    "model.read ()\n",
    "\n",
    "model.compute_spectral_discretisation ()\n",
    "model.compute_inverse_line_widths     ()\n",
    "model.compute_LTE_level_populations   ()\n",
    "\n",
    "# model.compute_level_populations       (False, 50)"
   ]
  },
  {
   "cell_type": "code",
   "execution_count": 4,
   "metadata": {
    "Collapsed": "false"
   },
   "outputs": [
    {
     "data": {
      "text/plain": [
       "16"
      ]
     },
     "execution_count": 4,
     "metadata": {},
     "output_type": "execute_result"
    }
   ],
   "source": [
    "model.compute_level_populations       (False, 50)"
   ]
  },
  {
   "cell_type": "code",
   "execution_count": 8,
   "metadata": {
    "Collapsed": "false"
   },
   "outputs": [],
   "source": [
    "import matplotlib.pyplot as plt"
   ]
  },
  {
   "cell_type": "code",
   "execution_count": 9,
   "metadata": {
    "Collapsed": "false"
   },
   "outputs": [],
   "source": [
    "pops = np.array(model.lines.lineProducingSpecies[0].population).reshape((model.parameters.npoints(), 2))\n",
    "abun = np.array(model.chemistry.species.abundance)[:,1]\n",
    "r    = np.linalg.norm(np.array(model.geometry.points.position), axis=1)"
   ]
  },
  {
   "cell_type": "code",
   "execution_count": 10,
   "metadata": {
    "Collapsed": "false"
   },
   "outputs": [],
   "source": [
    "(i,ra,rb,nh,tk,nm,vr,db,td,lp0,lp1) = np.loadtxt ('numeric/vanZadelhoff_1a.out', skiprows=14, unpack=True)"
   ]
  },
  {
   "cell_type": "code",
   "execution_count": 11,
   "metadata": {
    "Collapsed": "false"
   },
   "outputs": [
    {
     "data": {
      "image/png": "[encoded data removed]",
      "text/plain": [
       "<Figure size 432x288 with 1 Axes>"
      ]
     },
     "metadata": {
      "needs_background": "light"
     },
     "output_type": "display_data"
    }
   ],
   "source": [
    "plt.scatter(r, pops[:,0]/abun)\n",
    "plt.scatter(r, pops[:,1]/abun)\n",
    "\n",
    "plt.plot(ra, lp0)\n",
    "plt.plot(ra, lp1)\n",
    "\n",
    "\n",
    "plt.xscale('log')\n",
    "# plt.yscale('log')"
   ]
  },
  {
   "cell_type": "code",
   "execution_count": null,
   "metadata": {},
   "outputs": [],
   "source": []
  }
 ],
 "metadata": {
  "kernelspec": {
   "display_name": "Python 3",
   "language": "python",
   "name": "python3"
  },
  "language_info": {
   "codemirror_mode": {
    "name": "ipython",
    "version": 3
   },
   "file_extension": ".py",
   "mimetype": "text/x-python",
   "name": "python",
   "nbconvert_exporter": "python",
   "pygments_lexer": "ipython3",
   "version": "3.7.5"
  }
 },
 "nbformat": 4,
 "nbformat_minor": 4
}

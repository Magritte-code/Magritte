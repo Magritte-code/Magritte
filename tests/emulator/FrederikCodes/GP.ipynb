{
 "cells": [
  {
   "cell_type": "code",
   "execution_count": 13,
   "metadata": {},
   "outputs": [
    {
     "name": "stdout",
     "output_type": "stream",
     "text": [
      "30\n"
     ]
    }
   ],
   "source": [
    "import numpy as np\n",
    "import matplotlib.pyplot as plt\n",
    "\n",
    "pops = np.load(\"pops.npy\")\n",
    "lev_data = []\n",
    "levels = np.arange(0,200)\n",
    "for l in levels:\n",
    "    temp  = []\n",
    "    for i in pops:\n",
    "        temp.append(i[l]) \n",
    "    lev_data.append(temp)\n",
    "print(len(lev_data[160]))"
   ]
  },
  {
   "cell_type": "code",
   "execution_count": 2,
   "metadata": {},
   "outputs": [
    {
     "name": "stdout",
     "output_type": "stream",
     "text": [
      "[ 0.  1.  2.  3.  4.  5.  6.  7.  8.  9. 10. 11. 12. 13. 14. 15. 16. 17.\n",
      " 18. 19. 20. 21. 22. 23. 24. 25. 26. 27. 28. 29. 30.]\n"
     ]
    }
   ],
   "source": [
    "def kernel(x_i, x_j, h):\n",
    "    X_i, X_j = np.meshgrid(x_i, x_j)\n",
    "    return alpha**2 * np.exp(-0.5 * (X_i-X_j)**2 / h**2)\n",
    "\n",
    "N = 31\n",
    "x_min = 0.0\n",
    "x_max = 30.0\n",
    "\n",
    "x = np.linspace(x_min, x_max, N)\n",
    "print((x))"
   ]
  },
  {
   "cell_type": "code",
   "execution_count": 3,
   "metadata": {},
   "outputs": [],
   "source": [
    "lev_predictions = []\n",
    "for level_data in lev_data:\n",
    "    #h = 5.5\n",
    "    #alpha = .8\n",
    "    #h = 6.9\n",
    "    alpha = .01\n",
    "    h = 2.21#1.90 #5.\n",
    "    #alpha = 0.7 #.01\n",
    "    #y = np.arange(0,30,3).tolist()\n",
    "    #y.append(29)\n",
    "    \n",
    "    #y = np.arange(0,30,2).tolist()\n",
    "    #y.append(29)\n",
    "    #y.append(1)\n",
    "\n",
    "    y = np.arange(0,30,1).tolist()\n",
    "    \n",
    "    \n",
    "    y = np.array(y)\n",
    "    fy = []\n",
    "    for i in y:\n",
    "        fy.append(level_data[i])\n",
    "\n",
    "    mean = np.matmul(np.matmul(kernel(y,x,h), np.linalg.inv(kernel(y,y,h))), fy)\n",
    "    cov  = kernel(x,x,h) - np.matmul(np.matmul(kernel(y,x,h), np.linalg.inv(kernel(y,y,h))), kernel(x,y,h))\n",
    "    \n",
    "    lev_predictions.append(mean)\n",
    "lev_predictions = np.array(lev_predictions).T"
   ]
  },
  {
   "cell_type": "code",
   "execution_count": 4,
   "metadata": {},
   "outputs": [
    {
     "name": "stdout",
     "output_type": "stream",
     "text": [
      "(31, 200)\n"
     ]
    }
   ],
   "source": [
    "print(np.shape(lev_predictions))"
   ]
  },
  {
   "cell_type": "code",
   "execution_count": 5,
   "metadata": {},
   "outputs": [],
   "source": [
    "def max_relative_difference(a, b):\n",
    "    return np.max(2.0 * np.abs((a - b) / (a + b)))"
   ]
  },
  {
   "cell_type": "code",
   "execution_count": 15,
   "metadata": {},
   "outputs": [
    {
     "name": "stdout",
     "output_type": "stream",
     "text": [
      "0.8869311993390710594\n"
     ]
    }
   ],
   "source": [
    "print(lev_predictions[30,160])"
   ]
  },
  {
   "cell_type": "code",
   "execution_count": 17,
   "metadata": {},
   "outputs": [
    {
     "name": "stdout",
     "output_type": "stream",
     "text": [
      "After 0 iteration(s), max_diff = 1.3964876763145382126\n",
      "After 1 iteration(s), max_diff = 0.52219816373842203926\n",
      "After 2 iteration(s), max_diff = 0.3004983008573982819\n",
      "After 3 iteration(s), max_diff = 0.19364638951726786442\n",
      "After 4 iteration(s), max_diff = 0.12723915824533029218\n",
      "After 5 iteration(s), max_diff = 0.082887488859272483486\n",
      "After 6 iteration(s), max_diff = 0.052965400581024714535\n",
      "After 7 iteration(s), max_diff = 0.033242815719787688025\n",
      "After 8 iteration(s), max_diff = 0.020636958128351446202\n",
      "After 9 iteration(s), max_diff = 0.012672505560560300934\n",
      "After 10 iteration(s), max_diff = 0.0077335154342708797694\n",
      "After 11 iteration(s), max_diff = 0.0047142213423770038853\n",
      "After 12 iteration(s), max_diff = 0.0028659877262447170997\n",
      "After 13 iteration(s), max_diff = 0.0017396210235699621913\n",
      "After 14 iteration(s), max_diff = 0.0010549783721589928484\n",
      "After 15 iteration(s), max_diff = 0.000639429722495170019\n",
      "After 16 iteration(s), max_diff = 0.00038746533588122427125\n",
      "After 17 iteration(s), max_diff = 0.00023474568495088313631\n",
      "After 18 iteration(s), max_diff = 0.00014220138905058575553\n",
      "After 19 iteration(s), max_diff = 8.613853508415801264e-05\n",
      "After 20 iteration(s), max_diff = 5.2176702394409715053e-05\n",
      "After 21 iteration(s), max_diff = 3.1616628107055090545e-05\n",
      "After 22 iteration(s), max_diff = 1.9146011069559976978e-05\n",
      "After 23 iteration(s), max_diff = 1.1599830669982977758e-05\n",
      "After 24 iteration(s), max_diff = 7.024371156617941149e-06\n",
      "After 25 iteration(s), max_diff = 4.2532145802139346845e-06\n",
      "After 26 iteration(s), max_diff = 2.5792900790252091749e-06\n",
      "After 27 iteration(s), max_diff = 1.5620363617177966971e-06\n",
      "After 28 iteration(s), max_diff = 9.46135011755687683e-07\n",
      "After 29 iteration(s), max_diff = 0.26478670647419187253\n"
     ]
    }
   ],
   "source": [
    "diff = []\n",
    "for i in range(0,30):\n",
    "    max_diff = max_relative_difference(lev_predictions[i+1], lev_predictions[i])\n",
    "    diff.append(max_diff)\n",
    "    print('After', i, 'iteration(s), max_diff =', max_diff)"
   ]
  },
  {
   "cell_type": "code",
   "execution_count": 8,
   "metadata": {},
   "outputs": [
    {
     "data": {
      "image/png": "[encoded data removed]",
      "text/plain": [
       "<Figure size 432x288 with 1 Axes>"
      ]
     },
     "metadata": {
      "needs_background": "light"
     },
     "output_type": "display_data"
    }
   ],
   "source": [
    "plt.plot(np.arange(0,len(diff)) , diff)\n",
    "plt.yscale(\"log\")\n",
    "plt.show()"
   ]
  },
  {
   "cell_type": "code",
   "execution_count": 28,
   "metadata": {},
   "outputs": [
    {
     "name": "stdout",
     "output_type": "stream",
     "text": [
      "[0.00623416 0.01233968 0.0062816  0.01229224 0.0062915  0.01228234\n",
      " 0.00629482 0.01227901 0.0062965  0.01227734 0.00629796 0.01227587\n",
      " 0.00629988 0.01227396 0.0063028  0.01227103 0.00630736 0.01226648\n",
      " 0.00631421 0.01225963 0.00632427 0.01224957 0.00633872 0.01223511\n",
      " 0.00635871 0.01221513 0.00638566 0.01218818 0.00642107 0.01215277\n",
      " 0.00646638 0.01210746 0.00652321 0.01205063 0.00659291 0.01198093\n",
      " 0.00667694 0.0118969  0.00677663 0.01179721 0.00689328 0.01168056\n",
      " 0.0070282  0.01154564 0.00718268 0.01139115 0.00735808 0.01121576\n",
      " 0.00755568 0.01101816 0.00777676 0.01079707 0.00802245 0.01055139\n",
      " 0.00829362 0.01028022 0.0085908  0.00998304 0.00891399 0.00965985\n",
      " 0.00926252 0.00931132 0.00963485 0.00893898 0.01002853 0.0085453\n",
      " 0.01043991 0.00813393 0.01086419 0.00770964 0.01129569 0.00727815\n",
      " 0.01172769 0.00684615 0.01215301 0.00642083 0.01256436 0.00600948\n",
      " 0.01295483 0.00561901 0.01331849 0.00525535 0.01365047 0.00492337\n",
      " 0.01394736 0.00462648 0.01420723 0.00436661 0.01442953 0.00414431\n",
      " 0.01461486 0.00395898 0.01476464 0.0038092  0.01488101 0.00369283\n",
      " 0.01496617 0.00360767 0.01502235 0.00355148 0.01505151 0.00352233\n",
      " 0.01505508 0.00351876 0.01503378 0.00354006 0.01498752 0.00358632\n",
      " 0.01491523 0.00365861 0.01481495 0.00375889 0.01468388 0.00388996\n",
      " 0.01451861 0.00405523 0.01431537 0.00425847 0.01407038 0.00450346\n",
      " 0.01378018 0.00479366 0.01344194 0.0051319  0.01305375 0.00552009\n",
      " 0.01261477 0.00595907 0.01212535 0.00644849 0.01158707 0.00698677\n",
      " 0.01100262 0.00757122 0.01037574 0.0081981  0.009711   0.00886284\n",
      " 0.00901365 0.00956019 0.00828936 0.01028448 0.00754408 0.01102976\n",
      " 0.00678379 0.01179005 0.0060144  0.01255944 0.00524156 0.01333228\n",
      " 0.00447056 0.01410328 0.00370627 0.01486757 0.00295308 0.01562076\n",
      " 0.00221483 0.01635901 0.00149485 0.01707899 0.00079592 0.01777792\n",
      " 0.0001203  0.01845354 0.00053021 0.01910405 0.0011543  0.01972814\n",
      " 0.00175107 0.02032491 0.00231998 0.02089382 0.00286087 0.0214347\n",
      " 0.00337383 0.02194767 0.00385928 0.02243312 0.00431782 0.02289166\n",
      " 0.00475031 0.02332414 0.00515776 0.0237316  0.00554143 0.02411527\n",
      " 0.00590275 0.02447659 0.00624344 0.02481728 0.00656561 0.02513945\n",
      " 0.00687205 0.02544589 0.00716702 0.02574086 0.00745901 0.02603285\n",
      " 0.00765622 0.02623006]\n"
     ]
    }
   ],
   "source": [
    "\n",
    "error = np.abs(lev_predictions[30]- pops[29])\n",
    "print(error)"
   ]
  }
 ],
 "metadata": {
  "kernelspec": {
   "display_name": "Python 3",
   "language": "python",
   "name": "python3"
  },
  "language_info": {
   "codemirror_mode": {
    "name": "ipython",
    "version": 3
   },
   "file_extension": ".py",
   "mimetype": "text/x-python",
   "name": "python",
   "nbconvert_exporter": "python",
   "pygments_lexer": "ipython3",
   "version": "3.8.3"
  }
 },
 "nbformat": 4,
 "nbformat_minor": 4
}

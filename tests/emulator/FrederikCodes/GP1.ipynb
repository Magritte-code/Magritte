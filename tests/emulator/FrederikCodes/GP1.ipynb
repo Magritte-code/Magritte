{
 "cells": [
  {
   "cell_type": "code",
   "execution_count": 246,
   "metadata": {},
   "outputs": [],
   "source": [
    "# import libraries\n",
    "import numpy as np\n",
    "\n",
    "import ipywidgets as widgets\n",
    "from IPython.display import display\n",
    "from ipywidgets import interact, interactive, fixed, interact_manual\n",
    "import ipywidgets as widgets\n",
    "\n",
    "\n",
    "import matplotlib.pyplot as plt\n",
    "from scipy.integrate import quad\n",
    "\n",
    "\n",
    "#define function for local emmisivity and opacity\n",
    "def η(x):\n",
    "    return 0.0\n",
    "\n",
    "def χ(x):\n",
    "    return 1.0"
   ]
  },
  {
   "cell_type": "code",
   "execution_count": 247,
   "metadata": {},
   "outputs": [
    {
     "data": {
      "text/plain": [
       "[<matplotlib.lines.Line2D at 0x7f85137fc7f0>]"
      ]
     },
     "execution_count": 247,
     "metadata": {},
     "output_type": "execute_result"
    },
    {
     "data": {
      "image/png": "[encoded data removed]",
      "text/plain": [
       "<Figure size 432x288 with 1 Axes>"
      ]
     },
     "metadata": {
      "needs_background": "light"
     },
     "output_type": "display_data"
    }
   ],
   "source": [
    "x = np.linspace(0,2,1000)\n",
    "\n",
    "I_init = 1\n",
    "\n",
    "chi = np.vectorize(χ)\n",
    "eta = np.vectorize(η)\n",
    "\n",
    "χ_x = chi(x)\n",
    "I = I_init*np.exp(-χ_x*x)\n",
    "\n",
    "plt.plot(x,I,'k')"
   ]
  },
  {
   "cell_type": "code",
   "execution_count": 248,
   "metadata": {},
   "outputs": [
    {
     "name": "stdout",
     "output_type": "stream",
     "text": [
      "[1.         0.13533528]\n"
     ]
    }
   ],
   "source": [
    "#Now process for GP\n",
    "x = np.linspace(0,2,1000)\n",
    "\n",
    "#First some function values at some point \n",
    "y_p  = np.array([0.0 ,  2])\n",
    "fy_p = (I_init*np.exp(-chi(y_p)*y_p))\n",
    "\n",
    "#Second some values for the L operator at some points\n",
    "y_d  = np.array([0.0 , 1 ,  2])\n",
    "fy_d = eta(y_d)\n",
    "\n",
    "\n",
    "print(fy_p)\n"
   ]
  },
  {
   "cell_type": "code",
   "execution_count": 249,
   "metadata": {},
   "outputs": [],
   "source": [
    "alpha = 1.0\n",
    "h = 0.5\n",
    "\n",
    "def kernel(x, y, h):\n",
    "    return alpha**2 * np.exp(-0.5 * (x-y)**2 / h**2)\n",
    "\n",
    "def Lx_kernel(x, y, h):\n",
    "    return (chi(x)*h**2 - (x-y)) / h**2 * kernel(x, y, h)\n",
    "\n",
    "def Ly_kernel(x, y, h):\n",
    "    return (chi(y)*h**2 + (x-y)) / h**2 * kernel(x, y, h)\n",
    "\n",
    "def L2_kernel(x, y, h):\n",
    "    return (h**4 - (chi(x)-chi(y))*(x-y)*h**2 + h**2 - (x-y)**2) / h**4 * kernel(x, y, h)\n",
    "\n",
    "\n",
    "def corr(x, y, h):\n",
    "    x, y = np.meshgrid(x, y)\n",
    "    return kernel(x, y, h).T\n",
    "\n",
    "def Lx_corr(x, y, h):\n",
    "    x, y = np.meshgrid(x, y)\n",
    "    return Lx_kernel(x, y, h).T\n",
    "\n",
    "def Ly_corr(x, y, h):\n",
    "    x, y = np.meshgrid(x, y)\n",
    "    return Ly_kernel(x, y, h).T\n",
    "\n",
    "def L2_corr(x, y, h):\n",
    "    x, y = np.meshgrid(x, y)\n",
    "    return L2_kernel(x, y, h).T"
   ]
  },
  {
   "cell_type": "code",
   "execution_count": 251,
   "metadata": {},
   "outputs": [
    {
     "data": {
      "application/vnd.jupyter.widget-view+json": {
       "model_id": "8abc919a5e4446e0aa05fc41385ff45e",
       "version_major": 2,
       "version_minor": 0
      },
      "text/plain": [
       "interactive(children=(FloatSlider(value=1.55, description='h', max=3.0, min=0.1, step=0.001), Output()), _dom_…"
      ]
     },
     "metadata": {},
     "output_type": "display_data"
    },
    {
     "data": {
      "text/plain": [
       "<function __main__.GP_fit(h)>"
      ]
     },
     "execution_count": 251,
     "metadata": {},
     "output_type": "execute_result"
    }
   ],
   "source": [
    "def GP_fit(h):\n",
    "    sigma_00 = corr(x, x, h)\n",
    "\n",
    "    sigma_10 = np.block([   corr(x, y_p, h),\n",
    "                         Ly_corr(x, y_d, h) ])\n",
    "\n",
    "    sigma_01 = np.block([   corr(y_p, x, h).T,\n",
    "                         Lx_corr(y_d, x, h).T ]).T\n",
    "\n",
    "    sigma_11 = np.block([[   corr(y_p, y_p, h), Lx_corr(y_d, y_p, h).T],\n",
    "                             [Ly_corr(y_p, y_d, h).T, L2_corr(y_d, y_d, h)  ] ])\n",
    "\n",
    "\n",
    "    fy = np.block([fy_p, fy_d])\n",
    "\n",
    "    mean =            np.matmul(np.matmul(sigma_10, np.linalg.inv(sigma_11)), fy)\n",
    "    cov  = sigma_00 - np.matmul(np.matmul(sigma_10, np.linalg.inv(sigma_11)), sigma_01)\n",
    "    \n",
    "    fs = np.random.multivariate_normal(mean, cov, 25).T\n",
    "    \n",
    "    plt.figure(1,dpi = 100)\n",
    "    plt.plot(x, mean, linewidth=0.90)\n",
    "    plt.plot(x, I, 'k',linewidth=0.45)\n",
    "    plt.plot(x, mean+2.0*np.diagonal(cov), linestyle='--', c='red', linewidth=0.6)\n",
    "    plt.plot(x, mean-2.0*np.diagonal(cov), linestyle='--', c='red', linewidth=0.6)\n",
    "    plt.plot(x, fs, c='gray', linewidth=0.15)\n",
    "    plt.show()\n",
    "    \n",
    "    plt.imshow(cov)\n",
    "    plt.show()\n",
    "    \n",
    "    plt.scatter(x, np.abs(I-mean) )\n",
    "    plt.show()\n",
    "    \n",
    "\n",
    "interact(GP_fit,h=(0.1,3,0.001))"
   ]
  },
  {
   "cell_type": "markdown",
   "metadata": {},
   "source": [
    "Radiative Transfer Equation with a Constant Source function\n",
    "\n",
    "$I(t) = I(0)e^{-t} + S(1 - e^{-t})$"
   ]
  },
  {
   "cell_type": "code",
   "execution_count": 252,
   "metadata": {},
   "outputs": [
    {
     "data": {
      "text/plain": [
       "[<matplotlib.lines.Line2D at 0x7f850b632700>]"
      ]
     },
     "execution_count": 252,
     "metadata": {},
     "output_type": "execute_result"
    },
    {
     "data": {
      "image/png": "[encoded data removed]",
      "text/plain": [
       "<Figure size 432x288 with 1 Axes>"
      ]
     },
     "metadata": {
      "needs_background": "light"
     },
     "output_type": "display_data"
    }
   ],
   "source": [
    "x = np.linspace(0.1,5,1000)\n",
    "Io = 1 ; S = 1.5\n",
    "t_x = 0.5*x\n",
    "\n",
    "I = Io*(np.exp(-t_x)) + S*(1 - np.exp(-t_x) )\n",
    "plt.plot(t_x  , I)\n",
    "\n",
    "\n"
   ]
  },
  {
   "cell_type": "code",
   "execution_count": 253,
   "metadata": {},
   "outputs": [
    {
     "name": "stdout",
     "output_type": "stream",
     "text": [
      "[1.02671242 1.4589575 ]\n"
     ]
    }
   ],
   "source": [
    "#Now process for GP\n",
    "x = np.linspace(0.1,5,1000)\n",
    "#optical depth define in terms of x\n",
    "x = 0.5*x\n",
    "\n",
    "#First some function values at some point \n",
    "y_p  = np.array([x[2] ,x[999]])\n",
    "fy_p = (Io*(np.exp(-y_p)) + S*(1 - np.exp(-y_p) ))\n",
    "\n",
    "#Second some values for the L operator at some points\n",
    "y_d  = np.array([x[20] , x[400]  ,x[900]])\n",
    "fy_d = np.array([S,S,S])\n",
    "\n",
    "\n",
    "print(fy_p)"
   ]
  },
  {
   "cell_type": "code",
   "execution_count": 254,
   "metadata": {},
   "outputs": [],
   "source": [
    "alpha = 1.0\n",
    "h = 0.5\n",
    "\n",
    "def kernel(x, y, h):\n",
    "    return alpha**2 * np.exp(-0.5 * (x-y)**2 / h**2)\n",
    "\n",
    "def Lx_kernel(x, y, h):\n",
    "    return (h**2 - (x-y)) / h**2 * kernel(x, y, h)\n",
    "\n",
    "def Ly_kernel(x, y, h):\n",
    "    return (h**2 + (x-y)) / h**2 * kernel(x, y, h)\n",
    "\n",
    "def L2_kernel(x, y, h):\n",
    "    return (h**4 - (1-1)*(x-y)*h**2 + h**2 - (x-y)**2) / h**4 * kernel(x, y, h)\n",
    "\n",
    "\n",
    "def corr(x, y, h):\n",
    "    x, y = np.meshgrid(x, y)\n",
    "    return kernel(x, y, h).T\n",
    "\n",
    "def Lx_corr(x, y, h):\n",
    "    x, y = np.meshgrid(x, y)\n",
    "    return Lx_kernel(x, y, h).T\n",
    "\n",
    "def Ly_corr(x, y, h):\n",
    "    x, y = np.meshgrid(x, y)\n",
    "    return Ly_kernel(x, y, h).T\n",
    "\n",
    "def L2_corr(x, y, h):\n",
    "    x, y = np.meshgrid(x, y)\n",
    "    return L2_kernel(x, y, h).T\n"
   ]
  },
  {
   "cell_type": "code",
   "execution_count": 255,
   "metadata": {},
   "outputs": [
    {
     "data": {
      "application/vnd.jupyter.widget-view+json": {
       "model_id": "5c0a838fa8dc47aea7fbfb76f40c018b",
       "version_major": 2,
       "version_minor": 0
      },
      "text/plain": [
       "interactive(children=(FloatSlider(value=1.05, description='h', max=2.0, min=0.1, step=0.001), Output()), _dom_…"
      ]
     },
     "metadata": {},
     "output_type": "display_data"
    },
    {
     "data": {
      "text/plain": [
       "<function __main__.GP_fit(h)>"
      ]
     },
     "execution_count": 255,
     "metadata": {},
     "output_type": "execute_result"
    }
   ],
   "source": [
    "def GP_fit(h):\n",
    "    sigma_00 = corr(x, x, h)\n",
    "\n",
    "    sigma_10 = np.block([   corr(x, y_p, h),\n",
    "                         Ly_corr(x, y_d, h) ])\n",
    "\n",
    "    sigma_01 = np.block([   corr(y_p, x, h).T,\n",
    "                         Lx_corr(y_d, x, h).T ]).T\n",
    "\n",
    "    sigma_11 = np.block([[   corr(y_p, y_p, h), Lx_corr(y_d, y_p, h).T],\n",
    "                             [Ly_corr(y_p, y_d, h).T, L2_corr(y_d, y_d, h)  ] ])\n",
    "\n",
    "\n",
    "    fy = np.block([fy_p, fy_d])\n",
    "\n",
    "    mean =            np.matmul(np.matmul(sigma_10, np.linalg.inv(sigma_11)), fy)\n",
    "    cov  = sigma_00 - np.matmul(np.matmul(sigma_10, np.linalg.inv(sigma_11)), sigma_01)\n",
    "    \n",
    "    fs = np.random.multivariate_normal(mean, cov, 25).T\n",
    "    \n",
    "    plt.figure(1,dpi = 100)\n",
    "    plt.plot(x, mean, linewidth=0.90)\n",
    "    plt.plot(x, I, 'k')\n",
    "    plt.plot(x, mean+2.0*np.diagonal(cov), linestyle='--', c='red', linewidth=0.5)\n",
    "    plt.plot(x, mean-2.0*np.diagonal(cov), linestyle='--', c='red', linewidth=0.5)\n",
    "    plt.plot(x, fs, c='gray', linewidth=0.2)\n",
    "    plt.show()\n",
    "    \n",
    "    plt.imshow(cov)\n",
    "    plt.show()\n",
    "    \n",
    "    plt.scatter(x, np.abs(I-mean) )\n",
    "    plt.show()\n",
    "    \n",
    "\n",
    "interact(GP_fit,h=(0.1,2,0.001))"
   ]
  },
  {
   "cell_type": "markdown",
   "metadata": {},
   "source": [
    "1D example with source function now having a form \n",
    "\n",
    "\n",
    "$S = a + b \\cdot t$\n",
    "\n",
    "$I(\\tau_{1},\\mu) =  I(\\tau_{2},\\mu) \\exp(\\frac{-(\\tau_{2} - \\tau_{1})}{\\mu}) + \\int_{\\tau_{1}}^{\\tau_{2}} S(t) \\exp(\\frac{-(t - \\tau_{1})}{\\mu}) \\frac{dt}{\\mu}$\n",
    "\n",
    "$\\tau_2$ $\\rightarrow$ high optical depth(center of $\\star$), So that means z = 0 at this point\n",
    "\n",
    "$\\tau_1$ $\\rightarrow$ low optical depth, So that mean z = let's say 5 at the surface\n",
    "\n",
    "$d \\tau$ = $-\\alpha$ dz\n",
    "\n",
    "let's take,\n",
    "\n",
    "$\\alpha (z)=a z$ where let's say a = .5\n",
    "\n",
    "$\\tau (z) = \\frac{a}{2} (z^2_{max} - z^2)$\n",
    "\n",
    "# $(\\frac{\\partial}{\\partial \\tau} + 1 )I = S $\n",
    "\n",
    "# First check for a constant source function"
   ]
  },
  {
   "cell_type": "code",
   "execution_count": 227,
   "metadata": {},
   "outputs": [
    {
     "data": {
      "image/png": "[encoded data removed]",
      "text/plain": [
       "<Figure size 600x400 with 1 Axes>"
      ]
     },
     "metadata": {
      "needs_background": "light"
     },
     "output_type": "display_data"
    },
    {
     "name": "stdout",
     "output_type": "stream",
     "text": [
      "[4.   3.75 3.   1.75 0.  ]\n"
     ]
    }
   ],
   "source": [
    "z_max = 4 ; a = 0.5\n",
    "x = np.linspace(0,z_max,5)\n",
    "z = x\n",
    "#optical depth\n",
    "x = a/2*(z_max**2 - (x**2))\n",
    "plt.figure(1,dpi=100)\n",
    "plt.xlabel(\"hieght\") ; plt.ylabel(\"optical depth\") \n",
    "plt.plot(z,x)\n",
    "plt.show()\n",
    "\n",
    "#print(\"Optical_Depth\",x)\n",
    "\n",
    "a = 0.5\n",
    "b = 0.5\n",
    "\n",
    "I_final = []\n",
    "print(x)"
   ]
  },
  {
   "cell_type": "markdown",
   "metadata": {},
   "source": [
    "# Source Function\n",
    "# $S = a + b$"
   ]
  },
  {
   "cell_type": "code",
   "execution_count": 228,
   "metadata": {},
   "outputs": [],
   "source": [
    "def integrand(x, a, b,t):\n",
    "    return (a+b)*np.exp(-(x - t))\n",
    "\n",
    "for i in range(0,len(x)):\n",
    "    t = x[i]\n",
    "    temp = quad(integrand, x[i] , np.amax(x), args=(a,b,t))\n",
    "    I_final.append(temp[0]) \n",
    "\n",
    "  "
   ]
  },
  {
   "cell_type": "code",
   "execution_count": 229,
   "metadata": {},
   "outputs": [
    {
     "name": "stdout",
     "output_type": "stream",
     "text": [
      "[0.0, 0.22119921692859515, 0.6321205588285578, 0.8946007754381355, 0.9816843611112659]\n"
     ]
    }
   ],
   "source": [
    "print(I_final)"
   ]
  },
  {
   "cell_type": "code",
   "execution_count": 230,
   "metadata": {},
   "outputs": [
    {
     "data": {
      "text/plain": [
       "[<matplotlib.lines.Line2D at 0x7f85111e0400>]"
      ]
     },
     "execution_count": 230,
     "metadata": {},
     "output_type": "execute_result"
    },
    {
     "data": {
      "image/png": "[encoded data removed]",
      "text/plain": [
       "<Figure size 432x288 with 1 Axes>"
      ]
     },
     "metadata": {
      "needs_background": "light"
     },
     "output_type": "display_data"
    }
   ],
   "source": [
    "plt.plot(x,I_final)"
   ]
  }
 ],
 "metadata": {
  "kernelspec": {
   "display_name": "Python 3",
   "language": "python",
   "name": "python3"
  },
  "language_info": {
   "codemirror_mode": {
    "name": "ipython",
    "version": 3
   },
   "file_extension": ".py",
   "mimetype": "text/x-python",
   "name": "python",
   "nbconvert_exporter": "python",
   "pygments_lexer": "ipython3",
   "version": "3.8.3"
  }
 },
 "nbformat": 4,
 "nbformat_minor": 4
}

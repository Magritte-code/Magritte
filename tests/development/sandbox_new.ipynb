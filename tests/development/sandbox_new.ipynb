{
 "cells": [
  {
   "cell_type": "code",
   "execution_count": 1,
   "metadata": {},
   "outputs": [],
   "source": [
    "import os\n",
    "import sys\n",
    "\n",
    "curdir = '/home/frederik/Dropbox/GitHub/Magritte/tests/development/'\n",
    "datdir = f'{curdir}../data/'\n",
    "moddir = f'{curdir}../models/'\n",
    "resdir = f'{curdir}../results/'\n",
    "\n",
    "import numpy             as np\n",
    "import scipy             as sp\n",
    "import healpy            as hp\n",
    "import matplotlib.pyplot as plt\n",
    "import magritte.tools    as tools\n",
    "import magritte.setup    as setup\n",
    "import magritte.mesher   as mesher\n",
    "import magritte.core     as magritte\n",
    "\n",
    "from scipy.interpolate import interp1d"
   ]
  },
  {
   "cell_type": "markdown",
   "metadata": {},
   "source": [
    "# Setup 1: VZ 1, 3D mesher\n",
    "---"
   ]
  },
  {
   "cell_type": "code",
   "execution_count": 2,
   "metadata": {},
   "outputs": [],
   "source": [
    "dimension = 3\n",
    "nrays     = 12*3**2\n",
    "nspecs    = 5\n",
    "nlspecs   = 1\n",
    "nquads    = 1\n",
    "\n",
    "r_in   = 1.0E13   # [m]\n",
    "r_out  = 7.8E16   # [m]\n",
    "nH2_in = 2.0E13   # [m^-3]\n",
    "temp   = 20.0     # [K]\n",
    "turb   = 150.00   # [.]\n",
    "\n",
    "a_or_b = 'a'\n",
    "\n",
    "get_X_mol = {\n",
    "    'a' : 1.0E-8,\n",
    "    'b' : 1.0E-6\n",
    "}\n",
    "\n",
    "scale_max = 0.11 * r_out\n",
    "scale_min = 0.11 * r_in\n",
    "scale_cte = 0.11 * r_in\n",
    "scale_fun = f'{scale_cte / r_in**2} * (x*x + y*y + z*z)'"
   ]
  },
  {
   "cell_type": "code",
   "execution_count": null,
   "metadata": {},
   "outputs": [
    {
     "name": "stdout",
     "output_type": "stream",
     "text": [
      "Info    : Running 'gmsh /home/frederik/Dropbox/GitHub/Magritte/tests/development/../models//vanZadelhoff_1_3D_mesher.geo -3 -saveall -o /home/frederik/Dropbox/GitHub/Magritte/tests/development/../models//vanZadelhoff_1_3D_mesher.vtk' [Gmsh 4.4.1, 1 node, max. 1 thread]\n",
      "Info    : Started on Wed Mar  3 09:00:43 2021\n",
      "Info    : Reading '/home/frederik/Dropbox/GitHub/Magritte/tests/development/../models//vanZadelhoff_1_3D_mesher.geo'...\n",
      "Info    : Done reading '/home/frederik/Dropbox/GitHub/Magritte/tests/development/../models//vanZadelhoff_1_3D_mesher.geo'\n",
      "Info    : Meshing 1D...\n",
      "Info    : Meshing curve 101 (Circle)\n",
      "Info    : Meshing curve 102 (Circle)\n",
      "Info    : Meshing curve 103 (Circle)\n",
      "Info    : Meshing curve 104 (Circle)\n",
      "Info    : Meshing curve 105 (Circle)\n",
      "Info    : Meshing curve 106 (Circle)\n",
      "Info    : Meshing curve 107 (Circle)\n",
      "Info    : Meshing curve 108 (Circle)\n",
      "Info    : Meshing curve 109 (Circle)\n",
      "Info    : Meshing curve 110 (Circle)\n",
      "Info    : Meshing curve 111 (Circle)\n",
      "Info    : Meshing curve 112 (Circle)\n",
      "Info    : Meshing curve 201 (Circle)\n",
      "Info    : Meshing curve 202 (Circle)\n",
      "Info    : Meshing curve 203 (Circle)\n",
      "Info    : Meshing curve 204 (Circle)\n",
      "Info    : Meshing curve 205 (Circle)\n",
      "Info    : Meshing curve 206 (Circle)\n",
      "Info    : Meshing curve 207 (Circle)\n",
      "Info    : Meshing curve 208 (Circle)\n",
      "Info    : Meshing curve 209 (Circle)\n",
      "Info    : Meshing curve 210 (Circle)\n",
      "Info    : Meshing curve 211 (Circle)\n",
      "Info    : Meshing curve 212 (Circle)\n",
      "Info    : Done meshing 1D (0.019968 s)\n",
      "Info    : Meshing 2D...\n",
      "Info    : Meshing surface 114 (Surface, MeshAdapt)\n",
      "Info    : Meshing surface 116 (Surface, MeshAdapt)\n",
      "Info    : Meshing surface 118 (Surface, MeshAdapt)\n",
      "Info    : Meshing surface 120 (Surface, MeshAdapt)\n",
      "Info    : Meshing surface 122 (Surface, MeshAdapt)\n",
      "Info    : Meshing surface 124 (Surface, MeshAdapt)\n",
      "Info    : Meshing surface 126 (Surface, MeshAdapt)\n",
      "Info    : Meshing surface 128 (Surface, MeshAdapt)\n",
      "Info    : Meshing surface 214 (Surface, MeshAdapt)\n",
      "Info    : Meshing surface 216 (Surface, MeshAdapt)\n",
      "Info    : Meshing surface 218 (Surface, MeshAdapt)\n",
      "Info    : Meshing surface 220 (Surface, MeshAdapt)\n",
      "Info    : Meshing surface 222 (Surface, MeshAdapt)\n",
      "Info    : Meshing surface 224 (Surface, MeshAdapt)\n",
      "Info    : Meshing surface 226 (Surface, MeshAdapt)\n",
      "Info    : Meshing surface 228 (Surface, MeshAdapt)\n",
      "Info    : Done meshing 2D (5.91295 s)\n",
      "Info    : Meshing 3D...\n",
      "Info    : 3D Meshing 1 volumes with 1 connected components\n",
      "Info    : Tetrahedrization of 2569 points in 0.092864 seconds\n",
      "Info    : Reconstructing mesh...\n",
      "Info    :  - Creating surface mesh\n",
      "Info    :  - Identifying boundary edges\n",
      "Info    :  - Recovering boundary\n",
      "Info    : Done reconstructing mesh (0.139772 s)\n",
      "Info    : Found region 130\n",
      "Info    : Found void region\n",
      "Info    : 0 points created - worst tet radius 31.2773 (points removed 0 0)\n",
      "Info    : 500 points created - worst tet radius 2.74647 (points removed 0 0)\n",
      "Info    : 1000 points created - worst tet radius 2.12718 (points removed 0 0)\n",
      "Info    : 1500 points created - worst tet radius 1.84477 (points removed 0 0)\n",
      "Info    : 2000 points created - worst tet radius 1.66458 (points removed 0 0)\n",
      "Info    : 2500 points created - worst tet radius 1.54865 (points removed 0 0)\n",
      "Info    : 3000 points created - worst tet radius 1.45903 (points removed 0 0)\n",
      "Info    : 3500 points created - worst tet radius 4.06583 (points removed 0 0)\n",
      "Info    : 4000 points created - worst tet radius 1.73874 (points removed 0 0)\n",
      "Info    : 4500 points created - worst tet radius 1.40186 (points removed 0 0)\n",
      "Info    : 5000 points created - worst tet radius 1.35412 (points removed 0 0)\n",
      "Info    : 5500 points created - worst tet radius 1.31041 (points removed 0 0)\n",
      "Info    : 6000 points created - worst tet radius 1.27316 (points removed 0 0)\n",
      "Info    : 6500 points created - worst tet radius 1.23868 (points removed 0 0)\n",
      "Info    : 7000 points created - worst tet radius 1.20459 (points removed 0 0)\n",
      "Info    : 7500 points created - worst tet radius 1.17549 (points removed 0 0)\n",
      "Info    : 8000 points created - worst tet radius 1.14912 (points removed 0 0)\n",
      "Info    : 8500 points created - worst tet radius 1.12497 (points removed 0 0)\n",
      "Info    : 9000 points created - worst tet radius 1.10354 (points removed 0 0)\n",
      "Info    : 9500 points created - worst tet radius 1.08362 (points removed 0 0)\n",
      "Info    : 10000 points created - worst tet radius 1.06482 (points removed 0 0)\n",
      "Info    : 10500 points created - worst tet radius 1.04856 (points removed 0 0)\n",
      "Info    : 11000 points created - worst tet radius 1.03113 (points removed 0 0)\n",
      "Info    : 11500 points created - worst tet radius 1.01565 (points removed 0 0)\n",
      "Info    : 12000 points created - worst tet radius 1.00062 (points removed 0 0)\n",
      "Info    : 3D point insertion terminated (14584 points created):\n",
      "Info    :  - 0 Delaunay cavities modified for star shapeness\n",
      "Info    :  - 0 points could not be inserted\n",
      "Info    :  - 84208 tetrahedra created in 0.851796 sec. (98859 tets/s)\n",
      "Info    : Done meshing 3D (1.21457 s)\n",
      "Info    : Optimizing 3D mesh...\n",
      "Info    : Optimizing volume 130\n",
      "Info    : Optimization starts (volume = 1.97874e+51) with worst = 0.00529178 / average = 0.778592:\n",
      "Info    : 0.00 < quality < 0.10 :       151 elements\n",
      "Info    : 0.10 < quality < 0.20 :       516 elements\n",
      "Info    : 0.20 < quality < 0.30 :       904 elements\n",
      "Info    : 0.30 < quality < 0.40 :      1527 elements\n",
      "Info    : 0.40 < quality < 0.50 :      2476 elements\n",
      "Info    : 0.50 < quality < 0.60 :      4222 elements\n",
      "Info    : 0.60 < quality < 0.70 :      8537 elements\n",
      "Info    : 0.70 < quality < 0.80 :     18887 elements\n",
      "Info    : 0.80 < quality < 0.90 :     30494 elements\n",
      "Info    : 0.90 < quality < 1.00 :     16494 elements\n",
      "Info    : 1541 edge swaps, 50 node relocations (volume = 1.97874e+51): worst = 0.198288 / average = 0.789759 (0.053707 s)\n",
      "Info    : 1551 edge swaps, 50 node relocations (volume = 1.97874e+51): worst = 0.26613 / average = 0.789856 (0.067943 s)\n",
      "Info    : No ill-shaped tets in the mesh :-)\n",
      "Info    : 0.00 < quality < 0.10 :         0 elements\n",
      "Info    : 0.10 < quality < 0.20 :         0 elements\n",
      "Info    : 0.20 < quality < 0.30 :         5 elements\n",
      "Info    : 0.30 < quality < 0.40 :      1523 elements\n",
      "Info    : 0.40 < quality < 0.50 :      2412 elements\n",
      "Info    : 0.50 < quality < 0.60 :      4094 elements\n",
      "Info    : 0.60 < quality < 0.70 :      8565 elements\n",
      "Info    : 0.70 < quality < 0.80 :     19224 elements\n",
      "Info    : 0.80 < quality < 0.90 :     30686 elements\n",
      "Info    : 0.90 < quality < 1.00 :     16339 elements\n",
      "Info    : Done optimizing 3D mesh (0.19232 s)\n",
      "Info    : 14586 vertices 88336 elements\n",
      "Info    : Writing '/home/frederik/Dropbox/GitHub/Magritte/tests/development/../models//vanZadelhoff_1_3D_mesher.vtk'...\n",
      "Info    : Done writing '/home/frederik/Dropbox/GitHub/Magritte/tests/development/../models//vanZadelhoff_1_3D_mesher.vtk'\n",
      "Info    : Stopped on Wed Mar  3 09:00:50 2021\n"
     ]
    }
   ],
   "source": [
    "meshName = f'{moddir}/vanZadelhoff_1_3D_mesher.vtk'\n",
    "\n",
    "mesher.create_mesh_from_function(\n",
    "    meshName       = meshName,\n",
    "    boundary       = mesher.boundary_sphere_in_sphere(\n",
    "                         radius_in  = r_in,\n",
    "                         radius_out = r_out),\n",
    "    scale_min      = scale_min,\n",
    "    scale_max      = scale_max,\n",
    "    scale_function = scale_fun )\n",
    "\n",
    "mesh = mesher.Mesh(meshName)"
   ]
  },
  {
   "cell_type": "code",
   "execution_count": null,
   "metadata": {},
   "outputs": [],
   "source": [
    "npoints = len(mesh.points)\n",
    "nbs     = [n for sublist in mesh.neighbors for n in sublist]\n",
    "n_nbs   = [len(sublist) for sublist in mesh.neighbors]\n",
    "\n",
    "rs = np.linalg.norm(mesh.points, axis=1)\n",
    "\n",
    "modelName = f'vanZadelhoff_1{a_or_b}_3D_mesher'\n",
    "modelFile = f'{moddir}{modelName}.hdf5'\n",
    "lamdaFile = f'{datdir}test.txt'\n",
    "\n",
    "X_mol = get_X_mol[a_or_b]"
   ]
  },
  {
   "cell_type": "code",
   "execution_count": 5,
   "metadata": {},
   "outputs": [],
   "source": [
    "def nH2 (r):\n",
    "    return nH2_in * np.power(r_in/r, 2.0)"
   ]
  },
  {
   "cell_type": "code",
   "execution_count": 6,
   "metadata": {},
   "outputs": [],
   "source": [
    "def nTT (r):\n",
    "    return X_mol * nH2(r)"
   ]
  },
  {
   "cell_type": "code",
   "execution_count": 7,
   "metadata": {},
   "outputs": [],
   "source": [
    "model = magritte.Model ()\n",
    "model.parameters.set_spherical_symmetry(False)\n",
    "model.parameters.set_pop_prec          (1.0e-6)\n",
    "model.parameters.set_model_name        (modelFile)\n",
    "model.parameters.set_dimension         (dimension)\n",
    "model.parameters.set_npoints           (npoints)\n",
    "model.parameters.set_nrays             (nrays)\n",
    "model.parameters.set_nspecs            (nspecs)\n",
    "model.parameters.set_nlspecs           (nlspecs)\n",
    "model.parameters.set_nquads            (nquads)\n",
    "\n",
    "model.geometry.points.position.set(mesh.points)\n",
    "model.geometry.points.velocity.set(np.zeros((npoints, 3)))\n",
    "\n",
    "model.geometry.points.multiscale.set_all_neighbors(n_nbs, nbs)\n",
    "\n",
    "model.chemistry.species.abundance = [[     0.0, nTT(r), nH2(r),  0.0,      1.0] for r in rs]\n",
    "model.chemistry.species.symbol    =  ['dummy0', 'test',   'H2', 'e-', 'dummy1']\n",
    "\n",
    "model.thermodynamics.temperature.gas  .set( temp                 * np.ones(npoints))\n",
    "model.thermodynamics.turbulence.vturb2.set((turb/magritte.CC)**2 * np.ones(npoints))\n",
    "\n",
    "model.parameters.set_nboundary(len(mesh.boundary))\n",
    "model.geometry.boundary.boundary2point.set(mesh.boundary)\n",
    "\n",
    "model = setup.set_boundary_condition_CMB  (model)\n",
    "model = setup.set_uniform_rays            (model)\n",
    "model = setup.set_linedata_from_LAMDA_file(model, lamdaFile)\n",
    "model = setup.set_quadrature              (model)\n",
    "\n",
    "model.write()"
   ]
  },
  {
   "cell_type": "markdown",
   "metadata": {
    "heading_collapsed": "true"
   },
   "source": [
    "# Setup 2: VZ 1, single ray\n",
    "---"
   ]
  },
  {
   "cell_type": "code",
   "execution_count": 330,
   "metadata": {},
   "outputs": [],
   "source": [
    "dimension = 1\n",
    "npoints   = 25\n",
    "nrays     = 2\n",
    "nspecs    = 5\n",
    "nlspecs   = 1\n",
    "nquads    = 1\n",
    "\n",
    "r_in   = 1.0E13   # [m]\n",
    "r_out  = 7.8E16   # [m]\n",
    "nH2_in = 2.0E13   # [m^-3]\n",
    "temp   = 2.0E+01  # [K]\n",
    "turb   = 1.5E+02  # [m/s]\n",
    "\n",
    "get_X_mol = {\n",
    "    'a' : 1.0E-8,\n",
    "    'b' : 1.0E-6\n",
    "}\n",
    "\n",
    "# rs = np.logspace (np.log10(r_in), np.log10(r_out), npoints, endpoint=True)\n",
    "rs = np.linspace (r_in, r_out, npoints, endpoint=True)\n",
    "\n",
    "\n",
    "def create_model (a_or_b):\n",
    "    \"\"\"\n",
    "    Create a model file for the density distribution benchmark, single ray.\n",
    "    \"\"\"\n",
    "\n",
    "    modelName = f'density_distribution_VZ{a_or_b}_single_ray'\n",
    "    modelFile = f'{moddir}{modelName}.hdf5'\n",
    "    lamdaFile = f'{datdir}test.txt'\n",
    "\n",
    "    X_mol = get_X_mol[a_or_b]\n",
    "\n",
    "    def nH2 (r):\n",
    "        return nH2_in * np.power(r_in/r, 2.0)\n",
    "\n",
    "    def nTT (r):\n",
    "        return X_mol  * nH2(r)\n",
    "\n",
    "    model = magritte.Model ()\n",
    "    model.parameters.set_spherical_symmetry(False)\n",
    "    model.parameters.set_model_name        (modelFile)\n",
    "    model.parameters.set_dimension         (dimension)\n",
    "    model.parameters.set_npoints           (npoints)\n",
    "    model.parameters.set_nrays             (nrays)\n",
    "    model.parameters.set_nspecs            (nspecs)\n",
    "    model.parameters.set_nlspecs           (nlspecs)\n",
    "    model.parameters.set_nquads            (nquads)\n",
    "\n",
    "    model.geometry.points.position.set([[r, 0, 0] for r in rs])\n",
    "    model.geometry.points.velocity.set([[0, 0, 0] for i in range(npoints)])\n",
    "\n",
    "    model.chemistry.species.abundance = [[     0.0, nTT(r), nH2(r),  0.0,      1.0] for r in rs]\n",
    "    model.chemistry.species.symbol    =  ['dummy0', 'test',   'H2', 'e-', 'dummy1']\n",
    "\n",
    "    model.thermodynamics.temperature.gas  .set( temp                 * np.ones(npoints))\n",
    "    model.thermodynamics.turbulence.vturb2.set((turb/magritte.CC)**2 * np.ones(npoints))\n",
    "\n",
    "    model = setup.set_Delaunay_neighbor_lists (model)\n",
    "    model = setup.set_Delaunay_boundary       (model)\n",
    "    model = setup.set_boundary_condition_CMB  (model)\n",
    "    model = setup.set_uniform_rays            (model)\n",
    "    model = setup.set_linedata_from_LAMDA_file(model, lamdaFile)\n",
    "    model = setup.set_quadrature              (model)\n",
    "\n",
    "    model.write()\n",
    "\n",
    "    return magritte.Model (modelFile)"
   ]
  },
  {
   "cell_type": "code",
   "execution_count": 331,
   "metadata": {},
   "outputs": [],
   "source": [
    "model = create_model ('a')"
   ]
  },
  {
   "cell_type": "markdown",
   "metadata": {},
   "source": [
    "# Setup 3: all constant, single ray\n",
    "---"
   ]
  },
  {
   "cell_type": "code",
   "execution_count": 2,
   "metadata": {},
   "outputs": [],
   "source": [
    "dimension = 1\n",
    "npoints   = 10\n",
    "nrays     = 2\n",
    "nspecs    = 5\n",
    "nlspecs   = 1\n",
    "nquads    = 1\n",
    "\n",
    "nH2  = 1.0E+12                 # [m^-3]\n",
    "nTT  = 1.0E+03                 # [m^-3]\n",
    "temp = 4.5E+00                 # [K]\n",
    "turb = 0.0E+00                 # [m/s]\n",
    "dx   = 1.0E+12                 # [m]\n",
    "dv   = 0.0E+00 / magritte.CC   # [fraction of speed of light]\n",
    "\n",
    "rs = np.array([i*dx for i in range(npoints)])\n",
    "\n",
    "def create_model ():\n",
    "    \"\"\"\n",
    "    Create a model file for the all_constant benchmark, single ray.\n",
    "    \"\"\"\n",
    "\n",
    "    modelName = f'all_constant_single_ray'\n",
    "    modelFile = f'{moddir}{modelName}.hdf5'\n",
    "    lamdaFile = f'{datdir}test.txt'\n",
    "\n",
    "    model = magritte.Model ()\n",
    "    model.parameters.set_spherical_symmetry(False)\n",
    "    model.parameters.set_model_name        (modelFile)\n",
    "    model.parameters.set_dimension         (dimension)\n",
    "    model.parameters.set_npoints           (npoints)\n",
    "    model.parameters.set_nrays             (nrays)\n",
    "    model.parameters.set_nspecs            (nspecs)\n",
    "    model.parameters.set_nlspecs           (nlspecs)\n",
    "    model.parameters.set_nquads            (nquads)\n",
    "\n",
    "    model.geometry.points.position.set([[i*dx, 0, 0] for i in range(npoints)])\n",
    "    model.geometry.points.velocity.set([[i*dv, 0, 0] for i in range(npoints)])\n",
    "\n",
    "    model.chemistry.species.abundance = [[     0.0,    nTT,  nH2,  0.0,      1.0] for _ in range(npoints)]\n",
    "    model.chemistry.species.symbol    =  ['dummy0', 'test', 'H2', 'e-', 'dummy1']\n",
    "\n",
    "    model.thermodynamics.temperature.gas  .set( temp                 * np.ones(npoints))\n",
    "    model.thermodynamics.turbulence.vturb2.set((turb/magritte.CC)**2 * np.ones(npoints))\n",
    "\n",
    "    model = setup.set_Delaunay_neighbor_lists (model)\n",
    "    model = setup.set_Delaunay_boundary       (model)\n",
    "    model = setup.set_boundary_condition_CMB  (model)\n",
    "    model = setup.set_uniform_rays            (model)\n",
    "    model = setup.set_linedata_from_LAMDA_file(model, lamdaFile)\n",
    "    model = setup.set_quadrature              (model)\n",
    "\n",
    "    model.write()\n",
    "\n",
    "    return magritte.Model(modelFile)"
   ]
  },
  {
   "cell_type": "code",
   "execution_count": 3,
   "metadata": {},
   "outputs": [],
   "source": [
    "model = create_model()"
   ]
  },
  {
   "cell_type": "code",
   "execution_count": 4,
   "metadata": {},
   "outputs": [],
   "source": [
    "ld = model.lines.lineProducingSpecies[0].linedata\n",
    "\n",
    "k = 0\n",
    "\n",
    "frq_ = ld.frequency[k]\n",
    "pop_ = tools.LTEpop         (ld, temp) * nTT\n",
    "phi_ = tools.profile        (ld, k, temp, (turb/magritte.CC)**2, frq_)\n",
    "eta_ = tools.lineEmissivity (ld, pop_)[k] * phi_\n",
    "chi_ = tools.lineOpacity    (ld, pop_)[k] * phi_\n",
    "src_ = tools.lineSource     (ld, pop_)[k]\n",
    "bdy_ = tools.I_CMB          (frq_)\n",
    "\n",
    "def I_0 (x):\n",
    "    return src_ + (bdy_-src_)*np.exp(-chi_*x)\n",
    "\n",
    "def I_1 (x):\n",
    "    return src_ + (bdy_-src_)*np.exp(-chi_*(x[-1]-x))\n",
    "\n",
    "def u_ (x):\n",
    "    return 0.5 * (I_0(x) + I_1(x))"
   ]
  },
  {
   "cell_type": "markdown",
   "metadata": {},
   "source": [
    "# Play!\n",
    "---"
   ]
  },
  {
   "cell_type": "code",
   "execution_count": 5,
   "metadata": {},
   "outputs": [],
   "source": [
    "# model = magritte.Model(modelFile)\n",
    "# model = create_model ('a')"
   ]
  },
  {
   "cell_type": "code",
   "execution_count": 6,
   "metadata": {},
   "outputs": [
    {
     "data": {
      "text/plain": [
       "0"
      ]
     },
     "execution_count": 6,
     "metadata": {},
     "output_type": "execute_result"
    }
   ],
   "source": [
    "model.compute_spectral_discretisation()\n",
    "model.compute_inverse_line_widths    ()\n",
    "model.compute_LTE_level_populations  ()\n",
    "\n",
    "model.set_eta_and_chi       ()\n",
    "model.set_boundary_condition()\n",
    "\n",
    "# eta                = np.array(model.eta,                dtype=np.float64)\n",
    "# chi                = np.array(model.chi,                dtype=np.float64)\n",
    "# boundary_condition = np.array(model.boundary_condition, dtype=np.float64)"
   ]
  },
  {
   "cell_type": "code",
   "execution_count": 26,
   "metadata": {},
   "outputs": [],
   "source": [
    "nboundary = 2 #model.parameters.nboundary()\n",
    "npoints   = model.parameters.npoints  ()\n",
    "nfreqs    = model.parameters.nfreqs   ()\n",
    "nrays     = 1 #model.parameters.nrays    ()"
   ]
  },
  {
   "cell_type": "code",
   "execution_count": 359,
   "metadata": {},
   "outputs": [],
   "source": [
    "eta                = np.array([[1.0] for _ in range(npoints  )])\n",
    "chi                = np.array([[1.0] for _ in range(npoints  )])\n",
    "boundary_condition = np.array([[0.0] for _ in range(nboundary)])\n",
    "boundary_normal    = np.array([[-1.0, 0.0, 0.0], [+1.0, 0.0, 0.0]])"
   ]
  },
  {
   "cell_type": "code",
   "execution_count": 28,
   "metadata": {},
   "outputs": [],
   "source": [
    "from numba         import njit, jit\n",
    "from scipy.spatial import cKDTree\n",
    "from scipy         import sparse"
   ]
  },
  {
   "cell_type": "code",
   "execution_count": 384,
   "metadata": {},
   "outputs": [],
   "source": [
    "# Rs = np.array(model.geometry.rays.direction, dtype=np.float64)\n",
    "Rs = np.array([[1,0,0],[-1,0,0]], dtype=np.float64)\n",
    "\n",
    "boundary2point = np.array(model.geometry.boundary.boundary2point, dtype=np.int64)\n",
    "point2boundary = np.array(model.geometry.boundary.point2boundary, dtype=np.int64)\n",
    "\n",
    "# Xs_all = np.array(model.geometry.points.position, dtype=np.float64)\n",
    "\n",
    "rs = [i for i in range(npoints)]\n",
    "Xs_all = np.array([[r,0,0] for r in rs], dtype=np.float64)\n",
    "Xs_bdy = Xs_all[boundary2point]"
   ]
  },
  {
   "cell_type": "code",
   "execution_count": 365,
   "metadata": {},
   "outputs": [
    {
     "data": {
      "text/plain": [
       "array([[-1.,  0.,  0.],\n",
       "       [ 1.,  0.,  0.]])"
      ]
     },
     "execution_count": 365,
     "metadata": {},
     "output_type": "execute_result"
    }
   ],
   "source": [
    "boundary_normal"
   ]
  },
  {
   "cell_type": "code",
   "execution_count": 366,
   "metadata": {},
   "outputs": [
    {
     "data": {
      "text/plain": [
       "array([[ 1.,  0.,  0.],\n",
       "       [-1.,  0.,  0.]])"
      ]
     },
     "execution_count": 366,
     "metadata": {},
     "output_type": "execute_result"
    }
   ],
   "source": [
    "Rs"
   ]
  },
  {
   "cell_type": "code",
   "execution_count": 376,
   "metadata": {},
   "outputs": [
    {
     "data": {
      "text/plain": [
       "array([[-1.,  1.],\n",
       "       [ 1., -1.]])"
      ]
     },
     "execution_count": 376,
     "metadata": {},
     "output_type": "execute_result"
    }
   ],
   "source": [
    "np.dot(boundary_normal, Rs.T)"
   ]
  },
  {
   "cell_type": "code",
   "execution_count": 372,
   "metadata": {},
   "outputs": [
    {
     "ename": "ValueError",
     "evalue": "shapes (2,3) and (2,3) not aligned: 3 (dim 1) != 2 (dim 0)",
     "output_type": "error",
     "traceback": [
      "\u001b[0;31m---------------------------------------------------------------------------\u001b[0m",
      "\u001b[0;31mValueError\u001b[0m                                Traceback (most recent call last)",
      "\u001b[0;32m<ipython-input-372-96f52d4df878>\u001b[0m in \u001b[0;36m<module>\u001b[0;34m\u001b[0m\n\u001b[0;32m----> 1\u001b[0;31m \u001b[0mnp\u001b[0m\u001b[0;34m.\u001b[0m\u001b[0mlinalg\u001b[0m\u001b[0;34m.\u001b[0m\u001b[0mmulti_dot\u001b[0m\u001b[0;34m(\u001b[0m\u001b[0;34m[\u001b[0m\u001b[0mboundary_normal\u001b[0m\u001b[0;34m,\u001b[0m \u001b[0mRs\u001b[0m\u001b[0;34m]\u001b[0m\u001b[0;34m)\u001b[0m\u001b[0;34m\u001b[0m\u001b[0;34m\u001b[0m\u001b[0m\n\u001b[0m",
      "\u001b[0;32m<__array_function__ internals>\u001b[0m in \u001b[0;36mmulti_dot\u001b[0;34m(*args, **kwargs)\u001b[0m\n",
      "\u001b[0;32m~/software/Anaconda3/installation/envs/magritte/lib/python3.6/site-packages/numpy/linalg/linalg.py\u001b[0m in \u001b[0;36mmulti_dot\u001b[0;34m(arrays, out)\u001b[0m\n\u001b[1;32m   2710\u001b[0m         \u001b[0;32mraise\u001b[0m \u001b[0mValueError\u001b[0m\u001b[0;34m(\u001b[0m\u001b[0;34m\"Expecting at least two arrays.\"\u001b[0m\u001b[0;34m)\u001b[0m\u001b[0;34m\u001b[0m\u001b[0;34m\u001b[0m\u001b[0m\n\u001b[1;32m   2711\u001b[0m     \u001b[0;32melif\u001b[0m \u001b[0mn\u001b[0m \u001b[0;34m==\u001b[0m \u001b[0;36m2\u001b[0m\u001b[0;34m:\u001b[0m\u001b[0;34m\u001b[0m\u001b[0;34m\u001b[0m\u001b[0m\n\u001b[0;32m-> 2712\u001b[0;31m         \u001b[0;32mreturn\u001b[0m \u001b[0mdot\u001b[0m\u001b[0;34m(\u001b[0m\u001b[0marrays\u001b[0m\u001b[0;34m[\u001b[0m\u001b[0;36m0\u001b[0m\u001b[0;34m]\u001b[0m\u001b[0;34m,\u001b[0m \u001b[0marrays\u001b[0m\u001b[0;34m[\u001b[0m\u001b[0;36m1\u001b[0m\u001b[0;34m]\u001b[0m\u001b[0;34m,\u001b[0m \u001b[0mout\u001b[0m\u001b[0;34m=\u001b[0m\u001b[0mout\u001b[0m\u001b[0;34m)\u001b[0m\u001b[0;34m\u001b[0m\u001b[0;34m\u001b[0m\u001b[0m\n\u001b[0m\u001b[1;32m   2713\u001b[0m \u001b[0;34m\u001b[0m\u001b[0m\n\u001b[1;32m   2714\u001b[0m     \u001b[0marrays\u001b[0m \u001b[0;34m=\u001b[0m \u001b[0;34m[\u001b[0m\u001b[0masanyarray\u001b[0m\u001b[0;34m(\u001b[0m\u001b[0ma\u001b[0m\u001b[0;34m)\u001b[0m \u001b[0;32mfor\u001b[0m \u001b[0ma\u001b[0m \u001b[0;32min\u001b[0m \u001b[0marrays\u001b[0m\u001b[0;34m]\u001b[0m\u001b[0;34m\u001b[0m\u001b[0;34m\u001b[0m\u001b[0m\n",
      "\u001b[0;32m<__array_function__ internals>\u001b[0m in \u001b[0;36mdot\u001b[0;34m(*args, **kwargs)\u001b[0m\n",
      "\u001b[0;31mValueError\u001b[0m: shapes (2,3) and (2,3) not aligned: 3 (dim 1) != 2 (dim 0)"
     ]
    }
   ],
   "source": [
    "\n",
    "for ib, bb in enumerate(boundary_normal):\n",
    "    for ir, rr in enumerate(Rs):\n",
    "        \n",
    "        if (np.dot(bb,rr) < 0.0)"
   ]
  },
  {
   "cell_type": "code",
   "execution_count": null,
   "metadata": {},
   "outputs": [],
   "source": []
  },
  {
   "cell_type": "code",
   "execution_count": 30,
   "metadata": {},
   "outputs": [],
   "source": [
    "neighbors       = np.array(model.geometry.points.neighbors,       dtype=np.int64)\n",
    "n_neighbors     = np.array(model.geometry.points.n_neighbors,     dtype=np.int64)\n",
    "cum_n_neighbors = np.array(model.geometry.points.cum_n_neighbors, dtype=np.int64)\n",
    "\n",
    "@njit\n",
    "def get_neighbors(i):\n",
    "    return neighbors[cum_n_neighbors[i]:\n",
    "                     cum_n_neighbors[i]+n_neighbors[i]]"
   ]
  },
  {
   "cell_type": "code",
   "execution_count": 148,
   "metadata": {},
   "outputs": [],
   "source": [
    "ncp = 3 #npoints #64\n",
    "dis_all, ind_all = cKDTree(Xs_all).query(Xs_all, ncp)\n",
    "dis_bdy, ind_bdy = cKDTree(Xs_bdy).query(Xs_bdy, ncp)\n",
    "\n",
    "dis_bdy = dis_bdy[:,:Xs_bdy.shape[0]]\n",
    "ind_bdy = ind_bdy[:,:Xs_bdy.shape[0]]\n",
    "\n",
    "\n",
    "dis_all = dis_all[:,:Xs_all.shape[0]]\n",
    "ind_all = ind_all[:,:Xs_all.shape[0]]\n",
    "\n",
    "\n",
    "# def symmetrize(indices):\n",
    "#     indices = indices.tolist()\n",
    "#     for p, nn in enumerate(indices):\n",
    "#         for n in nn:\n",
    "#             if not p in indices[n]:\n",
    "#                 indices[n].append(p)\n",
    "#     return indices\n",
    "\n",
    "# ind_all = symmetrize(ind_all)\n",
    "# ind_bdy = symmetrize(ind_bdy)"
   ]
  },
  {
   "cell_type": "code",
   "execution_count": 146,
   "metadata": {},
   "outputs": [
    {
     "data": {
      "text/plain": [
       "<matplotlib.image.AxesImage at 0x7f69a4404da0>"
      ]
     },
     "execution_count": 146,
     "metadata": {},
     "output_type": "execute_result"
    },
    {
     "data": {
      "image/png": "[encoded data removed]",
      "text/plain": [
       "<Figure size 432x288 with 1 Axes>"
      ]
     },
     "metadata": {
      "needs_background": "light"
     },
     "output_type": "display_data"
    }
   ],
   "source": [
    "mat = np.zeros((npoints, npoints))\n",
    "for i, ids in enumerate(ind_all):\n",
    "    for j in ids:\n",
    "        mat[i,j] = 1.0\n",
    "plt.imshow(mat)"
   ]
  },
  {
   "cell_type": "code",
   "execution_count": 83,
   "metadata": {},
   "outputs": [],
   "source": [
    "def get_datsize_S12():\n",
    "    # set index\n",
    "    index = 0\n",
    "    \n",
    "    for b1 in range(nboundary):\n",
    "        p1 = boundary2point[b1]\n",
    "\n",
    "        index += min([len(ind_all[p1]), npoints])\n",
    "        \n",
    "    for p1 in range(npoints):\n",
    "\n",
    "        index += min([len(ind_all[p1]), npoints])\n",
    "\n",
    "    return (index + 1) * (nrays * nfreqs)**2\n",
    "\n",
    "\n",
    "def get_datsize_S22():\n",
    "    # set index\n",
    "    index = 0\n",
    "    \n",
    "    for b1 in range(nboundary):\n",
    "        p1 = boundary2point[b1]\n",
    "\n",
    "        index +=      len(ind_bdy[b1])\n",
    "        index += min([len(ind_all[p1]), npoints])\n",
    "        index += min([len(ind_all[p1]), npoints])\n",
    "        \n",
    "    for p1 in range(npoints):\n",
    "\n",
    "        index += min([len(ind_all[p1]), npoints])\n",
    "\n",
    "    return (index + 1) * (nrays * nfreqs)**2"
   ]
  },
  {
   "cell_type": "code",
   "execution_count": 84,
   "metadata": {},
   "outputs": [],
   "source": [
    "datsize_S12 = get_datsize_S12()\n",
    "datsize_S22 = get_datsize_S22()\n",
    "\n",
    "vecsize = (npoints + nboundary) * nrays * nfreqs"
   ]
  },
  {
   "cell_type": "code",
   "execution_count": 85,
   "metadata": {},
   "outputs": [
    {
     "name": "stdout",
     "output_type": "stream",
     "text": [
      "121\n",
      "145\n"
     ]
    }
   ],
   "source": [
    "print(datsize_S12)\n",
    "print(datsize_S22)"
   ]
  },
  {
   "cell_type": "code",
   "execution_count": 86,
   "metadata": {},
   "outputs": [
    {
     "data": {
      "text/plain": [
       "[[0, 1], [1, 0]]"
      ]
     },
     "execution_count": 86,
     "metadata": {},
     "output_type": "execute_result"
    }
   ],
   "source": [
    "ind_bdy"
   ]
  },
  {
   "cell_type": "code",
   "execution_count": 87,
   "metadata": {},
   "outputs": [],
   "source": [
    "xs = Xs_all[:,:dimension]"
   ]
  },
  {
   "cell_type": "code",
   "execution_count": 88,
   "metadata": {},
   "outputs": [],
   "source": [
    "def get_hs_stats():\n",
    "    \"\"\"\n",
    "    Returns for each point the distance to its farthest neighbour,\n",
    "    and the average distance to all its neighbours.\n",
    "    \"\"\"\n",
    "    # Initialize a new array\n",
    "    hs_min  = np.zeros(npoints)\n",
    "    hs_mean = np.zeros(npoints)\n",
    "    # Loop over all points\n",
    "    for i in range(npoints):\n",
    "        # Get distances to neighbours.\n",
    "        dist = np.linalg.norm(xs[i] - xs[get_neighbors(i)], axis=1)\n",
    "        hs_min [i] = np.max (dist)\n",
    "        hs_mean[i] = np.mean(dist)\n",
    "    return hs_min, hs_mean"
   ]
  },
  {
   "cell_type": "code",
   "execution_count": 89,
   "metadata": {},
   "outputs": [],
   "source": [
    "hs_min, hs_mean = get_hs_stats()"
   ]
  },
  {
   "cell_type": "markdown",
   "metadata": {},
   "source": [
    "Computing the gradient based on nearest neighbor information based on Meyer, Eriksson, and Maggio (2001).\n",
    "For a point at position $\\textbf{x}_{i}$, and nearest neighbors $\\textbf{x}_{j}$, we can observe that\n",
    "\\begin{equation}\n",
    "f_{j} - f_{i} \\ = \\ \\left(\\textbf{x}_{j} - \\textbf{x}_{i} \\right) \\cdot \\nabla f_{i}\n",
    "\\end{equation}\n",
    "\n",
    "\\begin{equation}\n",
    "\\Delta f \\ = \\ \\Delta \\textbf{x} \\cdot \\nabla f\n",
    "\\end{equation}\n",
    "\n",
    "\\begin{equation}\n",
    "\\nabla f \\ = \\\n",
    "\\left( \\Delta \\textbf{x} ^{\\text{T}} \\Delta \\textbf{x} \\right)^{-1} \\ \\Delta \\textbf{x}^{\\text{T}} \\Delta f\n",
    "\\end{equation}"
   ]
  },
  {
   "cell_type": "code",
   "execution_count": 90,
   "metadata": {},
   "outputs": [],
   "source": [
    "def get_grad(ys, xs):\n",
    "    # Initialize a new array\n",
    "    grad_ys = np.zeros(xs.shape)\n",
    "    # In 1D use basic finite difference.    \n",
    "    if (xs.shape[1] == 1):\n",
    "        # Unpack xs\n",
    "        xs = xs[:,0]\n",
    "        # Finite difference\n",
    "        dy = np.diff(ys)\n",
    "        dx = np.diff(xs)\n",
    "        # Go to second order.\n",
    "        dy1 = np.concatenate((dy,      [dy[-1]]))\n",
    "        dy2 = np.concatenate(([dy[0]], dy      ))\n",
    "        dx1 = np.concatenate((dx,      [dx[-1]]))\n",
    "        dx2 = np.concatenate(([dx[0]], dx      ))\n",
    "        # Compose gradient.\n",
    "        grad_ys = (dy1 + dy2) / (dx1 + dx2)\n",
    "    # In 2D & 3D use Meyer, Eriksson, and Maggio (2001).\n",
    "    else:\n",
    "        # Loop over all points.\n",
    "        for i in range(npoints):\n",
    "            nb = get_neighbors(i)\n",
    "            dx = xs[i] - xs[nb]\n",
    "            dy = ys[i] - ys[nb]\n",
    "            grad_ys[i] = np.matmul(np.linalg.inv(np.matmul(dx.T, dx)), np.matmul(dx.T, dy))        \n",
    "    # return grad\n",
    "    return grad_ys"
   ]
  },
  {
   "cell_type": "code",
   "execution_count": 91,
   "metadata": {},
   "outputs": [],
   "source": [
    "# Define the (tabulated) scale function\n",
    "hs = 4.5*hs_min\n",
    "\n",
    "# Get the gradient of the log of the (tabulated) scale function \n",
    "dlog_hs = get_grad(np.log10(hs), xs)"
   ]
  },
  {
   "cell_type": "code",
   "execution_count": 92,
   "metadata": {},
   "outputs": [
    {
     "data": {
      "text/plain": [
       "[<matplotlib.lines.Line2D at 0x7f69bc08a320>]"
      ]
     },
     "execution_count": 92,
     "metadata": {},
     "output_type": "execute_result"
    },
    {
     "data": {
      "image/png": "[encoded data removed]",
      "text/plain": [
       "<Figure size 660x440 with 1 Axes>"
      ]
     },
     "metadata": {
      "needs_background": "light"
     },
     "output_type": "display_data"
    }
   ],
   "source": [
    "plt.figure(dpi=110)\n",
    "plt.plot(np.linalg.norm(Xs_all, axis=1), hs_min)\n",
    "plt.plot(np.linalg.norm(Xs_all, axis=1), hs)\n",
    "# plt.xscale('log')\n",
    "# plt.yscale('log')"
   ]
  },
  {
   "cell_type": "code",
   "execution_count": 93,
   "metadata": {},
   "outputs": [],
   "source": [
    "import jax\n",
    "import jax.numpy as jnp\n",
    "\n",
    "# @jit\n",
    "def RBF_Lucy(r):\n",
    "    \"\"\"\n",
    "    Lucy's smoothing kernel (Lucy 1977).\n",
    "    \"\"\"\n",
    "    # Ensure to take the absolute value\n",
    "    rr = jnp.abs(r)\n",
    "    # Compute Lucy's kernel\n",
    "    if (rr < 1.0):\n",
    "        return (1.0 + 3.0*rr) * (1 - rr)**3\n",
    "    else:\n",
    "        return 0.0\n",
    "    \n",
    "    \n",
    "@njit\n",
    "def RBF_hexp(r):\n",
    "    \"\"\"\n",
    "    Minus half exponential kernel.\n",
    "    \"\"\"\n",
    "    # Ensure to take the absolute value\n",
    "    rr = np.abs(r)\n",
    "    # Compute hexp kernel\n",
    "    return np.exp(-0.5*rr)\n",
    "\n",
    "@njit\n",
    "def grad_RBF_hexp(r):\n",
    "    return -0.50 * RBF_hexp(r)\n",
    "\n",
    "@njit\n",
    "def grad2_RBF_hexp(r):\n",
    "    return +0.25 * RBF_hexp(r)"
   ]
  },
  {
   "cell_type": "markdown",
   "metadata": {},
   "source": [
    "Consider a kernel, $k$, of the form\n",
    "\\begin{equation}\n",
    "k(x,y) \\ = \\ K \\left( \\frac{\\|x - y\\|^2}{h(x) \\, h(y)} \\right).\n",
    "\\end{equation}\n",
    "Then one can compute\n",
    "\\begin{equation}\n",
    "\\partial_{y}k(x,y) \\ = \\ -\\frac{1}{h(x) \\, h(y)} \\left(2\\left(x-y\\right) + \\left(x-y\\right)^{2} \\partial_{y} \\log h(y)\\right) K' \\left( \\frac{\\|x - y\\|^2}{h(x) \\, h(y)} \\right).\n",
    "\\end{equation}"
   ]
  },
  {
   "cell_type": "code",
   "execution_count": 94,
   "metadata": {},
   "outputs": [],
   "source": [
    "# Define kernel\n",
    "KK       = RBF_Lucy\n",
    "grad_KK  = jax.grad(KK)\n",
    "grad2_KK = jax.grad(grad_KK)"
   ]
  },
  {
   "cell_type": "code",
   "execution_count": 95,
   "metadata": {},
   "outputs": [],
   "source": [
    "# Define kernel\n",
    "KK       = RBF_hexp\n",
    "grad_KK  = grad_RBF_hexp\n",
    "grad2_KK = grad2_RBF_hexp"
   ]
  },
  {
   "cell_type": "code",
   "execution_count": 96,
   "metadata": {},
   "outputs": [
    {
     "name": "stdout",
     "output_type": "stream",
     "text": [
      "156 ns ± 4.96 ns per loop (mean ± std. dev. of 7 runs, 10000000 loops each)\n"
     ]
    }
   ],
   "source": [
    "%timeit KK(0.5)"
   ]
  },
  {
   "cell_type": "code",
   "execution_count": 97,
   "metadata": {},
   "outputs": [
    {
     "name": "stdout",
     "output_type": "stream",
     "text": [
      "157 ns ± 3.49 ns per loop (mean ± std. dev. of 7 runs, 10000000 loops each)\n"
     ]
    }
   ],
   "source": [
    "%timeit grad_KK(0.5) "
   ]
  },
  {
   "cell_type": "code",
   "execution_count": 98,
   "metadata": {},
   "outputs": [
    {
     "name": "stdout",
     "output_type": "stream",
     "text": [
      "153 ns ± 2.66 ns per loop (mean ± std. dev. of 7 runs, 10000000 loops each)\n"
     ]
    }
   ],
   "source": [
    "%timeit grad2_KK(0.5) "
   ]
  },
  {
   "cell_type": "code",
   "execution_count": 99,
   "metadata": {},
   "outputs": [
    {
     "data": {
      "text/plain": [
       "[<matplotlib.lines.Line2D at 0x7f69a46b6a20>]"
      ]
     },
     "execution_count": 99,
     "metadata": {},
     "output_type": "execute_result"
    },
    {
     "data": {
      "image/png": "[encoded data removed]",
      "text/plain": [
       "<Figure size 432x288 with 1 Axes>"
      ]
     },
     "metadata": {
      "needs_background": "light"
     },
     "output_type": "display_data"
    }
   ],
   "source": [
    "x = np.linspace(-2, 2, 250)\n",
    "\n",
    "Ks   = [      KK(r) for r in x]\n",
    "gKs  = [ grad_KK(r) for r in x]\n",
    "g2Ks = [grad2_KK(r) for r in x]\n",
    "\n",
    "plt.plot(x,   Ks)\n",
    "plt.plot(x,  gKs)\n",
    "plt.plot(x, g2Ks)"
   ]
  },
  {
   "cell_type": "code",
   "execution_count": 100,
   "metadata": {},
   "outputs": [
    {
     "data": {
      "text/plain": [
       "array([4.5, 4.5, 4.5, 4.5, 4.5, 4.5, 4.5, 4.5, 4.5, 4.5])"
      ]
     },
     "execution_count": 100,
     "metadata": {},
     "output_type": "execute_result"
    }
   ],
   "source": [
    "hs"
   ]
  },
  {
   "cell_type": "code",
   "execution_count": 101,
   "metadata": {},
   "outputs": [],
   "source": [
    "# @njit\n",
    "def kernel(i1, i2):\n",
    "    \"\"\"\n",
    "    k(x1,x2) = K(|x1-x2|^2 / h(x1)h(x2))\n",
    "    \"\"\"\n",
    "    d = xs[i1] - xs[i2]\n",
    "    r = np.dot(d,d) / (hs[i1] * hs[i2])\n",
    "    return KK(r)"
   ]
  },
  {
   "cell_type": "code",
   "execution_count": 102,
   "metadata": {},
   "outputs": [],
   "source": [
    "# @njit\n",
    "def d1_kernel(i1, i2):\n",
    "    \"\"\"\n",
    "    ∂k(x1,x2)/∂x2\n",
    "    \"\"\"\n",
    "    d = xs[i1] - xs[i2]\n",
    "    a = 1.0 / (hs[i1] * hs[i2])\n",
    "    r = np.dot(d,d) * a\n",
    "    return (-2.0*d*a - r*dlog_hs[i2]) * grad_KK(r)\n",
    "\n",
    "# @njit\n",
    "def d2_kernel(i1, i2):\n",
    "    \"\"\"\n",
    "    ∂k(x1,x2)/∂x1\n",
    "    \"\"\"\n",
    "    d = xs[i1] - xs[i2]\n",
    "    a = 1.0 / (hs[i1] * hs[i2])\n",
    "    r = np.dot(d,d) * a\n",
    "    return (+2.0*d*a - r*dlog_hs[i1]) * grad_KK(r)\n",
    "\n",
    "# @njit\n",
    "def d1d2_kernel(i1, i2):\n",
    "    \"\"\"\n",
    "    ∂∂k(x1,x2)/∂x1∂x2\n",
    "    \"\"\"\n",
    "    d = xs[i1] - xs[i2]\n",
    "    a = 1.0 / (hs[i1] * hs[i2])\n",
    "    r = np.dot(d,d) * a\n",
    "    term1 = - 2.0 * a * (1.0 + d*(dlog_hs[i2] - dlog_hs[i1])) \\\n",
    "            - r * dlog_hs[i1] * dlog_hs[i2] \n",
    "    term2 =  (+2.0*d*a - r*dlog_hs[i1]) \\\n",
    "            *(-2.0*d*a - r*dlog_hs[i2])\n",
    "    return term1*grad_KK(r) + term2*grad2_KK(r)"
   ]
  },
  {
   "cell_type": "code",
   "execution_count": 103,
   "metadata": {},
   "outputs": [],
   "source": [
    "# @njit\n",
    "def k (r1, p1, f1, r2, p2, f2):\n",
    "    return kernel(p1,p2)\n",
    "\n",
    "# @njit\n",
    "def L1_k(r1, p1, f1, r2, p2, f2):\n",
    "    \"\"\"\n",
    "    L1 k(x1,x2) = (1 + ∇1/χ1) k(x1,x2)\n",
    "    \"\"\"\n",
    "    return kernel(p1,p2) + d1_kernel(p1,p2) / chi[p1,f1]\n",
    "\n",
    "# @njit\n",
    "def L2_k(r1, p1, f1, r2, p2, f2):\n",
    "    \"\"\"\n",
    "    L2 k(x1,x2) = (1 + ∇2/χ2) k(x1,x2)\n",
    "    \"\"\"\n",
    "    return kernel(p1,p2) + d2_kernel(p1,p2) / chi[p2,f2]\n",
    "\n",
    "# @njit\n",
    "def L1L2_k(r1, p1, f1, r2, p2, f2):\n",
    "    \"\"\"\n",
    "    L1 L2 k(x1,x2) = (1 + ∇1/χ1) (1 + ∇2/χ2) k(x1,x2)\n",
    "    \"\"\"\n",
    "    return kernel(p1,p2) +   d2_kernel(p1,p2) / chi[p2,f2] \\\n",
    "                         +   d1_kernel(p1,p2) / chi[p1,f1] \\\n",
    "                         + d1d2_kernel(p1,p2) / chi[p1,f1] / chi[p2,f2]"
   ]
  },
  {
   "cell_type": "markdown",
   "metadata": {},
   "source": [
    "WRONG!!!!!!!!!!!!!!!!!!!\n",
    "\n",
    "\\begin{equation}\n",
    "\\left[\n",
    "\\begin{array}{rr}\n",
    "             f(x_{\\texttt{i}}) \\\\\n",
    "             f(x_{\\texttt{b}}) \\\\\n",
    "    \\text{L} f(x_{\\texttt{a}})\n",
    "\\end{array} \n",
    "\\right]\\\n",
    "\\ \\sim \\\n",
    "\\mathcal{N}\n",
    "\\left(\n",
    "    \\left[\n",
    "    \\begin{array}{rr}\n",
    "                 \\mu(x_{\\texttt{i}}) \\\\\n",
    "                 \\mu(x_{\\texttt{b}}) \\\\\n",
    "        \\text{L} \\mu(x_{\\texttt{a}})\n",
    "    \\end{array}\n",
    "    \\right],\n",
    "    \\left[\n",
    "    \\begin{array}{rr}\n",
    "                   k(x_{\\texttt{i}}, x_{\\texttt{i}}) &                k(x_{\\texttt{b}}, x_{\\texttt{i}}       ) &                \\text{L}^{(1)} k(x_{\\texttt{a}}, x_{\\texttt{i}}) \\\\\n",
    "                   k(x_{\\texttt{i}}, x_{\\texttt{b}}) &                k(x_{\\texttt{b}}, x_{\\texttt{b}}) &                \\text{L}^{(1)} k(x_{\\texttt{a}}, x_{\\texttt{b}}) \\\\\n",
    "    \\text{L}^{(2)} k(x_{\\texttt{i}}, x_{\\texttt{a}}) & \\text{L}^{(2)} k(x_{\\texttt{b}}, x_{\\texttt{a}}) & \\text{L}^{(2)} \\text{L}^{(1)} k(x_{\\texttt{a}}, x_{\\texttt{a}})\n",
    "    \\end{array}\n",
    "    \\right]\n",
    "\\right) .\n",
    "\\end{equation}"
   ]
  },
  {
   "cell_type": "markdown",
   "metadata": {},
   "source": [
    "\\begin{equation}\n",
    "\\Sigma\n",
    "\\ = \\\n",
    "    \\left[\n",
    "    \\begin{array}{r|rr}\n",
    "                   k(x_{\\texttt{i}}, x_{\\texttt{i}}) &                k(x_{\\texttt{b}}, x_{\\texttt{i}}       ) &                \\text{L}^{(1)} k(x_{\\texttt{a}}, x_{\\texttt{i}}) \\\\ \\hline\n",
    "                   k(x_{\\texttt{i}}, x_{\\texttt{b}}) &                k(x_{\\texttt{b}}, x_{\\texttt{b}}) &                \\text{L}^{(1)} k(x_{\\texttt{a}}, x_{\\texttt{b}}) \\\\\n",
    "    \\text{L}^{(2)} k(x_{\\texttt{i}}, x_{\\texttt{a}}) & \\text{L}^{(2)} k(x_{\\texttt{b}}, x_{\\texttt{a}}) & \\text{L}^{(2)} \\text{L}^{(1)} k(x_{\\texttt{a}}, x_{\\texttt{a}})\n",
    "    \\end{array}\n",
    "    \\right]\n",
    "\\end{equation}"
   ]
  },
  {
   "cell_type": "markdown",
   "metadata": {},
   "source": [
    "\\begin{equation}\n",
    "\\Sigma\n",
    "\\ = \\\n",
    "    \\left[\n",
    "    \\begin{array}{l|l}\n",
    "        \\Sigma_{11} & \\Sigma_{12} \\\\ \\hline\n",
    "        \\Sigma_{21} & \\Sigma_{22}\n",
    "    \\end{array}\n",
    "    \\right]\n",
    "\\end{equation}"
   ]
  },
  {
   "cell_type": "markdown",
   "metadata": {},
   "source": [
    "\\begin{equation}\n",
    "\\Sigma_{12}^{\\text{T}} = \\Sigma_{21}\n",
    "\\end{equation}"
   ]
  },
  {
   "cell_type": "markdown",
   "metadata": {},
   "source": [
    "\\begin{align}\n",
    "\\dim \\left(\\Sigma_{11}\\right) &= N_{\\texttt{a}} \\times N_{\\texttt{a}} \\\\\n",
    "\\dim \\left(\\Sigma_{12}\\right) &= N_{\\texttt{a}} \\times \\left(N_{\\texttt{a}} + N_{\\texttt{b}}\\right) \\\\\n",
    "\\dim \\left(\\Sigma_{22}\\right) &= \\left(N_{\\texttt{a}} + N_{\\texttt{b}}\\right) \\times \\left(N_{\\texttt{a}} + N_{\\texttt{b}}\\right) \n",
    "\\end{align}"
   ]
  },
  {
   "cell_type": "code",
   "execution_count": 104,
   "metadata": {},
   "outputs": [],
   "source": [
    "# @njit\n",
    "def get_Sigma12():\n",
    "    \"\"\"\n",
    "    Σ12 = [ k(xb,xi)  L(1) k(xa,xi) ]\n",
    "    \"\"\"\n",
    "    # initialize\n",
    "    data = np.zeros(datsize_S12, dtype=np.float64)\n",
    "    id_i = np.zeros(datsize_S12, dtype=np.int64)\n",
    "    id_j = np.zeros(datsize_S12, dtype=np.int64)\n",
    "    # set index\n",
    "    index = 0\n",
    "    \n",
    "    # For all boundary points\n",
    "    for b2 in range(nboundary):\n",
    "        p2 = boundary2point[b2]\n",
    "\n",
    "        # For all (general) points (close to the considered boundary point p1)\n",
    "        for i1 in range(len(ind_all[p2])):\n",
    "            p1 = ind_all[p2][i1]\n",
    "        \n",
    "            for f2 in range(nfreqs):\n",
    "                for f1 in range(nfreqs):\n",
    "            \n",
    "                    for r2 in range(nrays):\n",
    "                        for r1 in range(nrays):\n",
    "            \n",
    "                            kk = k(r1, p1, f1, r2, p2, f2)\n",
    "                            j1 = r1 + nrays*(f1 + nfreqs*p1) \n",
    "                            j2 = r2 + nrays*(f2 + nfreqs*b2)\n",
    "                \n",
    "                            data[index] = kk\n",
    "                            id_i[index] = j1 \n",
    "                            id_j[index] = j2\n",
    "                            index += 1    \n",
    "\n",
    "    # For all (general) points\n",
    "    for p2 in range(npoints):\n",
    "        i2 = p2 + nboundary\n",
    "\n",
    "        # For all (general) points (close to the considered general point p1)\n",
    "        for i1 in range(min([len(ind_all[p2]), npoints])):\n",
    "            p1 = ind_all[p2][i1]\n",
    "        \n",
    "            for f2 in range(nfreqs):\n",
    "                for f1 in range(nfreqs):\n",
    "                \n",
    "                    for r2 in range(nrays):\n",
    "                        for r1 in range(nrays):\n",
    "                            \n",
    "                            Lk = L1_k(r1, p1, f1, r2, p2, f2)\n",
    "                            j1 = r1 + nrays*(f1 + nfreqs*p1) \n",
    "                            j2 = r2 + nrays*(f2 + nfreqs*i2)\n",
    "                            \n",
    "                            data[index] = Lk\n",
    "                            id_i[index] = j1\n",
    "                            id_j[index] = j2\n",
    "                            index += 1\n",
    "\n",
    "    return (data, (id_i, id_j))\n",
    "\n",
    "\n",
    "# @njit\n",
    "def get_Sigma22():\n",
    "    \"\"\"\n",
    "    Σ22 = [      k(xb,xb)       L(1) k(xa,xb) ]\n",
    "          [ L(2) k(xb,xa)  L(2) L(1) k(xa,xa) ]\n",
    "    \"\"\"\n",
    "    # initialize\n",
    "    data = np.zeros(datsize_S22, dtype=np.float64)\n",
    "    id_i = np.zeros(datsize_S22, dtype=np.int64)\n",
    "    id_j = np.zeros(datsize_S22, dtype=np.int64)\n",
    "    # set index\n",
    "    index = 0\n",
    "    \n",
    "    # For all boundary points\n",
    "    for b1 in range(nboundary):\n",
    "        p1 = boundary2point[b1]\n",
    "\n",
    "        # For all boundary points (close to the considered boundary point p1)\n",
    "        for i2 in range(min([len(ind_bdy[b1]), nboundary])):\n",
    "            b2 = ind_bdy[b1][i2]\n",
    "            p2 = boundary2point[b2]\n",
    "            \n",
    "            for f1 in range(nfreqs):\n",
    "                for f2 in range(nfreqs):\n",
    "\n",
    "                    for r1 in range(nrays):\n",
    "                        for r2 in range(nrays):  \n",
    "                                \n",
    "                            kk = k(r1, p1, f1, r2, p2, f2)\n",
    "                            j1 = r1 + nrays*(f1 + nfreqs*b1) \n",
    "                            j2 = r2 + nrays*(f2 + nfreqs*b2)\n",
    "                \n",
    "                            data[index] = kk\n",
    "                            id_i[index] = j1 \n",
    "                            id_j[index] = j2\n",
    "                            index += 1\n",
    "                            \n",
    "#                             print ('kk  ', p1, r1, ';', p2, r2, ' ', kk)\n",
    " \n",
    "        # For all (general) points (close to the considered boundary point p1)\n",
    "        for i2 in range(min([len(ind_all[p1]), npoints])):\n",
    "            p2 = ind_all[p1][i2]\n",
    "                    \n",
    "            for f1 in range(nfreqs):\n",
    "                for f2 in range(nfreqs):\n",
    "\n",
    "                    for r1 in range(nrays):\n",
    "                        for r2 in range(nrays):  \n",
    "                    \n",
    "                            Lk = L1_k(r1, p1, f1, r2, p2, f2)\n",
    "                            j1 = r1 + nrays*(f1 + nfreqs* b1             ) \n",
    "                            j2 = r2 + nrays*(f2 + nfreqs*(p2 + nboundary))\n",
    "\n",
    "                            data[index] = Lk\n",
    "                            id_i[index] = j1\n",
    "                            id_j[index] = j2\n",
    "                            index += 1\n",
    "                            \n",
    "                            data[index] = Lk\n",
    "                            id_i[index] = j2\n",
    "                            id_j[index] = j1 \n",
    "                            index += 1\n",
    "                        \n",
    "#                             print ('Lk', Lk, p1, r1, p2, r2)\n",
    "                            \n",
    "    # For all (general) points\n",
    "    for p1 in range(npoints):\n",
    "        i1 = p1 + nboundary\n",
    "\n",
    "        # For all (general) points (close to the considered general point p1)\n",
    "        for i2 in range(min([len(ind_all[p1]), npoints])):\n",
    "            p2 = ind_all[p1][i2]\n",
    "        \n",
    "            for f1 in range(nfreqs):\n",
    "                for f2 in range(nfreqs):\n",
    "                \n",
    "                    for r1 in range(nrays):\n",
    "                        for r2 in range(nrays):\n",
    "                            \n",
    "                            L2 = L1L2_k(r1, p1, f1, r2, p2, f2)\n",
    "                            j1 = r1 + nrays*(f1 + nfreqs* i1             ) \n",
    "                            j2 = r2 + nrays*(f2 + nfreqs*(p2 + nboundary))\n",
    "                            \n",
    "                            data[index] = L2\n",
    "                            id_i[index] = j1\n",
    "                            id_j[index] = j2\n",
    "                            index += 1\n",
    "                            \n",
    "#                             print ('L2  ', p1, r1, ';', p2, r2, ' ', L2)\n",
    "                            \n",
    "    print(datsize_S22, index)\n",
    "    return (data, (id_i, id_j))\n",
    " \n",
    "\n",
    "# @njit\n",
    "def get_condition():\n",
    "    \"\"\"\n",
    "    condition = [ S    ]\n",
    "                [ Ibdy ]\n",
    "    \"\"\"\n",
    "    # initialize\n",
    "    condition = np.zeros(vecsize)\n",
    "\n",
    "    # For all boundary points\n",
    "    for i1 in range(nboundary):\n",
    "        p1 = boundary2point[i1]\n",
    "        \n",
    "        for f1 in range(nfreqs):\n",
    "            \n",
    "            for r1 in range(nrays):    \n",
    "                        \n",
    "                j1 = r1 + nrays*(f1 + nfreqs*i1)\n",
    "                \n",
    "#                 condition[j1] = boundary_condition[i1,f1]\n",
    "                condition[j1] = 0.0\n",
    "\n",
    "    # For all (general) points\n",
    "    for p1 in range(npoints):\n",
    "        i1 = p1 + nboundary\n",
    "        \n",
    "        for f1 in range(nfreqs):\n",
    "            for r1 in range(nrays):\n",
    "\n",
    "                j1 = r1 + nrays*(f1 + nfreqs* i1)\n",
    "                \n",
    "#                 condition[j1] = eta[p1,f1] / chi[p1,f1]\n",
    "                condition[j1] = 1.0\n",
    "\n",
    "    return condition"
   ]
  },
  {
   "cell_type": "code",
   "execution_count": 105,
   "metadata": {},
   "outputs": [],
   "source": [
    "def mylog(x):\n",
    "#     shape  = x.shape\n",
    "#     result = np.zeros(shape)\n",
    "#     x      = np.array(x     ).ravel()\n",
    "#     result = np.array(result).ravel()\n",
    "#     print(x.shape)\n",
    "#     print(result.shape)\n",
    "#     result[x> 0] =  np.log10( x[x>0])\n",
    "#     result[x< 0] = -np.log10(-x[x<0])\n",
    "#     result[x==0] =  np.NaN\n",
    "#     return result.reshape(shape)\n",
    "    return np.log10(np.abs(x))"
   ]
  },
  {
   "cell_type": "code",
   "execution_count": 106,
   "metadata": {},
   "outputs": [
    {
     "name": "stdout",
     "output_type": "stream",
     "text": [
      "145 144\n"
     ]
    }
   ],
   "source": [
    "SIGMA22 = get_Sigma22()\n",
    "Sigma22 = sparse.coo_matrix(SIGMA22, shape=(vecsize, vecsize)).tocsc()"
   ]
  },
  {
   "cell_type": "code",
   "execution_count": 107,
   "metadata": {},
   "outputs": [
    {
     "name": "stdout",
     "output_type": "stream",
     "text": [
      "[[1.         0.13533528 1.         0.92743266 0.81647814 0.68210964\n",
      "  0.54057407 0.40622047 0.28930124 0.19514083 0.12457146 0.07518627]\n",
      " [0.13533528 1.         0.1954843  0.28727704 0.40132736 0.53292334\n",
      "  0.67259455 0.80670284 0.91936517 0.99543225 1.0237893  1.        ]\n",
      " [1.         0.1954843  1.04938272 1.02141012 0.94185648 0.82270551\n",
      "  0.68062023 0.53315923 0.39532197 0.27732453 0.18395397 0.11528561]\n",
      " [0.92743266 0.28727704 1.02141012 1.04938272 1.02141012 0.94185648\n",
      "  0.82270551 0.68062023 0.53315923 0.39532197 0.27732453 0.18395397]\n",
      " [0.81647814 0.40132736 0.94185648 1.02141012 1.04938272 1.02141012\n",
      "  0.94185648 0.82270551 0.68062023 0.53315923 0.39532197 0.27732453]\n",
      " [0.68210964 0.53292334 0.82270551 0.94185648 1.02141012 1.04938272\n",
      "  1.02141012 0.94185648 0.82270551 0.68062023 0.53315923 0.39532197]\n",
      " [0.54057407 0.67259455 0.68062023 0.82270551 0.94185648 1.02141012\n",
      "  1.04938272 1.02141012 0.94185648 0.82270551 0.68062023 0.53315923]\n",
      " [0.40622047 0.80670284 0.53315923 0.68062023 0.82270551 0.94185648\n",
      "  1.02141012 1.04938272 1.02141012 0.94185648 0.82270551 0.68062023]\n",
      " [0.28930124 0.91936517 0.39532197 0.53315923 0.68062023 0.82270551\n",
      "  0.94185648 1.02141012 1.04938272 1.02141012 0.94185648 0.82270551]\n",
      " [0.19514083 0.99543225 0.27732453 0.39532197 0.53315923 0.68062023\n",
      "  0.82270551 0.94185648 1.02141012 1.04938272 1.02141012 0.94185648]\n",
      " [0.12457146 1.0237893  0.18395397 0.27732453 0.39532197 0.53315923\n",
      "  0.68062023 0.82270551 0.94185648 1.02141012 1.04938272 1.02141012]\n",
      " [0.07518627 1.         0.11528561 0.18395397 0.27732453 0.39532197\n",
      "  0.53315923 0.68062023 0.82270551 0.94185648 1.02141012 1.04938272]]\n"
     ]
    }
   ],
   "source": [
    "print(Sigma22.todense())"
   ]
  },
  {
   "cell_type": "code",
   "execution_count": 108,
   "metadata": {},
   "outputs": [
    {
     "data": {
      "text/plain": [
       "<matplotlib.collections.PathCollection at 0x7f69a463e400>"
      ]
     },
     "execution_count": 108,
     "metadata": {},
     "output_type": "execute_result"
    },
    {
     "data": {
      "image/png": "[encoded data removed]",
      "text/plain": [
       "<Figure size 720x480 with 1 Axes>"
      ]
     },
     "metadata": {
      "needs_background": "light"
     },
     "output_type": "display_data"
    }
   ],
   "source": [
    "vmin = -np.max(np.abs(Sigma22.todense()))\n",
    "vmax = +np.max(np.abs(Sigma22.todense()))\n",
    "plt.figure(dpi=120)\n",
    "plt.imshow(Sigma22.todense(), cmap='Spectral')\n",
    "plt.scatter(SIGMA22[1][1], SIGMA22[1][0], c='k', marker='.', s=1)"
   ]
  },
  {
   "cell_type": "code",
   "execution_count": 109,
   "metadata": {},
   "outputs": [
    {
     "data": {
      "text/plain": [
       "6.94163877893896e-55"
      ]
     },
     "execution_count": 109,
     "metadata": {},
     "output_type": "execute_result"
    }
   ],
   "source": [
    "np.linalg.det(Sigma22.todense())"
   ]
  },
  {
   "cell_type": "code",
   "execution_count": 110,
   "metadata": {},
   "outputs": [],
   "source": [
    "dimsize = npoints * nfreqs * nrays"
   ]
  },
  {
   "cell_type": "code",
   "execution_count": 111,
   "metadata": {},
   "outputs": [],
   "source": [
    "SIGMA12 = get_Sigma12()\n",
    "Sigma12 = sparse.coo_matrix(SIGMA12, shape=(dimsize, vecsize)).tocsc()"
   ]
  },
  {
   "cell_type": "code",
   "execution_count": 112,
   "metadata": {},
   "outputs": [
    {
     "name": "stdout",
     "output_type": "stream",
     "text": [
      "[[1.         0.13533528 1.         0.92743266 0.81647814 0.68210964\n",
      "  0.54057407 0.40622047 0.28930124 0.19514083 0.12457146 0.07518627]\n",
      " [0.97561098 0.20592425 1.0237893  1.         0.92743266 0.81647814\n",
      "  0.68210964 0.54057407 0.40622047 0.28930124 0.19514083 0.12457146]\n",
      " [0.90595519 0.2982341  0.99543225 1.0237893  1.         0.92743266\n",
      "  0.81647814 0.68210964 0.54057407 0.40622047 0.28930124 0.19514083]\n",
      " [0.8007374  0.41111229 0.91936517 0.99543225 1.0237893  1.\n",
      "  0.92743266 0.81647814 0.68210964 0.54057407 0.40622047 0.28930124]\n",
      " [0.67363846 0.53940751 0.80670284 0.91936517 0.99543225 1.0237893\n",
      "  1.         0.92743266 0.81647814 0.68210964 0.54057407 0.40622047]\n",
      " [0.53940751 0.67363846 0.67259455 0.80670284 0.91936517 0.99543225\n",
      "  1.0237893  1.         0.92743266 0.81647814 0.68210964 0.54057407]\n",
      " [0.41111229 0.8007374  0.53292334 0.67259455 0.80670284 0.91936517\n",
      "  0.99543225 1.0237893  1.         0.92743266 0.81647814 0.68210964]\n",
      " [0.2982341  0.90595519 0.40132736 0.53292334 0.67259455 0.80670284\n",
      "  0.91936517 0.99543225 1.0237893  1.         0.92743266 0.81647814]\n",
      " [0.20592425 0.97561098 0.28727704 0.40132736 0.53292334 0.67259455\n",
      "  0.80670284 0.91936517 0.99543225 1.0237893  1.         0.92743266]\n",
      " [0.13533528 1.         0.1954843  0.28727704 0.40132736 0.53292334\n",
      "  0.67259455 0.80670284 0.91936517 0.99543225 1.0237893  1.        ]]\n"
     ]
    }
   ],
   "source": [
    "print(Sigma12.todense())"
   ]
  },
  {
   "cell_type": "code",
   "execution_count": 113,
   "metadata": {},
   "outputs": [
    {
     "data": {
      "text/plain": [
       "<matplotlib.collections.PathCollection at 0x7f69a45e6e10>"
      ]
     },
     "execution_count": 113,
     "metadata": {},
     "output_type": "execute_result"
    },
    {
     "data": {
      "image/png": "[encoded data removed]",
      "text/plain": [
       "<Figure size 660x440 with 1 Axes>"
      ]
     },
     "metadata": {
      "needs_background": "light"
     },
     "output_type": "display_data"
    }
   ],
   "source": [
    "vmin = -np.max(np.abs(Sigma12.todense()))\n",
    "vmax = +np.max(np.abs(Sigma12.todense()))\n",
    "plt.figure(dpi=110)\n",
    "plt.imshow(Sigma12.todense(), cmap='Spectral', vmin=vmin, vmax=vmax)\n",
    "plt.scatter(SIGMA12[1][1], SIGMA12[1][0], c='k', marker='X', s=2)"
   ]
  },
  {
   "cell_type": "code",
   "execution_count": 114,
   "metadata": {},
   "outputs": [
    {
     "data": {
      "text/plain": [
       "array([0., 0., 1., 1., 1., 1., 1., 1., 1., 1., 1., 1.])"
      ]
     },
     "execution_count": 114,
     "metadata": {},
     "output_type": "execute_result"
    }
   ],
   "source": [
    "condition = get_condition()\n",
    "condition"
   ]
  },
  {
   "cell_type": "code",
   "execution_count": 115,
   "metadata": {},
   "outputs": [
    {
     "data": {
      "text/plain": [
       "<matplotlib.image.AxesImage at 0x7f69a453e978>"
      ]
     },
     "execution_count": 115,
     "metadata": {},
     "output_type": "execute_result"
    },
    {
     "data": {
      "image/png": "[encoded data removed]",
      "text/plain": [
       "<Figure size 660x440 with 1 Axes>"
      ]
     },
     "metadata": {
      "needs_background": "light"
     },
     "output_type": "display_data"
    }
   ],
   "source": [
    "plt.figure(dpi=110)\n",
    "plt.imshow([condition], cmap='Spectral')"
   ]
  },
  {
   "cell_type": "code",
   "execution_count": 116,
   "metadata": {},
   "outputs": [
    {
     "data": {
      "text/plain": [
       "array([-7.62939453e-06,  2.49954224e-01,  8.16247940e-01,  8.92555237e-01,\n",
       "        9.86633301e-01,  9.70359802e-01,  1.02189636e+00,  9.45053101e-01,\n",
       "        1.16831970e+00, -1.06811523e-04])"
      ]
     },
     "execution_count": 116,
     "metadata": {},
     "output_type": "execute_result"
    }
   ],
   "source": [
    "weight = sparse.linalg.spsolve(Sigma22, condition)\n",
    "result = Sigma12 * weight\n",
    "result"
   ]
  },
  {
   "cell_type": "code",
   "execution_count": 117,
   "metadata": {},
   "outputs": [
    {
     "data": {
      "text/plain": [
       "[<matplotlib.lines.Line2D at 0x7f69a451f0f0>]"
      ]
     },
     "execution_count": 117,
     "metadata": {},
     "output_type": "execute_result"
    },
    {
     "data": {
      "image/png": "[encoded data removed]",
      "text/plain": [
       "<Figure size 432x288 with 1 Axes>"
      ]
     },
     "metadata": {
      "needs_background": "light"
     },
     "output_type": "display_data"
    }
   ],
   "source": [
    "plt.plot(rs, result)"
   ]
  },
  {
   "cell_type": "code",
   "execution_count": 300,
   "metadata": {},
   "outputs": [
    {
     "data": {
      "text/plain": [
       "(3, 5)"
      ]
     },
     "execution_count": 300,
     "metadata": {},
     "output_type": "execute_result"
    }
   ],
   "source": [
    "expans.shape"
   ]
  },
  {
   "cell_type": "code",
   "execution_count": 299,
   "metadata": {},
   "outputs": [
    {
     "data": {
      "text/plain": [
       "(10,)"
      ]
     },
     "execution_count": 299,
     "metadata": {},
     "output_type": "execute_result"
    }
   ],
   "source": [
    "condition.shape"
   ]
  },
  {
   "cell_type": "code",
   "execution_count": 298,
   "metadata": {},
   "outputs": [
    {
     "data": {
      "text/plain": [
       "(5,)"
      ]
     },
     "execution_count": 298,
     "metadata": {},
     "output_type": "execute_result"
    }
   ],
   "source": [
    "weight.shape"
   ]
  },
  {
   "cell_type": "code",
   "execution_count": 306,
   "metadata": {},
   "outputs": [
    {
     "data": {
      "text/plain": [
       "(3,)"
      ]
     },
     "execution_count": 306,
     "metadata": {},
     "output_type": "execute_result"
    }
   ],
   "source": [
    "result.shape"
   ]
  },
  {
   "cell_type": "code",
   "execution_count": 19,
   "metadata": {},
   "outputs": [],
   "source": [
    "# ld = model.lines.lineProducingSpecies[0].linedata\n",
    "\n",
    "# k = 0\n",
    "\n",
    "# frq_ = ld.frequency[k]\n",
    "# pop_ = tools.LTEpop         (ld, temp) * get_X_mol['a'] * nH2_in\n",
    "# phi_ = tools.profile        (ld, k, temp, (turb/magritte.CC)**2, frq_)\n",
    "# eta_ = tools.lineEmissivity (ld, pop_)[k] * phi_\n",
    "# chi_ = tools.lineOpacity    (ld, pop_)[k] * phi_\n",
    "# src_ = tools.lineSource     (ld, pop_)[k]\n",
    "# bdy_ = tools.I_CMB          (frq_)\n",
    "\n",
    "# def I_0 (x):\n",
    "#     a = src_\n",
    "#     b = (bdy_-src_)\n",
    "#     c = np.exp(-chi_*r_in*(1.0    - r_in/x    ))\n",
    "#     return a+b*c\n",
    "\n",
    "# def I_1 (x):\n",
    "#     return src_ + (bdy_-src_)*np.exp(-chi_*r_in*(r_in/x - r_in/r_out))\n",
    "# \n",
    "# plt.plot(x, I_0(x))\n",
    "# plt.plot(x, I_1(x))"
   ]
  },
  {
   "cell_type": "code",
   "execution_count": 20,
   "metadata": {},
   "outputs": [
    {
     "data": {
      "text/plain": [
       "matrix([[ 1.00000000e+00,  3.86592014e-03,  2.23430646e-10,\n",
       "          2.23406359e-10,  4.97870288e-21,  6.44218562e-33],\n",
       "        [ 2.23363144e-10,  1.92874985e-22,  3.86592014e-03,\n",
       "          3.86592014e-03, -4.94854794e-21, -6.41614670e-33],\n",
       "        [ 6.75020443e-14,  6.75020443e-14,  1.11156676e-23,\n",
       "         -4.34301808e-25, -1.07819957e-31, -2.12161604e-43],\n",
       "        [ 4.32156257e-14, -4.26937107e-14,  1.11156676e-23,\n",
       "         -4.34301808e-25, -4.34301808e-25, -1.07819957e-31],\n",
       "        [ 4.97870288e-21, -4.94854794e-21,  1.11156676e-23,\n",
       "         -4.34301808e-25, -4.34301808e-25, -1.07819957e-31],\n",
       "        [ 6.44218562e-33, -6.41614670e-33,  1.11156676e-23,\n",
       "         -4.34301808e-25, -1.07819957e-31, -2.12161604e-43]])"
      ]
     },
     "execution_count": 20,
     "metadata": {},
     "output_type": "execute_result"
    }
   ],
   "source": [
    "covariance.todense()"
   ]
  },
  {
   "cell_type": "code",
   "execution_count": 21,
   "metadata": {},
   "outputs": [
    {
     "data": {
      "text/plain": [
       "array([ 2.51339642e-06, -1.58967363e-06, -5.83733916e-13,  2.14001536e-20])"
      ]
     },
     "execution_count": 21,
     "metadata": {},
     "output_type": "execute_result"
    }
   ],
   "source": [
    "result"
   ]
  },
  {
   "cell_type": "code",
   "execution_count": 22,
   "metadata": {},
   "outputs": [
    {
     "data": {
      "text/plain": [
       "[<matplotlib.lines.Line2D at 0x7f5c60dde390>]"
      ]
     },
     "execution_count": 22,
     "metadata": {},
     "output_type": "execute_result"
    },
    {
     "data": {
      "image/png": "[encoded data removed]",
      "text/plain": [
       "<Figure size 432x288 with 1 Axes>"
      ]
     },
     "metadata": {
      "needs_background": "light"
     },
     "output_type": "display_data"
    }
   ],
   "source": [
    "plt.plot(rs, result)\n",
    "# plt.plot(rs, I_0(rs))\n",
    "# plt.plot(rs, I_1(rs))\n",
    "# plt.xscale('log')\n",
    "# plt.yscale('log')"
   ]
  },
  {
   "cell_type": "markdown",
   "metadata": {},
   "source": [
    "# Test\n",
    "---"
   ]
  },
  {
   "cell_type": "code",
   "execution_count": 35,
   "metadata": {},
   "outputs": [
    {
     "data": {
      "text/plain": [
       "[0, 1, 2]"
      ]
     },
     "execution_count": 35,
     "metadata": {},
     "output_type": "execute_result"
    }
   ],
   "source": [
    "rs"
   ]
  },
  {
   "cell_type": "code",
   "execution_count": 93,
   "metadata": {},
   "outputs": [],
   "source": [
    "x = rs"
   ]
  },
  {
   "cell_type": "code",
   "execution_count": 94,
   "metadata": {},
   "outputs": [
    {
     "ename": "ValueError",
     "evalue": "x and y arrays must be equal in length along interpolation axis.",
     "output_type": "error",
     "traceback": [
      "\u001b[0;31m---------------------------------------------------------------------------\u001b[0m",
      "\u001b[0;31mValueError\u001b[0m                                Traceback (most recent call last)",
      "\u001b[0;32m<ipython-input-94-d59b5a4ce31b>\u001b[0m in \u001b[0;36m<module>\u001b[0;34m\u001b[0m\n\u001b[0;32m----> 1\u001b[0;31m \u001b[0mchi_int\u001b[0m \u001b[0;34m=\u001b[0m \u001b[0minterp1d\u001b[0m\u001b[0;34m(\u001b[0m\u001b[0mrs\u001b[0m\u001b[0;34m,\u001b[0m \u001b[0mchi\u001b[0m\u001b[0;34m)\u001b[0m\u001b[0;34m\u001b[0m\u001b[0;34m\u001b[0m\u001b[0m\n\u001b[0m",
      "\u001b[0;32m~/software/Anaconda3/installation/envs/magritte/lib/python3.7/site-packages/scipy/interpolate/interpolate.py\u001b[0m in \u001b[0;36m__init__\u001b[0;34m(self, x, y, kind, axis, copy, bounds_error, fill_value, assume_sorted)\u001b[0m\n\u001b[1;32m    429\u001b[0m                  assume_sorted=False):\n\u001b[1;32m    430\u001b[0m         \u001b[0;34m\"\"\" Initialize a 1D linear interpolation class.\"\"\"\u001b[0m\u001b[0;34m\u001b[0m\u001b[0;34m\u001b[0m\u001b[0m\n\u001b[0;32m--> 431\u001b[0;31m         \u001b[0m_Interpolator1D\u001b[0m\u001b[0;34m.\u001b[0m\u001b[0m__init__\u001b[0m\u001b[0;34m(\u001b[0m\u001b[0mself\u001b[0m\u001b[0;34m,\u001b[0m \u001b[0mx\u001b[0m\u001b[0;34m,\u001b[0m \u001b[0my\u001b[0m\u001b[0;34m,\u001b[0m \u001b[0maxis\u001b[0m\u001b[0;34m=\u001b[0m\u001b[0maxis\u001b[0m\u001b[0;34m)\u001b[0m\u001b[0;34m\u001b[0m\u001b[0;34m\u001b[0m\u001b[0m\n\u001b[0m\u001b[1;32m    432\u001b[0m \u001b[0;34m\u001b[0m\u001b[0m\n\u001b[1;32m    433\u001b[0m         \u001b[0mself\u001b[0m\u001b[0;34m.\u001b[0m\u001b[0mbounds_error\u001b[0m \u001b[0;34m=\u001b[0m \u001b[0mbounds_error\u001b[0m  \u001b[0;31m# used by fill_value setter\u001b[0m\u001b[0;34m\u001b[0m\u001b[0;34m\u001b[0m\u001b[0m\n",
      "\u001b[0;32m~/software/Anaconda3/installation/envs/magritte/lib/python3.7/site-packages/scipy/interpolate/polyint.py\u001b[0m in \u001b[0;36m__init__\u001b[0;34m(self, xi, yi, axis)\u001b[0m\n\u001b[1;32m     58\u001b[0m         \u001b[0mself\u001b[0m\u001b[0;34m.\u001b[0m\u001b[0mdtype\u001b[0m \u001b[0;34m=\u001b[0m \u001b[0;32mNone\u001b[0m\u001b[0;34m\u001b[0m\u001b[0;34m\u001b[0m\u001b[0m\n\u001b[1;32m     59\u001b[0m         \u001b[0;32mif\u001b[0m \u001b[0myi\u001b[0m \u001b[0;32mis\u001b[0m \u001b[0;32mnot\u001b[0m \u001b[0;32mNone\u001b[0m\u001b[0;34m:\u001b[0m\u001b[0;34m\u001b[0m\u001b[0;34m\u001b[0m\u001b[0m\n\u001b[0;32m---> 60\u001b[0;31m             \u001b[0mself\u001b[0m\u001b[0;34m.\u001b[0m\u001b[0m_set_yi\u001b[0m\u001b[0;34m(\u001b[0m\u001b[0myi\u001b[0m\u001b[0;34m,\u001b[0m \u001b[0mxi\u001b[0m\u001b[0;34m=\u001b[0m\u001b[0mxi\u001b[0m\u001b[0;34m,\u001b[0m \u001b[0maxis\u001b[0m\u001b[0;34m=\u001b[0m\u001b[0maxis\u001b[0m\u001b[0;34m)\u001b[0m\u001b[0;34m\u001b[0m\u001b[0;34m\u001b[0m\u001b[0m\n\u001b[0m\u001b[1;32m     61\u001b[0m \u001b[0;34m\u001b[0m\u001b[0m\n\u001b[1;32m     62\u001b[0m     \u001b[0;32mdef\u001b[0m \u001b[0m__call__\u001b[0m\u001b[0;34m(\u001b[0m\u001b[0mself\u001b[0m\u001b[0;34m,\u001b[0m \u001b[0mx\u001b[0m\u001b[0;34m)\u001b[0m\u001b[0;34m:\u001b[0m\u001b[0;34m\u001b[0m\u001b[0;34m\u001b[0m\u001b[0m\n",
      "\u001b[0;32m~/software/Anaconda3/installation/envs/magritte/lib/python3.7/site-packages/scipy/interpolate/polyint.py\u001b[0m in \u001b[0;36m_set_yi\u001b[0;34m(self, yi, xi, axis)\u001b[0m\n\u001b[1;32m    123\u001b[0m             \u001b[0mshape\u001b[0m \u001b[0;34m=\u001b[0m \u001b[0;34m(\u001b[0m\u001b[0;36m1\u001b[0m\u001b[0;34m,\u001b[0m\u001b[0;34m)\u001b[0m\u001b[0;34m\u001b[0m\u001b[0;34m\u001b[0m\u001b[0m\n\u001b[1;32m    124\u001b[0m         \u001b[0;32mif\u001b[0m \u001b[0mxi\u001b[0m \u001b[0;32mis\u001b[0m \u001b[0;32mnot\u001b[0m \u001b[0;32mNone\u001b[0m \u001b[0;32mand\u001b[0m \u001b[0mshape\u001b[0m\u001b[0;34m[\u001b[0m\u001b[0maxis\u001b[0m\u001b[0;34m]\u001b[0m \u001b[0;34m!=\u001b[0m \u001b[0mlen\u001b[0m\u001b[0;34m(\u001b[0m\u001b[0mxi\u001b[0m\u001b[0;34m)\u001b[0m\u001b[0;34m:\u001b[0m\u001b[0;34m\u001b[0m\u001b[0;34m\u001b[0m\u001b[0m\n\u001b[0;32m--> 125\u001b[0;31m             raise ValueError(\"x and y arrays must be equal in length along \"\n\u001b[0m\u001b[1;32m    126\u001b[0m                              \"interpolation axis.\")\n\u001b[1;32m    127\u001b[0m \u001b[0;34m\u001b[0m\u001b[0m\n",
      "\u001b[0;31mValueError\u001b[0m: x and y arrays must be equal in length along interpolation axis."
     ]
    }
   ],
   "source": [
    "chi_int = interp1d(rs, chi)"
   ]
  },
  {
   "cell_type": "code",
   "execution_count": 95,
   "metadata": {},
   "outputs": [
    {
     "ename": "NameError",
     "evalue": "name 'chi_int' is not defined",
     "output_type": "error",
     "traceback": [
      "\u001b[0;31m---------------------------------------------------------------------------\u001b[0m",
      "\u001b[0;31mNameError\u001b[0m                                 Traceback (most recent call last)",
      "\u001b[0;32m<ipython-input-95-b37af400679e>\u001b[0m in \u001b[0;36m<module>\u001b[0;34m\u001b[0m\n\u001b[0;32m----> 1\u001b[0;31m \u001b[0mplt\u001b[0m\u001b[0;34m.\u001b[0m\u001b[0mplot\u001b[0m\u001b[0;34m(\u001b[0m\u001b[0mx\u001b[0m\u001b[0;34m,\u001b[0m \u001b[0mchi_int\u001b[0m\u001b[0;34m(\u001b[0m\u001b[0mx\u001b[0m\u001b[0;34m)\u001b[0m\u001b[0;34m)\u001b[0m\u001b[0;34m\u001b[0m\u001b[0;34m\u001b[0m\u001b[0m\n\u001b[0m\u001b[1;32m      2\u001b[0m \u001b[0;31m# plt.scatter(x, eta)\u001b[0m\u001b[0;34m\u001b[0m\u001b[0;34m\u001b[0m\u001b[0;34m\u001b[0m\u001b[0m\n\u001b[1;32m      3\u001b[0m \u001b[0mplt\u001b[0m\u001b[0;34m.\u001b[0m\u001b[0mscatter\u001b[0m\u001b[0;34m(\u001b[0m\u001b[0mx\u001b[0m\u001b[0;34m,\u001b[0m \u001b[0mchi\u001b[0m\u001b[0;34m)\u001b[0m\u001b[0;34m\u001b[0m\u001b[0;34m\u001b[0m\u001b[0m\n\u001b[1;32m      4\u001b[0m \u001b[0mplt\u001b[0m\u001b[0;34m.\u001b[0m\u001b[0myscale\u001b[0m\u001b[0;34m(\u001b[0m\u001b[0;34m'log'\u001b[0m\u001b[0;34m)\u001b[0m\u001b[0;34m\u001b[0m\u001b[0;34m\u001b[0m\u001b[0m\n",
      "\u001b[0;31mNameError\u001b[0m: name 'chi_int' is not defined"
     ]
    }
   ],
   "source": [
    "plt.plot(x, chi_int(x))\n",
    "# plt.scatter(x, eta)\n",
    "plt.scatter(x, chi)\n",
    "plt.yscale('log')"
   ]
  },
  {
   "cell_type": "code",
   "execution_count": 26,
   "metadata": {},
   "outputs": [],
   "source": [
    "alpha = 1.0\n",
    "\n",
    "def kernel(x, y, h):\n",
    "    result = alpha**2 * np.exp(-0.5 * (x-y)**2 / h**2)\n",
    "    result[result<1.0e-6] = 0.0 \n",
    "    return result\n",
    "\n",
    "def Lx_kernel(x, y, h):\n",
    "    g = (x-y)/(chi_int(x)*h**2)\n",
    "    return (1.0 - g) * kernel(x, y, h)\n",
    "\n",
    "def Ly_kernel(x, y, h):\n",
    "    g = (x-y)/(chi_int(y)*h**2)\n",
    "    return (1.0 + g) * kernel(x, y, h)\n",
    "\n",
    "def L2_kernel(x, y, h):\n",
    "    gx = (x-y)/(chi_int(x)*h**2)\n",
    "    gy = (x-y)/(chi_int(y)*h**2)\n",
    "    return ((1.0+gx)*(1.0-gy) + 1.0/(chi_int(x)*chi_int(y)*h**2)) * kernel(x, y, h)"
   ]
  },
  {
   "cell_type": "code",
   "execution_count": 27,
   "metadata": {},
   "outputs": [],
   "source": [
    "def corr(x, y, h):\n",
    "    x, y = np.meshgrid(x, y)\n",
    "    return kernel(x, y, h).T\n",
    "\n",
    "def Lx_corr(x, y, h):\n",
    "    x, y = np.meshgrid(x, y)\n",
    "    return Lx_kernel(x, y, h).T\n",
    "\n",
    "def Ly_corr(x, y, h):\n",
    "    x, y = np.meshgrid(x, y)\n",
    "    return Ly_kernel(x, y, h).T\n",
    "\n",
    "def L2_corr(x, y, h):\n",
    "    x, y = np.meshgrid(x, y)\n",
    "    return L2_kernel(x, y, h).T"
   ]
  },
  {
   "cell_type": "code",
   "execution_count": 38,
   "metadata": {},
   "outputs": [],
   "source": [
    "alpha = 1.0\n",
    "\n",
    "def kernel(x, y, h):\n",
    "    return alpha**2 * np.exp(-0.5 * (x-y)**2 / h**2)\n",
    "\n",
    "\n",
    "def Lx_dd(x, y, h):\n",
    "    \"\"\"\n",
    "    d_x k(x,y)\n",
    "    \"\"\"\n",
    "    return -(x-y)/h**2 * kernel(x, y, h)\n",
    "\n",
    "def Lx_od(x, y, h):\n",
    "    \"\"\"\n",
    "    chi(x) k(x,y)\n",
    "    \"\"\"\n",
    "    return chi_int(x) * kernel(x, y, h)\n",
    "\n",
    "\n",
    "def Ly_dd(x, y, h):\n",
    "    \"\"\"\n",
    "    d_y k(x,y)\n",
    "    \"\"\"\n",
    "    return  (x-y)/h**2 * kernel(x, y, h)\n",
    "\n",
    "def Ly_od(x, y, h):\n",
    "    \"\"\"\n",
    "    chi(y) k(x,y)\n",
    "    \"\"\"\n",
    "    return chi_int(y) * kernel(x, y, h)\n",
    "\n",
    "\n",
    "def L2_dd(x, y, h):\n",
    "    \"\"\"\n",
    "    (d_x d_y + chi(x) chi(y)) k(x,y)\n",
    "    \"\"\"\n",
    "    return (chi_int(x)*chi_int(y)*h**4 + h**2 - (x-y)**2) / h**4 * kernel(x, y, h)\n",
    "\n",
    "def L2_od(x, y, h):\n",
    "    \"\"\"\n",
    "    (chi(x) d_y + chi(y) d_x) k(x,y)\n",
    "    \"\"\"\n",
    "    return (chi_int(x)-chi_int(y))*(x-y) / h**2 * kernel(x, y, h)"
   ]
  },
  {
   "cell_type": "code",
   "execution_count": 81,
   "metadata": {},
   "outputs": [],
   "source": [
    "def corr(x, y, h):\n",
    "    x, y = np.meshgrid(x, y)\n",
    "    return kernel(x, y, h).T\n",
    "\n",
    "def Lx_dd_corr(x, y, h):\n",
    "    x, y = np.meshgrid(x, y)\n",
    "    return Lx_dd(x, y, h).T\n",
    "\n",
    "def Lx_od_corr(x, y, h):\n",
    "    x, y = np.meshgrid(x, y)\n",
    "    return Lx_od(x, y, h).T\n",
    "\n",
    "def Ly_dd_corr(x, y, h):\n",
    "    x, y = np.meshgrid(x, y)\n",
    "    return Ly_dd(x, y, h).T\n",
    "\n",
    "def Ly_od_corr(x, y, h):\n",
    "    x, y = np.meshgrid(x, y)\n",
    "    return Ly_od(x, y, h).T\n",
    "\n",
    "def L2_dd_corr(x, y, h):\n",
    "    x, y = np.meshgrid(x, y)\n",
    "    return L2_dd(x, y, h).T\n",
    "\n",
    "def L2_od_corr(x, y, h):\n",
    "    x, y = np.meshgrid(x, y)\n",
    "    return L2_od(x, y, h).T"
   ]
  },
  {
   "cell_type": "code",
   "execution_count": 28,
   "metadata": {},
   "outputs": [],
   "source": [
    "def diff(x, y):\n",
    "    # Compute derivative\n",
    "    dy = np.diff(y)\n",
    "    dx = np.diff(x)\n",
    "    # Compute corresponding x\n",
    "    x = 0.5*(x[:-1] + x[1:])\n",
    "    # Return result\n",
    "    return (x, dy/dx)\n",
    "\n",
    "def L_operator(x, y):\n",
    "    x_d, y_d = diff(x, y)\n",
    "    y_y = 0.5*(y[:-1] + y[1:])\n",
    "    return (x_d, chi_int(x_d)*y_y + y_d)"
   ]
  },
  {
   "cell_type": "code",
   "execution_count": 29,
   "metadata": {},
   "outputs": [],
   "source": [
    "import ipywidgets as widgets\n",
    "\n",
    "x_min = np.min(x)\n",
    "x_max = np.max(x)"
   ]
  },
  {
   "cell_type": "code",
   "execution_count": 30,
   "metadata": {},
   "outputs": [
    {
     "data": {
      "text/plain": [
       "array([3.77281369e-18, 3.77281369e-18])"
      ]
     },
     "execution_count": 30,
     "metadata": {},
     "output_type": "execute_result"
    }
   ],
   "source": [
    "boundary_condition"
   ]
  },
  {
   "cell_type": "code",
   "execution_count": 31,
   "metadata": {},
   "outputs": [
    {
     "data": {
      "text/plain": [
       "array([0.e+00, 1.e+12, 2.e+12, 3.e+12, 0.e+00, 1.e+12, 2.e+12, 3.e+12])"
      ]
     },
     "execution_count": 31,
     "metadata": {},
     "output_type": "execute_result"
    }
   ],
   "source": [
    " np.concatenate((rs,  rs               )) "
   ]
  },
  {
   "cell_type": "code",
   "execution_count": 32,
   "metadata": {},
   "outputs": [
    {
     "data": {
      "application/vnd.jupyter.widget-view+json": {
       "model_id": "21f0f78aa44846d8814be14bbf589747",
       "version_major": 2,
       "version_minor": 0
      },
      "text/plain": [
       "interactive(children=(FloatSlider(value=1000000000000.0, description='h', max=3000000000000.0, step=1000000000…"
      ]
     },
     "metadata": {},
     "output_type": "display_data"
    },
    {
     "data": {
      "text/plain": [
       "<function __main__.plot(h)>"
      ]
     },
     "execution_count": 32,
     "metadata": {},
     "output_type": "execute_result"
    }
   ],
   "source": [
    "y_p  = np.array([rs[0]])\n",
    "fy_p = np.array([boundary_condition[0]])\n",
    "\n",
    "y_d  = rs #np.linspace(0.0, 2.0, num=5)\n",
    "fy_d = eta/chi #np.array([eta(d) for d in y_d])\n",
    "\n",
    "\n",
    "def plot(h):\n",
    "    \n",
    "#     x = np.array([0.1])\n",
    "    \n",
    "    sigma_00 = corr(x, x, h)\n",
    "\n",
    "    sigma_10 = np.block([   corr(x, y_p, h),\n",
    "                         Ly_corr(x, y_d, h) ])\n",
    "    \n",
    "    sigma_01 = np.block([   corr(y_p, x, h).T,\n",
    "                         Lx_corr(y_d, x, h).T ]).T\n",
    "\n",
    "#     print(   corr(y_p, y_p, h).shape)\n",
    "#     print(Lx_corr(y_d, y_p, h).T.shape)\n",
    "#     print(Ly_corr(y_p, y_d, h).shape)\n",
    "#     print(L2_corr(y_d, y_d, h).shape)\n",
    "    \n",
    "    sigma_11 = np.block([[   corr(y_p, y_p, h), Lx_corr(y_d, y_p, h).T],\n",
    "                         [Ly_corr(y_p, y_d, h).T, L2_corr(y_d, y_d, h)  ] ])\n",
    "\n",
    "#     print(sigma_00)\n",
    "#     print(sigma_01)\n",
    "    print('sigma_10 ', sigma_10.shape)\n",
    "    print('sigma_11 ', sigma_11.shape)\n",
    "    \n",
    "    fy = np.block([fy_p, fy_d])\n",
    "\n",
    "    print(np.min(sigma_11), np.max(sigma_11), np.linalg.det(sigma_11))\n",
    "    inv = np.linalg.inv(sigma_11)\n",
    "    print(np.min(inv     ), np.max(inv     ))\n",
    "    \n",
    "#     print(sigma_11)\n",
    "\n",
    "    \n",
    "    mean =            np.matmul(np.matmul(sigma_10, np.linalg.inv(sigma_11)), fy)\n",
    "    cov  = sigma_00 - np.matmul(np.matmul(sigma_10, np.linalg.inv(sigma_11)), sigma_01)\n",
    "\n",
    "#     print(cov)\n",
    "    \n",
    "    xf = np.concatenate((-np.flip(x),x))\n",
    "\n",
    "    fig = plt.figure(constrained_layout=False, figsize=(5,6), dpi=175)\n",
    "    gsp = fig.add_gridspec(8, 2, wspace=0.5, hspace=2.1)\n",
    "    ax1 = fig.add_subplot(gsp[0:2, 0:1])\n",
    "    ax2 = fig.add_subplot(gsp[0:2, 1:2])\n",
    "    ax3 = fig.add_subplot(gsp[2:5, 0:2])\n",
    "    ax4 = fig.add_subplot(gsp[5:8, 0:2])\n",
    "\n",
    "    ax1.set_title('Correlation function $k$', fontsize=12)\n",
    "    ax1.plot(xf, kernel(0,xf, h))\n",
    "    ax1.set_xlabel('$x_1-x_2$')\n",
    "    ax1.set_ylabel('$k(x_1, x_2)$')\n",
    "    ax1.set_ylim((-0.05, alpha**2+0.05))\n",
    "\n",
    "    ax2.set_title('Correlation matrix $\\mathbf{\\Sigma}_{x | \\mathbf{x}}$', fontsize=12)\n",
    "    ax2.imshow(np.linalg.inv(sigma_11), cmap='Spectral')\n",
    "    ax2.set_xlabel('index $i$')\n",
    "    ax2.set_ylabel('index $j$')\n",
    "    \n",
    "    asp = np.abs(np.diff(ax1.get_xlim())[0] / np.diff(ax1.get_ylim())[0])\n",
    "    ax1.set_aspect(asp)\n",
    "\n",
    "    S = 25\n",
    "    \n",
    "    fs = np.random.multivariate_normal(mean, cov, S).T\n",
    "    \n",
    "    ax3.set_title('Samples drawn from $\\mathcal{N}(\\mathbf{\\mu}_{x | \\mathbf{x}},\\mathbf{\\Sigma}_{x | \\mathbf{x}})$', fontsize=12)\n",
    "#     ax3.plot(x, fs, c='gray', linewidth=0.2)\n",
    "    ax3.set_xlim((x_min, x_max))\n",
    "    ax3.set_xlabel('$x$')\n",
    "    ax3.set_ylabel('$f(x)$')\n",
    "    ax3.plot(x, mean, linewidth=0.75, marker='x')\n",
    "#     ax3.set_yscale('log')\n",
    "    ax3.plot(x, I_0(x), linewidth=0.75)\n",
    "    ax3.plot(x, I_1(x), linewidth=0.75)\n",
    "#     ax3.plot(x, mean+2.0*np.diagonal(cov), linestyle='--', c='red', linewidth=0.5)\n",
    "#     ax3.plot(x, mean-2.0*np.diagonal(cov), linestyle='--', c='red', linewidth=0.5)\n",
    "\n",
    "#     ax3.plot(x, np.exp(-x), linewidth=0.75)\n",
    "    \n",
    "#     for s in range(S):\n",
    "#         xs, Ls = L_operator(x, fs[:,s])\n",
    "#         ax4.plot(xs, Ls, c='gray', linewidth=0.2)\n",
    "        \n",
    "    xs, Ls = L_operator(x, mean)\n",
    "    ax4.plot(xs, Ls, linewidth=0.75)\n",
    "    ax4.set_xlim((x_min, x_max))\n",
    "    ax4.set_yscale('log')\n",
    "    ax4.plot(x, eta, linewidth=0.75)\n",
    "    \n",
    "    plt.show()\n",
    "    \n",
    "widgets.interact(plot, h=(rs[0], rs[-1], dx))"
   ]
  },
  {
   "cell_type": "code",
   "execution_count": 364,
   "metadata": {},
   "outputs": [
    {
     "name": "stdout",
     "output_type": "stream",
     "text": [
      "-0.0 23910392824741.31 3.816514145284991e+281\n",
      "-154.8072424902902 155.8072424902902\n"
     ]
    },
    {
     "data": {
      "image/png": "[encoded data removed]",
      "text/plain": [
       "<Figure size 875x1050 with 4 Axes>"
      ]
     },
     "metadata": {
      "needs_background": "light"
     },
     "output_type": "display_data"
    }
   ],
   "source": [
    "h = rs[0]\n",
    "\n",
    "sigma_00 = corr(x, x, h)\n",
    "\n",
    "sigma_10 = np.block([   corr(x, y_p, h),\n",
    "                     Ly_corr(x, y_d, h) ])\n",
    "    \n",
    "sigma_01 = np.block([   corr(y_p, x, h).T,\n",
    "                     Lx_corr(y_d, x, h).T ]).T\n",
    "\n",
    "sigma_11 = np.block([[   corr(y_p, y_p, h), Lx_corr(y_d, y_p, h).T],\n",
    "                     [Ly_corr(y_p, y_d, h).T, L2_corr(y_d, y_d, h)  ] ])\n",
    "    \n",
    "fy = np.block([fy_p, fy_d])\n",
    "\n",
    "print(np.min(sigma_11), np.max(sigma_11), np.linalg.det(sigma_11))\n",
    "inv = np.linalg.inv(sigma_11)\n",
    "print(np.min(inv     ), np.max(inv     ))\n",
    "    \n",
    "# print(sigma_11)\n",
    "\n",
    "    \n",
    "mean =            np.matmul(np.matmul(sigma_10, np.linalg.inv(sigma_11)), fy)\n",
    "cov  = sigma_00 - np.matmul(np.matmul(sigma_10, np.linalg.inv(sigma_11)), sigma_01)\n",
    "\n",
    "#     print(cov)\n",
    "    \n",
    "xf = np.concatenate((-np.flip(x),x))\n",
    "\n",
    "fig = plt.figure(constrained_layout=False, figsize=(5,6), dpi=175)\n",
    "gsp = fig.add_gridspec(8, 2, wspace=0.5, hspace=2.1)\n",
    "ax1 = fig.add_subplot(gsp[0:2, 0:1])\n",
    "ax2 = fig.add_subplot(gsp[0:2, 1:2])\n",
    "ax3 = fig.add_subplot(gsp[2:5, 0:2])\n",
    "ax4 = fig.add_subplot(gsp[5:8, 0:2])\n",
    "\n",
    "ax1.set_title('Correlation function $k$', fontsize=12)\n",
    "ax1.plot(xf, kernel(0,xf, h))\n",
    "ax1.set_xlabel('$x_1-x_2$')\n",
    "ax1.set_ylabel('$k(x_1, x_2)$')\n",
    "ax1.set_ylim((-0.05, alpha**2+0.05))\n",
    "\n",
    "ax2.set_title('Correlation matrix $\\mathbf{\\Sigma}_{x | \\mathbf{x}}$', fontsize=12)\n",
    "ax2.imshow(np.linalg.inv(sigma_11), cmap='Spectral')\n",
    "ax2.set_xlabel('index $i$')\n",
    "ax2.set_ylabel('index $j$')\n",
    "    \n",
    "asp = np.abs(np.diff(ax1.get_xlim())[0] / np.diff(ax1.get_ylim())[0])\n",
    "ax1.set_aspect(asp)\n",
    "\n",
    "S = 25\n",
    "    \n",
    "fs = np.random.multivariate_normal(mean, cov, S).T\n",
    "    \n",
    "ax3.set_title('Samples drawn from $\\mathcal{N}(\\mathbf{\\mu}_{x | \\mathbf{x}},\\mathbf{\\Sigma}_{x | \\mathbf{x}})$', fontsize=12)\n",
    "# ax3.plot(x, fs, c='gray', linewidth=0.2)\n",
    "ax3.set_xlim((x_min, x_max))\n",
    "ax3.set_xlabel('$x$')\n",
    "ax3.set_ylabel('$f(x)$')\n",
    "ax3.plot(x, mean, linewidth=0.75, marker='x')\n",
    "# ax3.set_yscale('log')\n",
    "ax3.plot(x, I_0(x), linewidth=0.75)\n",
    "ax3.plot(x, I_1(x), linewidth=0.75)\n",
    "# ax3.plot(x, mean+2.0*np.diagonal(cov), linestyle='--', c='red', linewidth=0.5)\n",
    "# ax3.plot(x, mean-2.0*np.diagonal(cov), linestyle='--', c='red', linewidth=0.5)\n",
    "\n",
    "# ax3.plot(x, np.exp(-x), linewidth=0.75)\n",
    "    \n",
    "# for s in range(S):\n",
    "#     xs, Ls = L_operator(x, fs[:,s])\n",
    "#     ax4.plot(xs, Ls, c='gray', linewidth=0.2)\n",
    "        \n",
    "xs, Ls = L_operator(x, mean)\n",
    "ax4.plot(xs, Ls, linewidth=0.75)\n",
    "ax4.set_xlim((x_min, x_max))\n",
    "ax4.set_yscale('log')\n",
    "ax4.plot(x, eta, linewidth=0.75)\n",
    "    \n",
    "plt.show()    "
   ]
  },
  {
   "cell_type": "code",
   "execution_count": 88,
   "metadata": {},
   "outputs": [
    {
     "data": {
      "application/vnd.jupyter.widget-view+json": {
       "model_id": "62655730aa9043a59f6187c8bc7bde7a",
       "version_major": 2,
       "version_minor": 0
      },
      "text/plain": [
       "interactive(children=(FloatSlider(value=24500000000000.0, description='h', max=49000000000000.0), Output()), _…"
      ]
     },
     "metadata": {},
     "output_type": "display_data"
    },
    {
     "data": {
      "text/plain": [
       "<function __main__.plot(h)>"
      ]
     },
     "execution_count": 88,
     "metadata": {},
     "output_type": "execute_result"
    }
   ],
   "source": [
    "y_p  = np.array([rs[0],                 rs[-1]])                 #np.array([0.0])\n",
    "fy_p = np.array([boundary_condition[0], boundary_condition[-1]]) #np.array([1.0])\n",
    "\n",
    "y_d  = np.concatenate((rs,  rs               ))  #np.linspace(0.0, 2.0, num=5)\n",
    "fy_d = np.concatenate((eta, np.zeros(npoints)))  #eta #np.array([eta(d) for d in y_d])\n",
    "\n",
    "\n",
    "\n",
    "\n",
    "def plot(h):\n",
    "    \n",
    "    print('h = ', h/rs[-1])\n",
    "    \n",
    "#     x = np.array([0.1])\n",
    "    \n",
    "#     sigma_00 = corr(x, x, h)\n",
    "    \n",
    "    kxx = corr(x, x, h)\n",
    "    sigma_00 = np.block([[kxx,                     np.zeros(kxx.shape)],\n",
    "                         [np.zeros(kxx.shape),     kxx                ] ])\n",
    "\n",
    "    kxy_p = corr(x, y_p, h)\n",
    "    sigma_10 = np.block([[kxy_p,                   np.zeros(kxy_p.shape)],\n",
    "                         [np.zeros(kxy_p.shape),   kxy_p                ],\n",
    "                         [Ly_dd_corr(x, y_d, h),   Ly_od_corr(x, y_d, h)],\n",
    "                         [Ly_od_corr(x, y_d, h),   Ly_dd_corr(x, y_d, h)]])\n",
    "     \n",
    "    kyx_p = corr(y_p, x, h)\n",
    "    sigma_01 = np.block([[kyx_p                .T, np.zeros(kyx_p.shape).T],\n",
    "                         [np.zeros(kyx_p.shape).T, kyx_p                .T],\n",
    "                         [Lx_dd_corr(y_d, x, h).T, Lx_od_corr(y_d, x, h).T],\n",
    "                         [Lx_od_corr(y_d, x, h).T, Lx_dd_corr(y_d, x, h).T] ]).T\n",
    "    \n",
    "\n",
    "    \n",
    "#     print(   corr(y_p, y_p, h).shape)\n",
    "#     print(Lx_corr(y_d, y_p, h).T.shape)\n",
    "#     print(Ly_corr(y_p, y_d, h).shape)\n",
    "#     print(L2_corr(y_d, y_d, h).shape)\n",
    "    \n",
    "    kyy_p = corr(y_p, y_p, h)\n",
    "    sigma_11 = np.block([[kyx_p,                     np.zeros(kyx_p.shape),     Ly_dd_corr(y_p, y_d, h).T, Ly_od_corr(y_p, y_d, h).T],\n",
    "                         [np.zeros(kyx_p.shape),     kyx_p,                     Ly_od_corr(y_p, y_d, h).T, Ly_dd_corr(y_p, y_d, h).T],\n",
    "                         [Lx_dd_corr(y_d, y_p, h).T, Lx_od_corr(y_d, y_p, h).T, L2_dd_corr(y_d, y_d, h),   L2_od_corr(y_d, y_d, h)  ],\n",
    "                         [Lx_od_corr(y_d, y_p, h).T, Lx_dd_corr(y_d, y_p, h).T, L2_od_corr(y_d, y_d, h),   L2_dd_corr(y_d, y_d, h)  ] ])\n",
    "        \n",
    "#     sigma_11 = np.block([[   corr(y_p, y_p, h), Lx_corr(y_d, y_p, h).T],\n",
    "#                          [Ly_corr(y_p, y_d, h).T, L2_corr(y_d, y_d, h)  ] ])\n",
    "\n",
    "#     print(sigma_00)\n",
    "#     print(sigma_01)\n",
    "    print('sigma_10 ', sigma_10.shape)\n",
    "    print('sigma_11 ', sigma_11.shape)\n",
    "    \n",
    "    fy = np.block([fy_p, fy_d])\n",
    "\n",
    "    print(fy_p.shape)\n",
    "    print(fy_d.shape),\n",
    "    print(fy.shape)\n",
    "    \n",
    "    mean =            np.matmul(np.matmul(sigma_10, np.linalg.inv(sigma_11)), fy)\n",
    "    cov  = sigma_00 - np.matmul(np.matmul(sigma_10, np.linalg.inv(sigma_11)), sigma_01)\n",
    "\n",
    "#     print(cov)\n",
    "    \n",
    "    xf = np.concatenate((-np.flip(x),x))\n",
    "\n",
    "    fig = plt.figure(constrained_layout=False, figsize=(5,13), dpi=175)\n",
    "    gsp = fig.add_gridspec(14, 2, wspace=0.5, hspace=2.1)\n",
    "    ax1 = fig.add_subplot(gsp[0:2, 0:1])\n",
    "    ax2 = fig.add_subplot(gsp[0:2, 1:2])\n",
    "    ax3 = fig.add_subplot(gsp[2:5, 0:2])\n",
    "    ax4 = fig.add_subplot(gsp[5:8, 0:2])\n",
    "    ax5 = fig.add_subplot(gsp[8:11, 0:2])\n",
    "    ax6 = fig.add_subplot(gsp[11:14, 0:2])\n",
    "\n",
    "    ax1.set_title('Correlation function $k$', fontsize=12)\n",
    "    ax1.plot(xf/x[-1], kernel(0,xf, h))\n",
    "    ax1.set_xlabel('$x_1-x_2$ [r_out]')\n",
    "    ax1.set_ylabel('$k(x_1, x_2)$')\n",
    "    ax1.set_ylim((-0.05, alpha**2+0.05))\n",
    "\n",
    "    ax2.set_title('Correlation matrix $\\mathbf{\\Sigma}_{x | \\mathbf{x}}$', fontsize=12)\n",
    "    pos = ax2.imshow(cov, vmin=0.0, vmax=np.max(cov))\n",
    "    ax2.set_xlabel('index $i$')\n",
    "    ax2.set_ylabel('index $j$')\n",
    "    fig.colorbar(pos, ax=ax2)\n",
    "    \n",
    "    asp = np.abs(np.diff(ax1.get_xlim())[0] / np.diff(ax1.get_ylim())[0])\n",
    "    ax1.set_aspect(asp)\n",
    "\n",
    "    S = 25\n",
    "    \n",
    "    fs = np.random.multivariate_normal(mean, cov, S).T\n",
    "    \n",
    "    ax3.set_title('Samples drawn from $\\mathcal{N}(\\mathbf{\\mu}_{x | \\mathbf{x}},\\mathbf{\\Sigma}_{x | \\mathbf{x}})$', fontsize=12)\n",
    "#     ax3.plot(x, fs, c='gray', linewidth=0.2)\n",
    "    ax3.set_xlim((x_min, x_max))\n",
    "    ax3.set_xlabel('$x$')\n",
    "    ax3.set_ylabel('$f(x)$')\n",
    "    ax3.plot(x, mean, linewidth=0.75, marker='x')\n",
    "#     ax3.plot(x, mean+2.0*np.diagonal(cov), linestyle='--', c='red', linewidth=0.5)\n",
    "#     ax3.plot(x, mean-2.0*np.diagonal(cov), linestyle='--', c='red', linewidth=0.5)\n",
    "\n",
    "    ax3.plot(x, I_0(x), linewidth=0.75)\n",
    "    ax3.plot(x, I_1(x), linewidth=0.75)\n",
    "    ax3.set_yscale('log')\n",
    "    \n",
    "#     for s in range(S):\n",
    "#         xs, Ls = L_operator(x, fs[:,s])\n",
    "#         ax4.plot(xs, Ls, c='gray', linewidth=0.2)\n",
    "        \n",
    "    xs, Ls = L_operator(x, mean)\n",
    "    ax4.plot(xs, Ls, linewidth=0.75)\n",
    "    ax4.plot(x, eta, linewidth=0.75)\n",
    "    ax4.set_xlim((x_min, x_max))\n",
    "    ax4.set_yscale('log')\n",
    "    \n",
    "    \n",
    "    ax5.set_title('Correlation matrix $\\mathbf{\\Sigma}_{x | \\mathbf{x}}$', fontsize=12)\n",
    "    pos = ax5.imshow(cov)\n",
    "    ax5.set_xlabel('index $i$')\n",
    "    ax5.set_ylabel('index $j$')\n",
    "    fig.colorbar(pos, ax=ax5)\n",
    "    \n",
    "    \n",
    "    ax6.set_title('Correlation matrix $\\mathbf{\\Sigma}_{x | \\mathbf{x}}$', fontsize=12)\n",
    "    pos = ax6.imshow(sigma_11)\n",
    "    ax6.set_xlabel('index $i$')\n",
    "    ax6.set_ylabel('index $j$')\n",
    "    fig.colorbar(pos, ax=ax6)\n",
    "    \n",
    "    plt.show()\n",
    "    \n",
    "widgets.interact(plot, h=(x[0], x[-1]))"
   ]
  },
  {
   "cell_type": "code",
   "execution_count": 40,
   "metadata": {},
   "outputs": [],
   "source": [
    "h = rs[-1]\n",
    "\n",
    "sigma_11 = np.block([[   corr(y_p, y_p, h),   Lx_corr(y_d, y_p, h).T],\n",
    "                     [Ly_corr(y_p, y_d, h).T, L2_corr(y_d, y_d, h)  ] ])"
   ]
  },
  {
   "cell_type": "code",
   "execution_count": 41,
   "metadata": {},
   "outputs": [],
   "source": [
    "ss = np.copy(sigma_11)"
   ]
  },
  {
   "cell_type": "code",
   "execution_count": 42,
   "metadata": {},
   "outputs": [],
   "source": [
    "ss[ss<1.0e-50] = 0.0"
   ]
  },
  {
   "cell_type": "code",
   "execution_count": 43,
   "metadata": {},
   "outputs": [
    {
     "data": {
      "text/plain": [
       "<matplotlib.colorbar.Colorbar at 0x7f2d0ca0b550>"
      ]
     },
     "execution_count": 43,
     "metadata": {},
     "output_type": "execute_result"
    },
    {
     "data": {
      "image/png": "[encoded data removed]",
      "text/plain": [
       "<Figure size 900x600 with 2 Axes>"
      ]
     },
     "metadata": {
      "needs_background": "light"
     },
     "output_type": "display_data"
    }
   ],
   "source": [
    "fig = plt.figure(dpi=150)\n",
    "pos = plt.imshow(np.log10(np.abs(ss)))\n",
    "fig.colorbar(pos)"
   ]
  },
  {
   "cell_type": "code",
   "execution_count": 44,
   "metadata": {},
   "outputs": [
    {
     "data": {
      "text/plain": [
       "<matplotlib.colorbar.Colorbar at 0x7f2d0c5dcc90>"
      ]
     },
     "execution_count": 44,
     "metadata": {},
     "output_type": "execute_result"
    },
    {
     "data": {
      "image/png": "[encoded data removed]",
      "text/plain": [
       "<Figure size 900x600 with 2 Axes>"
      ]
     },
     "metadata": {
      "needs_background": "light"
     },
     "output_type": "display_data"
    }
   ],
   "source": [
    "fig = plt.figure(dpi=150)\n",
    "pos = plt.imshow(tools.relative_error(ss, np.linalg.inv(np.linalg.inv(ss))))\n",
    "fig.colorbar(pos)"
   ]
  },
  {
   "cell_type": "code",
   "execution_count": 45,
   "metadata": {},
   "outputs": [
    {
     "name": "stderr",
     "output_type": "stream",
     "text": [
      "/home/frederik/software/Anaconda3/installation/envs/magritte/lib/python3.7/site-packages/ipykernel_launcher.py:2: RuntimeWarning: divide by zero encountered in log10\n",
      "  \n"
     ]
    },
    {
     "data": {
      "text/plain": [
       "<matplotlib.colorbar.Colorbar at 0x7f2d0c7cb750>"
      ]
     },
     "execution_count": 45,
     "metadata": {},
     "output_type": "execute_result"
    },
    {
     "data": {
      "image/png": "[encoded data removed]",
      "text/plain": [
       "<Figure size 900x600 with 2 Axes>"
      ]
     },
     "metadata": {
      "needs_background": "light"
     },
     "output_type": "display_data"
    }
   ],
   "source": [
    "fig = plt.figure(dpi=150)\n",
    "pos = plt.imshow(np.log10(np.abs(np.matmul(ss, np.linalg.inv(ss)))))\n",
    "fig.colorbar(pos)"
   ]
  },
  {
   "cell_type": "code",
   "execution_count": 46,
   "metadata": {},
   "outputs": [],
   "source": [
    "h = rs[1]\n",
    "\n",
    "sigma_11 = np.block([[   corr(y_p, y_p, h),   Lx_corr(y_d, y_p, h).T],\n",
    "                     [Ly_corr(y_p, y_d, h).T, L2_corr(y_d, y_d, h)  ] ])"
   ]
  },
  {
   "cell_type": "code",
   "execution_count": null,
   "metadata": {},
   "outputs": [],
   "source": []
  },
  {
   "cell_type": "code",
   "execution_count": 47,
   "metadata": {},
   "outputs": [
    {
     "data": {
      "application/vnd.jupyter.widget-view+json": {
       "model_id": "2c7918ac5ab843b791e25d209111fbef",
       "version_major": 2,
       "version_minor": 0
      },
      "text/plain": [
       "interactive(children=(FloatSlider(value=9500000000000.0, description='h', max=19000000000000.0), Output()), _d…"
      ]
     },
     "metadata": {},
     "output_type": "display_data"
    },
    {
     "data": {
      "text/plain": [
       "<function __main__.plot(h)>"
      ]
     },
     "execution_count": 47,
     "metadata": {},
     "output_type": "execute_result"
    }
   ],
   "source": [
    "def plot(h):\n",
    "    \n",
    "    sigma_00 = corr(x, x, h)\n",
    "\n",
    "    sigma_10 = np.block([   corr(x, y_p, h),\n",
    "                         Ly_corr(x, y_d, h) ])\n",
    "    \n",
    "    sigma_01 = np.block([   corr(y_p, x, h).T,\n",
    "                         Lx_corr(y_d, x, h).T ]).T\n",
    "    \n",
    "    \n",
    "    sigma_11 = np.block([[   corr(y_p, y_p, h), Lx_corr(y_d, y_p, h).T],\n",
    "                         [Ly_corr(y_p, y_d, h).T, L2_corr(y_d, y_d, h)  ] ])\n",
    "\n",
    "    \n",
    "    fy = np.block([fy_p, fy_d])\n",
    "\n",
    "    \n",
    "    mean =            np.matmul(np.matmul(sigma_10, np.linalg.inv(sigma_11)), fy)\n",
    "    cov  = sigma_00 - np.matmul(np.matmul(sigma_10, np.linalg.inv(sigma_11)), sigma_01)\n",
    "\n",
    "#     print(cov)\n",
    "    \n",
    "    xf = np.concatenate((-np.flip(x),x))\n",
    "\n",
    "    fig = plt.figure(constrained_layout=False, figsize=(14,16), dpi=175)\n",
    "    gsp = fig.add_gridspec(3, 2)\n",
    "    ax1 = fig.add_subplot(gsp[0])\n",
    "    ax2 = fig.add_subplot(gsp[1])\n",
    "    ax3 = fig.add_subplot(gsp[2])\n",
    "    ax4 = fig.add_subplot(gsp[3])\n",
    "    ax5 = fig.add_subplot(gsp[4])\n",
    "    ax6 = fig.add_subplot(gsp[5])\n",
    "\n",
    "#     ax1.set_title('Correlation matrix $\\mathbf{\\Sigma}_{x | \\mathbf{x}}$', fontsize=12)\n",
    "#     pos = ax1.imshow(cov)\n",
    "#     ax5.set_xlabel('index $i$')\n",
    "#     ax5.set_ylabel('index $j$')\n",
    "#     fig.colorbar(pos, ax=ax5)\n",
    "    \n",
    "    \n",
    "    ax1.set_title('+sigma_11')\n",
    "    pos = ax1.imshow(np.log10(sigma_11))\n",
    "#     ax1.set_xlabel('index $i$')\n",
    "#     ax1.set_ylabel('index $j$')\n",
    "    fig.colorbar(pos, ax=ax1)\n",
    "    \n",
    "    ax2.set_title('-sigma_11')\n",
    "    pos = ax2.imshow(np.log10(-sigma_11))\n",
    "#     ax2.set_xlabel('index $i$')\n",
    "#     ax2.set_ylabel('index $j$')\n",
    "    fig.colorbar(pos, ax=ax2)\n",
    "    \n",
    "    ax3.set_title('+cov')\n",
    "    pos = ax3.imshow(np.log10(cov))\n",
    "#     ax3.set_xlabel('index $i$')\n",
    "#     ax3.set_ylabel('index $j$')\n",
    "    fig.colorbar(pos, ax=ax3)\n",
    "    \n",
    "    ax4.set_title('-cov')\n",
    "    pos = ax4.imshow(np.log10(-cov))\n",
    "#     ax4.set_xlabel('index $i$')\n",
    "#     ax4.set_ylabel('index $j$')\n",
    "    fig.colorbar(pos, ax=ax4)\n",
    "    \n",
    "    ax5.set_title('+inverse_sigma_11')\n",
    "    pos = ax5.imshow(np.log10(np.linalg.inv(sigma_11)))\n",
    "#     ax5.set_xlabel('index $i$')\n",
    "#     ax5.set_ylabel('index $j$')\n",
    "    fig.colorbar(pos, ax=ax5)\n",
    "    \n",
    "    ax6.set_title('-inverse_sigma_11')\n",
    "    pos = ax6.imshow(np.log10(-np.linalg.inv(sigma_11)))\n",
    "#     ax4.set_xlabel('index $i$')\n",
    "#     ax4.set_ylabel('index $j$')\n",
    "    fig.colorbar(pos, ax=ax6)\n",
    "    \n",
    "    plt.show()\n",
    "    \n",
    "widgets.interact(plot, h=(x[0], x[-1]))"
   ]
  },
  {
   "cell_type": "code",
   "execution_count": 48,
   "metadata": {},
   "outputs": [
    {
     "data": {
      "application/vnd.jupyter.widget-view+json": {
       "model_id": "8766ee66caa849048e407cf1d5eb4ab6",
       "version_major": 2,
       "version_minor": 0
      },
      "text/plain": [
       "interactive(children=(FloatSlider(value=9500000000000.0, description='h', max=19000000000000.0), Output()), _d…"
      ]
     },
     "metadata": {},
     "output_type": "display_data"
    },
    {
     "data": {
      "text/plain": [
       "<function __main__.plot(h)>"
      ]
     },
     "execution_count": 48,
     "metadata": {},
     "output_type": "execute_result"
    }
   ],
   "source": [
    "def plot(h):\n",
    "    \n",
    "    sigma_00 = corr(x, x, h)\n",
    "\n",
    "    sigma_10 = np.block([   corr(x, y_p, h),\n",
    "                         Ly_corr(x, y_d, h) ])\n",
    "    \n",
    "    sigma_01 = np.block([   corr(y_p, x, h).T,\n",
    "                         Lx_corr(y_d, x, h).T ]).T\n",
    "    \n",
    "    \n",
    "    sigma_11 = np.block([[   corr(y_p, y_p, h), Lx_corr(y_d, y_p, h).T],\n",
    "                         [Ly_corr(y_p, y_d, h).T, L2_corr(y_d, y_d, h)  ] ])\n",
    "\n",
    "    \n",
    "    fy = np.block([fy_p, fy_d])\n",
    "\n",
    "    \n",
    "    mean =            np.matmul(np.matmul(sigma_10, np.linalg.inv(sigma_11)), fy)\n",
    "    cov  = sigma_00 - np.matmul(np.matmul(sigma_10, np.linalg.inv(sigma_11)), sigma_01)\n",
    "\n",
    "#     print(cov)\n",
    "    \n",
    "    xf = np.concatenate((-np.flip(x),x))\n",
    "\n",
    "    fig = plt.figure(constrained_layout=False, figsize=(14,16), dpi=100)\n",
    "    gsp = fig.add_gridspec(2, 1)\n",
    "    ax1 = fig.add_subplot(gsp[0])\n",
    "    ax3 = fig.add_subplot(gsp[1])\n",
    "\n",
    "\n",
    "#     ax1.set_title('Correlation matrix $\\mathbf{\\Sigma}_{x | \\mathbf{x}}$', fontsize=12)\n",
    "#     pos = ax1.imshow(cov)\n",
    "#     ax5.set_xlabel('index $i$')\n",
    "#     ax5.set_ylabel('index $j$')\n",
    "#     fig.colorbar(pos, ax=ax5)\n",
    "    \n",
    "    \n",
    "    ax1.set_title('+sigma_11')\n",
    "    pos = ax1.imshow(np.log10(tools.relative_error(sigma_11, sigma_11.T)))\n",
    "#     ax1.set_xlabel('index $i$')\n",
    "#     ax1.set_ylabel('index $j$')\n",
    "    fig.colorbar(pos, ax=ax1)\n",
    "    \n",
    "    ax3.set_title('+cov')\n",
    "    pos = ax3.imshow(np.log10(tools.relative_error(cov, cov.T)))\n",
    "#     ax3.set_xlabel('index $i$')\n",
    "#     ax3.set_ylabel('index $j$')\n",
    "    fig.colorbar(pos, ax=ax3)\n",
    "    \n",
    "    plt.show()\n",
    "\n",
    "    print(tools.relative_error(sigma_11, sigma_11.T))\n",
    "    print(tools.relative_error(cov,      cov.T     ))\n",
    "    \n",
    "widgets.interact(plot, h=(x[0], x[-1]))"
   ]
  },
  {
   "cell_type": "code",
   "execution_count": 72,
   "metadata": {},
   "outputs": [],
   "source": [
    "def mylog(x):\n",
    "    result = np.zeros(x.shape)\n",
    "    result[x>0] =  np.log(x[x>0])\n",
    "#     result[x<0] = -np.log(x[x<0])\n",
    "    return result"
   ]
  },
  {
   "cell_type": "code",
   "execution_count": 73,
   "metadata": {},
   "outputs": [
    {
     "data": {
      "text/plain": [
       "array([[  0.        , -30.32661851,   0.        ,   0.        ,\n",
       "          0.        ,   0.        ,   0.        ,   0.        ,\n",
       "          0.        ,   0.        ,   0.        ,   0.        ,\n",
       "          0.        ,   0.        ,   0.        ,   0.        ,\n",
       "          0.        ,   0.        ,   0.        ,   0.        ,\n",
       "          0.        ],\n",
       "       [-30.32661851, -55.25749606, -61.15323702,   0.        ,\n",
       "          0.        ,   0.        ,   0.        ,   0.        ,\n",
       "          0.        ,   0.        ,   0.        ,   0.        ,\n",
       "          0.        ,   0.        ,   0.        ,   0.        ,\n",
       "          0.        ,   0.        ,   0.        ,   0.        ,\n",
       "          0.        ],\n",
       "       [  0.        , -61.15323702, -55.25749606, -61.15323702,\n",
       "          0.        ,   0.        ,   0.        ,   0.        ,\n",
       "          0.        ,   0.        ,   0.        ,   0.        ,\n",
       "          0.        ,   0.        ,   0.        ,   0.        ,\n",
       "          0.        ,   0.        ,   0.        ,   0.        ,\n",
       "          0.        ],\n",
       "       [  0.        ,   0.        , -61.15323702, -55.25749606,\n",
       "        -61.15323702,   0.        ,   0.        ,   0.        ,\n",
       "          0.        ,   0.        ,   0.        ,   0.        ,\n",
       "          0.        ,   0.        ,   0.        ,   0.        ,\n",
       "          0.        ,   0.        ,   0.        ,   0.        ,\n",
       "          0.        ],\n",
       "       [  0.        ,   0.        ,   0.        , -61.15323702,\n",
       "        -55.25749606, -61.15323702,   0.        ,   0.        ,\n",
       "          0.        ,   0.        ,   0.        ,   0.        ,\n",
       "          0.        ,   0.        ,   0.        ,   0.        ,\n",
       "          0.        ,   0.        ,   0.        ,   0.        ,\n",
       "          0.        ],\n",
       "       [  0.        ,   0.        ,   0.        ,   0.        ,\n",
       "        -61.15323702, -55.25749606, -61.15323702,   0.        ,\n",
       "          0.        ,   0.        ,   0.        ,   0.        ,\n",
       "          0.        ,   0.        ,   0.        ,   0.        ,\n",
       "          0.        ,   0.        ,   0.        ,   0.        ,\n",
       "          0.        ],\n",
       "       [  0.        ,   0.        ,   0.        ,   0.        ,\n",
       "          0.        , -61.15323702, -55.25749606, -61.15323702,\n",
       "          0.        ,   0.        ,   0.        ,   0.        ,\n",
       "          0.        ,   0.        ,   0.        ,   0.        ,\n",
       "          0.        ,   0.        ,   0.        ,   0.        ,\n",
       "          0.        ],\n",
       "       [  0.        ,   0.        ,   0.        ,   0.        ,\n",
       "          0.        ,   0.        , -61.15323702, -55.25749606,\n",
       "        -61.15323702,   0.        ,   0.        ,   0.        ,\n",
       "          0.        ,   0.        ,   0.        ,   0.        ,\n",
       "          0.        ,   0.        ,   0.        ,   0.        ,\n",
       "          0.        ],\n",
       "       [  0.        ,   0.        ,   0.        ,   0.        ,\n",
       "          0.        ,   0.        ,   0.        , -61.15323702,\n",
       "        -55.25749606, -61.15323702,   0.        ,   0.        ,\n",
       "          0.        ,   0.        ,   0.        ,   0.        ,\n",
       "          0.        ,   0.        ,   0.        ,   0.        ,\n",
       "          0.        ],\n",
       "       [  0.        ,   0.        ,   0.        ,   0.        ,\n",
       "          0.        ,   0.        ,   0.        ,   0.        ,\n",
       "        -61.15323702, -55.25749606, -61.15323702,   0.        ,\n",
       "          0.        ,   0.        ,   0.        ,   0.        ,\n",
       "          0.        ,   0.        ,   0.        ,   0.        ,\n",
       "          0.        ],\n",
       "       [  0.        ,   0.        ,   0.        ,   0.        ,\n",
       "          0.        ,   0.        ,   0.        ,   0.        ,\n",
       "          0.        , -61.15323702, -55.25749606, -61.15323702,\n",
       "          0.        ,   0.        ,   0.        ,   0.        ,\n",
       "          0.        ,   0.        ,   0.        ,   0.        ,\n",
       "          0.        ],\n",
       "       [  0.        ,   0.        ,   0.        ,   0.        ,\n",
       "          0.        ,   0.        ,   0.        ,   0.        ,\n",
       "          0.        ,   0.        , -61.15323702, -55.25749606,\n",
       "        -61.15323702,   0.        ,   0.        ,   0.        ,\n",
       "          0.        ,   0.        ,   0.        ,   0.        ,\n",
       "          0.        ],\n",
       "       [  0.        ,   0.        ,   0.        ,   0.        ,\n",
       "          0.        ,   0.        ,   0.        ,   0.        ,\n",
       "          0.        ,   0.        ,   0.        , -61.15323702,\n",
       "        -55.25749606, -61.15323702,   0.        ,   0.        ,\n",
       "          0.        ,   0.        ,   0.        ,   0.        ,\n",
       "          0.        ],\n",
       "       [  0.        ,   0.        ,   0.        ,   0.        ,\n",
       "          0.        ,   0.        ,   0.        ,   0.        ,\n",
       "          0.        ,   0.        ,   0.        ,   0.        ,\n",
       "        -61.15323702, -55.25749606, -61.15323702,   0.        ,\n",
       "          0.        ,   0.        ,   0.        ,   0.        ,\n",
       "          0.        ],\n",
       "       [  0.        ,   0.        ,   0.        ,   0.        ,\n",
       "          0.        ,   0.        ,   0.        ,   0.        ,\n",
       "          0.        ,   0.        ,   0.        ,   0.        ,\n",
       "          0.        , -61.15323702, -55.25749606, -61.15323702,\n",
       "          0.        ,   0.        ,   0.        ,   0.        ,\n",
       "          0.        ],\n",
       "       [  0.        ,   0.        ,   0.        ,   0.        ,\n",
       "          0.        ,   0.        ,   0.        ,   0.        ,\n",
       "          0.        ,   0.        ,   0.        ,   0.        ,\n",
       "          0.        ,   0.        , -61.15323702, -55.25749606,\n",
       "        -61.15323702,   0.        ,   0.        ,   0.        ,\n",
       "          0.        ],\n",
       "       [  0.        ,   0.        ,   0.        ,   0.        ,\n",
       "          0.        ,   0.        ,   0.        ,   0.        ,\n",
       "          0.        ,   0.        ,   0.        ,   0.        ,\n",
       "          0.        ,   0.        ,   0.        , -61.15323702,\n",
       "        -55.25749606, -61.15323702,   0.        ,   0.        ,\n",
       "          0.        ],\n",
       "       [  0.        ,   0.        ,   0.        ,   0.        ,\n",
       "          0.        ,   0.        ,   0.        ,   0.        ,\n",
       "          0.        ,   0.        ,   0.        ,   0.        ,\n",
       "          0.        ,   0.        ,   0.        ,   0.        ,\n",
       "        -61.15323702, -55.25749606, -61.15323702,   0.        ,\n",
       "          0.        ],\n",
       "       [  0.        ,   0.        ,   0.        ,   0.        ,\n",
       "          0.        ,   0.        ,   0.        ,   0.        ,\n",
       "          0.        ,   0.        ,   0.        ,   0.        ,\n",
       "          0.        ,   0.        ,   0.        ,   0.        ,\n",
       "          0.        , -61.15323702, -55.25749606, -61.15323702,\n",
       "          0.        ],\n",
       "       [  0.        ,   0.        ,   0.        ,   0.        ,\n",
       "          0.        ,   0.        ,   0.        ,   0.        ,\n",
       "          0.        ,   0.        ,   0.        ,   0.        ,\n",
       "          0.        ,   0.        ,   0.        ,   0.        ,\n",
       "          0.        ,   0.        , -61.15323702, -55.25749606,\n",
       "        -61.15323702],\n",
       "       [  0.        ,   0.        ,   0.        ,   0.        ,\n",
       "          0.        ,   0.        ,   0.        ,   0.        ,\n",
       "          0.        ,   0.        ,   0.        ,   0.        ,\n",
       "          0.        ,   0.        ,   0.        ,   0.        ,\n",
       "          0.        ,   0.        ,   0.        , -61.15323702,\n",
       "        -55.25749606]])"
      ]
     },
     "execution_count": 73,
     "metadata": {},
     "output_type": "execute_result"
    }
   ],
   "source": [
    "mylog(sigma_11)"
   ]
  },
  {
   "cell_type": "code",
   "execution_count": 127,
   "metadata": {},
   "outputs": [
    {
     "data": {
      "text/plain": [
       "array([[ 0.,  0., -0., -0., -0., -0., -0., -0., -0., -0., -0., -0., -0.,\n",
       "        -0., -0., -0., -0., -0., -0., -0., -0.],\n",
       "       [ 0.,  0.,  0., -0., -0., -0., -0., -0., -0., -0., -0., -0., -0.,\n",
       "        -0., -0., -0., -0., -0., -0., -0., -0.],\n",
       "       [-0.,  0.,  0.,  0., -0., -0., -0., -0., -0., -0., -0., -0., -0.,\n",
       "        -0., -0., -0., -0., -0., -0., -0., -0.],\n",
       "       [-0., -0.,  0.,  0.,  0., -0., -0., -0., -0., -0., -0., -0., -0.,\n",
       "        -0., -0., -0., -0., -0., -0., -0., -0.],\n",
       "       [-0., -0., -0.,  0.,  0.,  0., -0., -0., -0., -0., -0., -0., -0.,\n",
       "        -0., -0., -0., -0., -0., -0., -0., -0.],\n",
       "       [-0., -0., -0., -0.,  0.,  0.,  0., -0., -0., -0., -0., -0., -0.,\n",
       "        -0., -0., -0., -0., -0., -0., -0., -0.],\n",
       "       [-0., -0., -0., -0., -0.,  0.,  0.,  0., -0., -0., -0., -0., -0.,\n",
       "        -0., -0., -0., -0., -0., -0., -0., -0.],\n",
       "       [-0., -0., -0., -0., -0., -0.,  0.,  0.,  0., -0., -0., -0., -0.,\n",
       "        -0., -0., -0., -0., -0., -0., -0., -0.],\n",
       "       [-0., -0., -0., -0., -0., -0., -0.,  0.,  0.,  0., -0., -0., -0.,\n",
       "        -0., -0., -0., -0., -0., -0., -0., -0.],\n",
       "       [-0., -0., -0., -0., -0., -0., -0., -0.,  0.,  0.,  0., -0., -0.,\n",
       "        -0., -0., -0., -0., -0., -0., -0., -0.],\n",
       "       [-0., -0., -0., -0., -0., -0., -0., -0., -0.,  0.,  0.,  0., -0.,\n",
       "        -0., -0., -0., -0., -0., -0., -0., -0.],\n",
       "       [-0., -0., -0., -0., -0., -0., -0., -0., -0., -0.,  0.,  0.,  0.,\n",
       "        -0., -0., -0., -0., -0., -0., -0., -0.],\n",
       "       [-0., -0., -0., -0., -0., -0., -0., -0., -0., -0., -0.,  0.,  0.,\n",
       "         0., -0., -0., -0., -0., -0., -0., -0.],\n",
       "       [-0., -0., -0., -0., -0., -0., -0., -0., -0., -0., -0., -0.,  0.,\n",
       "         0.,  0., -0., -0., -0., -0., -0., -0.],\n",
       "       [-0., -0., -0., -0., -0., -0., -0., -0., -0., -0., -0., -0., -0.,\n",
       "         0.,  0.,  0., -0., -0., -0., -0., -0.],\n",
       "       [-0., -0., -0., -0., -0., -0., -0., -0., -0., -0., -0., -0., -0.,\n",
       "        -0.,  0.,  0.,  0., -0., -0., -0., -0.],\n",
       "       [-0., -0., -0., -0., -0., -0., -0., -0., -0., -0., -0., -0., -0.,\n",
       "        -0., -0.,  0.,  0.,  0., -0., -0., -0.],\n",
       "       [-0., -0., -0., -0., -0., -0., -0., -0., -0., -0., -0., -0., -0.,\n",
       "        -0., -0., -0.,  0.,  0.,  0., -0., -0.],\n",
       "       [-0., -0., -0., -0., -0., -0., -0., -0., -0., -0., -0., -0., -0.,\n",
       "        -0., -0., -0., -0.,  0.,  0.,  0., -0.],\n",
       "       [-0., -0., -0., -0., -0., -0., -0., -0., -0., -0., -0., -0., -0.,\n",
       "        -0., -0., -0., -0., -0.,  0.,  0.,  0.],\n",
       "       [-0., -0., -0., -0., -0., -0., -0., -0., -0., -0., -0., -0., -0.,\n",
       "        -0., -0., -0., -0., -0., -0.,  0.,  0.]])"
      ]
     },
     "execution_count": 127,
     "metadata": {},
     "output_type": "execute_result"
    }
   ],
   "source": []
  },
  {
   "cell_type": "code",
   "execution_count": 139,
   "metadata": {},
   "outputs": [],
   "source": [
    "sigma_00 = corr(x, x, h)\n",
    "\n",
    "sigma_10 = np.block([   corr(x, y_p, h),\n",
    "                     Ly_corr(x, y_d, h) ])\n",
    "    \n",
    "sigma_01 = np.block([   corr(y_p, x, h).T,\n",
    "                     Lx_corr(y_d, x, h).T ]).T\n",
    "    \n",
    "sigma_11 = np.block([[   corr(y_p, y_p, h), Lx_corr(y_d, y_p, h).T],\n",
    "                     [Ly_corr(y_p, y_d, h).T, L2_corr(y_d, y_d, h)  ] ])\n",
    "\n",
    "fy = np.block([fy_p, fy_d])"
   ]
  },
  {
   "cell_type": "code",
   "execution_count": 148,
   "metadata": {},
   "outputs": [
    {
     "data": {
      "text/plain": [
       "(4, 4)"
      ]
     },
     "execution_count": 148,
     "metadata": {},
     "output_type": "execute_result"
    }
   ],
   "source": [
    "sigma_11.shape"
   ]
  },
  {
   "cell_type": "code",
   "execution_count": 147,
   "metadata": {},
   "outputs": [
    {
     "data": {
      "text/plain": [
       "(5, 5)"
      ]
     },
     "execution_count": 147,
     "metadata": {},
     "output_type": "execute_result"
    }
   ],
   "source": [
    "covariance.toarray().shape"
   ]
  },
  {
   "cell_type": "code",
   "execution_count": 146,
   "metadata": {},
   "outputs": [
    {
     "data": {
      "text/plain": [
       "array([3.77281369e-18, 9.97040097e-31, 9.97040097e-31, 9.97040097e-31])"
      ]
     },
     "execution_count": 146,
     "metadata": {},
     "output_type": "execute_result"
    }
   ],
   "source": [
    "fy"
   ]
  },
  {
   "cell_type": "code",
   "execution_count": 145,
   "metadata": {},
   "outputs": [
    {
     "data": {
      "text/plain": [
       "array([3.77281369e-18, 3.77281369e-18, 9.97040097e-31, 9.97040097e-31,\n",
       "       9.97040097e-31])"
      ]
     },
     "execution_count": 145,
     "metadata": {},
     "output_type": "execute_result"
    }
   ],
   "source": [
    "condition"
   ]
  },
  {
   "cell_type": "code",
   "execution_count": 120,
   "metadata": {},
   "outputs": [
    {
     "ename": "SyntaxError",
     "evalue": "invalid syntax (<ipython-input-120-37ddcf55e0f7>, line 1)",
     "output_type": "error",
     "traceback": [
      "\u001b[0;36m  File \u001b[0;32m\"<ipython-input-120-37ddcf55e0f7>\"\u001b[0;36m, line \u001b[0;32m1\u001b[0m\n\u001b[0;31m    np.range(npoints, nrays, nfreqs).\u001b[0m\n\u001b[0m                                     ^\u001b[0m\n\u001b[0;31mSyntaxError\u001b[0m\u001b[0;31m:\u001b[0m invalid syntax\n"
     ]
    }
   ],
   "source": [
    "np.range(npoints, nrays, nfreqs)."
   ]
  },
  {
   "cell_type": "code",
   "execution_count": 150,
   "metadata": {},
   "outputs": [
    {
     "data": {
      "text/plain": [
       "array([[0, 1, 2],\n",
       "       [1, 2, 0],\n",
       "       [2, 3, 1],\n",
       "       [3, 4, 2],\n",
       "       [4, 5, 3],\n",
       "       [5, 6, 4],\n",
       "       [6, 7, 5],\n",
       "       [7, 8, 6],\n",
       "       [8, 9, 7],\n",
       "       [9, 8, 7]])"
      ]
     },
     "execution_count": 150,
     "metadata": {},
     "output_type": "execute_result"
    }
   ],
   "source": [
    "ind_all"
   ]
  },
  {
   "cell_type": "code",
   "execution_count": 207,
   "metadata": {},
   "outputs": [],
   "source": [
    "red0 = np.array([[0],[1]])\n",
    "red1 = np.array([[0,1], [0,1], [1,2]])\n",
    "red2 = np.array([[0],[1],[2],[3]])"
   ]
  },
  {
   "cell_type": "code",
   "execution_count": 208,
   "metadata": {},
   "outputs": [],
   "source": [
    "reds = (red0,red1,red2)"
   ]
  },
  {
   "cell_type": "code",
   "execution_count": 175,
   "metadata": {},
   "outputs": [
    {
     "data": {
      "text/plain": [
       "13"
      ]
     },
     "execution_count": 175,
     "metadata": {},
     "output_type": "execute_result"
    }
   ],
   "source": [
    "indices[1,0,1]"
   ]
  },
  {
   "cell_type": "code",
   "execution_count": 173,
   "metadata": {},
   "outputs": [],
   "source": [
    "n0 = 2\n",
    "n1 = 3\n",
    "n2 = 4\n",
    "\n",
    "dims     = (n0, n1, n2)\n",
    "reductions = (inds, np.arange(n1*n1), np.arange(n2))\n",
    "\n",
    "# (Total) dimension of linearised space.\n",
    "dims_tot = np.prod(dims)\n",
    "indices  = np.arange(dims_tot).reshape(dims)\n",
    "\n"
   ]
  },
  {
   "cell_type": "code",
   "execution_count": 222,
   "metadata": {},
   "outputs": [
    {
     "data": {
      "text/plain": [
       "array([0, 4])"
      ]
     },
     "execution_count": 222,
     "metadata": {},
     "output_type": "execute_result"
    }
   ],
   "source": [
    "indices[red0[0],red1[0],red2[0]]"
   ]
  },
  {
   "cell_type": "code",
   "execution_count": 177,
   "metadata": {},
   "outputs": [
    {
     "name": "stdout",
     "output_type": "stream",
     "text": [
      "0 0\n",
      "1 0\n",
      "1 1\n",
      "1 2\n",
      "2 0\n",
      "2 1\n",
      "2 2\n",
      "2 3\n"
     ]
    }
   ],
   "source": [
    "for j, red in enumerate(reds):\n",
    "    \n",
    "    for i in red:\n",
    "    \n",
    "        print(j, i)"
   ]
  },
  {
   "cell_type": "code",
   "execution_count": 214,
   "metadata": {},
   "outputs": [
    {
     "data": {
      "text/plain": [
       "(array([[0],\n",
       "        [1]]),\n",
       " array([[0, 1],\n",
       "        [0, 1],\n",
       "        [1, 2]]),\n",
       " array([[0],\n",
       "        [1],\n",
       "        [2],\n",
       "        [3]]))"
      ]
     },
     "execution_count": 214,
     "metadata": {},
     "output_type": "execute_result"
    }
   ],
   "source": [
    "reds"
   ]
  },
  {
   "cell_type": "code",
   "execution_count": 218,
   "metadata": {},
   "outputs": [],
   "source": [
    "def get_reduced_indices(ii1):\n",
    "    return indices[reds[0][ii1[0]],...]"
   ]
  },
  {
   "cell_type": "code",
   "execution_count": 216,
   "metadata": {},
   "outputs": [
    {
     "data": {
      "text/plain": [
       "array([[[ 0,  1,  2,  3],\n",
       "        [ 4,  5,  6,  7],\n",
       "        [ 8,  9, 10, 11]],\n",
       "\n",
       "       [[12, 13, 14, 15],\n",
       "        [16, 17, 18, 19],\n",
       "        [20, 21, 22, 23]]])"
      ]
     },
     "execution_count": 216,
     "metadata": {},
     "output_type": "execute_result"
    }
   ],
   "source": [
    "indices[[0,1],:,:]"
   ]
  },
  {
   "cell_type": "code",
   "execution_count": 227,
   "metadata": {},
   "outputs": [
    {
     "data": {
      "text/plain": [
       "[array([[1, 2],\n",
       "        [1, 2],\n",
       "        [1, 2]]),\n",
       " array([[4, 4],\n",
       "        [5, 5],\n",
       "        [6, 6]])]"
      ]
     },
     "execution_count": 227,
     "metadata": {},
     "output_type": "execute_result"
    }
   ],
   "source": []
  },
  {
   "cell_type": "code",
   "execution_count": 241,
   "metadata": {},
   "outputs": [
    {
     "data": {
      "text/plain": [
       "[array([[[1, 1, 1]],\n",
       " \n",
       "        [[1, 1, 1]]]),\n",
       " array([[[2, 2, 2]],\n",
       " \n",
       "        [[3, 3, 3]]]),\n",
       " array([[[4, 5, 6]],\n",
       " \n",
       "        [[4, 5, 6]]])]"
      ]
     },
     "execution_count": 241,
     "metadata": {},
     "output_type": "execute_result"
    }
   ],
   "source": [
    "np.meshgrid([1],[2,3], [4,5,6])"
   ]
  },
  {
   "cell_type": "code",
   "execution_count": 261,
   "metadata": {},
   "outputs": [],
   "source": [
    "inds = np.array([1,2,3])"
   ]
  },
  {
   "cell_type": "code",
   "execution_count": 305,
   "metadata": {},
   "outputs": [
    {
     "data": {
      "text/plain": [
       "(array([[0],\n",
       "        [1]]),\n",
       " array([[0, 1],\n",
       "        [0, 1],\n",
       "        [1, 2]]),\n",
       " array([[0],\n",
       "        [1],\n",
       "        [2],\n",
       "        [3]]))"
      ]
     },
     "execution_count": 305,
     "metadata": {},
     "output_type": "execute_result"
    }
   ],
   "source": [
    "reds"
   ]
  },
  {
   "cell_type": "code",
   "execution_count": 298,
   "metadata": {},
   "outputs": [],
   "source": [
    "@njit\n",
    "def reductions(inds):\n",
    "    return "
   ]
  },
  {
   "cell_type": "code",
   "execution_count": 300,
   "metadata": {},
   "outputs": [
    {
     "data": {
      "text/plain": [
       "[array([0]), array([1, 2]), array([2])]"
      ]
     },
     "execution_count": 300,
     "metadata": {},
     "output_type": "execute_result"
    }
   ],
   "source": [
    "reductions((0,2,2))"
   ]
  },
  {
   "cell_type": "code",
   "execution_count": 303,
   "metadata": {},
   "outputs": [
    {
     "ename": "SyntaxError",
     "evalue": "can't use starred expression here (<ipython-input-303-74841af24aa2>, line 4)",
     "output_type": "error",
     "traceback": [
      "\u001b[0;36m  File \u001b[0;32m\"<ipython-input-303-74841af24aa2>\"\u001b[0;36m, line \u001b[0;32m4\u001b[0m\n\u001b[0;31mSyntaxError\u001b[0m\u001b[0;31m:\u001b[0m can't use starred expression here\n"
     ]
    }
   ],
   "source": [
    "*[1,2,4]"
   ]
  },
  {
   "cell_type": "code",
   "execution_count": 307,
   "metadata": {},
   "outputs": [
    {
     "name": "stdout",
     "output_type": "stream",
     "text": [
      "[array([0]), array([1, 2]), array([2])]\n",
      "(0, 1, 2)\n",
      "(0, 2, 2)\n"
     ]
    }
   ],
   "source": [
    "import itertools\n",
    "\n",
    "\n",
    "inds = (0,2,2)\n",
    "\n",
    "reductions = [red[ind] for (red, ind) in zip(reds, inds)]\n",
    "\n",
    "print(reductions)\n",
    "\n",
    "for ind in itertools.product(*reductions):\n",
    "    print(ind)"
   ]
  },
  {
   "cell_type": "code",
   "execution_count": 273,
   "metadata": {},
   "outputs": [
    {
     "ename": "SyntaxError",
     "evalue": "can't use starred expression here (<ipython-input-273-bbd1fec3ac19>, line 4)",
     "output_type": "error",
     "traceback": [
      "\u001b[0;36m  File \u001b[0;32m\"<ipython-input-273-bbd1fec3ac19>\"\u001b[0;36m, line \u001b[0;32m4\u001b[0m\n\u001b[0;31mSyntaxError\u001b[0m\u001b[0;31m:\u001b[0m can't use starred expression here\n"
     ]
    }
   ],
   "source": [
    "get()"
   ]
  },
  {
   "cell_type": "code",
   "execution_count": 243,
   "metadata": {},
   "outputs": [
    {
     "name": "stdout",
     "output_type": "stream",
     "text": [
      "(array(1), array(4), array(7))\n",
      "(array(1), array(4), array(8))\n",
      "(array(1), array(4), array(9))\n",
      "(array(2), array(4), array(7))\n",
      "(array(2), array(4), array(8))\n",
      "(array(2), array(4), array(9))\n",
      "(array(1), array(5), array(7))\n",
      "(array(1), array(5), array(8))\n",
      "(array(1), array(5), array(9))\n",
      "(array(2), array(5), array(7))\n",
      "(array(2), array(5), array(8))\n",
      "(array(2), array(5), array(9))\n",
      "(array(1), array(6), array(7))\n",
      "(array(1), array(6), array(8))\n",
      "(array(1), array(6), array(9))\n",
      "(array(2), array(6), array(7))\n",
      "(array(2), array(6), array(8))\n",
      "(array(2), array(6), array(9))\n"
     ]
    }
   ],
   "source": [
    "for inds in np.nditer(np.meshgrid([1,2],[4,5,6],[7,8,9])):\n",
    "    print(inds)"
   ]
  },
  {
   "cell_type": "code",
   "execution_count": 310,
   "metadata": {},
   "outputs": [
    {
     "name": "stdout",
     "output_type": "stream",
     "text": [
      "(0, 0, 0)\n",
      "(0, 1, 0)\n",
      "(0, 0, 1)\n",
      "(0, 1, 1)\n",
      "(0, 0, 2)\n",
      "(0, 1, 2)\n",
      "(0, 0, 3)\n",
      "(0, 1, 3)\n",
      "(0, 0, 0)\n",
      "(0, 1, 0)\n",
      "(0, 0, 1)\n",
      "(0, 1, 1)\n",
      "(0, 0, 2)\n",
      "(0, 1, 2)\n",
      "(0, 0, 3)\n",
      "(0, 1, 3)\n",
      "(0, 1, 0)\n",
      "(0, 2, 0)\n",
      "(0, 1, 1)\n",
      "(0, 2, 1)\n",
      "(0, 1, 2)\n",
      "(0, 2, 2)\n",
      "(0, 1, 3)\n",
      "(0, 2, 3)\n",
      "(1, 0, 0)\n",
      "(1, 1, 0)\n",
      "(1, 0, 1)\n",
      "(1, 1, 1)\n",
      "(1, 0, 2)\n",
      "(1, 1, 2)\n",
      "(1, 0, 3)\n",
      "(1, 1, 3)\n",
      "(1, 0, 0)\n",
      "(1, 1, 0)\n",
      "(1, 0, 1)\n",
      "(1, 1, 1)\n",
      "(1, 0, 2)\n",
      "(1, 1, 2)\n",
      "(1, 0, 3)\n",
      "(1, 1, 3)\n",
      "(1, 1, 0)\n",
      "(1, 2, 0)\n",
      "(1, 1, 1)\n",
      "(1, 2, 1)\n",
      "(1, 1, 2)\n",
      "(1, 2, 2)\n",
      "(1, 1, 3)\n",
      "(1, 2, 3)\n"
     ]
    }
   ],
   "source": [
    "for ii1, i1 in np.ndenumerate(indices):\n",
    "    \n",
    "    for ii2 in itertools.product(*[red[i] for red, i in zip(reds, ii1)]):\n",
    "\n",
    "    \n",
    "        print(f'{ii2}')"
   ]
  },
  {
   "cell_type": "code",
   "execution_count": 147,
   "metadata": {},
   "outputs": [
    {
     "data": {
      "text/plain": [
       "[[0, 1, 2],\n",
       " [1, 2, 0],\n",
       " [2, 3, 1, 0],\n",
       " [3, 4, 2],\n",
       " [4, 5, 3],\n",
       " [5, 6, 4],\n",
       " [6, 7, 5],\n",
       " [7, 8, 6, 9],\n",
       " [8, 9, 7],\n",
       " [9, 8, 7]]"
      ]
     },
     "execution_count": 147,
     "metadata": {},
     "output_type": "execute_result"
    }
   ],
   "source": [
    "ind_all"
   ]
  },
  {
   "cell_type": "code",
   "execution_count": null,
   "metadata": {},
   "outputs": [],
   "source": [
    "for (p1, r1, f1), i1 in np.nditer(indices)"
   ]
  },
  {
   "cell_type": "code",
   "execution_count": 104,
   "metadata": {},
   "outputs": [],
   "source": [
    "# @njit\n",
    "def get_Sigma12():\n",
    "    \"\"\"\n",
    "    Σ12 = [ k(xb,xi)  L(1) k(xa,xi) ]\n",
    "    \"\"\"\n",
    "    # initialize\n",
    "    data = np.zeros(datsize_S12, dtype=np.float64)\n",
    "    id_i = np.zeros(datsize_S12, dtype=np.int64)\n",
    "    id_j = np.zeros(datsize_S12, dtype=np.int64)\n",
    "    # set index\n",
    "    index = 0\n",
    "    \n",
    "    # For all boundary points\n",
    "    for b2 in range(nboundary):\n",
    "        p2 = boundary2point[b2]\n",
    "\n",
    "        # For all (general) points (close to the considered boundary point p1)\n",
    "        for i1 in range(len(ind_all[p2])):\n",
    "            p1 = ind_all[p2][i1]\n",
    "        \n",
    "            for f2 in range(nfreqs):\n",
    "                for f1 in range(nfreqs):\n",
    "            \n",
    "                    for r2 in range(nrays):\n",
    "                        for r1 in range(nrays):\n",
    "            \n",
    "                            kk = k(r1, p1, f1, r2, p2, f2)\n",
    "                            j1 = r1 + nrays*(f1 + nfreqs*p1) \n",
    "                            j2 = r2 + nrays*(f2 + nfreqs*b2)\n",
    "                \n",
    "                            data[index] = kk\n",
    "                            id_i[index] = j1 \n",
    "                            id_j[index] = j2\n",
    "                            index += 1    \n",
    "\n",
    "    # For all (general) points\n",
    "    for p2 in range(npoints):\n",
    "        i2 = p2 + nboundary\n",
    "\n",
    "        # For all (general) points (close to the considered general point p1)\n",
    "        for i1 in range(min([len(ind_all[p2]), npoints])):\n",
    "            p1 = ind_all[p2][i1]\n",
    "        \n",
    "            for f2 in range(nfreqs):\n",
    "                for f1 in range(nfreqs):\n",
    "                \n",
    "                    for r2 in range(nrays):\n",
    "                        for r1 in range(nrays):\n",
    "                            \n",
    "                            Lk = L1_k(r1, p1, f1, r2, p2, f2)\n",
    "                            j1 = r1 + nrays*(f1 + nfreqs*p1) \n",
    "                            j2 = r2 + nrays*(f2 + nfreqs*i2)\n",
    "                            \n",
    "                            data[index] = Lk\n",
    "                            id_i[index] = j1\n",
    "                            id_j[index] = j2\n",
    "                            index += 1\n",
    "\n",
    "    return (data, (id_i, id_j))\n",
    "\n",
    "\n",
    "# @njit\n",
    "def get_Sigma22():\n",
    "    \"\"\"\n",
    "    Σ22 = [      k(xb,xb)       L(1) k(xa,xb) ]\n",
    "          [ L(2) k(xb,xa)  L(2) L(1) k(xa,xa) ]\n",
    "    \"\"\"\n",
    "    # initialize\n",
    "    data = np.zeros(datsize_S22, dtype=np.float64)\n",
    "    id_i = np.zeros(datsize_S22, dtype=np.int64)\n",
    "    id_j = np.zeros(datsize_S22, dtype=np.int64)\n",
    "    # set index\n",
    "    index = 0\n",
    "    \n",
    "    # For all boundary points\n",
    "    for b1 in range(nboundary):\n",
    "        p1 = boundary2point[b1]\n",
    "\n",
    "        # For all boundary points (close to the considered boundary point p1)\n",
    "        for i2 in range(min([len(ind_bdy[b1]), nboundary])):\n",
    "            b2 = ind_bdy[b1][i2]\n",
    "            p2 = boundary2point[b2]\n",
    "            \n",
    "            for f1 in range(nfreqs):\n",
    "                for f2 in range(nfreqs):\n",
    "\n",
    "                    for r1 in range(nrays):\n",
    "                        for r2 in range(nrays):  \n",
    "                                \n",
    "                            kk = k(r1, p1, f1, r2, p2, f2)\n",
    "                            j1 = r1 + nrays*(f1 + nfreqs*b1) \n",
    "                            j2 = r2 + nrays*(f2 + nfreqs*b2)\n",
    "                \n",
    "                            data[index] = kk\n",
    "                            id_i[index] = j1 \n",
    "                            id_j[index] = j2\n",
    "                            index += 1\n",
    "                            \n",
    "#                             print ('kk  ', p1, r1, ';', p2, r2, ' ', kk)\n",
    " \n",
    "        # For all (general) points (close to the considered boundary point p1)\n",
    "        for i2 in range(min([len(ind_all[p1]), npoints])):\n",
    "            p2 = ind_all[p1][i2]\n",
    "                    \n",
    "            for f1 in range(nfreqs):\n",
    "                for f2 in range(nfreqs):\n",
    "\n",
    "                    for r1 in range(nrays):\n",
    "                        for r2 in range(nrays):  \n",
    "                    \n",
    "                            Lk = L1_k(r1, p1, f1, r2, p2, f2)\n",
    "                            j1 = r1 + nrays*(f1 + nfreqs* b1             ) \n",
    "                            j2 = r2 + nrays*(f2 + nfreqs*(p2 + nboundary))\n",
    "\n",
    "                            data[index] = Lk\n",
    "                            id_i[index] = j1\n",
    "                            id_j[index] = j2\n",
    "                            index += 1\n",
    "                            \n",
    "                            data[index] = Lk\n",
    "                            id_i[index] = j2\n",
    "                            id_j[index] = j1 \n",
    "                            index += 1\n",
    "                        \n",
    "#                             print ('Lk', Lk, p1, r1, p2, r2)\n",
    "                            \n",
    "    # For all (general) points\n",
    "    for p1 in range(npoints):\n",
    "        i1 = p1 + nboundary\n",
    "\n",
    "        # For all (general) points (close to the considered general point p1)\n",
    "        for i2 in range(min([len(ind_all[p1]), npoints])):\n",
    "            p2 = ind_all[p1][i2]\n",
    "        \n",
    "            for f1 in range(nfreqs):\n",
    "                for f2 in range(nfreqs):\n",
    "                \n",
    "                    for r1 in range(nrays):\n",
    "                        for r2 in range(nrays):\n",
    "                            \n",
    "                            L2 = L1L2_k(r1, p1, f1, r2, p2, f2)\n",
    "                            j1 = r1 + nrays*(f1 + nfreqs* i1             ) \n",
    "                            j2 = r2 + nrays*(f2 + nfreqs*(p2 + nboundary))\n",
    "                            \n",
    "                            data[index] = L2\n",
    "                            id_i[index] = j1\n",
    "                            id_j[index] = j2\n",
    "                            index += 1\n",
    "                            \n",
    "#                             print ('L2  ', p1, r1, ';', p2, r2, ' ', L2)\n",
    "                            \n",
    "    print(datsize_S22, index)\n",
    "    return (data, (id_i, id_j))\n",
    " \n",
    "\n",
    "# @njit\n",
    "def get_condition():\n",
    "    \"\"\"\n",
    "    condition = [ S    ]\n",
    "                [ Ibdy ]\n",
    "    \"\"\"\n",
    "    # initialize\n",
    "    condition = np.zeros(vecsize)\n",
    "\n",
    "    # For all boundary points\n",
    "    for i1 in range(nboundary):\n",
    "        p1 = boundary2point[i1]\n",
    "        \n",
    "        for f1 in range(nfreqs):\n",
    "            \n",
    "            for r1 in range(nrays):    \n",
    "                        \n",
    "                j1 = r1 + nrays*(f1 + nfreqs*i1)\n",
    "                \n",
    "#                 condition[j1] = boundary_condition[i1,f1]\n",
    "                condition[j1] = 0.0\n",
    "\n",
    "    # For all (general) points\n",
    "    for p1 in range(npoints):\n",
    "        i1 = p1 + nboundary\n",
    "        \n",
    "        for f1 in range(nfreqs):\n",
    "            for r1 in range(nrays):\n",
    "\n",
    "                j1 = r1 + nrays*(f1 + nfreqs* i1)\n",
    "                \n",
    "#                 condition[j1] = eta[p1,f1] / chi[p1,f1]\n",
    "                condition[j1] = 1.0\n",
    "\n",
    "    return condition"
   ]
  },
  {
   "cell_type": "markdown",
   "metadata": {},
   "source": [
    "\\begin{equation}\n",
    "\\left[\n",
    "\\begin{array}{rr}\n",
    "             f(x_{\\texttt{i}}) \\\\\n",
    "    \\text{B} f(x_{\\texttt{b}}) \\\\\n",
    "    \\text{L} f(x_{\\texttt{a}})\n",
    "\\end{array} \n",
    "\\right]\\\n",
    "\\ \\sim \\\n",
    "\\mathcal{N}\n",
    "\\left(\n",
    "    \\left[\n",
    "    \\begin{array}{rr}\n",
    "                 \\mu(x_{\\texttt{i}}) \\\\\n",
    "        \\text{B} \\mu(x_{\\texttt{b}}) \\\\\n",
    "        \\text{L} \\mu(x_{\\texttt{a}})\n",
    "    \\end{array}\n",
    "    \\right],\n",
    "    \\left[\n",
    "    \\begin{array}{rrr}\n",
    "                   k(x_{\\texttt{i}}, x_{\\texttt{i}}) &                \\text{B}^{(1)} k(x_{\\texttt{b}}, x_{\\texttt{i}}) &                \\text{L}^{(1)} k(x_{\\texttt{a}}, x_{\\texttt{i}}) \\\\\n",
    "    \\text{B}^{(2)} k(x_{\\texttt{i}}, x_{\\texttt{b}}) & \\text{B}^{(2)} \\text{B}^{(1)} k(x_{\\texttt{b}}, x_{\\texttt{b}}) & \\text{B}^{(2)} \\text{L}^{(1)} k(x_{\\texttt{a}}, x_{\\texttt{b}}) \\\\\n",
    "    \\text{L}^{(2)} k(x_{\\texttt{i}}, x_{\\texttt{a}}) & \\text{L}^{(2)} \\text{B}^{(1)} k(x_{\\texttt{b}}, x_{\\texttt{a}}) & \\text{L}^{(2)} \\text{L}^{(1)} k(x_{\\texttt{a}}, x_{\\texttt{a}})\n",
    "    \\end{array}\n",
    "    \\right]\n",
    "\\right) .\n",
    "\\end{equation}"
   ]
  },
  {
   "cell_type": "code",
   "execution_count": 427,
   "metadata": {},
   "outputs": [],
   "source": [
    "# Specify dimensions of (sub-spaces of) the domain\n",
    "xdim_blk = [npoints,   nfreqs, nrays]\n",
    "xdim_bdy = [nboundary, nfreqs, nrays]\n",
    "# Specify dimensions of (sub-spaces of) the codomain\n",
    "ydim_blk = [2]\n",
    "ydim_bdy = [1]\n",
    "# Get total dims\n",
    "dims_blk = xdim_blk + ydim_blk\n",
    "dims_bdy = xdim_bdy + ydim_bdy\n",
    "# Initialize indices and reductions\n",
    "inds_blk = [np.arange(dim) for dim in dims_blk]\n",
    "inds_bdy = [np.arange(dim) for dim in dims_bdy]\n",
    "# (Optionally) specify reductions of sub-spaces\n",
    "REDS_blk = [np.arange(dim) for dim in dims_blk]\n",
    "def reds_blk(ii):\n",
    "    REDS_blk[0] = ind_all[ii[0]]\n",
    "    return REDS_blk\n",
    "REDS_bdy = [np.arange(dim) for dim in dims_bdy]\n",
    "def reds_bdy(ii):\n",
    "    REDS_bdy[0] = ind_bdy[ii[0]]\n",
    "    return REDS_bdy\n",
    "# Get dimensions of linearised spaces\n",
    "dim_blk = np.prod(dims_blk)\n",
    "dim_bdy = np.prod(dims_bdy)\n",
    "dim_tot = dim_blk + dim_bdy\n",
    "# Get indices of linearised spaces\n",
    "linds_blk = np.arange(dim_blk).reshape(dims_blk)\n",
    "linds_bdy = np.arange(dim_bdy).reshape(dims_bdy)\n",
    "\n",
    "def bdy_2_blk(ii):\n",
    "    ii = list(ii)\n",
    "    ii[0] = boundary2point[ii[0]]\n",
    "    return tuple(ii)"
   ]
  },
  {
   "cell_type": "code",
   "execution_count": 469,
   "metadata": {},
   "outputs": [],
   "source": [
    "def get_datsize_S22():\n",
    "\n",
    "    # Set index\n",
    "    index = 0\n",
    "\n",
    "    for ii1_bdy in itertools.product(*inds_bdy):\n",
    "        ii1_blk = bdy_2_blk(ii1_bdy)\n",
    "        ii1     = linds_bdy[ii1_bdy]\n",
    "        for ii2_bdy in itertools.product(*reds_bdy(ii1_bdy)):    \n",
    "            ii2_blk = bdy_2_blk(ii2_bdy)\n",
    "            ii2     = linds_bdy[ii2_bdy]\n",
    "            if (ii1 <= ii2):\n",
    "                index += 1\n",
    "                if (ii1 < ii2):\n",
    "                    index += 1\n",
    "\n",
    "    for ii1_bdy in itertools.product(*inds_bdy):\n",
    "        ii1_blk = bdy_2_blk(ii1_bdy)\n",
    "        for ii2_blk in itertools.product(*reds_blk(ii1_blk)): \n",
    "            index += 2\n",
    "            \n",
    "    for ii1_blk in itertools.product(*inds_blk):\n",
    "        ii1 = linds_blk[ii1_blk] + dim_bdy\n",
    "        for ii2_blk in itertools.product(*reds_blk(ii1_blk)):\n",
    "            ii2 = linds_blk[ii2_blk] + dim_bdy\n",
    "            if (ii1 <= ii2):\n",
    "                index += 1\n",
    "                if (ii1 < ii2):\n",
    "                    index += 1\n",
    "                    \n",
    "    return index+1\n",
    "\n",
    "\n",
    "def get_datsize_S12():\n",
    "\n",
    "    # Set index\n",
    "    index = 0\n",
    "    \n",
    "    for ii1_bdy in itertools.product(*inds_bdy):\n",
    "        ii1_blk = bdy_2_blk(ii1_bdy)\n",
    "        ii1     = linds_bdy[ii1_bdy]\n",
    "        for ii2_blk in itertools.product(*reds_blk(ii1_blk)):\n",
    "            ii2 = linds_blk[ii2_blk]\n",
    "            index += 1\n",
    "\n",
    "    for ii1_blk in itertools.product(*inds_blk):\n",
    "        ii1 = linds_blk[ii1_blk]\n",
    "        for ii2_blk in itertools.product(*reds_blk(ii1_blk)):\n",
    "            ii2 = linds_blk[ii2_blk] + dim_bdy\n",
    "            index += 1\n",
    "                    \n",
    "    return index+1"
   ]
  },
  {
   "cell_type": "code",
   "execution_count": 442,
   "metadata": {},
   "outputs": [
    {
     "data": {
      "text/plain": [
       "147"
      ]
     },
     "execution_count": 442,
     "metadata": {},
     "output_type": "execute_result"
    }
   ],
   "source": [
    "datsize_S22 = get_datsize_S22()\n",
    "datsize_S22"
   ]
  },
  {
   "cell_type": "code",
   "execution_count": 470,
   "metadata": {},
   "outputs": [
    {
     "data": {
      "text/plain": [
       "133"
      ]
     },
     "execution_count": 470,
     "metadata": {},
     "output_type": "execute_result"
    }
   ],
   "source": [
    "datsize_S12 = get_datsize_S12()\n",
    "datsize_S12"
   ]
  },
  {
   "cell_type": "code",
   "execution_count": 471,
   "metadata": {},
   "outputs": [],
   "source": [
    "# # @njit\n",
    "# def k (ii1, ii2):\n",
    "#     # Unpack indices\n",
    "#     p1, p2 = ii1[0], ii2[0]\n",
    "#     f1, f2 = ii1[1], ii2[1]\n",
    "#     r1, r2 = ii1[2], ii2[2]\n",
    "#     z1, z2 = ii1[3], ii2[3]\n",
    "#     # Apply operator\n",
    "#     return kernel(p1,p2)\n",
    "\n",
    "# # @njit\n",
    "# def B1_k(ii1, ii2):\n",
    "#     \"\"\"\n",
    "#     B1 k(x1,x2) = k(x1,x2)\n",
    "#     \"\"\"\n",
    "#     return k(ii1, ii2)\n",
    "\n",
    "# # @njit\n",
    "# def L1_k(ii1, ii2):\n",
    "#     \"\"\"\n",
    "#     L1 k(x1,x2) = (1 + ∇1/χ1) k(x1,x2)\n",
    "#     \"\"\"\n",
    "#     # Unpack indices\n",
    "#     p1, p2 = ii1[0], ii2[0]\n",
    "#     f1, f2 = ii1[1], ii2[1]\n",
    "#     r1, r2 = ii1[2], ii2[2]\n",
    "#     z1, z2 = ii1[3], ii2[3]\n",
    "#     # Apply operator\n",
    "#     return kernel(p1,p2) + d1_kernel(p1,p2) / chi[p1,f1]\n",
    "\n",
    "# # @njit\n",
    "# def L1B2_k(ii1, ii2):\n",
    "#     \"\"\"\n",
    "#     L1 B2 k(x1,x2) = L1 k(x1,x2)\n",
    "#     \"\"\"\n",
    "#     return L1_k(ii1,ii2)\n",
    "\n",
    "# # @njit\n",
    "# def L1L2_k(ii1, ii2):\n",
    "#     \"\"\"\n",
    "#     L1 L2 k(x1,x2) = (1 + ∇1/χ1) (1 + ∇2/χ2) k(x1,x2)\n",
    "#     \"\"\"\n",
    "#     # Unpack indices\n",
    "#     p1, p2 = ii1[0], ii2[0]\n",
    "#     f1, f2 = ii1[1], ii2[1]\n",
    "#     r1, r2 = ii1[2], ii2[2]\n",
    "#     z1, z2 = ii1[3], ii2[3]\n",
    "#     # Apply operator\n",
    "#     return         kernel(p1,p2)              \\\n",
    "#             +   d2_kernel(p1,p2) / chi[p2,f2] \\\n",
    "#             +   d1_kernel(p1,p2) / chi[p1,f1] \\\n",
    "#             + d1d2_kernel(p1,p2) / chi[p1,f1] / chi[p2,f2]"
   ]
  },
  {
   "cell_type": "code",
   "execution_count": 472,
   "metadata": {},
   "outputs": [],
   "source": [
    "# @njit\n",
    "def B1_k(ii1, ii2):\n",
    "    \"\"\"\n",
    "    B1 k(x1,x2) = (1 + ∇1/χ1) k(x1,x2)\n",
    "    \"\"\"\n",
    "    # Unpack indices\n",
    "    p1, p2 = ii1[0], ii2[0]\n",
    "    f1, f2 = ii1[1], ii2[1]\n",
    "    r1, r2 = ii1[2], ii2[2]\n",
    "    z1, z2 = ii1[3], ii2[3]\n",
    "    # Apply operator\n",
    "    if (np.dot(boundary_normal[point2boundary[p1]], Rs[r1]) < 0.0):\n",
    "        if (z2 == 0):\n",
    "            return +kernel(p1,p2)\n",
    "        else:\n",
    "            return +kernel(p1,p2)\n",
    "    else:\n",
    "        if (z2 == 0):\n",
    "            return +kernel(p1,p2)\n",
    "        else:\n",
    "            return -kernel(p1,p2)\n",
    "        \n",
    "# @njit\n",
    "def L1_k(ii1, ii2):\n",
    "    \"\"\"\n",
    "    L1 k(x1,x2) = (1 + ∇1/χ1) k(x1,x2)\n",
    "    \"\"\"\n",
    "    # Unpack indices\n",
    "    p1, p2 = ii1[0], ii2[0]\n",
    "    f1, f2 = ii1[1], ii2[1]\n",
    "    r1, r2 = ii1[2], ii2[2]\n",
    "    z1, z2 = ii1[3], ii2[3]\n",
    "    # Apply operator\n",
    "    if (z1 == 0):\n",
    "        if (z2 == 0):\n",
    "            return d1_kernel(p1,p2)\n",
    "        else:\n",
    "            return kernel(p1,p2)\n",
    "    else:\n",
    "        if (z2 == 0):\n",
    "            return kernel(p1,p2)\n",
    "        else:\n",
    "            return d1_kernel(p1,p2)\n",
    "\n",
    "\n",
    "# @njit\n",
    "def B1B2_k(ii1, ii2):\n",
    "    \"\"\"\n",
    "    B1 B2 k(x1,x2) = (1 + ∇1/χ1) k(x1,x2)\n",
    "    \"\"\"\n",
    "    # Unpack indices\n",
    "    p1, p2 = ii1[0], ii2[0]\n",
    "    f1, f2 = ii1[1], ii2[1]\n",
    "    r1, r2 = ii1[2], ii2[2]\n",
    "    z1, z2 = ii1[3], ii2[3]\n",
    "    # Apply operator\n",
    "    if (np.dot(boundary_normal[point2boundary[p1]], Rs[r1]) < 0.0):\n",
    "        if (z2 == 0):\n",
    "            return 2.0 * kernel(p1,p2)\n",
    "        else:\n",
    "            return 0.0\n",
    "    else:\n",
    "        if (z2 == 0):\n",
    "            return 0.0\n",
    "        else:\n",
    "            return 2.0 * kernel(p1,p2)\n",
    "\n",
    "# @njit\n",
    "def L1B2_k(ii1, ii2):\n",
    "    \"\"\"\n",
    "    L1 B2 k(x1,x2) = (1 + ∇1/χ1) k(x1,x2)\n",
    "    \"\"\"\n",
    "    # Unpack indices\n",
    "    p1, p2 = ii1[0], ii2[0]\n",
    "    f1, f2 = ii1[1], ii2[1]\n",
    "    r1, r2 = ii1[2], ii2[2]\n",
    "    z1, z2 = ii1[3], ii2[3]\n",
    "    # Apply operator\n",
    "    if (np.dot(boundary_normal[point2boundary[p1]], Rs[r1]) < 0.0):\n",
    "        if (z2 == 0):\n",
    "            return +kernel(p1,p2) + d1_kernel(p1,p2) / chi[p1,f1]\n",
    "        else:\n",
    "            return +kernel(p1,p2) + d1_kernel(p1,p2) / chi[p1,f1]\n",
    "    else:\n",
    "        if (z2 == 0):\n",
    "            return -kernel(p1,p2) + d1_kernel(p1,p2) / chi[p1,f1]\n",
    "        else:\n",
    "            return +kernel(p1,p2) - d1_kernel(p1,p2) / chi[p1,f1]\n",
    "            \n",
    "\n",
    "# @njit\n",
    "def L1L2_k(ii1, ii2):\n",
    "    \"\"\"\n",
    "    L1 L2 k(x1,x2) = [ 1 + (∇1/χ1) (∇2/χ2)  (∇1/χ1)  +  (∇2/χ2) ] \n",
    "                     [ (∇1/χ1)  +  (∇2/χ2)  1 + (∇1/χ1) (∇2/χ2) ] k(x1,x2)\n",
    "    \"\"\"\n",
    "    # Unpack indices\n",
    "    p1, p2 = ii1[0], ii2[0]\n",
    "    f1, f2 = ii1[1], ii2[1]\n",
    "    r1, r2 = ii1[2], ii2[2]\n",
    "    z1, z2 = ii1[3], ii2[3]\n",
    "    # Apply operator\n",
    "    if (z1 == z2):\n",
    "        return kernel(p1,p2) + d1d2_kernel(p1,p2) / (chi[p1,f1] * chi[p2,f2])\n",
    "    else:\n",
    "        return d2_kernel(p1,p2) / chi[p2,f2] + d1_kernel(p1,p2) / chi[p1,f1]"
   ]
  },
  {
   "cell_type": "code",
   "execution_count": 486,
   "metadata": {},
   "outputs": [],
   "source": [
    "# @njit\n",
    "def get_Sigma12():\n",
    "    \"\"\"\n",
    "    Σ12 = [ B(1) k(xb,xi)  L(1) k(xa,xi) ]\n",
    "    \"\"\"\n",
    "    # initialize\n",
    "    data = np.zeros(datsize_S12, dtype=np.float64)\n",
    "    id_1 = np.zeros(datsize_S12, dtype=np.int64)\n",
    "    id_2 = np.zeros(datsize_S12, dtype=np.int64)\n",
    "    # set index\n",
    "    index = 0\n",
    "    \n",
    "    for ii1_bdy in itertools.product(*inds_bdy):\n",
    "        ii1_blk = bdy_2_blk(ii1_bdy)\n",
    "        ii1     = linds_bdy[ii1_bdy]\n",
    "        for ii2_blk in itertools.product(*reds_blk(ii1_blk)):\n",
    "            ii2 = linds_blk[ii2_blk]\n",
    "            # Compute element\n",
    "            Bk = B1_k(ii1_blk, ii2_blk)\n",
    "            # Add element\n",
    "            data[index] = Bk\n",
    "            id_1[index] = ii1\n",
    "            id_2[index] = ii2\n",
    "            index += 1\n",
    "\n",
    "    for ii1_blk in itertools.product(*inds_blk):\n",
    "        ii1 = linds_blk[ii1_blk]\n",
    "        for ii2_blk in itertools.product(*reds_blk(ii1_blk)):\n",
    "            ii2 = linds_blk[ii2_blk] + dim_bdy\n",
    "            # Compute element\n",
    "            Lk = L1_k(ii1_blk, ii2_blk)\n",
    "            # Add element\n",
    "            data[index] = Lk\n",
    "            id_1[index] = ii1\n",
    "            id_2[index] = ii2\n",
    "            index += 1\n",
    "\n",
    "    return (data, (id_1, id_2))\n",
    "\n",
    "\n",
    "def get_Sigma22():\n",
    "    \"\"\"\n",
    "    Σ22 = [ B(1) k(xb,xb) B(2)  L(1) k(xa,xb) B(2) ]\n",
    "          [ B(1) k(xb,xa) L(2)  L(1) k(xa,xa) L(2) ]\n",
    "    \"\"\"\n",
    "    # Initialize\n",
    "    data = np.zeros(datsize_S22, dtype=np.float64)\n",
    "    id_1 = np.zeros(datsize_S22, dtype=np.int64)\n",
    "    id_2 = np.zeros(datsize_S22, dtype=np.int64)\n",
    "    # Set index\n",
    "    index = 0\n",
    "\n",
    "    for ii1_bdy in itertools.product(*inds_bdy):\n",
    "        ii1_blk = bdy_2_blk(ii1_bdy)\n",
    "        ii1     = linds_bdy[ii1_bdy]\n",
    "        for ii2_bdy in itertools.product(*reds_bdy(ii1_bdy)):    \n",
    "            ii2_blk = bdy_2_blk(ii2_bdy)\n",
    "            ii2     = linds_bdy[ii2_bdy]\n",
    "            if (ii1 <= ii2):\n",
    "                # Compute element\n",
    "                BB = B1B2_k(ii1_blk, ii2_blk)\n",
    "                # Add upper triangular part\n",
    "                data[index] = BB\n",
    "                id_1[index] = ii1\n",
    "                id_2[index] = ii2\n",
    "                index += 1\n",
    "                if (ii1 < ii2):\n",
    "                    # Add lower triangular part\n",
    "                    data[index] = BB\n",
    "                    id_1[index] = ii2\n",
    "                    id_2[index] = ii1\n",
    "                    index += 1\n",
    "\n",
    "    for ii1_bdy in itertools.product(*inds_bdy):\n",
    "        ii1_blk = bdy_2_blk(ii1_bdy)\n",
    "        ii1     = linds_bdy[ii1_bdy]\n",
    "        for ii2_blk in itertools.product(*reds_blk(ii1_blk)):\n",
    "            ii2 = linds_blk[ii2_blk] + dim_bdy   \n",
    "            # Compute element\n",
    "            LB = L1B2_k(ii1_blk, ii2_blk)\n",
    "            # Add upper triangular part\n",
    "            data[index] = LB\n",
    "            id_1[index] = ii1\n",
    "            id_2[index] = ii2\n",
    "            index += 1\n",
    "            # Add lower triangular part\n",
    "            data[index] = LB\n",
    "            id_1[index] = ii2\n",
    "            id_2[index] = ii1 \n",
    "            index += 1\n",
    "            \n",
    "    for ii1_blk in itertools.product(*inds_blk):\n",
    "        ii1 = linds_blk[ii1_blk] + dim_bdy\n",
    "        for ii2_blk in itertools.product(*reds_blk(ii1_blk)):\n",
    "            ii2 = linds_blk[ii2_blk] + dim_bdy\n",
    "            if (ii1 <= ii2):\n",
    "                # Compute element\n",
    "                LL = L1L2_k(ii1_blk, ii2_blk)\n",
    "                # Add upper triangular part\n",
    "                data[index] = LL\n",
    "                id_1[index] = ii1\n",
    "                id_2[index] = ii2\n",
    "                index += 1\n",
    "                if (ii1 < ii2):\n",
    "                    # Add lower triangular part\n",
    "                    data[index] = LL\n",
    "                    id_1[index] = ii2\n",
    "                    id_2[index] = ii1\n",
    "                    index += 1\n",
    "                    \n",
    "    # Return the data\n",
    "    return (data, (id_1, id_2))\n",
    "\n",
    "\n",
    "# @njit\n",
    "def get_condition():\n",
    "    \"\"\"\n",
    "    condition = [ boundary condition ]\n",
    "                [ operator condition ] \n",
    "    \"\"\"\n",
    "    # initialize\n",
    "    condition = np.zeros(dim_tot)\n",
    "\n",
    "    for ii1_bdy in itertools.product(*inds_bdy):\n",
    "        ii1_blk = bdy_2_blk(ii1_bdy)\n",
    "        ii1     = linds_bdy[ii1_bdy]\n",
    "        # Set boundary condition\n",
    "        condition[ii1] = 1.0 #boundary_condition[ii1_bdy]\n",
    "        \n",
    "    for ii1_blk in itertools.product(*inds_blk):\n",
    "        ii1 = linds_blk[ii1_blk] + dim_bdy\n",
    "        # Set operator condition\n",
    "        condition[ii1] = 0.0 #operator_condition[ii1_blk]\n",
    "\n",
    "    return condition"
   ]
  },
  {
   "cell_type": "code",
   "execution_count": 474,
   "metadata": {},
   "outputs": [],
   "source": [
    "SIGMA22 = get_Sigma22()\n",
    "Sigma22 = sparse.coo_matrix(SIGMA22, shape=(dim_tot, dim_tot)).tocsc()"
   ]
  },
  {
   "cell_type": "code",
   "execution_count": 475,
   "metadata": {},
   "outputs": [
    {
     "name": "stdout",
     "output_type": "stream",
     "text": [
      "[[ 2.          0.          1.          1.          0.92743266  0.92743266\n",
      "   0.81647814  0.81647814  0.          0.          0.          0.\n",
      "   0.          0.          0.          0.          0.          0.\n",
      "   0.          0.          0.          0.        ]\n",
      " [ 0.          0.          0.          0.          0.          0.\n",
      "   0.          0.          0.          0.          0.          0.\n",
      "   0.          0.          0.          0.         -0.81647814  0.81647814\n",
      "  -0.92743266  0.92743266 -1.          1.        ]\n",
      " [ 1.          0.          1.04938272  0.          1.02141012  0.\n",
      "   0.94185648  0.          0.          0.          0.          0.\n",
      "   0.          0.          0.          0.          0.          0.\n",
      "   0.          0.          0.          0.        ]\n",
      " [ 1.          0.          0.          1.04938272  0.          1.02141012\n",
      "   0.          0.94185648  0.          0.          0.          0.\n",
      "   0.          0.          0.          0.          0.          0.\n",
      "   0.          0.          0.          0.        ]\n",
      " [ 0.92743266  0.          1.02141012  0.          1.04938272  0.\n",
      "   1.02141012  0.          0.          0.          0.          0.\n",
      "   0.          0.          0.          0.          0.          0.\n",
      "   0.          0.          0.          0.        ]\n",
      " [ 0.92743266  0.          0.          1.02141012  0.          1.04938272\n",
      "   0.          1.02141012  0.          0.          0.          0.\n",
      "   0.          0.          0.          0.          0.          0.\n",
      "   0.          0.          0.          0.        ]\n",
      " [ 0.81647814  0.          0.94185648  0.          1.02141012  0.\n",
      "   1.04938272  0.          1.02141012  0.          0.          0.\n",
      "   0.          0.          0.          0.          0.          0.\n",
      "   0.          0.          0.          0.        ]\n",
      " [ 0.81647814  0.          0.          0.94185648  0.          1.02141012\n",
      "   0.          1.04938272  0.          1.02141012  0.          0.\n",
      "   0.          0.          0.          0.          0.          0.\n",
      "   0.          0.          0.          0.        ]\n",
      " [ 0.          0.          0.          0.          0.          0.\n",
      "   1.02141012  0.          1.04938272  0.          1.02141012  0.\n",
      "   0.          0.          0.          0.          0.          0.\n",
      "   0.          0.          0.          0.        ]\n",
      " [ 0.          0.          0.          0.          0.          0.\n",
      "   0.          1.02141012  0.          1.04938272  0.          1.02141012\n",
      "   0.          0.          0.          0.          0.          0.\n",
      "   0.          0.          0.          0.        ]\n",
      " [ 0.          0.          0.          0.          0.          0.\n",
      "   0.          0.          1.02141012  0.          1.04938272  0.\n",
      "   1.02141012  0.          0.          0.          0.          0.\n",
      "   0.          0.          0.          0.        ]\n",
      " [ 0.          0.          0.          0.          0.          0.\n",
      "   0.          0.          0.          1.02141012  0.          1.04938272\n",
      "   0.          1.02141012  0.          0.          0.          0.\n",
      "   0.          0.          0.          0.        ]\n",
      " [ 0.          0.          0.          0.          0.          0.\n",
      "   0.          0.          0.          0.          1.02141012  0.\n",
      "   1.04938272  0.          1.02141012  0.          0.          0.\n",
      "   0.          0.          0.          0.        ]\n",
      " [ 0.          0.          0.          0.          0.          0.\n",
      "   0.          0.          0.          0.          0.          1.02141012\n",
      "   0.          1.04938272  0.          1.02141012  0.          0.\n",
      "   0.          0.          0.          0.        ]\n",
      " [ 0.          0.          0.          0.          0.          0.\n",
      "   0.          0.          0.          0.          0.          0.\n",
      "   1.02141012  0.          1.04938272  0.          1.02141012  0.\n",
      "   0.          0.          0.          0.        ]\n",
      " [ 0.          0.          0.          0.          0.          0.\n",
      "   0.          0.          0.          0.          0.          0.\n",
      "   0.          1.02141012  0.          1.04938272  0.          1.02141012\n",
      "   0.          0.          0.          0.        ]\n",
      " [ 0.         -0.81647814  0.          0.          0.          0.\n",
      "   0.          0.          0.          0.          0.          0.\n",
      "   0.          0.          1.02141012  0.          1.04938272  0.\n",
      "   1.02141012  0.          0.          0.        ]\n",
      " [ 0.          0.81647814  0.          0.          0.          0.\n",
      "   0.          0.          0.          0.          0.          0.\n",
      "   0.          0.          0.          1.02141012  0.          1.04938272\n",
      "   0.          1.02141012  0.          0.        ]\n",
      " [ 0.         -0.92743266  0.          0.          0.          0.\n",
      "   0.          0.          0.          0.          0.          0.\n",
      "   0.          0.          0.          0.          1.02141012  0.\n",
      "   1.04938272  0.          1.02141012  0.        ]\n",
      " [ 0.          0.92743266  0.          0.          0.          0.\n",
      "   0.          0.          0.          0.          0.          0.\n",
      "   0.          0.          0.          0.          0.          1.02141012\n",
      "   0.          1.04938272  0.          1.02141012]\n",
      " [ 0.         -1.          0.          0.          0.          0.\n",
      "   0.          0.          0.          0.          0.          0.\n",
      "   0.          0.          0.          0.          0.          0.\n",
      "   1.02141012  0.          1.04938272  0.        ]\n",
      " [ 0.          1.          0.          0.          0.          0.\n",
      "   0.          0.          0.          0.          0.          0.\n",
      "   0.          0.          0.          0.          0.          0.\n",
      "   0.          1.02141012  0.          1.04938272]]\n"
     ]
    }
   ],
   "source": [
    "print(Sigma22.todense())"
   ]
  },
  {
   "cell_type": "code",
   "execution_count": 476,
   "metadata": {},
   "outputs": [
    {
     "data": {
      "text/plain": [
       "<matplotlib.collections.PathCollection at 0x7f69683864e0>"
      ]
     },
     "execution_count": 476,
     "metadata": {},
     "output_type": "execute_result"
    },
    {
     "data": {
      "image/png": "[encoded data removed]",
      "text/plain": [
       "<Figure size 720x480 with 1 Axes>"
      ]
     },
     "metadata": {
      "needs_background": "light"
     },
     "output_type": "display_data"
    }
   ],
   "source": [
    "vmin = -np.max(np.abs(Sigma22.todense()))\n",
    "vmax = +np.max(np.abs(Sigma22.todense()))\n",
    "plt.figure(dpi=120)\n",
    "plt.imshow(Sigma22.todense(), cmap='Spectral')\n",
    "plt.scatter(SIGMA22[1][1], SIGMA22[1][0], c='k', marker='.', s=1)"
   ]
  },
  {
   "cell_type": "code",
   "execution_count": 477,
   "metadata": {},
   "outputs": [
    {
     "data": {
      "text/plain": [
       "-0.00012194657478558625"
      ]
     },
     "execution_count": 477,
     "metadata": {},
     "output_type": "execute_result"
    }
   ],
   "source": [
    "np.linalg.det(Sigma22.todense())"
   ]
  },
  {
   "cell_type": "code",
   "execution_count": 478,
   "metadata": {},
   "outputs": [],
   "source": [
    "SIGMA12 = get_Sigma12()\n",
    "Sigma12 = sparse.coo_matrix(SIGMA12, shape=(dim_blk, dim_tot)).tocsc()"
   ]
  },
  {
   "cell_type": "code",
   "execution_count": 479,
   "metadata": {},
   "outputs": [
    {
     "name": "stdout",
     "output_type": "stream",
     "text": [
      "[[ 1.          1.          0.97561098  1.97561098  0.85777687  1.88156617\n",
      "  -0.08947706  0.90595519  0.          0.          0.          0.\n",
      "   0.          0.          0.          0.          0.          0.\n",
      "   0.          0.          0.          0.        ]\n",
      " [ 0.          0.          1.          0.          0.97561098 -0.04817832\n",
      "   0.90595519 -0.08947706  0.          0.          0.          0.\n",
      "   0.          0.          0.90595519 -0.90595519  0.97561098 -0.97561098\n",
      "   1.         -1.          0.          0.        ]\n",
      " [ 0.          0.          0.04817832  0.97561098  0.          1.\n",
      "  -0.04817832  0.97561098  0.          0.          0.          0.\n",
      "   0.          0.          0.          0.          0.          0.\n",
      "   0.          0.          0.          0.        ]\n",
      " [ 0.          0.          0.97561098  0.04817832  1.          0.\n",
      "   0.97561098 -0.04817832  0.          0.          0.          0.\n",
      "   0.          0.          0.          0.          0.          0.\n",
      "   0.          0.          0.          0.        ]\n",
      " [ 0.          0.          0.          0.          0.04817832  0.97561098\n",
      "   0.          1.         -0.04817832  0.97561098  0.          0.\n",
      "   0.          0.          0.          0.          0.          0.\n",
      "   0.          0.          0.          0.        ]\n",
      " [ 0.          0.          0.          0.          0.97561098  0.04817832\n",
      "   1.          0.          0.97561098 -0.04817832  0.          0.\n",
      "   0.          0.          0.          0.          0.          0.\n",
      "   0.          0.          0.          0.        ]\n",
      " [ 0.          0.          0.          0.          0.          0.\n",
      "   0.04817832  0.97561098  0.          1.         -0.04817832  0.97561098\n",
      "   0.          0.          0.          0.          0.          0.\n",
      "   0.          0.          0.          0.        ]\n",
      " [ 0.          0.          0.          0.          0.          0.\n",
      "   0.97561098  0.04817832  1.          0.          0.97561098 -0.04817832\n",
      "   0.          0.          0.          0.          0.          0.\n",
      "   0.          0.          0.          0.        ]\n",
      " [ 0.          0.          0.          0.          0.          0.\n",
      "   0.          0.          0.04817832  0.97561098  0.          1.\n",
      "  -0.04817832  0.97561098  0.          0.          0.          0.\n",
      "   0.          0.          0.          0.        ]\n",
      " [ 0.          0.          0.          0.          0.          0.\n",
      "   0.          0.          0.97561098  0.04817832  1.          0.\n",
      "   0.97561098 -0.04817832  0.          0.          0.          0.\n",
      "   0.          0.          0.          0.        ]\n",
      " [ 0.          0.          0.          0.          0.          0.\n",
      "   0.          0.          0.          0.          0.04817832  0.97561098\n",
      "   0.          1.         -0.04817832  0.97561098  0.          0.\n",
      "   0.          0.          0.          0.        ]\n",
      " [ 0.          0.          0.          0.          0.          0.\n",
      "   0.          0.          0.          0.          0.97561098  0.04817832\n",
      "   1.          0.          0.97561098 -0.04817832  0.          0.\n",
      "   0.          0.          0.          0.        ]\n",
      " [ 0.          0.          0.          0.          0.          0.\n",
      "   0.          0.          0.          0.          0.          0.\n",
      "   0.04817832  0.97561098  0.          1.         -0.04817832  0.97561098\n",
      "   0.          0.          0.          0.        ]\n",
      " [ 0.          0.          0.          0.          0.          0.\n",
      "   0.          0.          0.          0.          0.          0.\n",
      "   0.97561098  0.04817832  1.          0.          0.97561098 -0.04817832\n",
      "   0.          0.          0.          0.        ]\n",
      " [ 0.          0.          0.          0.          0.          0.\n",
      "   0.          0.          0.          0.          0.          0.\n",
      "   0.          0.          0.04817832  0.97561098  0.          1.\n",
      "  -0.04817832  0.97561098  0.          0.        ]\n",
      " [ 0.          0.          0.          0.          0.          0.\n",
      "   0.          0.          0.          0.          0.          0.\n",
      "   0.          0.          0.97561098  0.04817832  1.          0.\n",
      "   0.97561098 -0.04817832  0.          0.        ]\n",
      " [ 0.          0.          0.          0.          0.          0.\n",
      "   0.          0.          0.          0.          0.          0.\n",
      "   0.          0.          0.          0.          0.04817832  0.97561098\n",
      "   0.          1.         -0.04817832  0.97561098]\n",
      " [ 0.          0.          0.          0.          0.          0.\n",
      "   0.          0.          0.          0.          0.          0.\n",
      "   0.          0.          0.          0.          0.97561098  0.04817832\n",
      "   1.          0.          0.97561098 -0.04817832]\n",
      " [ 0.          0.          0.          0.          0.          0.\n",
      "   0.          0.          0.          0.          0.          0.\n",
      "   0.          0.          0.          0.          0.08947706  0.90595519\n",
      "   0.04817832  0.97561098  0.          1.        ]\n",
      " [ 0.          0.          0.          0.          0.          0.\n",
      "   0.          0.          0.          0.          0.          0.\n",
      "   0.          0.          0.          0.          0.90595519  0.08947706\n",
      "   0.97561098  0.04817832  1.          0.        ]]\n"
     ]
    }
   ],
   "source": [
    "print(Sigma12.todense())"
   ]
  },
  {
   "cell_type": "code",
   "execution_count": 480,
   "metadata": {},
   "outputs": [
    {
     "data": {
      "text/plain": [
       "<matplotlib.collections.PathCollection at 0x7f69680520b8>"
      ]
     },
     "execution_count": 480,
     "metadata": {},
     "output_type": "execute_result"
    },
    {
     "data": {
      "image/png": "[encoded data removed]",
      "text/plain": [
       "<Figure size 660x440 with 1 Axes>"
      ]
     },
     "metadata": {
      "needs_background": "light"
     },
     "output_type": "display_data"
    }
   ],
   "source": [
    "vmin = -np.max(np.abs(Sigma12.todense()))\n",
    "vmax = +np.max(np.abs(Sigma12.todense()))\n",
    "plt.figure(dpi=110)\n",
    "plt.imshow(Sigma12.todense(), cmap='Spectral', vmin=vmin, vmax=vmax)\n",
    "plt.scatter(SIGMA12[1][1], SIGMA12[1][0], c='k', marker='X', s=2)"
   ]
  },
  {
   "cell_type": "code",
   "execution_count": 481,
   "metadata": {},
   "outputs": [
    {
     "data": {
      "text/plain": [
       "array([1., 1., 1., 1., 1., 1., 1., 1., 1., 1., 1., 1., 1., 1., 1., 1., 1.,\n",
       "       1., 1., 1., 1., 1.])"
      ]
     },
     "execution_count": 481,
     "metadata": {},
     "output_type": "execute_result"
    }
   ],
   "source": [
    "condition = get_condition()\n",
    "condition"
   ]
  },
  {
   "cell_type": "code",
   "execution_count": 482,
   "metadata": {},
   "outputs": [
    {
     "data": {
      "text/plain": [
       "<matplotlib.image.AxesImage at 0x7f69606abe48>"
      ]
     },
     "execution_count": 482,
     "metadata": {},
     "output_type": "execute_result"
    },
    {
     "data": {
      "image/png": "[encoded data removed]",
      "text/plain": [
       "<Figure size 660x440 with 1 Axes>"
      ]
     },
     "metadata": {
      "needs_background": "light"
     },
     "output_type": "display_data"
    }
   ],
   "source": [
    "plt.figure(dpi=110)\n",
    "plt.imshow([condition], cmap='Spectral')"
   ]
  },
  {
   "cell_type": "code",
   "execution_count": 483,
   "metadata": {},
   "outputs": [
    {
     "data": {
      "text/plain": [
       "array([ 95.32872964,  48.52600918,  48.63133462,  48.63052947,\n",
       "       -41.57174609, -41.48289712,   0.9813108 ,   0.9924828 ,\n",
       "         0.94233299,   0.93627871,   0.93990964,   0.93495772,\n",
       "         0.98137717,   0.99251898,   1.43120184,   0.44469784,\n",
       "         1.47279782,   0.40475329,   1.47666255,   0.47666255])"
      ]
     },
     "execution_count": 483,
     "metadata": {},
     "output_type": "execute_result"
    }
   ],
   "source": [
    "weight = sparse.linalg.spsolve(Sigma22, condition)\n",
    "result = Sigma12 * weight\n",
    "result"
   ]
  },
  {
   "cell_type": "code",
   "execution_count": 485,
   "metadata": {},
   "outputs": [
    {
     "data": {
      "text/plain": [
       "[<matplotlib.lines.Line2D at 0x7f696052e860>]"
      ]
     },
     "execution_count": 485,
     "metadata": {},
     "output_type": "execute_result"
    },
    {
     "data": {
      "image/png": "[encoded data removed]",
      "text/plain": [
       "<Figure size 432x288 with 1 Axes>"
      ]
     },
     "metadata": {
      "needs_background": "light"
     },
     "output_type": "display_data"
    }
   ],
   "source": [
    "plt.plot(rs, result[::2])"
   ]
  },
  {
   "cell_type": "code",
   "execution_count": null,
   "metadata": {},
   "outputs": [],
   "source": []
  }
 ],
 "metadata": {
  "kernelspec": {
   "display_name": "Python 3",
   "language": "python",
   "name": "python3"
  },
  "language_info": {
   "codemirror_mode": {
    "name": "ipython",
    "version": 3
   },
   "file_extension": ".py",
   "mimetype": "text/x-python",
   "name": "python",
   "nbconvert_exporter": "python",
   "pygments_lexer": "ipython3",
   "version": "3.6.12"
  }
 },
 "nbformat": 4,
 "nbformat_minor": 4
}

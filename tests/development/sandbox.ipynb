{
 "cells": [
  {
   "cell_type": "code",
   "execution_count": 1,
   "metadata": {},
   "outputs": [],
   "source": [
    "import os\n",
    "import sys\n",
    "\n",
    "curdir = '/home/frederik/Dropbox/GitHub/Magritte/tests/development/'\n",
    "datdir = f'{curdir}../data/'\n",
    "moddir = f'{curdir}../models/'\n",
    "resdir = f'{curdir}../results/'\n",
    "sys.path.append(f'{curdir}/../../')\n",
    "\n",
    "import numpy             as np\n",
    "import scipy             as sp\n",
    "import healpy            as hp\n",
    "import matplotlib.pyplot as plt\n",
    "import magritte.tools    as tools\n",
    "import magritte.setup    as setup\n",
    "import magritte.mesher   as mesher\n",
    "import magritte.core     as magritte\n",
    "\n",
    "from scipy.interpolate import interp1d"
   ]
  },
  {
   "cell_type": "markdown",
   "metadata": {
    "collapsed": "true"
   },
   "source": [
    "# Setup 1: VZ 1, 3D mesher\n",
    "---"
   ]
  },
  {
   "cell_type": "code",
   "execution_count": 2,
   "metadata": {},
   "outputs": [],
   "source": [
    "dimension = 3\n",
    "nrays     = 12*3**2\n",
    "nspecs    = 5\n",
    "nlspecs   = 1\n",
    "nquads    = 1\n",
    "\n",
    "r_in   = 1.0E13   # [m]\n",
    "r_out  = 7.8E16   # [m]\n",
    "nH2_in = 2.0E13   # [m^-3]\n",
    "temp   = 20.0     # [K]\n",
    "turb   = 150.00   # [.]\n",
    "\n",
    "a_or_b = 'a'\n",
    "\n",
    "get_X_mol = {\n",
    "    'a' : 1.0E-8,\n",
    "    'b' : 1.0E-6\n",
    "}\n",
    "\n",
    "scale_max = 0.11 * r_out\n",
    "scale_min = 0.11 * r_in\n",
    "scale_cte = 0.11 * r_in\n",
    "scale_fun = f'{scale_cte / r_in**2} * (x*x + y*y + z*z)'"
   ]
  },
  {
   "cell_type": "code",
   "execution_count": 3,
   "metadata": {},
   "outputs": [
    {
     "name": "stdout",
     "output_type": "stream",
     "text": [
      "Info    : Running 'gmsh /home/frederik/Dropbox/GitHub/Magritte/tests/development/../models//vanZadelhoff_1_3D_mesher.geo -3 -saveall -o /home/frederik/Dropbox/GitHub/Magritte/tests/development/../models//vanZadelhoff_1_3D_mesher.vtk' [Gmsh 4.4.1, 1 node, max. 1 thread]\n",
      "Info    : Started on Wed Nov 25 16:52:16 2020\n",
      "Info    : Reading '/home/frederik/Dropbox/GitHub/Magritte/tests/development/../models//vanZadelhoff_1_3D_mesher.geo'...\n",
      "Info    : Done reading '/home/frederik/Dropbox/GitHub/Magritte/tests/development/../models//vanZadelhoff_1_3D_mesher.geo'\n",
      "Info    : Meshing 1D...\n",
      "Info    : Meshing curve 101 (Circle)\n",
      "Info    : Meshing curve 102 (Circle)\n",
      "Info    : Meshing curve 103 (Circle)\n",
      "Info    : Meshing curve 104 (Circle)\n",
      "Info    : Meshing curve 105 (Circle)\n",
      "Info    : Meshing curve 106 (Circle)\n",
      "Info    : Meshing curve 107 (Circle)\n",
      "Info    : Meshing curve 108 (Circle)\n",
      "Info    : Meshing curve 109 (Circle)\n",
      "Info    : Meshing curve 110 (Circle)\n",
      "Info    : Meshing curve 111 (Circle)\n",
      "Info    : Meshing curve 112 (Circle)\n",
      "Info    : Meshing curve 201 (Circle)\n",
      "Info    : Meshing curve 202 (Circle)\n",
      "Info    : Meshing curve 203 (Circle)\n",
      "Info    : Meshing curve 204 (Circle)\n",
      "Info    : Meshing curve 205 (Circle)\n",
      "Info    : Meshing curve 206 (Circle)\n",
      "Info    : Meshing curve 207 (Circle)\n",
      "Info    : Meshing curve 208 (Circle)\n",
      "Info    : Meshing curve 209 (Circle)\n",
      "Info    : Meshing curve 210 (Circle)\n",
      "Info    : Meshing curve 211 (Circle)\n",
      "Info    : Meshing curve 212 (Circle)\n",
      "Info    : Done meshing 1D (0.00239 s)\n",
      "Info    : Meshing 2D...\n",
      "Info    : Meshing surface 114 (Surface, MeshAdapt)\n",
      "Info    : Meshing surface 116 (Surface, MeshAdapt)\n",
      "Info    : Meshing surface 118 (Surface, MeshAdapt)\n",
      "Info    : Meshing surface 120 (Surface, MeshAdapt)\n",
      "Info    : Meshing surface 122 (Surface, MeshAdapt)\n",
      "Info    : Meshing surface 124 (Surface, MeshAdapt)\n",
      "Info    : Meshing surface 126 (Surface, MeshAdapt)\n",
      "Info    : Meshing surface 128 (Surface, MeshAdapt)\n",
      "Info    : Meshing surface 214 (Surface, MeshAdapt)\n",
      "Info    : Meshing surface 216 (Surface, MeshAdapt)\n",
      "Info    : Meshing surface 218 (Surface, MeshAdapt)\n",
      "Info    : Meshing surface 220 (Surface, MeshAdapt)\n",
      "Info    : Meshing surface 222 (Surface, MeshAdapt)\n",
      "Info    : Meshing surface 224 (Surface, MeshAdapt)\n",
      "Info    : Meshing surface 226 (Surface, MeshAdapt)\n",
      "Info    : Meshing surface 228 (Surface, MeshAdapt)\n",
      "Info    : Done meshing 2D (5.21484 s)\n",
      "Info    : Meshing 3D...\n",
      "Info    : 3D Meshing 1 volumes with 1 connected components\n",
      "Info    : Tetrahedrization of 2569 points in 0.081927 seconds\n",
      "Info    : Reconstructing mesh...\n",
      "Info    :  - Creating surface mesh\n",
      "Info    :  - Identifying boundary edges\n",
      "Info    :  - Recovering boundary\n",
      "Info    : Done reconstructing mesh (0.113851 s)\n",
      "Info    : Found region 130\n",
      "Info    : Found void region\n",
      "Info    : 0 points created - worst tet radius 31.2773 (points removed 0 0)\n",
      "Info    : 500 points created - worst tet radius 2.74647 (points removed 0 0)\n",
      "Info    : 1000 points created - worst tet radius 2.12718 (points removed 0 0)\n",
      "Info    : 1500 points created - worst tet radius 1.84477 (points removed 0 0)\n",
      "Info    : 2000 points created - worst tet radius 1.66458 (points removed 0 0)\n",
      "Info    : 2500 points created - worst tet radius 1.54865 (points removed 0 0)\n",
      "Info    : 3000 points created - worst tet radius 1.45903 (points removed 0 0)\n",
      "Info    : 3500 points created - worst tet radius 4.06583 (points removed 0 0)\n",
      "Info    : 4000 points created - worst tet radius 1.73874 (points removed 0 0)\n",
      "Info    : 4500 points created - worst tet radius 1.40186 (points removed 0 0)\n",
      "Info    : 5000 points created - worst tet radius 1.35412 (points removed 0 0)\n",
      "Info    : 5500 points created - worst tet radius 1.31041 (points removed 0 0)\n",
      "Info    : 6000 points created - worst tet radius 1.27316 (points removed 0 0)\n",
      "Info    : 6500 points created - worst tet radius 1.23868 (points removed 0 0)\n",
      "Info    : 7000 points created - worst tet radius 1.20459 (points removed 0 0)\n",
      "Info    : 7500 points created - worst tet radius 1.17549 (points removed 0 0)\n",
      "Info    : 8000 points created - worst tet radius 1.14912 (points removed 0 0)\n",
      "Info    : 8500 points created - worst tet radius 1.12497 (points removed 0 0)\n",
      "Info    : 9000 points created - worst tet radius 1.10354 (points removed 0 0)\n",
      "Info    : 9500 points created - worst tet radius 1.08362 (points removed 0 0)\n",
      "Info    : 10000 points created - worst tet radius 1.06482 (points removed 0 0)\n",
      "Info    : 10500 points created - worst tet radius 1.04856 (points removed 0 0)\n",
      "Info    : 11000 points created - worst tet radius 1.03113 (points removed 0 0)\n",
      "Info    : 11500 points created - worst tet radius 1.01565 (points removed 0 0)\n",
      "Info    : 12000 points created - worst tet radius 1.00062 (points removed 0 0)\n",
      "Info    : 3D point insertion terminated (14584 points created):\n",
      "Info    :  - 0 Delaunay cavities modified for star shapeness\n",
      "Info    :  - 0 points could not be inserted\n",
      "Info    :  - 84208 tetrahedra created in 0.802389 sec. (104946 tets/s)\n",
      "Info    : Done meshing 3D (1.12073 s)\n",
      "Info    : Optimizing 3D mesh...\n",
      "Info    : Optimizing volume 130\n",
      "Info    : Optimization starts (volume = 1.97874e+51) with worst = 0.00529178 / average = 0.778592:\n",
      "Info    : 0.00 < quality < 0.10 :       151 elements\n",
      "Info    : 0.10 < quality < 0.20 :       516 elements\n",
      "Info    : 0.20 < quality < 0.30 :       904 elements\n",
      "Info    : 0.30 < quality < 0.40 :      1527 elements\n",
      "Info    : 0.40 < quality < 0.50 :      2476 elements\n",
      "Info    : 0.50 < quality < 0.60 :      4222 elements\n",
      "Info    : 0.60 < quality < 0.70 :      8537 elements\n",
      "Info    : 0.70 < quality < 0.80 :     18887 elements\n",
      "Info    : 0.80 < quality < 0.90 :     30494 elements\n",
      "Info    : 0.90 < quality < 1.00 :     16494 elements\n",
      "Info    : 1541 edge swaps, 50 node relocations (volume = 1.97874e+51): worst = 0.198288 / average = 0.789759 (0.051225 s)\n",
      "Info    : 1551 edge swaps, 50 node relocations (volume = 1.97874e+51): worst = 0.26613 / average = 0.789856 (0.066729 s)\n",
      "Info    : No ill-shaped tets in the mesh :-)\n",
      "Info    : 0.00 < quality < 0.10 :         0 elements\n",
      "Info    : 0.10 < quality < 0.20 :         0 elements\n",
      "Info    : 0.20 < quality < 0.30 :         5 elements\n",
      "Info    : 0.30 < quality < 0.40 :      1523 elements\n",
      "Info    : 0.40 < quality < 0.50 :      2412 elements\n",
      "Info    : 0.50 < quality < 0.60 :      4094 elements\n",
      "Info    : 0.60 < quality < 0.70 :      8565 elements\n",
      "Info    : 0.70 < quality < 0.80 :     19224 elements\n",
      "Info    : 0.80 < quality < 0.90 :     30686 elements\n",
      "Info    : 0.90 < quality < 1.00 :     16339 elements\n",
      "Info    : Done optimizing 3D mesh (0.205888 s)\n",
      "Info    : 14586 vertices 88336 elements\n",
      "Info    : Writing '/home/frederik/Dropbox/GitHub/Magritte/tests/development/../models//vanZadelhoff_1_3D_mesher.vtk'...\n",
      "Info    : Done writing '/home/frederik/Dropbox/GitHub/Magritte/tests/development/../models//vanZadelhoff_1_3D_mesher.vtk'\n",
      "Info    : Stopped on Wed Nov 25 16:52:23 2020\n",
      "0\n",
      "6\n"
     ]
    }
   ],
   "source": [
    "meshName = f'{moddir}/vanZadelhoff_1_3D_mesher.vtk'\n",
    "\n",
    "mesher.create_mesh_from_function(\n",
    "    meshName       = meshName,\n",
    "    boundary       = mesher.boundary_sphere_in_sphere(\n",
    "                         radius_in  = r_in,\n",
    "                         radius_out = r_out),\n",
    "    scale_min      = scale_min,\n",
    "    scale_max      = scale_max,\n",
    "    scale_function = scale_fun )\n",
    "\n",
    "mesh = mesher.Mesh(meshName)"
   ]
  },
  {
   "cell_type": "code",
   "execution_count": 4,
   "metadata": {},
   "outputs": [],
   "source": [
    "npoints = len(mesh.points)\n",
    "nbs     = [n for sublist in mesh.neighbors for n in sublist]\n",
    "n_nbs   = [len(sublist) for sublist in mesh.neighbors]\n",
    "\n",
    "rs = np.linalg.norm(mesh.points, axis=1)\n",
    "\n",
    "modelName = f'vanZadelhoff_1{a_or_b}_3D_mesher'\n",
    "modelFile = f'{moddir}{modelName}.hdf5'\n",
    "lamdaFile = f'{datdir}test.txt'\n",
    "\n",
    "X_mol = get_X_mol[a_or_b]"
   ]
  },
  {
   "cell_type": "code",
   "execution_count": 5,
   "metadata": {},
   "outputs": [],
   "source": [
    "def nH2 (r):\n",
    "    return nH2_in * np.power(r_in/r, 2.0)"
   ]
  },
  {
   "cell_type": "code",
   "execution_count": 6,
   "metadata": {},
   "outputs": [],
   "source": [
    "def nTT (r):\n",
    "    return X_mol * nH2(r)"
   ]
  },
  {
   "cell_type": "code",
   "execution_count": 7,
   "metadata": {},
   "outputs": [],
   "source": [
    "model = magritte.Model ()\n",
    "model.parameters.set_spherical_symmetry(False)\n",
    "model.parameters.set_pop_prec          (1.0e-6)\n",
    "model.parameters.set_model_name        (modelFile)\n",
    "model.parameters.set_dimension         (dimension)\n",
    "model.parameters.set_npoints           (npoints)\n",
    "model.parameters.set_nrays             (nrays)\n",
    "model.parameters.set_nspecs            (nspecs)\n",
    "model.parameters.set_nlspecs           (nlspecs)\n",
    "model.parameters.set_nquads            (nquads)\n",
    "\n",
    "model.geometry.points.position.set(mesh.points)\n",
    "model.geometry.points.velocity.set(np.zeros((npoints, 3)))\n",
    "\n",
    "model.geometry.points.  neighbors.set(  nbs)\n",
    "model.geometry.points.n_neighbors.set(n_nbs)\n",
    "\n",
    "model.chemistry.species.abundance = [[     0.0, nTT(r), nH2(r),  0.0,      1.0] for r in rs]\n",
    "model.chemistry.species.symbol    =  ['dummy0', 'test',   'H2', 'e-', 'dummy1']\n",
    "\n",
    "model.thermodynamics.temperature.gas  .set( temp                 * np.ones(npoints))\n",
    "model.thermodynamics.turbulence.vturb2.set((turb/magritte.CC)**2 * np.ones(npoints))\n",
    "\n",
    "model.parameters.set_nboundary(len(mesh.boundary))\n",
    "model.geometry.boundary.boundary2point.set(mesh.boundary)\n",
    "\n",
    "model = setup.set_boundary_condition_CMB  (model)\n",
    "model = setup.set_uniform_rays            (model)\n",
    "model = setup.set_linedata_from_LAMDA_file(model, lamdaFile)\n",
    "model = setup.set_quadrature              (model)\n",
    "\n",
    "model.write()"
   ]
  },
  {
   "cell_type": "markdown",
   "metadata": {
    "collapsed": "true"
   },
   "source": [
    "# Setup 2: VZ 1, single ray\n",
    "---"
   ]
  },
  {
   "cell_type": "code",
   "execution_count": 2,
   "metadata": {},
   "outputs": [],
   "source": [
    "dimension = 1\n",
    "npoints   = 25\n",
    "nrays     = 2\n",
    "nspecs    = 5\n",
    "nlspecs   = 1\n",
    "nquads    = 1\n",
    "\n",
    "r_in   = 1.0E13   # [m]\n",
    "r_out  = 7.8E16   # [m]\n",
    "nH2_in = 2.0E13   # [m^-3]\n",
    "temp   = 2.0E+01  # [K]\n",
    "turb   = 1.5E+02  # [m/s]\n",
    "\n",
    "get_X_mol = {\n",
    "    'a' : 1.0E-8,\n",
    "    'b' : 1.0E-6\n",
    "}\n",
    "\n",
    "# rs = np.logspace (np.log10(r_in), np.log10(r_out), npoints, endpoint=True)\n",
    "rs = np.linspace (r_in, r_out, npoints, endpoint=True)\n",
    "\n",
    "\n",
    "def create_model (a_or_b):\n",
    "    \"\"\"\n",
    "    Create a model file for the density distribution benchmark, single ray.\n",
    "    \"\"\"\n",
    "\n",
    "    modelName = f'density_distribution_VZ{a_or_b}_single_ray'\n",
    "    modelFile = f'{moddir}{modelName}.hdf5'\n",
    "    lamdaFile = f'{datdir}test.txt'\n",
    "\n",
    "    X_mol = get_X_mol[a_or_b]\n",
    "\n",
    "    def nH2 (r):\n",
    "        return nH2_in * np.power(r_in/r, 2.0)\n",
    "\n",
    "    def nTT (r):\n",
    "        return X_mol  * nH2(r)\n",
    "\n",
    "    model = magritte.Model ()\n",
    "    model.parameters.set_spherical_symmetry(False)\n",
    "    model.parameters.set_model_name        (modelFile)\n",
    "    model.parameters.set_dimension         (dimension)\n",
    "    model.parameters.set_npoints           (npoints)\n",
    "    model.parameters.set_nrays             (nrays)\n",
    "    model.parameters.set_nspecs            (nspecs)\n",
    "    model.parameters.set_nlspecs           (nlspecs)\n",
    "    model.parameters.set_nquads            (nquads)\n",
    "\n",
    "    model.geometry.points.position.set([[r, 0, 0] for r in rs])\n",
    "    model.geometry.points.velocity.set([[0, 0, 0] for i in range(npoints)])\n",
    "\n",
    "    model.chemistry.species.abundance = [[     0.0, nTT(r), nH2(r),  0.0,      1.0] for r in rs]\n",
    "    model.chemistry.species.symbol    =  ['dummy0', 'test',   'H2', 'e-', 'dummy1']\n",
    "\n",
    "    model.thermodynamics.temperature.gas  .set( temp                 * np.ones(npoints))\n",
    "    model.thermodynamics.turbulence.vturb2.set((turb/magritte.CC)**2 * np.ones(npoints))\n",
    "\n",
    "    model = setup.set_Delaunay_neighbor_lists (model)\n",
    "    model = setup.set_Delaunay_boundary       (model)\n",
    "    model = setup.set_boundary_condition_CMB  (model)\n",
    "    model = setup.set_uniform_rays            (model)\n",
    "    model = setup.set_linedata_from_LAMDA_file(model, lamdaFile)\n",
    "    model = setup.set_quadrature              (model)\n",
    "\n",
    "    model.write()\n",
    "\n",
    "    return magritte.Model (modelFile)"
   ]
  },
  {
   "cell_type": "code",
   "execution_count": 2,
   "metadata": {},
   "outputs": [],
   "source": [
    "model = create_model ('a')"
   ]
  },
  {
   "cell_type": "markdown",
   "metadata": {},
   "source": [
    "# Setup 3: all constant, single ray\n",
    "---"
   ]
  },
  {
   "cell_type": "code",
   "execution_count": 111,
   "metadata": {},
   "outputs": [],
   "source": [
    "dimension = 1\n",
    "npoints   = 3\n",
    "nrays     = 2\n",
    "nspecs    = 5\n",
    "nlspecs   = 1\n",
    "nquads    = 1\n",
    "\n",
    "nH2  = 1.0E+12                 # [m^-3]\n",
    "nTT  = 1.0E+03                 # [m^-3]\n",
    "temp = 4.5E+00                 # [K]\n",
    "turb = 0.0E+00                 # [m/s]\n",
    "dx   = 1.0E+12                 # [m]\n",
    "dv   = 0.0E+00 / magritte.CC   # [fraction of speed of light]\n",
    "\n",
    "rs = np.array([i*dx for i in range(npoints)])\n",
    "\n",
    "def create_model ():\n",
    "    \"\"\"\n",
    "    Create a model file for the all_constant benchmark, single ray.\n",
    "    \"\"\"\n",
    "\n",
    "    modelName = f'all_constant_single_ray'\n",
    "    modelFile = f'{moddir}{modelName}.hdf5'\n",
    "    lamdaFile = f'{datdir}test.txt'\n",
    "\n",
    "    model = magritte.Model ()\n",
    "    model.parameters.set_spherical_symmetry(False)\n",
    "    model.parameters.set_model_name        (modelFile)\n",
    "    model.parameters.set_dimension         (dimension)\n",
    "    model.parameters.set_npoints           (npoints)\n",
    "    model.parameters.set_nrays             (nrays)\n",
    "    model.parameters.set_nspecs            (nspecs)\n",
    "    model.parameters.set_nlspecs           (nlspecs)\n",
    "    model.parameters.set_nquads            (nquads)\n",
    "\n",
    "    model.geometry.points.position.set([[i*dx, 0, 0] for i in range(npoints)])\n",
    "    model.geometry.points.velocity.set([[i*dv, 0, 0] for i in range(npoints)])\n",
    "\n",
    "    model.chemistry.species.abundance = [[     0.0,    nTT,  nH2,  0.0,      1.0] for _ in range(npoints)]\n",
    "    model.chemistry.species.symbol    =  ['dummy0', 'test', 'H2', 'e-', 'dummy1']\n",
    "\n",
    "    model.thermodynamics.temperature.gas  .set( temp                 * np.ones(npoints))\n",
    "    model.thermodynamics.turbulence.vturb2.set((turb/magritte.CC)**2 * np.ones(npoints))\n",
    "\n",
    "    model = setup.set_Delaunay_neighbor_lists (model)\n",
    "    model = setup.set_Delaunay_boundary       (model)\n",
    "    model = setup.set_boundary_condition_CMB  (model)\n",
    "    model = setup.set_uniform_rays            (model)\n",
    "    model = setup.set_linedata_from_LAMDA_file(model, lamdaFile)\n",
    "    model = setup.set_quadrature              (model)\n",
    "\n",
    "    model.write()\n",
    "\n",
    "    return magritte.Model(modelFile)"
   ]
  },
  {
   "cell_type": "code",
   "execution_count": 112,
   "metadata": {},
   "outputs": [],
   "source": [
    "model = create_model()"
   ]
  },
  {
   "cell_type": "code",
   "execution_count": 113,
   "metadata": {},
   "outputs": [],
   "source": [
    "ld = model.lines.lineProducingSpecies[0].linedata\n",
    "\n",
    "k = 0\n",
    "\n",
    "frq_ = ld.frequency[k]\n",
    "pop_ = tools.LTEpop         (ld, temp) * nTT\n",
    "phi_ = tools.profile        (ld, k, temp, (turb/magritte.CC)**2, frq_)\n",
    "eta_ = tools.lineEmissivity (ld, pop_)[k] * phi_\n",
    "chi_ = tools.lineOpacity    (ld, pop_)[k] * phi_\n",
    "src_ = tools.lineSource     (ld, pop_)[k]\n",
    "bdy_ = tools.I_CMB          (frq_)\n",
    "\n",
    "def I_0 (x):\n",
    "    return src_ + (bdy_-src_)*np.exp(-chi_*x)\n",
    "\n",
    "def I_1 (x):\n",
    "    return src_ + (bdy_-src_)*np.exp(-chi_*(x[-1]-x))\n",
    "\n",
    "def u_ (x):\n",
    "    return 0.5 * (I_0(x) + I_1(x))"
   ]
  },
  {
   "cell_type": "markdown",
   "metadata": {},
   "source": [
    "# Play!\n",
    "---"
   ]
  },
  {
   "cell_type": "code",
   "execution_count": 114,
   "metadata": {},
   "outputs": [],
   "source": [
    "# model = magritte.Model(modelFile)\n",
    "# model = create_model ('a')"
   ]
  },
  {
   "cell_type": "code",
   "execution_count": 115,
   "metadata": {},
   "outputs": [],
   "source": [
    "model.compute_spectral_discretisation()\n",
    "model.compute_inverse_line_widths    ()\n",
    "model.compute_LTE_level_populations  ()\n",
    "\n",
    "model.set_eta_and_chi       ()\n",
    "model.set_boundary_condition()\n",
    "\n",
    "eta                = np.array(model.eta,                dtype=np.float64)[:,0]\n",
    "chi                = np.array(model.chi,                dtype=np.float64)[:,0]\n",
    "boundary_condition = np.array(model.boundary_condition, dtype=np.float64)[:,0]"
   ]
  },
  {
   "cell_type": "code",
   "execution_count": 116,
   "metadata": {},
   "outputs": [
    {
     "data": {
      "text/plain": [
       "(2, 1)"
      ]
     },
     "execution_count": 116,
     "metadata": {},
     "output_type": "execute_result"
    }
   ],
   "source": [
    "np.array(model.boundary_condition).shape"
   ]
  },
  {
   "cell_type": "code",
   "execution_count": 117,
   "metadata": {},
   "outputs": [
    {
     "data": {
      "text/plain": [
       "(3,)"
      ]
     },
     "execution_count": 117,
     "metadata": {},
     "output_type": "execute_result"
    }
   ],
   "source": [
    "eta.shape"
   ]
  },
  {
   "cell_type": "code",
   "execution_count": 118,
   "metadata": {},
   "outputs": [
    {
     "data": {
      "text/plain": [
       "array([6.75020443e-14, 6.75020443e-14, 6.75020443e-14])"
      ]
     },
     "execution_count": 118,
     "metadata": {},
     "output_type": "execute_result"
    }
   ],
   "source": [
    "chi"
   ]
  },
  {
   "cell_type": "code",
   "execution_count": 119,
   "metadata": {},
   "outputs": [],
   "source": [
    "from numba         import njit\n",
    "from scipy.spatial import cKDTree\n",
    "from scipy         import sparse"
   ]
  },
  {
   "cell_type": "code",
   "execution_count": 120,
   "metadata": {},
   "outputs": [],
   "source": [
    "Rs = np.array(model.geometry.rays.direction, dtype=np.float64)\n",
    "\n",
    "boundary2point = np.array(model.geometry.boundary.boundary2point)\n",
    "\n",
    "Xs_all = np.array(model.geometry.points.position, dtype=np.float64)\n",
    "Xs_bdy = Xs_all[boundary2point]"
   ]
  },
  {
   "cell_type": "code",
   "execution_count": 121,
   "metadata": {},
   "outputs": [],
   "source": [
    "ncp = npoints #64\n",
    "dis_all, ind_all = cKDTree(Xs_all).query(Xs_all, ncp)\n",
    "dis_bdy, ind_bdy = cKDTree(Xs_bdy).query(Xs_bdy, ncp)"
   ]
  },
  {
   "cell_type": "code",
   "execution_count": 122,
   "metadata": {},
   "outputs": [],
   "source": [
    "mdis = 0.1*rs[-1]*np.ones(npoints) #np.mean(dis_all[:,1:], axis=1)\n",
    "sdis = np.std (dis_all[:,1:], axis=1)\n",
    "\n",
    "inverse_mdis2 = 1.0 / mdis**2"
   ]
  },
  {
   "cell_type": "code",
   "execution_count": 123,
   "metadata": {},
   "outputs": [
    {
     "data": {
      "text/plain": [
       "array([0.1, 0.1, 0.1])"
      ]
     },
     "execution_count": 123,
     "metadata": {},
     "output_type": "execute_result"
    }
   ],
   "source": [
    "mdis / rs[-1]"
   ]
  },
  {
   "cell_type": "code",
   "execution_count": 124,
   "metadata": {},
   "outputs": [
    {
     "data": {
      "image/png": "[encoded data removed]",
      "text/plain": [
       "<Figure size 660x440 with 1 Axes>"
      ]
     },
     "metadata": {
      "needs_background": "light"
     },
     "output_type": "display_data"
    }
   ],
   "source": [
    "plt.figure(dpi=110)\n",
    "plt.scatter(np.linalg.norm(Xs_all, axis=1), mdis, s=0.1)\n",
    "plt.scatter(np.linalg.norm(Xs_all, axis=1), mdis+sdis, s=0.5)\n",
    "plt.scatter(np.linalg.norm(Xs_all, axis=1), mdis-sdis, s=0.5)\n",
    "# plt.xscale('log')\n",
    "plt.yscale('log')"
   ]
  },
  {
   "cell_type": "code",
   "execution_count": 125,
   "metadata": {},
   "outputs": [],
   "source": [
    "alpha2 = 1.0\n",
    "\n",
    "@njit\n",
    "def kerval(inverse_h2, d):\n",
    "    return alpha2 * np.exp(-0.5 * inverse_h2 * np.dot(d, d))\n",
    "\n",
    "@njit\n",
    "def kernel(r, p1, p2):\n",
    "    d = Xs_all[p1] - Xs_all[p2]\n",
    "    inverse_h2 = 0.5*(inverse_mdis2[p1] + inverse_mdis2[p2])\n",
    "    return kerval(inverse_h2, d)\n",
    "\n",
    "@njit\n",
    "def L1_kernel(r, p1, p2):\n",
    "    d = Xs_all[p1] - Xs_all[p2]\n",
    "    inverse_h2 = 0.5*(inverse_mdis2[p1] + inverse_mdis2[p2])\n",
    "    g = np.dot(d, Rs[r]) * inverse_h2\n",
    "    return (chi[p1] - g) * kerval(inverse_h2, d)\n",
    "\n",
    "@njit\n",
    "def L2_kernel(r, p1, p2):\n",
    "    d = Xs_all[p1] - Xs_all[p2]\n",
    "    inverse_h2 = 0.5*(inverse_mdis2[p1] + inverse_mdis2[p2])\n",
    "    g = np.dot(d, Rs[r]) * inverse_h2\n",
    "    return (chi[p2] + g) * kerval(inverse_h2, d)\n",
    "\n",
    "@njit\n",
    "def L12_kernel(r, p1, p2):\n",
    "    d = Xs_all[p1] - Xs_all[p2]\n",
    "    inverse_h2 = 0.5*(inverse_mdis2[p1] + inverse_mdis2[p2])\n",
    "    g = np.dot(d, Rs[r]) * inverse_h2\n",
    "    return ((chi[p1] + g)*(chi[p2] - g) + inverse_h2) * kerval(inverse_h2, d)"
   ]
  },
  {
   "cell_type": "code",
   "execution_count": 126,
   "metadata": {},
   "outputs": [],
   "source": [
    "npoints   = model.parameters.npoints()\n",
    "nboundary = model.parameters.nboundary()\n",
    "matsize   = npoints + nboundary\n",
    "\n",
    "@njit\n",
    "def get_expansion(r):\n",
    "    # define shape\n",
    "    nrows = matsize\n",
    "    ncols = ncp\n",
    "    # initialize\n",
    "    expansion = np.zeros((nrows, ncols))\n",
    "    # compute\n",
    "    for i1, p1 in enumerate(boundary2point):\n",
    "        for i2, p2 in enumerate(ind_bdy[i1]):\n",
    "            expansion[i1,i2] =    kernel(r, p1, p2)\n",
    "    for p1, i1 in enumerate(range(nboundary, nrows)):\n",
    "        for i2, p2 in enumerate(ind_all[p1]):\n",
    "            expansion[i1,i2] = L2_kernel(r, p1, p2)\n",
    "    return expansion\n",
    "\n",
    "@njit\n",
    "def get_covariance(r):\n",
    "    # define shape\n",
    "    nrows = matsize\n",
    "    ncols = nrows\n",
    "    # initialize\n",
    "    data = np.zeros((2*nrows*ncp), dtype=np.float64)\n",
    "    id_i = np.zeros((2*nrows*ncp), dtype=np.int64)\n",
    "    id_j = np.zeros((2*nrows*ncp), dtype=np.int64)\n",
    "    # set index\n",
    "    index = 0\n",
    "    # compute\n",
    "    for i1, p1 in enumerate(boundary2point):\n",
    "        for i2, p2 in enumerate(ind_bdy[i1]):\n",
    "            data[index] = kernel(r, p1, p2)\n",
    "            id_i[index] = i1\n",
    "            id_j[index] = i2\n",
    "            index += 1\n",
    "        for i2, p2 in enumerate(ind_all[p1]):\n",
    "            data[index] = L2_kernel(r, p1, p2)\n",
    "            id_i[index] = i1\n",
    "            id_j[index] = i2 + nboundary\n",
    "            index += 1\n",
    "            data[index] = L1_kernel(r, p2, p1)\n",
    "            id_i[index] = i2 + nboundary\n",
    "            id_j[index] = i1\n",
    "            index += 1\n",
    "    for p1, i1 in enumerate(range(nboundary, nrows)):\n",
    "        for i2, p2 in enumerate(ind_all[p1]):\n",
    "            data[index] = L12_kernel(r, p1, p2)\n",
    "            id_i[index] = i1\n",
    "            id_j[index] = i2 + nboundary\n",
    "            index += 1\n",
    "    return (data, (id_i, id_j))\n",
    "\n",
    "@njit\n",
    "def get_condition(r):\n",
    "    # define shape\n",
    "    nrows = npoints + nboundary\n",
    "    # initialize\n",
    "    condition = np.zeros(nrows)\n",
    "    # compute\n",
    "    condition[:nboundary]      = boundary_condition\n",
    "    condition[nboundary:nrows] = eta\n",
    "    return condition"
   ]
  },
  {
   "cell_type": "code",
   "execution_count": 127,
   "metadata": {},
   "outputs": [],
   "source": [
    "r = 0\n",
    "\n",
    "covariance = sparse.coo_matrix(get_covariance(r), shape=(matsize, matsize)).tocsc()\n",
    "condition  = get_condition(r)\n",
    "expansion  = get_expansion(r)\n",
    "weights    = sparse.linalg.spsolve(covariance, condition)\n",
    "result     = np.matmul(expansion.T, weights)"
   ]
  },
  {
   "cell_type": "code",
   "execution_count": 128,
   "metadata": {},
   "outputs": [],
   "source": [
    "# ld = model.lines.lineProducingSpecies[0].linedata\n",
    "\n",
    "# k = 0\n",
    "\n",
    "# frq_ = ld.frequency[k]\n",
    "# pop_ = tools.LTEpop         (ld, temp) * get_X_mol['a'] * nH2_in\n",
    "# phi_ = tools.profile        (ld, k, temp, (turb/magritte.CC)**2, frq_)\n",
    "# eta_ = tools.lineEmissivity (ld, pop_)[k] * phi_\n",
    "# chi_ = tools.lineOpacity    (ld, pop_)[k] * phi_\n",
    "# src_ = tools.lineSource     (ld, pop_)[k]\n",
    "# bdy_ = tools.I_CMB          (frq_)\n",
    "\n",
    "# def I_0 (x):\n",
    "#     a = src_\n",
    "#     b = (bdy_-src_)\n",
    "#     c = np.exp(-chi_*r_in*(1.0    - r_in/x    ))\n",
    "#     return a+b*c\n",
    "\n",
    "# def I_1 (x):\n",
    "#     return src_ + (bdy_-src_)*np.exp(-chi_*r_in*(r_in/x - r_in/r_out))\n",
    "# \n",
    "# plt.plot(x, I_0(x))\n",
    "# plt.plot(x, I_1(x))"
   ]
  },
  {
   "cell_type": "code",
   "execution_count": 129,
   "metadata": {},
   "outputs": [
    {
     "data": {
      "text/plain": [
       "array([-2.62638047e-17, -4.16711443e-20, -3.77300412e-18])"
      ]
     },
     "execution_count": 129,
     "metadata": {},
     "output_type": "execute_result"
    }
   ],
   "source": [
    "result"
   ]
  },
  {
   "cell_type": "code",
   "execution_count": 130,
   "metadata": {},
   "outputs": [
    {
     "data": {
      "text/plain": [
       "[<matplotlib.lines.Line2D at 0x7fd66fe2f150>]"
      ]
     },
     "execution_count": 130,
     "metadata": {},
     "output_type": "execute_result"
    },
    {
     "data": {
      "image/png": "[encoded data removed]",
      "text/plain": [
       "<Figure size 432x288 with 1 Axes>"
      ]
     },
     "metadata": {
      "needs_background": "light"
     },
     "output_type": "display_data"
    }
   ],
   "source": [
    "plt.plot(rs, result)\n",
    "# plt.plot(rs, I_0(rs))\n",
    "# plt.plot(rs, I_1(rs))\n",
    "# plt.xscale('log')\n",
    "# plt.yscale('log')"
   ]
  },
  {
   "cell_type": "markdown",
   "metadata": {},
   "source": [
    "# Test\n",
    "---"
   ]
  },
  {
   "cell_type": "code",
   "execution_count": 131,
   "metadata": {},
   "outputs": [],
   "source": [
    "x = rs"
   ]
  },
  {
   "cell_type": "code",
   "execution_count": 132,
   "metadata": {},
   "outputs": [],
   "source": [
    "chi_int = interp1d(rs, chi)"
   ]
  },
  {
   "cell_type": "code",
   "execution_count": 133,
   "metadata": {},
   "outputs": [
    {
     "data": {
      "image/png": "[encoded data removed]",
      "text/plain": [
       "<Figure size 432x288 with 1 Axes>"
      ]
     },
     "metadata": {
      "needs_background": "light"
     },
     "output_type": "display_data"
    }
   ],
   "source": [
    "plt.plot(x, chi_int(x))\n",
    "# plt.scatter(x, eta)\n",
    "plt.scatter(x, chi)\n",
    "plt.yscale('log')"
   ]
  },
  {
   "cell_type": "code",
   "execution_count": 134,
   "metadata": {},
   "outputs": [],
   "source": [
    "alpha = 1.0\n",
    "\n",
    "def kernel(x, y, h):\n",
    "    return alpha**2 * np.exp(-0.5 * (x-y)**2 / h**2)\n",
    "\n",
    "def Lx_kernel(x, y, h):\n",
    "    return (chi_int(x)*h**2 - (x-y)) / h**2 * kernel(x, y, h)\n",
    "\n",
    "def Ly_kernel(x, y, h):\n",
    "    return (chi_int(y)*h**2 + (x-y)) / h**2 * kernel(x, y, h)\n",
    "\n",
    "def L2_kernel(x, y, h):\n",
    "    return (chi_int(x)*chi_int(y)*h**4 - (chi_int(x)-chi_int(y))*(x-y)*h**2 + h**2 - (x-y)**2) / h**4 * kernel(x, y, h)"
   ]
  },
  {
   "cell_type": "code",
   "execution_count": 135,
   "metadata": {},
   "outputs": [],
   "source": [
    "def corr(x, y, h):\n",
    "    x, y = np.meshgrid(x, y)\n",
    "    return kernel(x, y, h).T\n",
    "\n",
    "def Lx_corr(x, y, h):\n",
    "    x, y = np.meshgrid(x, y)\n",
    "    return Lx_kernel(x, y, h).T\n",
    "\n",
    "def Ly_corr(x, y, h):\n",
    "    x, y = np.meshgrid(x, y)\n",
    "    return Ly_kernel(x, y, h).T\n",
    "\n",
    "def L2_corr(x, y, h):\n",
    "    x, y = np.meshgrid(x, y)\n",
    "    return L2_kernel(x, y, h).T"
   ]
  },
  {
   "cell_type": "code",
   "execution_count": 136,
   "metadata": {},
   "outputs": [],
   "source": [
    "def diff(x, y):\n",
    "    # Compute derivative\n",
    "    dy = np.diff(y)\n",
    "    dx = np.diff(x)\n",
    "    # Compute corresponding x\n",
    "    x = 0.5*(x[:-1] + x[1:])\n",
    "    # Return result\n",
    "    return (x, dy/dx)\n",
    "\n",
    "def L_operator(x, y):\n",
    "    x_d, y_d = diff(x, y)\n",
    "    y_y = 0.5*(y[:-1] + y[1:])\n",
    "    return (x_d, chi_int(x_d)*y_y + y_d)"
   ]
  },
  {
   "cell_type": "code",
   "execution_count": 137,
   "metadata": {},
   "outputs": [],
   "source": [
    "import ipywidgets as widgets\n",
    "\n",
    "x_min = np.min(x)\n",
    "x_max = np.max(x)"
   ]
  },
  {
   "cell_type": "code",
   "execution_count": 138,
   "metadata": {},
   "outputs": [
    {
     "data": {
      "application/vnd.jupyter.widget-view+json": {
       "model_id": "78f30279ee6f482dab7610d2f3129c35",
       "version_major": 2,
       "version_minor": 0
      },
      "text/plain": [
       "interactive(children=(FloatSlider(value=1000000000000.0, description='h', max=2000000000000.0), Output()), _do…"
      ]
     },
     "metadata": {},
     "output_type": "display_data"
    },
    {
     "data": {
      "text/plain": [
       "<function __main__.plot(h)>"
      ]
     },
     "execution_count": 138,
     "metadata": {},
     "output_type": "execute_result"
    }
   ],
   "source": [
    "y_p  = np.array([rs[0]])                 #np.array([0.0])\n",
    "fy_p = np.array([boundary_condition[0]]) #np.array([1.0])\n",
    "\n",
    "y_d  = rs  #np.linspace(0.0, 2.0, num=5)\n",
    "fy_d = eta #np.array([eta(d) for d in y_d])\n",
    "\n",
    "\n",
    "def plot(h):\n",
    "    \n",
    "    print('h = ', h/rs[-1])\n",
    "    \n",
    "#     x = np.array([0.1])\n",
    "    \n",
    "    sigma_00 = corr(x, x, h)\n",
    "\n",
    "    sigma_10 = np.block([   corr(x, y_p, h),\n",
    "                         Ly_corr(x, y_d, h) ])\n",
    "    \n",
    "    sigma_01 = np.block([   corr(y_p, x, h).T,\n",
    "                         Lx_corr(y_d, x, h).T ]).T\n",
    "\n",
    "#     print(   corr(y_p, y_p, h).shape)\n",
    "#     print(Lx_corr(y_d, y_p, h).T.shape)\n",
    "#     print(Ly_corr(y_p, y_d, h).shape)\n",
    "#     print(L2_corr(y_d, y_d, h).shape)\n",
    "    \n",
    "    sigma_11 = np.block([[   corr(y_p, y_p, h), Lx_corr(y_d, y_p, h).T],\n",
    "                         [Ly_corr(y_p, y_d, h).T, L2_corr(y_d, y_d, h)  ] ])\n",
    "\n",
    "#     print(sigma_00)\n",
    "#     print(sigma_01)\n",
    "    print('sigma_10 ', sigma_10.shape)\n",
    "    print('sigma_11 ', sigma_11.shape)\n",
    "    \n",
    "    fy = np.block([fy_p, fy_d])\n",
    "\n",
    "    print(fy_p.shape)\n",
    "    print(fy_d.shape)\n",
    "    print(fy.shape)\n",
    "    \n",
    "    mean =            np.matmul(np.matmul(sigma_10, np.linalg.inv(sigma_11)), fy)\n",
    "    cov  = sigma_00 - np.matmul(np.matmul(sigma_10, np.linalg.inv(sigma_11)), sigma_01)\n",
    "\n",
    "#     print(cov)\n",
    "    \n",
    "    xf = np.concatenate((-np.flip(x),x))\n",
    "\n",
    "    fig = plt.figure(constrained_layout=False, figsize=(5,13), dpi=175)\n",
    "    gsp = fig.add_gridspec(14, 2, wspace=0.5, hspace=2.1)\n",
    "    ax1 = fig.add_subplot(gsp[0:2, 0:1])\n",
    "    ax2 = fig.add_subplot(gsp[0:2, 1:2])\n",
    "    ax3 = fig.add_subplot(gsp[2:5, 0:2])\n",
    "    ax4 = fig.add_subplot(gsp[5:8, 0:2])\n",
    "    ax5 = fig.add_subplot(gsp[8:11, 0:2])\n",
    "    ax6 = fig.add_subplot(gsp[11:14, 0:2])\n",
    "\n",
    "    ax1.set_title('Correlation function $k$', fontsize=12)\n",
    "    ax1.plot(xf/x[-1], kernel(0,xf, h))\n",
    "    ax1.set_xlabel('$x_1-x_2$ [r_out]')\n",
    "    ax1.set_ylabel('$k(x_1, x_2)$')\n",
    "    ax1.set_ylim((-0.05, alpha**2+0.05))\n",
    "\n",
    "    ax2.set_title('Correlation matrix $\\mathbf{\\Sigma}_{x | \\mathbf{x}}$', fontsize=12)\n",
    "    pos = ax2.imshow(cov, vmin=0.0, vmax=np.max(cov))\n",
    "    ax2.set_xlabel('index $i$')\n",
    "    ax2.set_ylabel('index $j$')\n",
    "    fig.colorbar(pos, ax=ax2)\n",
    "    \n",
    "    asp = np.abs(np.diff(ax1.get_xlim())[0] / np.diff(ax1.get_ylim())[0])\n",
    "    ax1.set_aspect(asp)\n",
    "\n",
    "    S = 25\n",
    "    \n",
    "    fs = np.random.multivariate_normal(mean, cov, S).T\n",
    "    \n",
    "    ax3.set_title('Samples drawn from $\\mathcal{N}(\\mathbf{\\mu}_{x | \\mathbf{x}},\\mathbf{\\Sigma}_{x | \\mathbf{x}})$', fontsize=12)\n",
    "#     ax3.plot(x, fs, c='gray', linewidth=0.2)\n",
    "    ax3.set_xlim((x_min, x_max))\n",
    "    ax3.set_xlabel('$x$')\n",
    "    ax3.set_ylabel('$f(x)$')\n",
    "    ax3.plot(x, mean, linewidth=0.75, marker='x')\n",
    "#     ax3.plot(x, mean+2.0*np.diagonal(cov), linestyle='--', c='red', linewidth=0.5)\n",
    "#     ax3.plot(x, mean-2.0*np.diagonal(cov), linestyle='--', c='red', linewidth=0.5)\n",
    "\n",
    "    ax3.plot(x, I_0(x), linewidth=0.75)\n",
    "    ax3.plot(x, I_1(x), linewidth=0.75)\n",
    "    ax3.set_yscale('log')\n",
    "    \n",
    "#     for s in range(S):\n",
    "#         xs, Ls = L_operator(x, fs[:,s])\n",
    "#         ax4.plot(xs, Ls, c='gray', linewidth=0.2)\n",
    "        \n",
    "    xs, Ls = L_operator(x, mean)\n",
    "    ax4.plot(xs, Ls, linewidth=0.75)\n",
    "    ax4.plot(x, eta, linewidth=0.75)\n",
    "    ax4.set_xlim((x_min, x_max))\n",
    "    ax4.set_yscale('log')\n",
    "    \n",
    "    \n",
    "    ax5.set_title('Correlation matrix $\\mathbf{\\Sigma}_{x | \\mathbf{x}}$', fontsize=12)\n",
    "    pos = ax5.imshow(cov)\n",
    "    ax5.set_xlabel('index $i$')\n",
    "    ax5.set_ylabel('index $j$')\n",
    "    fig.colorbar(pos, ax=ax5)\n",
    "    \n",
    "    \n",
    "    ax6.set_title('Correlation matrix $\\mathbf{\\Sigma}_{x | \\mathbf{x}}$', fontsize=12)\n",
    "    pos = ax6.imshow(sigma_11)\n",
    "    ax6.set_xlabel('index $i$')\n",
    "    ax6.set_ylabel('index $j$')\n",
    "    fig.colorbar(pos, ax=ax6)\n",
    "    \n",
    "    plt.show()\n",
    "    \n",
    "widgets.interact(plot, h=(x[0], x[-1]))"
   ]
  },
  {
   "cell_type": "code",
   "execution_count": 68,
   "metadata": {},
   "outputs": [],
   "source": [
    "h = rs[-1]\n",
    "\n",
    "sigma_11 = np.block([[   corr(y_p, y_p, h),   Lx_corr(y_d, y_p, h).T],\n",
    "                     [Ly_corr(y_p, y_d, h).T, L2_corr(y_d, y_d, h)  ] ])"
   ]
  },
  {
   "cell_type": "code",
   "execution_count": 69,
   "metadata": {},
   "outputs": [],
   "source": [
    "ss = np.copy(sigma_11)"
   ]
  },
  {
   "cell_type": "code",
   "execution_count": 188,
   "metadata": {},
   "outputs": [],
   "source": [
    "ss[ss<1.0e-50] = 0.0"
   ]
  },
  {
   "cell_type": "code",
   "execution_count": 70,
   "metadata": {},
   "outputs": [
    {
     "data": {
      "text/plain": [
       "<matplotlib.colorbar.Colorbar at 0x7fd67446b690>"
      ]
     },
     "execution_count": 70,
     "metadata": {},
     "output_type": "execute_result"
    },
    {
     "data": {
      "image/png": "[encoded data removed]",
      "text/plain": [
       "<Figure size 900x600 with 2 Axes>"
      ]
     },
     "metadata": {
      "needs_background": "light"
     },
     "output_type": "display_data"
    }
   ],
   "source": [
    "fig = plt.figure(dpi=150)\n",
    "pos = plt.imshow(np.log10(np.abs(ss)))\n",
    "fig.colorbar(pos)"
   ]
  },
  {
   "cell_type": "code",
   "execution_count": 71,
   "metadata": {},
   "outputs": [
    {
     "data": {
      "text/plain": [
       "<matplotlib.colorbar.Colorbar at 0x7fd6744914d0>"
      ]
     },
     "execution_count": 71,
     "metadata": {},
     "output_type": "execute_result"
    },
    {
     "data": {
      "image/png": "[encoded data removed]",
      "text/plain": [
       "<Figure size 900x600 with 2 Axes>"
      ]
     },
     "metadata": {
      "needs_background": "light"
     },
     "output_type": "display_data"
    }
   ],
   "source": [
    "fig = plt.figure(dpi=150)\n",
    "pos = plt.imshow(tools.relative_error(ss, np.linalg.inv(np.linalg.inv(ss))))\n",
    "fig.colorbar(pos)"
   ]
  },
  {
   "cell_type": "code",
   "execution_count": 72,
   "metadata": {},
   "outputs": [
    {
     "data": {
      "text/plain": [
       "<matplotlib.colorbar.Colorbar at 0x7fd66e04add0>"
      ]
     },
     "execution_count": 72,
     "metadata": {},
     "output_type": "execute_result"
    },
    {
     "data": {
      "image/png": "[encoded data removed]",
      "text/plain": [
       "<Figure size 900x600 with 2 Axes>"
      ]
     },
     "metadata": {
      "needs_background": "light"
     },
     "output_type": "display_data"
    }
   ],
   "source": [
    "fig = plt.figure(dpi=150)\n",
    "pos = plt.imshow(np.log10(np.abs(np.matmul(ss, np.linalg.inv(ss)))))\n",
    "fig.colorbar(pos)"
   ]
  },
  {
   "cell_type": "code",
   "execution_count": 54,
   "metadata": {},
   "outputs": [],
   "source": [
    "h = rs[1]\n",
    "\n",
    "sigma_11 = np.block([[   corr(y_p, y_p, h),   Lx_corr(y_d, y_p, h).T],\n",
    "                     [Ly_corr(y_p, y_d, h).T, L2_corr(y_d, y_d, h)  ] ])"
   ]
  },
  {
   "cell_type": "code",
   "execution_count": null,
   "metadata": {},
   "outputs": [],
   "source": []
  },
  {
   "cell_type": "code",
   "execution_count": 126,
   "metadata": {},
   "outputs": [
    {
     "data": {
      "application/vnd.jupyter.widget-view+json": {
       "model_id": "688f0af4adc84a5fb6aeb75eddbfb35b",
       "version_major": 2,
       "version_minor": 0
      },
      "text/plain": [
       "interactive(children=(FloatSlider(value=3000000000000.0, description='h', max=6000000000000.0), Output()), _do…"
      ]
     },
     "metadata": {},
     "output_type": "display_data"
    },
    {
     "data": {
      "text/plain": [
       "<function __main__.plot(h)>"
      ]
     },
     "execution_count": 126,
     "metadata": {},
     "output_type": "execute_result"
    }
   ],
   "source": [
    "def plot(h):\n",
    "    \n",
    "    sigma_00 = corr(x, x, h)\n",
    "\n",
    "    sigma_10 = np.block([   corr(x, y_p, h),\n",
    "                         Ly_corr(x, y_d, h) ])\n",
    "    \n",
    "    sigma_01 = np.block([   corr(y_p, x, h).T,\n",
    "                         Lx_corr(y_d, x, h).T ]).T\n",
    "    \n",
    "    \n",
    "    sigma_11 = np.block([[   corr(y_p, y_p, h), Lx_corr(y_d, y_p, h).T],\n",
    "                         [Ly_corr(y_p, y_d, h).T, L2_corr(y_d, y_d, h)  ] ])\n",
    "\n",
    "    \n",
    "    fy = np.block([fy_p, fy_d])\n",
    "\n",
    "    \n",
    "    mean =            np.matmul(np.matmul(sigma_10, np.linalg.inv(sigma_11)), fy)\n",
    "    cov  = sigma_00 - np.matmul(np.matmul(sigma_10, np.linalg.inv(sigma_11)), sigma_01)\n",
    "\n",
    "#     print(cov)\n",
    "    \n",
    "    xf = np.concatenate((-np.flip(x),x))\n",
    "\n",
    "    fig = plt.figure(constrained_layout=False, figsize=(14,16), dpi=175)\n",
    "    gsp = fig.add_gridspec(3, 2)\n",
    "    ax1 = fig.add_subplot(gsp[0])\n",
    "    ax2 = fig.add_subplot(gsp[1])\n",
    "    ax3 = fig.add_subplot(gsp[2])\n",
    "    ax4 = fig.add_subplot(gsp[3])\n",
    "    ax5 = fig.add_subplot(gsp[4])\n",
    "    ax6 = fig.add_subplot(gsp[5])\n",
    "\n",
    "#     ax1.set_title('Correlation matrix $\\mathbf{\\Sigma}_{x | \\mathbf{x}}$', fontsize=12)\n",
    "#     pos = ax1.imshow(cov)\n",
    "#     ax5.set_xlabel('index $i$')\n",
    "#     ax5.set_ylabel('index $j$')\n",
    "#     fig.colorbar(pos, ax=ax5)\n",
    "    \n",
    "    \n",
    "    ax1.set_title('+sigma_11')\n",
    "    pos = ax1.imshow(np.log10(sigma_11))\n",
    "#     ax1.set_xlabel('index $i$')\n",
    "#     ax1.set_ylabel('index $j$')\n",
    "    fig.colorbar(pos, ax=ax1)\n",
    "    \n",
    "    ax2.set_title('-sigma_11')\n",
    "    pos = ax2.imshow(np.log10(-sigma_11))\n",
    "#     ax2.set_xlabel('index $i$')\n",
    "#     ax2.set_ylabel('index $j$')\n",
    "    fig.colorbar(pos, ax=ax2)\n",
    "    \n",
    "    ax3.set_title('+cov')\n",
    "    pos = ax3.imshow(np.log10(cov))\n",
    "#     ax3.set_xlabel('index $i$')\n",
    "#     ax3.set_ylabel('index $j$')\n",
    "    fig.colorbar(pos, ax=ax3)\n",
    "    \n",
    "    ax4.set_title('-cov')\n",
    "    pos = ax4.imshow(np.log10(-cov))\n",
    "#     ax4.set_xlabel('index $i$')\n",
    "#     ax4.set_ylabel('index $j$')\n",
    "    fig.colorbar(pos, ax=ax4)\n",
    "    \n",
    "    ax5.set_title('+inverse_sigma_11')\n",
    "    pos = ax5.imshow(np.log10(np.linalg.inv(sigma_11)))\n",
    "#     ax5.set_xlabel('index $i$')\n",
    "#     ax5.set_ylabel('index $j$')\n",
    "    fig.colorbar(pos, ax=ax5)\n",
    "    \n",
    "    ax6.set_title('-inverse_sigma_11')\n",
    "    pos = ax6.imshow(np.log10(-np.linalg.inv(sigma_11)))\n",
    "#     ax4.set_xlabel('index $i$')\n",
    "#     ax4.set_ylabel('index $j$')\n",
    "    fig.colorbar(pos, ax=ax6)\n",
    "    \n",
    "    plt.show()\n",
    "    \n",
    "widgets.interact(plot, h=(x[0], x[-1]))"
   ]
  },
  {
   "cell_type": "code",
   "execution_count": 131,
   "metadata": {},
   "outputs": [
    {
     "data": {
      "application/vnd.jupyter.widget-view+json": {
       "model_id": "5eadcb8a69d74f53868e4a7d274a2bd9",
       "version_major": 2,
       "version_minor": 0
      },
      "text/plain": [
       "interactive(children=(FloatSlider(value=3000000000000.0, description='h', max=6000000000000.0), Output()), _do…"
      ]
     },
     "metadata": {},
     "output_type": "display_data"
    },
    {
     "data": {
      "text/plain": [
       "<function __main__.plot(h)>"
      ]
     },
     "execution_count": 131,
     "metadata": {},
     "output_type": "execute_result"
    }
   ],
   "source": [
    "def plot(h):\n",
    "    \n",
    "    sigma_00 = corr(x, x, h)\n",
    "\n",
    "    sigma_10 = np.block([   corr(x, y_p, h),\n",
    "                         Ly_corr(x, y_d, h) ])\n",
    "    \n",
    "    sigma_01 = np.block([   corr(y_p, x, h).T,\n",
    "                         Lx_corr(y_d, x, h).T ]).T\n",
    "    \n",
    "    \n",
    "    sigma_11 = np.block([[   corr(y_p, y_p, h), Lx_corr(y_d, y_p, h).T],\n",
    "                         [Ly_corr(y_p, y_d, h).T, L2_corr(y_d, y_d, h)  ] ])\n",
    "\n",
    "    \n",
    "    fy = np.block([fy_p, fy_d])\n",
    "\n",
    "    \n",
    "    mean =            np.matmul(np.matmul(sigma_10, np.linalg.inv(sigma_11)), fy)\n",
    "    cov  = sigma_00 - np.matmul(np.matmul(sigma_10, np.linalg.inv(sigma_11)), sigma_01)\n",
    "\n",
    "#     print(cov)\n",
    "    \n",
    "    xf = np.concatenate((-np.flip(x),x))\n",
    "\n",
    "    fig = plt.figure(constrained_layout=False, figsize=(14,16), dpi=100)\n",
    "    gsp = fig.add_gridspec(2, 1)\n",
    "    ax1 = fig.add_subplot(gsp[0])\n",
    "    ax3 = fig.add_subplot(gsp[1])\n",
    "\n",
    "\n",
    "#     ax1.set_title('Correlation matrix $\\mathbf{\\Sigma}_{x | \\mathbf{x}}$', fontsize=12)\n",
    "#     pos = ax1.imshow(cov)\n",
    "#     ax5.set_xlabel('index $i$')\n",
    "#     ax5.set_ylabel('index $j$')\n",
    "#     fig.colorbar(pos, ax=ax5)\n",
    "    \n",
    "    \n",
    "    ax1.set_title('+sigma_11')\n",
    "    pos = ax1.imshow(np.log10(tools.relative_error(sigma_11, sigma_11.T)))\n",
    "#     ax1.set_xlabel('index $i$')\n",
    "#     ax1.set_ylabel('index $j$')\n",
    "    fig.colorbar(pos, ax=ax1)\n",
    "    \n",
    "    ax3.set_title('+cov')\n",
    "    pos = ax3.imshow(np.log10(tools.relative_error(cov, cov.T)))\n",
    "#     ax3.set_xlabel('index $i$')\n",
    "#     ax3.set_ylabel('index $j$')\n",
    "    fig.colorbar(pos, ax=ax3)\n",
    "    \n",
    "    plt.show()\n",
    "\n",
    "    print(tools.relative_error(sigma_11, sigma_11.T))\n",
    "    print(tools.relative_error(cov,      cov.T     ))\n",
    "    \n",
    "widgets.interact(plot, h=(x[0], x[-1]))"
   ]
  },
  {
   "cell_type": "code",
   "execution_count": 72,
   "metadata": {},
   "outputs": [],
   "source": [
    "def mylog(x):\n",
    "    result = np.zeros(x.shape)\n",
    "    result[x>0] =  np.log(x[x>0])\n",
    "#     result[x<0] = -np.log(x[x<0])\n",
    "    return result"
   ]
  },
  {
   "cell_type": "code",
   "execution_count": 73,
   "metadata": {},
   "outputs": [
    {
     "data": {
      "text/plain": [
       "array([[  0.        , -30.32661851,   0.        ,   0.        ,\n",
       "          0.        ,   0.        ,   0.        ,   0.        ,\n",
       "          0.        ,   0.        ,   0.        ,   0.        ,\n",
       "          0.        ,   0.        ,   0.        ,   0.        ,\n",
       "          0.        ,   0.        ,   0.        ,   0.        ,\n",
       "          0.        ],\n",
       "       [-30.32661851, -55.25749606, -61.15323702,   0.        ,\n",
       "          0.        ,   0.        ,   0.        ,   0.        ,\n",
       "          0.        ,   0.        ,   0.        ,   0.        ,\n",
       "          0.        ,   0.        ,   0.        ,   0.        ,\n",
       "          0.        ,   0.        ,   0.        ,   0.        ,\n",
       "          0.        ],\n",
       "       [  0.        , -61.15323702, -55.25749606, -61.15323702,\n",
       "          0.        ,   0.        ,   0.        ,   0.        ,\n",
       "          0.        ,   0.        ,   0.        ,   0.        ,\n",
       "          0.        ,   0.        ,   0.        ,   0.        ,\n",
       "          0.        ,   0.        ,   0.        ,   0.        ,\n",
       "          0.        ],\n",
       "       [  0.        ,   0.        , -61.15323702, -55.25749606,\n",
       "        -61.15323702,   0.        ,   0.        ,   0.        ,\n",
       "          0.        ,   0.        ,   0.        ,   0.        ,\n",
       "          0.        ,   0.        ,   0.        ,   0.        ,\n",
       "          0.        ,   0.        ,   0.        ,   0.        ,\n",
       "          0.        ],\n",
       "       [  0.        ,   0.        ,   0.        , -61.15323702,\n",
       "        -55.25749606, -61.15323702,   0.        ,   0.        ,\n",
       "          0.        ,   0.        ,   0.        ,   0.        ,\n",
       "          0.        ,   0.        ,   0.        ,   0.        ,\n",
       "          0.        ,   0.        ,   0.        ,   0.        ,\n",
       "          0.        ],\n",
       "       [  0.        ,   0.        ,   0.        ,   0.        ,\n",
       "        -61.15323702, -55.25749606, -61.15323702,   0.        ,\n",
       "          0.        ,   0.        ,   0.        ,   0.        ,\n",
       "          0.        ,   0.        ,   0.        ,   0.        ,\n",
       "          0.        ,   0.        ,   0.        ,   0.        ,\n",
       "          0.        ],\n",
       "       [  0.        ,   0.        ,   0.        ,   0.        ,\n",
       "          0.        , -61.15323702, -55.25749606, -61.15323702,\n",
       "          0.        ,   0.        ,   0.        ,   0.        ,\n",
       "          0.        ,   0.        ,   0.        ,   0.        ,\n",
       "          0.        ,   0.        ,   0.        ,   0.        ,\n",
       "          0.        ],\n",
       "       [  0.        ,   0.        ,   0.        ,   0.        ,\n",
       "          0.        ,   0.        , -61.15323702, -55.25749606,\n",
       "        -61.15323702,   0.        ,   0.        ,   0.        ,\n",
       "          0.        ,   0.        ,   0.        ,   0.        ,\n",
       "          0.        ,   0.        ,   0.        ,   0.        ,\n",
       "          0.        ],\n",
       "       [  0.        ,   0.        ,   0.        ,   0.        ,\n",
       "          0.        ,   0.        ,   0.        , -61.15323702,\n",
       "        -55.25749606, -61.15323702,   0.        ,   0.        ,\n",
       "          0.        ,   0.        ,   0.        ,   0.        ,\n",
       "          0.        ,   0.        ,   0.        ,   0.        ,\n",
       "          0.        ],\n",
       "       [  0.        ,   0.        ,   0.        ,   0.        ,\n",
       "          0.        ,   0.        ,   0.        ,   0.        ,\n",
       "        -61.15323702, -55.25749606, -61.15323702,   0.        ,\n",
       "          0.        ,   0.        ,   0.        ,   0.        ,\n",
       "          0.        ,   0.        ,   0.        ,   0.        ,\n",
       "          0.        ],\n",
       "       [  0.        ,   0.        ,   0.        ,   0.        ,\n",
       "          0.        ,   0.        ,   0.        ,   0.        ,\n",
       "          0.        , -61.15323702, -55.25749606, -61.15323702,\n",
       "          0.        ,   0.        ,   0.        ,   0.        ,\n",
       "          0.        ,   0.        ,   0.        ,   0.        ,\n",
       "          0.        ],\n",
       "       [  0.        ,   0.        ,   0.        ,   0.        ,\n",
       "          0.        ,   0.        ,   0.        ,   0.        ,\n",
       "          0.        ,   0.        , -61.15323702, -55.25749606,\n",
       "        -61.15323702,   0.        ,   0.        ,   0.        ,\n",
       "          0.        ,   0.        ,   0.        ,   0.        ,\n",
       "          0.        ],\n",
       "       [  0.        ,   0.        ,   0.        ,   0.        ,\n",
       "          0.        ,   0.        ,   0.        ,   0.        ,\n",
       "          0.        ,   0.        ,   0.        , -61.15323702,\n",
       "        -55.25749606, -61.15323702,   0.        ,   0.        ,\n",
       "          0.        ,   0.        ,   0.        ,   0.        ,\n",
       "          0.        ],\n",
       "       [  0.        ,   0.        ,   0.        ,   0.        ,\n",
       "          0.        ,   0.        ,   0.        ,   0.        ,\n",
       "          0.        ,   0.        ,   0.        ,   0.        ,\n",
       "        -61.15323702, -55.25749606, -61.15323702,   0.        ,\n",
       "          0.        ,   0.        ,   0.        ,   0.        ,\n",
       "          0.        ],\n",
       "       [  0.        ,   0.        ,   0.        ,   0.        ,\n",
       "          0.        ,   0.        ,   0.        ,   0.        ,\n",
       "          0.        ,   0.        ,   0.        ,   0.        ,\n",
       "          0.        , -61.15323702, -55.25749606, -61.15323702,\n",
       "          0.        ,   0.        ,   0.        ,   0.        ,\n",
       "          0.        ],\n",
       "       [  0.        ,   0.        ,   0.        ,   0.        ,\n",
       "          0.        ,   0.        ,   0.        ,   0.        ,\n",
       "          0.        ,   0.        ,   0.        ,   0.        ,\n",
       "          0.        ,   0.        , -61.15323702, -55.25749606,\n",
       "        -61.15323702,   0.        ,   0.        ,   0.        ,\n",
       "          0.        ],\n",
       "       [  0.        ,   0.        ,   0.        ,   0.        ,\n",
       "          0.        ,   0.        ,   0.        ,   0.        ,\n",
       "          0.        ,   0.        ,   0.        ,   0.        ,\n",
       "          0.        ,   0.        ,   0.        , -61.15323702,\n",
       "        -55.25749606, -61.15323702,   0.        ,   0.        ,\n",
       "          0.        ],\n",
       "       [  0.        ,   0.        ,   0.        ,   0.        ,\n",
       "          0.        ,   0.        ,   0.        ,   0.        ,\n",
       "          0.        ,   0.        ,   0.        ,   0.        ,\n",
       "          0.        ,   0.        ,   0.        ,   0.        ,\n",
       "        -61.15323702, -55.25749606, -61.15323702,   0.        ,\n",
       "          0.        ],\n",
       "       [  0.        ,   0.        ,   0.        ,   0.        ,\n",
       "          0.        ,   0.        ,   0.        ,   0.        ,\n",
       "          0.        ,   0.        ,   0.        ,   0.        ,\n",
       "          0.        ,   0.        ,   0.        ,   0.        ,\n",
       "          0.        , -61.15323702, -55.25749606, -61.15323702,\n",
       "          0.        ],\n",
       "       [  0.        ,   0.        ,   0.        ,   0.        ,\n",
       "          0.        ,   0.        ,   0.        ,   0.        ,\n",
       "          0.        ,   0.        ,   0.        ,   0.        ,\n",
       "          0.        ,   0.        ,   0.        ,   0.        ,\n",
       "          0.        ,   0.        , -61.15323702, -55.25749606,\n",
       "        -61.15323702],\n",
       "       [  0.        ,   0.        ,   0.        ,   0.        ,\n",
       "          0.        ,   0.        ,   0.        ,   0.        ,\n",
       "          0.        ,   0.        ,   0.        ,   0.        ,\n",
       "          0.        ,   0.        ,   0.        ,   0.        ,\n",
       "          0.        ,   0.        ,   0.        , -61.15323702,\n",
       "        -55.25749606]])"
      ]
     },
     "execution_count": 73,
     "metadata": {},
     "output_type": "execute_result"
    }
   ],
   "source": [
    "mylog(sigma_11)"
   ]
  },
  {
   "cell_type": "code",
   "execution_count": 127,
   "metadata": {},
   "outputs": [
    {
     "data": {
      "text/plain": [
       "array([[ 0.,  0., -0., -0., -0., -0., -0., -0., -0., -0., -0., -0., -0.,\n",
       "        -0., -0., -0., -0., -0., -0., -0., -0.],\n",
       "       [ 0.,  0.,  0., -0., -0., -0., -0., -0., -0., -0., -0., -0., -0.,\n",
       "        -0., -0., -0., -0., -0., -0., -0., -0.],\n",
       "       [-0.,  0.,  0.,  0., -0., -0., -0., -0., -0., -0., -0., -0., -0.,\n",
       "        -0., -0., -0., -0., -0., -0., -0., -0.],\n",
       "       [-0., -0.,  0.,  0.,  0., -0., -0., -0., -0., -0., -0., -0., -0.,\n",
       "        -0., -0., -0., -0., -0., -0., -0., -0.],\n",
       "       [-0., -0., -0.,  0.,  0.,  0., -0., -0., -0., -0., -0., -0., -0.,\n",
       "        -0., -0., -0., -0., -0., -0., -0., -0.],\n",
       "       [-0., -0., -0., -0.,  0.,  0.,  0., -0., -0., -0., -0., -0., -0.,\n",
       "        -0., -0., -0., -0., -0., -0., -0., -0.],\n",
       "       [-0., -0., -0., -0., -0.,  0.,  0.,  0., -0., -0., -0., -0., -0.,\n",
       "        -0., -0., -0., -0., -0., -0., -0., -0.],\n",
       "       [-0., -0., -0., -0., -0., -0.,  0.,  0.,  0., -0., -0., -0., -0.,\n",
       "        -0., -0., -0., -0., -0., -0., -0., -0.],\n",
       "       [-0., -0., -0., -0., -0., -0., -0.,  0.,  0.,  0., -0., -0., -0.,\n",
       "        -0., -0., -0., -0., -0., -0., -0., -0.],\n",
       "       [-0., -0., -0., -0., -0., -0., -0., -0.,  0.,  0.,  0., -0., -0.,\n",
       "        -0., -0., -0., -0., -0., -0., -0., -0.],\n",
       "       [-0., -0., -0., -0., -0., -0., -0., -0., -0.,  0.,  0.,  0., -0.,\n",
       "        -0., -0., -0., -0., -0., -0., -0., -0.],\n",
       "       [-0., -0., -0., -0., -0., -0., -0., -0., -0., -0.,  0.,  0.,  0.,\n",
       "        -0., -0., -0., -0., -0., -0., -0., -0.],\n",
       "       [-0., -0., -0., -0., -0., -0., -0., -0., -0., -0., -0.,  0.,  0.,\n",
       "         0., -0., -0., -0., -0., -0., -0., -0.],\n",
       "       [-0., -0., -0., -0., -0., -0., -0., -0., -0., -0., -0., -0.,  0.,\n",
       "         0.,  0., -0., -0., -0., -0., -0., -0.],\n",
       "       [-0., -0., -0., -0., -0., -0., -0., -0., -0., -0., -0., -0., -0.,\n",
       "         0.,  0.,  0., -0., -0., -0., -0., -0.],\n",
       "       [-0., -0., -0., -0., -0., -0., -0., -0., -0., -0., -0., -0., -0.,\n",
       "        -0.,  0.,  0.,  0., -0., -0., -0., -0.],\n",
       "       [-0., -0., -0., -0., -0., -0., -0., -0., -0., -0., -0., -0., -0.,\n",
       "        -0., -0.,  0.,  0.,  0., -0., -0., -0.],\n",
       "       [-0., -0., -0., -0., -0., -0., -0., -0., -0., -0., -0., -0., -0.,\n",
       "        -0., -0., -0.,  0.,  0.,  0., -0., -0.],\n",
       "       [-0., -0., -0., -0., -0., -0., -0., -0., -0., -0., -0., -0., -0.,\n",
       "        -0., -0., -0., -0.,  0.,  0.,  0., -0.],\n",
       "       [-0., -0., -0., -0., -0., -0., -0., -0., -0., -0., -0., -0., -0.,\n",
       "        -0., -0., -0., -0., -0.,  0.,  0.,  0.],\n",
       "       [-0., -0., -0., -0., -0., -0., -0., -0., -0., -0., -0., -0., -0.,\n",
       "        -0., -0., -0., -0., -0., -0.,  0.,  0.]])"
      ]
     },
     "execution_count": 127,
     "metadata": {},
     "output_type": "execute_result"
    }
   ],
   "source": []
  },
  {
   "cell_type": "code",
   "execution_count": 139,
   "metadata": {},
   "outputs": [],
   "source": [
    "sigma_00 = corr(x, x, h)\n",
    "\n",
    "sigma_10 = np.block([   corr(x, y_p, h),\n",
    "                     Ly_corr(x, y_d, h) ])\n",
    "    \n",
    "sigma_01 = np.block([   corr(y_p, x, h).T,\n",
    "                     Lx_corr(y_d, x, h).T ]).T\n",
    "    \n",
    "sigma_11 = np.block([[   corr(y_p, y_p, h), Lx_corr(y_d, y_p, h).T],\n",
    "                     [Ly_corr(y_p, y_d, h).T, L2_corr(y_d, y_d, h)  ] ])\n",
    "\n",
    "fy = np.block([fy_p, fy_d])"
   ]
  },
  {
   "cell_type": "code",
   "execution_count": 148,
   "metadata": {},
   "outputs": [
    {
     "data": {
      "text/plain": [
       "(4, 4)"
      ]
     },
     "execution_count": 148,
     "metadata": {},
     "output_type": "execute_result"
    }
   ],
   "source": [
    "sigma_11.shape"
   ]
  },
  {
   "cell_type": "code",
   "execution_count": 147,
   "metadata": {},
   "outputs": [
    {
     "data": {
      "text/plain": [
       "(5, 5)"
      ]
     },
     "execution_count": 147,
     "metadata": {},
     "output_type": "execute_result"
    }
   ],
   "source": [
    "covariance.toarray().shape"
   ]
  },
  {
   "cell_type": "code",
   "execution_count": 146,
   "metadata": {},
   "outputs": [
    {
     "data": {
      "text/plain": [
       "array([3.77281369e-18, 9.97040097e-31, 9.97040097e-31, 9.97040097e-31])"
      ]
     },
     "execution_count": 146,
     "metadata": {},
     "output_type": "execute_result"
    }
   ],
   "source": [
    "fy"
   ]
  },
  {
   "cell_type": "code",
   "execution_count": 145,
   "metadata": {},
   "outputs": [
    {
     "data": {
      "text/plain": [
       "array([3.77281369e-18, 3.77281369e-18, 9.97040097e-31, 9.97040097e-31,\n",
       "       9.97040097e-31])"
      ]
     },
     "execution_count": 145,
     "metadata": {},
     "output_type": "execute_result"
    }
   ],
   "source": [
    "condition"
   ]
  },
  {
   "cell_type": "code",
   "execution_count": null,
   "metadata": {},
   "outputs": [],
   "source": []
  }
 ],
 "metadata": {
  "kernelspec": {
   "display_name": "Python 3",
   "language": "python",
   "name": "python3"
  },
  "language_info": {
   "codemirror_mode": {
    "name": "ipython",
    "version": 3
   },
   "file_extension": ".py",
   "mimetype": "text/x-python",
   "name": "python",
   "nbconvert_exporter": "python",
   "pygments_lexer": "ipython3",
   "version": "3.7.5"
  }
 },
 "nbformat": 4,
 "nbformat_minor": 4
}

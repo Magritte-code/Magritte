{
 "cells": [
  {
   "cell_type": "code",
   "execution_count": 1,
   "metadata": {},
   "outputs": [],
   "source": [
    "import os\n",
    "import sys\n",
    "\n",
    "curdir = '/home/frederik/Dropbox/GitHub/Magritte/tests/development/'\n",
    "datdir = f'{curdir}../data/'\n",
    "moddir = f'{curdir}../models/'\n",
    "resdir = f'{curdir}../results/'\n",
    "\n",
    "import numpy             as np\n",
    "import scipy             as sp\n",
    "import healpy            as hp\n",
    "import matplotlib.pyplot as plt\n",
    "import magritte.tools    as tools\n",
    "import magritte.setup    as setup\n",
    "import magritte.mesher   as mesher\n",
    "import magritte.core     as magritte\n",
    "\n",
    "from scipy.interpolate import interp1d"
   ]
  },
  {
   "cell_type": "markdown",
   "metadata": {
    "collapsed": "true"
   },
   "source": [
    "# Setup 1: VZ 1, 3D mesher\n",
    "---"
   ]
  },
  {
   "cell_type": "code",
   "execution_count": 2,
   "metadata": {},
   "outputs": [],
   "source": [
    "dimension = 3\n",
    "nrays     = 12*3**2\n",
    "nspecs    = 5\n",
    "nlspecs   = 1\n",
    "nquads    = 1\n",
    "\n",
    "r_in   = 1.0E13   # [m]\n",
    "r_out  = 7.8E16   # [m]\n",
    "nH2_in = 2.0E13   # [m^-3]\n",
    "temp   = 20.0     # [K]\n",
    "turb   = 150.00   # [.]\n",
    "\n",
    "a_or_b = 'a'\n",
    "\n",
    "get_X_mol = {\n",
    "    'a' : 1.0E-8,\n",
    "    'b' : 1.0E-6\n",
    "}\n",
    "\n",
    "scale_max = 0.11 * r_out\n",
    "scale_min = 0.11 * r_in\n",
    "scale_cte = 0.11 * r_in\n",
    "scale_fun = f'{scale_cte / r_in**2} * (x*x + y*y + z*z)'"
   ]
  },
  {
   "cell_type": "code",
   "execution_count": null,
   "metadata": {},
   "outputs": [
    {
     "name": "stdout",
     "output_type": "stream",
     "text": [
      "Info    : Running 'gmsh /home/frederik/Dropbox/GitHub/Magritte/tests/development/../models//vanZadelhoff_1_3D_mesher.geo -3 -saveall -o /home/frederik/Dropbox/GitHub/Magritte/tests/development/../models//vanZadelhoff_1_3D_mesher.vtk' [Gmsh 4.4.1, 1 node, max. 1 thread]\n",
      "Info    : Started on Thu Dec 17 16:09:51 2020\n",
      "Info    : Reading '/home/frederik/Dropbox/GitHub/Magritte/tests/development/../models//vanZadelhoff_1_3D_mesher.geo'...\n",
      "Info    : Done reading '/home/frederik/Dropbox/GitHub/Magritte/tests/development/../models//vanZadelhoff_1_3D_mesher.geo'\n",
      "Info    : Meshing 1D...\n",
      "Info    : Meshing curve 101 (Circle)\n",
      "Info    : Meshing curve 102 (Circle)\n",
      "Info    : Meshing curve 103 (Circle)\n",
      "Info    : Meshing curve 104 (Circle)\n",
      "Info    : Meshing curve 105 (Circle)\n",
      "Info    : Meshing curve 106 (Circle)\n",
      "Info    : Meshing curve 107 (Circle)\n",
      "Info    : Meshing curve 108 (Circle)\n",
      "Info    : Meshing curve 109 (Circle)\n",
      "Info    : Meshing curve 110 (Circle)\n",
      "Info    : Meshing curve 111 (Circle)\n",
      "Info    : Meshing curve 112 (Circle)\n",
      "Info    : Meshing curve 201 (Circle)\n",
      "Info    : Meshing curve 202 (Circle)\n",
      "Info    : Meshing curve 203 (Circle)\n",
      "Info    : Meshing curve 204 (Circle)\n",
      "Info    : Meshing curve 205 (Circle)\n",
      "Info    : Meshing curve 206 (Circle)\n",
      "Info    : Meshing curve 207 (Circle)\n",
      "Info    : Meshing curve 208 (Circle)\n",
      "Info    : Meshing curve 209 (Circle)\n",
      "Info    : Meshing curve 210 (Circle)\n",
      "Info    : Meshing curve 211 (Circle)\n",
      "Info    : Meshing curve 212 (Circle)\n",
      "Info    : Done meshing 1D (0.009744 s)\n",
      "Info    : Meshing 2D...\n",
      "Info    : Meshing surface 114 (Surface, MeshAdapt)\n",
      "Info    : Meshing surface 116 (Surface, MeshAdapt)\n",
      "Info    : Meshing surface 118 (Surface, MeshAdapt)\n",
      "Info    : Meshing surface 120 (Surface, MeshAdapt)\n",
      "Info    : Meshing surface 122 (Surface, MeshAdapt)\n",
      "Info    : Meshing surface 124 (Surface, MeshAdapt)\n",
      "Info    : Meshing surface 126 (Surface, MeshAdapt)\n"
     ]
    }
   ],
   "source": [
    "meshName = f'{moddir}/vanZadelhoff_1_3D_mesher.vtk'\n",
    "\n",
    "mesher.create_mesh_from_function(\n",
    "    meshName       = meshName,\n",
    "    boundary       = mesher.boundary_sphere_in_sphere(\n",
    "                         radius_in  = r_in,\n",
    "                         radius_out = r_out),\n",
    "    scale_min      = scale_min,\n",
    "    scale_max      = scale_max,\n",
    "    scale_function = scale_fun )\n",
    "\n",
    "mesh = mesher.Mesh(meshName)"
   ]
  },
  {
   "cell_type": "code",
   "execution_count": 4,
   "metadata": {},
   "outputs": [],
   "source": [
    "npoints = len(mesh.points)\n",
    "nbs     = [n for sublist in mesh.neighbors for n in sublist]\n",
    "n_nbs   = [len(sublist) for sublist in mesh.neighbors]\n",
    "\n",
    "rs = np.linalg.norm(mesh.points, axis=1)\n",
    "\n",
    "modelName = f'vanZadelhoff_1{a_or_b}_3D_mesher'\n",
    "modelFile = f'{moddir}{modelName}.hdf5'\n",
    "lamdaFile = f'{datdir}test.txt'\n",
    "\n",
    "X_mol = get_X_mol[a_or_b]"
   ]
  },
  {
   "cell_type": "code",
   "execution_count": 5,
   "metadata": {},
   "outputs": [],
   "source": [
    "def nH2 (r):\n",
    "    return nH2_in * np.power(r_in/r, 2.0)"
   ]
  },
  {
   "cell_type": "code",
   "execution_count": 6,
   "metadata": {},
   "outputs": [],
   "source": [
    "def nTT (r):\n",
    "    return X_mol * nH2(r)"
   ]
  },
  {
   "cell_type": "code",
   "execution_count": 7,
   "metadata": {},
   "outputs": [],
   "source": [
    "model = magritte.Model ()\n",
    "model.parameters.set_spherical_symmetry(False)\n",
    "model.parameters.set_pop_prec          (1.0e-6)\n",
    "model.parameters.set_model_name        (modelFile)\n",
    "model.parameters.set_dimension         (dimension)\n",
    "model.parameters.set_npoints           (npoints)\n",
    "model.parameters.set_nrays             (nrays)\n",
    "model.parameters.set_nspecs            (nspecs)\n",
    "model.parameters.set_nlspecs           (nlspecs)\n",
    "model.parameters.set_nquads            (nquads)\n",
    "\n",
    "model.geometry.points.position.set(mesh.points)\n",
    "model.geometry.points.velocity.set(np.zeros((npoints, 3)))\n",
    "\n",
    "model.geometry.points.  neighbors.set(  nbs)\n",
    "model.geometry.points.n_neighbors.set(n_nbs)\n",
    "\n",
    "model.chemistry.species.abundance = [[     0.0, nTT(r), nH2(r),  0.0,      1.0] for r in rs]\n",
    "model.chemistry.species.symbol    =  ['dummy0', 'test',   'H2', 'e-', 'dummy1']\n",
    "\n",
    "model.thermodynamics.temperature.gas  .set( temp                 * np.ones(npoints))\n",
    "model.thermodynamics.turbulence.vturb2.set((turb/magritte.CC)**2 * np.ones(npoints))\n",
    "\n",
    "model.parameters.set_nboundary(len(mesh.boundary))\n",
    "model.geometry.boundary.boundary2point.set(mesh.boundary)\n",
    "\n",
    "model = setup.set_boundary_condition_CMB  (model)\n",
    "model = setup.set_uniform_rays            (model)\n",
    "model = setup.set_linedata_from_LAMDA_file(model, lamdaFile)\n",
    "model = setup.set_quadrature              (model)\n",
    "\n",
    "model.write()"
   ]
  },
  {
   "cell_type": "markdown",
   "metadata": {
    "collapsed": "true"
   },
   "source": [
    "# Setup 2: VZ 1, single ray\n",
    "---"
   ]
  },
  {
   "cell_type": "code",
   "execution_count": 330,
   "metadata": {},
   "outputs": [],
   "source": [
    "dimension = 1\n",
    "npoints   = 25\n",
    "nrays     = 2\n",
    "nspecs    = 5\n",
    "nlspecs   = 1\n",
    "nquads    = 1\n",
    "\n",
    "r_in   = 1.0E13   # [m]\n",
    "r_out  = 7.8E16   # [m]\n",
    "nH2_in = 2.0E13   # [m^-3]\n",
    "temp   = 2.0E+01  # [K]\n",
    "turb   = 1.5E+02  # [m/s]\n",
    "\n",
    "get_X_mol = {\n",
    "    'a' : 1.0E-8,\n",
    "    'b' : 1.0E-6\n",
    "}\n",
    "\n",
    "# rs = np.logspace (np.log10(r_in), np.log10(r_out), npoints, endpoint=True)\n",
    "rs = np.linspace (r_in, r_out, npoints, endpoint=True)\n",
    "\n",
    "\n",
    "def create_model (a_or_b):\n",
    "    \"\"\"\n",
    "    Create a model file for the density distribution benchmark, single ray.\n",
    "    \"\"\"\n",
    "\n",
    "    modelName = f'density_distribution_VZ{a_or_b}_single_ray'\n",
    "    modelFile = f'{moddir}{modelName}.hdf5'\n",
    "    lamdaFile = f'{datdir}test.txt'\n",
    "\n",
    "    X_mol = get_X_mol[a_or_b]\n",
    "\n",
    "    def nH2 (r):\n",
    "        return nH2_in * np.power(r_in/r, 2.0)\n",
    "\n",
    "    def nTT (r):\n",
    "        return X_mol  * nH2(r)\n",
    "\n",
    "    model = magritte.Model ()\n",
    "    model.parameters.set_spherical_symmetry(False)\n",
    "    model.parameters.set_model_name        (modelFile)\n",
    "    model.parameters.set_dimension         (dimension)\n",
    "    model.parameters.set_npoints           (npoints)\n",
    "    model.parameters.set_nrays             (nrays)\n",
    "    model.parameters.set_nspecs            (nspecs)\n",
    "    model.parameters.set_nlspecs           (nlspecs)\n",
    "    model.parameters.set_nquads            (nquads)\n",
    "\n",
    "    model.geometry.points.position.set([[r, 0, 0] for r in rs])\n",
    "    model.geometry.points.velocity.set([[0, 0, 0] for i in range(npoints)])\n",
    "\n",
    "    model.chemistry.species.abundance = [[     0.0, nTT(r), nH2(r),  0.0,      1.0] for r in rs]\n",
    "    model.chemistry.species.symbol    =  ['dummy0', 'test',   'H2', 'e-', 'dummy1']\n",
    "\n",
    "    model.thermodynamics.temperature.gas  .set( temp                 * np.ones(npoints))\n",
    "    model.thermodynamics.turbulence.vturb2.set((turb/magritte.CC)**2 * np.ones(npoints))\n",
    "\n",
    "    model = setup.set_Delaunay_neighbor_lists (model)\n",
    "    model = setup.set_Delaunay_boundary       (model)\n",
    "    model = setup.set_boundary_condition_CMB  (model)\n",
    "    model = setup.set_uniform_rays            (model)\n",
    "    model = setup.set_linedata_from_LAMDA_file(model, lamdaFile)\n",
    "    model = setup.set_quadrature              (model)\n",
    "\n",
    "    model.write()\n",
    "\n",
    "    return magritte.Model (modelFile)"
   ]
  },
  {
   "cell_type": "code",
   "execution_count": 331,
   "metadata": {},
   "outputs": [],
   "source": [
    "model = create_model ('a')"
   ]
  },
  {
   "cell_type": "markdown",
   "metadata": {},
   "source": [
    "# Setup 3: all constant, single ray\n",
    "---"
   ]
  },
  {
   "cell_type": "code",
   "execution_count": 2,
   "metadata": {},
   "outputs": [],
   "source": [
    "dimension = 1\n",
    "npoints   = 50\n",
    "nrays     = 2\n",
    "nspecs    = 5\n",
    "nlspecs   = 1\n",
    "nquads    = 1\n",
    "\n",
    "nH2  = 1.0E+12                 # [m^-3]\n",
    "nTT  = 1.0E+03                 # [m^-3]\n",
    "temp = 4.5E+00                 # [K]\n",
    "turb = 0.0E+00                 # [m/s]\n",
    "dx   = 1.0E+12                 # [m]\n",
    "dv   = 0.0E+00 / magritte.CC   # [fraction of speed of light]\n",
    "\n",
    "rs = np.array([i*dx for i in range(npoints)])\n",
    "\n",
    "def create_model ():\n",
    "    \"\"\"\n",
    "    Create a model file for the all_constant benchmark, single ray.\n",
    "    \"\"\"\n",
    "\n",
    "    modelName = f'all_constant_single_ray'\n",
    "    modelFile = f'{moddir}{modelName}.hdf5'\n",
    "    lamdaFile = f'{datdir}test.txt'\n",
    "\n",
    "    model = magritte.Model ()\n",
    "    model.parameters.set_spherical_symmetry(False)\n",
    "    model.parameters.set_model_name        (modelFile)\n",
    "    model.parameters.set_dimension         (dimension)\n",
    "    model.parameters.set_npoints           (npoints)\n",
    "    model.parameters.set_nrays             (nrays)\n",
    "    model.parameters.set_nspecs            (nspecs)\n",
    "    model.parameters.set_nlspecs           (nlspecs)\n",
    "    model.parameters.set_nquads            (nquads)\n",
    "\n",
    "    model.geometry.points.position.set([[i*dx, 0, 0] for i in range(npoints)])\n",
    "    model.geometry.points.velocity.set([[i*dv, 0, 0] for i in range(npoints)])\n",
    "\n",
    "    model.chemistry.species.abundance = [[     0.0,    nTT,  nH2,  0.0,      1.0] for _ in range(npoints)]\n",
    "    model.chemistry.species.symbol    =  ['dummy0', 'test', 'H2', 'e-', 'dummy1']\n",
    "\n",
    "    model.thermodynamics.temperature.gas  .set( temp                 * np.ones(npoints))\n",
    "    model.thermodynamics.turbulence.vturb2.set((turb/magritte.CC)**2 * np.ones(npoints))\n",
    "\n",
    "    model = setup.set_Delaunay_neighbor_lists (model)\n",
    "    model = setup.set_Delaunay_boundary       (model)\n",
    "    model = setup.set_boundary_condition_CMB  (model)\n",
    "    model = setup.set_uniform_rays            (model)\n",
    "    model = setup.set_linedata_from_LAMDA_file(model, lamdaFile)\n",
    "    model = setup.set_quadrature              (model)\n",
    "\n",
    "    model.write()\n",
    "\n",
    "    return magritte.Model(modelFile)"
   ]
  },
  {
   "cell_type": "code",
   "execution_count": 3,
   "metadata": {},
   "outputs": [],
   "source": [
    "model = create_model()"
   ]
  },
  {
   "cell_type": "code",
   "execution_count": 4,
   "metadata": {},
   "outputs": [],
   "source": [
    "ld = model.lines.lineProducingSpecies[0].linedata\n",
    "\n",
    "k = 0\n",
    "\n",
    "frq_ = ld.frequency[k]\n",
    "pop_ = tools.LTEpop         (ld, temp) * nTT\n",
    "phi_ = tools.profile        (ld, k, temp, (turb/magritte.CC)**2, frq_)\n",
    "eta_ = tools.lineEmissivity (ld, pop_)[k] * phi_\n",
    "chi_ = tools.lineOpacity    (ld, pop_)[k] * phi_\n",
    "src_ = tools.lineSource     (ld, pop_)[k]\n",
    "bdy_ = tools.I_CMB          (frq_)\n",
    "\n",
    "def I_0 (x):\n",
    "    return src_ + (bdy_-src_)*np.exp(-chi_*x)\n",
    "\n",
    "def I_1 (x):\n",
    "    return src_ + (bdy_-src_)*np.exp(-chi_*(x[-1]-x))\n",
    "\n",
    "def u_ (x):\n",
    "    return 0.5 * (I_0(x) + I_1(x))"
   ]
  },
  {
   "cell_type": "markdown",
   "metadata": {},
   "source": [
    "# Play!\n",
    "---"
   ]
  },
  {
   "cell_type": "code",
   "execution_count": 52,
   "metadata": {},
   "outputs": [],
   "source": [
    "# model = magritte.Model(modelFile)\n",
    "# model = create_model ('a')"
   ]
  },
  {
   "cell_type": "code",
   "execution_count": 53,
   "metadata": {},
   "outputs": [
    {
     "data": {
      "text/plain": [
       "0"
      ]
     },
     "execution_count": 53,
     "metadata": {},
     "output_type": "execute_result"
    }
   ],
   "source": [
    "model.compute_spectral_discretisation()\n",
    "model.compute_inverse_line_widths    ()\n",
    "model.compute_LTE_level_populations  ()\n",
    "\n",
    "model.set_eta_and_chi       ()\n",
    "model.set_boundary_condition()\n",
    "\n",
    "# eta                = np.array(model.eta,                dtype=np.float64)\n",
    "# chi                = np.array(model.chi,                dtype=np.float64)\n",
    "# boundary_condition = np.array(model.boundary_condition, dtype=np.float64)"
   ]
  },
  {
   "cell_type": "code",
   "execution_count": 54,
   "metadata": {},
   "outputs": [],
   "source": [
    "nboundary = 1#model.parameters.nboundary()\n",
    "npoints   = model.parameters.npoints  ()\n",
    "nfreqs    = model.parameters.nfreqs   ()\n",
    "nrays     = 1#model.parameters.nrays    ()"
   ]
  },
  {
   "cell_type": "code",
   "execution_count": 55,
   "metadata": {},
   "outputs": [],
   "source": [
    "eta                = np.array([[1.0] for _ in range(npoints  )])\n",
    "chi                = np.array([[1.0] for _ in range(npoints  )])\n",
    "boundary_condition = np.array([[0.0] for _ in range(nboundary)])"
   ]
  },
  {
   "cell_type": "code",
   "execution_count": 56,
   "metadata": {},
   "outputs": [],
   "source": [
    "from numba         import njit, jit\n",
    "from scipy.spatial import cKDTree\n",
    "from scipy         import sparse"
   ]
  },
  {
   "cell_type": "code",
   "execution_count": 57,
   "metadata": {},
   "outputs": [],
   "source": [
    "# Rs = np.array(model.geometry.rays.direction, dtype=np.float64)\n",
    "Rs = np.array([[1,0,0],[-1,0,0]], dtype=np.float64)\n",
    "\n",
    "boundary2point = np.array(model.geometry.boundary.boundary2point)\n",
    "\n",
    "# Xs_all = np.array(model.geometry.points.position, dtype=np.float64)\n",
    "\n",
    "rs = [i for i in range(npoints)]\n",
    "Xs_all = np.array([[r,0,0] for r in rs], dtype=np.float64)\n",
    "Xs_bdy = Xs_all[boundary2point]"
   ]
  },
  {
   "cell_type": "code",
   "execution_count": 58,
   "metadata": {},
   "outputs": [
    {
     "ename": "IndexError",
     "evalue": "list index out of range",
     "output_type": "error",
     "traceback": [
      "\u001b[0;31m---------------------------------------------------------------------------\u001b[0m",
      "\u001b[0;31mIndexError\u001b[0m                                Traceback (most recent call last)",
      "\u001b[0;32m<ipython-input-58-5a5188df37d2>\u001b[0m in \u001b[0;36m<module>\u001b[0;34m\u001b[0m\n\u001b[1;32m     12\u001b[0m \u001b[0;34m\u001b[0m\u001b[0m\n\u001b[1;32m     13\u001b[0m \u001b[0mind_all\u001b[0m \u001b[0;34m=\u001b[0m \u001b[0msymmetrize\u001b[0m\u001b[0;34m(\u001b[0m\u001b[0mind_all\u001b[0m\u001b[0;34m)\u001b[0m\u001b[0;34m\u001b[0m\u001b[0;34m\u001b[0m\u001b[0m\n\u001b[0;32m---> 14\u001b[0;31m \u001b[0mind_bdy\u001b[0m \u001b[0;34m=\u001b[0m \u001b[0msymmetrize\u001b[0m\u001b[0;34m(\u001b[0m\u001b[0mind_bdy\u001b[0m\u001b[0;34m)\u001b[0m\u001b[0;34m\u001b[0m\u001b[0;34m\u001b[0m\u001b[0m\n\u001b[0m",
      "\u001b[0;32m<ipython-input-58-5a5188df37d2>\u001b[0m in \u001b[0;36msymmetrize\u001b[0;34m(indices)\u001b[0m\n\u001b[1;32m      7\u001b[0m     \u001b[0;32mfor\u001b[0m \u001b[0mp\u001b[0m\u001b[0;34m,\u001b[0m \u001b[0mnn\u001b[0m \u001b[0;32min\u001b[0m \u001b[0menumerate\u001b[0m\u001b[0;34m(\u001b[0m\u001b[0mindices\u001b[0m\u001b[0;34m)\u001b[0m\u001b[0;34m:\u001b[0m\u001b[0;34m\u001b[0m\u001b[0;34m\u001b[0m\u001b[0m\n\u001b[1;32m      8\u001b[0m         \u001b[0;32mfor\u001b[0m \u001b[0mn\u001b[0m \u001b[0;32min\u001b[0m \u001b[0mnn\u001b[0m\u001b[0;34m:\u001b[0m\u001b[0;34m\u001b[0m\u001b[0;34m\u001b[0m\u001b[0m\n\u001b[0;32m----> 9\u001b[0;31m             \u001b[0;32mif\u001b[0m \u001b[0;32mnot\u001b[0m \u001b[0mp\u001b[0m \u001b[0;32min\u001b[0m \u001b[0mindices\u001b[0m\u001b[0;34m[\u001b[0m\u001b[0mn\u001b[0m\u001b[0;34m]\u001b[0m\u001b[0;34m:\u001b[0m\u001b[0;34m\u001b[0m\u001b[0;34m\u001b[0m\u001b[0m\n\u001b[0m\u001b[1;32m     10\u001b[0m                 \u001b[0mindices\u001b[0m\u001b[0;34m[\u001b[0m\u001b[0mn\u001b[0m\u001b[0;34m]\u001b[0m\u001b[0;34m.\u001b[0m\u001b[0mappend\u001b[0m\u001b[0;34m(\u001b[0m\u001b[0mp\u001b[0m\u001b[0;34m)\u001b[0m\u001b[0;34m\u001b[0m\u001b[0;34m\u001b[0m\u001b[0m\n\u001b[1;32m     11\u001b[0m     \u001b[0;32mreturn\u001b[0m \u001b[0mindices\u001b[0m\u001b[0;34m\u001b[0m\u001b[0;34m\u001b[0m\u001b[0m\n",
      "\u001b[0;31mIndexError\u001b[0m: list index out of range"
     ]
    }
   ],
   "source": [
    "ncp = 7 #npoints #64\n",
    "dis_all, ind_all = cKDTree(Xs_all).query(Xs_all, ncp)\n",
    "dis_bdy, ind_bdy = cKDTree(Xs_bdy).query(Xs_bdy, ncp)\n",
    "\n",
    "def symmetrize(indices):\n",
    "    indices = indices.tolist()\n",
    "    for p, nn in enumerate(indices):\n",
    "        for n in nn:\n",
    "            if not p in indices[n]:\n",
    "                indices[n].append(p)\n",
    "    return indices\n",
    "\n",
    "ind_all = symmetrize(ind_all)\n",
    "ind_bdy = symmetrize(ind_bdy)"
   ]
  },
  {
   "cell_type": "code",
   "execution_count": 59,
   "metadata": {},
   "outputs": [
    {
     "data": {
      "text/plain": [
       "array([[0, 1, 2, 2, 2, 2, 2],\n",
       "       [1, 0, 2, 2, 2, 2, 2]])"
      ]
     },
     "execution_count": 59,
     "metadata": {},
     "output_type": "execute_result"
    }
   ],
   "source": [
    "ind_bdy"
   ]
  },
  {
   "cell_type": "code",
   "execution_count": 60,
   "metadata": {},
   "outputs": [
    {
     "data": {
      "text/plain": [
       "[[0, 1, 2, 3, 4, 5, 6],\n",
       " [1, 2, 0, 3, 4, 5, 6],\n",
       " [2, 1, 3, 0, 4, 5, 6],\n",
       " [3, 4, 2, 5, 1, 6, 0],\n",
       " [4, 5, 3, 2, 6, 7, 1, 0],\n",
       " [5, 4, 6, 7, 3, 8, 2, 0, 1],\n",
       " [6, 7, 5, 8, 4, 9, 3, 0, 1, 2],\n",
       " [7, 8, 6, 5, 9, 10, 4],\n",
       " [8, 7, 9, 10, 6, 11, 5],\n",
       " [9, 8, 10, 7, 11, 12, 6],\n",
       " [10, 11, 9, 12, 8, 13, 7],\n",
       " [11, 10, 12, 13, 9, 14, 8],\n",
       " [12, 11, 13, 14, 10, 9, 15],\n",
       " [13, 12, 14, 11, 15, 16, 10],\n",
       " [14, 13, 15, 12, 16, 11, 17],\n",
       " [15, 16, 14, 17, 13, 18, 12],\n",
       " [16, 17, 15, 14, 18, 19, 13],\n",
       " [17, 16, 18, 19, 15, 20, 14],\n",
       " [18, 19, 17, 20, 16, 21, 15],\n",
       " [19, 20, 18, 17, 21, 22, 16],\n",
       " [20, 19, 21, 22, 18, 23, 17],\n",
       " [21, 20, 22, 19, 23, 24, 18],\n",
       " [22, 23, 21, 24, 20, 25, 19],\n",
       " [23, 22, 24, 25, 21, 26, 20],\n",
       " [24, 23, 25, 22, 26, 27, 21],\n",
       " [25, 24, 26, 27, 23, 22, 28],\n",
       " [26, 25, 27, 24, 28, 29, 23],\n",
       " [27, 26, 28, 25, 29, 24, 30],\n",
       " [28, 29, 27, 30, 26, 31, 25],\n",
       " [29, 30, 28, 27, 31, 32, 26],\n",
       " [30, 29, 31, 32, 28, 33, 27],\n",
       " [31, 32, 30, 33, 29, 34, 28],\n",
       " [32, 33, 31, 30, 34, 35, 29],\n",
       " [33, 32, 34, 35, 31, 36, 30],\n",
       " [34, 33, 35, 32, 36, 37, 31],\n",
       " [35, 36, 34, 37, 33, 38, 32],\n",
       " [36, 35, 37, 38, 34, 39, 33],\n",
       " [37, 36, 38, 39, 35, 34, 40],\n",
       " [38, 37, 39, 36, 40, 41, 35],\n",
       " [39, 38, 40, 37, 41, 36, 42],\n",
       " [40, 41, 39, 42, 38, 43, 37],\n",
       " [41, 42, 40, 39, 43, 44, 38],\n",
       " [42, 41, 43, 44, 40, 45, 39],\n",
       " [43, 44, 42, 45, 41, 46, 40, 47, 48, 49],\n",
       " [44, 45, 43, 42, 46, 47, 41, 48, 49],\n",
       " [45, 44, 46, 47, 43, 48, 42, 49],\n",
       " [46, 45, 47, 44, 48, 49, 43],\n",
       " [47, 48, 46, 49, 45, 44, 43],\n",
       " [48, 49, 47, 46, 45, 44, 43],\n",
       " [49, 48, 47, 46, 45, 44, 43]]"
      ]
     },
     "execution_count": 60,
     "metadata": {},
     "output_type": "execute_result"
    }
   ],
   "source": [
    "ind_all"
   ]
  },
  {
   "cell_type": "code",
   "execution_count": 61,
   "metadata": {},
   "outputs": [
    {
     "data": {
      "text/plain": [
       "<matplotlib.image.AxesImage at 0x7f98f81068d0>"
      ]
     },
     "execution_count": 61,
     "metadata": {},
     "output_type": "execute_result"
    },
    {
     "data": {
      "image/png": "[encoded data removed]",
      "text/plain": [
       "<Figure size 432x288 with 1 Axes>"
      ]
     },
     "metadata": {
      "needs_background": "light"
     },
     "output_type": "display_data"
    }
   ],
   "source": [
    "mat = np.zeros((npoints, npoints))\n",
    "\n",
    "for i, ids in enumerate(ind_all):\n",
    "    for j in ids:\n",
    "        mat[i,j] = 1.0\n",
    "    \n",
    "plt.imshow(mat)"
   ]
  },
  {
   "cell_type": "code",
   "execution_count": 62,
   "metadata": {},
   "outputs": [
    {
     "name": "stdout",
     "output_type": "stream",
     "text": [
      "404 376\n"
     ]
    }
   ],
   "source": [
    "datsize_cov = 0\n",
    "datsize_exp = 0\n",
    "\n",
    "for ind in ind_bdy:\n",
    "    datsize_cov += len(ind)\n",
    "    datsize_exp += len(ind)\n",
    "    \n",
    "datsize_cov *= 3\n",
    "datsize_exp *= 1\n",
    "\n",
    "for ind in ind_all:\n",
    "    datsize_cov += len(ind)\n",
    "    datsize_exp += len(ind)\n",
    "\n",
    "datsize_cov *= nrays**2 * nfreqs**2\n",
    "datsize_exp *= nrays**2 * nfreqs**2\n",
    "\n",
    "print(datsize_cov, datsize_exp)"
   ]
  },
  {
   "cell_type": "code",
   "execution_count": 63,
   "metadata": {},
   "outputs": [],
   "source": [
    "mdis = np.mean(dis_all[:,1:], axis=1)\n",
    "sdis = np.std (dis_all[:,1:], axis=1)\n",
    "\n",
    "inverse_mdis2 = 1.0 / mdis**2"
   ]
  },
  {
   "cell_type": "code",
   "execution_count": 65,
   "metadata": {},
   "outputs": [
    {
     "data": {
      "text/plain": [
       "array([3.5       , 2.66666667, 2.16666667, 2.        , 2.        ,\n",
       "       2.        , 2.        , 2.        , 2.        , 2.        ,\n",
       "       2.        , 2.        , 2.        , 2.        , 2.        ,\n",
       "       2.        , 2.        , 2.        , 2.        , 2.        ,\n",
       "       2.        , 2.        , 2.        , 2.        , 2.        ,\n",
       "       2.        , 2.        , 2.        , 2.        , 2.        ,\n",
       "       2.        , 2.        , 2.        , 2.        , 2.        ,\n",
       "       2.        , 2.        , 2.        , 2.        , 2.        ,\n",
       "       2.        , 2.        , 2.        , 2.        , 2.        ,\n",
       "       2.        , 2.        , 2.16666667, 2.66666667, 3.5       ])"
      ]
     },
     "execution_count": 65,
     "metadata": {},
     "output_type": "execute_result"
    }
   ],
   "source": [
    "mdis"
   ]
  },
  {
   "cell_type": "code",
   "execution_count": 66,
   "metadata": {},
   "outputs": [
    {
     "data": {
      "text/plain": [
       "[<matplotlib.lines.Line2D at 0x7f98f80eccd0>]"
      ]
     },
     "execution_count": 66,
     "metadata": {},
     "output_type": "execute_result"
    },
    {
     "data": {
      "image/png": "[encoded data removed]",
      "text/plain": [
       "<Figure size 660x440 with 1 Axes>"
      ]
     },
     "metadata": {
      "needs_background": "light"
     },
     "output_type": "display_data"
    }
   ],
   "source": [
    "plt.figure(dpi=110)\n",
    "plt.plot(np.linalg.norm(Xs_all, axis=1), mdis)\n",
    "# plt.scatter(np.linalg.norm(Xs_all, axis=1), mdis+sdis, s=0.5)\n",
    "# plt.scatter(np.linalg.norm(Xs_all, axis=1), mdis-sdis, s=0.5)\n",
    "# plt.xscale('log')\n",
    "# plt.yscale('log')"
   ]
  },
  {
   "cell_type": "code",
   "execution_count": null,
   "metadata": {},
   "outputs": [],
   "source": [
    "def diff(x, y):\n",
    "    # Compute derivative\n",
    "    dy = np.diff(y)\n",
    "    dx = np.diff(x)\n",
    "    # Compute corresponding x\n",
    "    x = 0.5*(x[:-1] + x[1:])\n",
    "    # Return result\n",
    "    return (x, dy/dx)"
   ]
  },
  {
   "cell_type": "code",
   "execution_count": 86,
   "metadata": {},
   "outputs": [
    {
     "data": {
      "text/plain": [
       "[<matplotlib.lines.Line2D at 0x7f98f8d1aa10>]"
      ]
     },
     "execution_count": 86,
     "metadata": {},
     "output_type": "execute_result"
    },
    {
     "data": {
      "image/png": "[encoded data removed]",
      "text/plain": [
       "<Figure size 660x440 with 1 Axes>"
      ]
     },
     "metadata": {
      "needs_background": "light"
     },
     "output_type": "display_data"
    }
   ],
   "source": [
    "plt.figure(dpi=110)\n",
    "plt.plot(rs, inverse_h2())"
   ]
  },
  {
   "cell_type": "code",
   "execution_count": 67,
   "metadata": {},
   "outputs": [
    {
     "data": {
      "text/plain": [
       "array([[1.],\n",
       "       [1.],\n",
       "       [1.],\n",
       "       [1.],\n",
       "       [1.],\n",
       "       [1.],\n",
       "       [1.],\n",
       "       [1.],\n",
       "       [1.],\n",
       "       [1.],\n",
       "       [1.],\n",
       "       [1.],\n",
       "       [1.],\n",
       "       [1.],\n",
       "       [1.],\n",
       "       [1.],\n",
       "       [1.],\n",
       "       [1.],\n",
       "       [1.],\n",
       "       [1.],\n",
       "       [1.],\n",
       "       [1.],\n",
       "       [1.],\n",
       "       [1.],\n",
       "       [1.],\n",
       "       [1.],\n",
       "       [1.],\n",
       "       [1.],\n",
       "       [1.],\n",
       "       [1.],\n",
       "       [1.],\n",
       "       [1.],\n",
       "       [1.],\n",
       "       [1.],\n",
       "       [1.],\n",
       "       [1.],\n",
       "       [1.],\n",
       "       [1.],\n",
       "       [1.],\n",
       "       [1.],\n",
       "       [1.],\n",
       "       [1.],\n",
       "       [1.],\n",
       "       [1.],\n",
       "       [1.],\n",
       "       [1.],\n",
       "       [1.],\n",
       "       [1.],\n",
       "       [1.],\n",
       "       [1.]])"
      ]
     },
     "execution_count": 67,
     "metadata": {},
     "output_type": "execute_result"
    }
   ],
   "source": [
    "chi"
   ]
  },
  {
   "cell_type": "code",
   "execution_count": 68,
   "metadata": {},
   "outputs": [],
   "source": [
    "@njit\n",
    "def kerval(ia, dp):\n",
    "#     print(ia)\n",
    "    return np.exp(-0.5 * ia * np.dot(dp, dp))\n",
    "\n",
    "@njit\n",
    "def inverse_h2(p1, p2):\n",
    "    return 0.5 * (  inverse_mdis2[p1]\n",
    "                  + inverse_mdis2[p2] )\n",
    "\n",
    "@njit\n",
    "def k (r1, p1, f1, r2, p2, f2):\n",
    "    dp = Xs_all[p1] - Xs_all[p2]\n",
    "    df = 0.0\n",
    "    ia = inverse_h2(p1, p2)\n",
    "    return kerval(ia, dp)\n",
    "\n",
    "@njit\n",
    "def L_k(r1, p1, f1, r2, p2, f2):\n",
    "    dp = Xs_all[p1] - Xs_all[p2]\n",
    "    df = 0.0\n",
    "    ia = inverse_h2(p1, p2)\n",
    "    g2  = np.dot(dp, Rs[r2]) * ia  / chi[p2,f2]\n",
    "#     print('g2 =', g2)\n",
    "    return (1.0 + g2) * kerval(ia, dp)\n",
    "\n",
    "@njit\n",
    "def L2_k(r1, p1, f1, r2, p2, f2):\n",
    "    dp = Xs_all[p1] - Xs_all[p2]\n",
    "    df = 0.0\n",
    "    ia = inverse_h2(p1, p2)\n",
    "    g1 = np.dot(dp, Rs[r1]) * ia / chi[p1,f1]\n",
    "    g2 = np.dot(dp, Rs[r2]) * ia / chi[p2,f2]\n",
    "    \n",
    "    result = ((1.0 - g1)*(1.0 + g2) + ia/(chi[p1,f1]*chi[p2,f2])) * kerval(ia, dp)\n",
    "    \n",
    "    return result"
   ]
  },
  {
   "cell_type": "code",
   "execution_count": 69,
   "metadata": {},
   "outputs": [],
   "source": [
    "# alpha2 = 1.0\n",
    "\n",
    "# @njit\n",
    "# def kerval(inverse_h2, d):\n",
    "#     return alpha2 * np.exp(-0.5 * inverse_h2 * np.dot(d, d))\n",
    "\n",
    "# @njit\n",
    "# def kernel(r, p1, p2):\n",
    "#     d = Xs_all[p1] - Xs_all[p2]\n",
    "#     inverse_h2 = 0.5*(inverse_mdis2[p1] + inverse_mdis2[p2])\n",
    "#     return kerval(inverse_h2, d)\n",
    "\n",
    "# @njit\n",
    "# def L1_kernel(r, p1, p2):\n",
    "#     d = Xs_all[p1] - Xs_all[p2]\n",
    "#     inverse_h2 = 0.5*(inverse_mdis2[p1] + inverse_mdis2[p2])\n",
    "#     g = np.dot(d, Rs[r]) * inverse_h2\n",
    "#     return (chi[p1] - g) * kerval(inverse_h2, d)\n",
    "\n",
    "# @njit\n",
    "# def L2_kernel(r, p1, p2):\n",
    "#     d = Xs_all[p1] - Xs_all[p2]\n",
    "#     inverse_h2 = 0.5*(inverse_mdis2[p1] + inverse_mdis2[p2])\n",
    "#     g = np.dot(d, Rs[r]) * inverse_h2\n",
    "#     return (chi[p2] + g) * kerval(inverse_h2, d)\n",
    "\n",
    "# @njit\n",
    "# def L12_kernel(r, p1, p2):\n",
    "#     d = Xs_all[p1] - Xs_all[p2]\n",
    "#     inverse_h2 = 0.5*(inverse_mdis2[p1] + inverse_mdis2[p2])\n",
    "#     g = np.dot(d, Rs[r]) * inverse_h2\n",
    "#     return ((chi[p1] + g)*(chi[p2] - g) + inverse_h2) * kerval(inverse_h2, d)"
   ]
  },
  {
   "cell_type": "code",
   "execution_count": 70,
   "metadata": {},
   "outputs": [],
   "source": [
    "matsize = (nboundary + npoints) * nfreqs * nrays\n",
    "\n",
    "# @njit\n",
    "def get_expansion():\n",
    "    \"\"\"\n",
    "    Setup the sparse matrix for the kernel expansion.\n",
    "    \"\"\"\n",
    "    # initialize\n",
    "    data = np.zeros(datsize_exp, dtype=np.float64)\n",
    "    id_i = np.zeros(datsize_exp, dtype=np.int64)\n",
    "    id_j = np.zeros(datsize_exp, dtype=np.int64)\n",
    "    # set index\n",
    "    index = 0\n",
    "        \n",
    "    # compute\n",
    "    \n",
    "    # For all boundary points\n",
    "    for b2 in range(nboundary):\n",
    "        p2 = boundary2point[b2]\n",
    "        \n",
    "        for f2 in range(nfreqs):\n",
    "            for r2 in range(nrays):    \n",
    "\n",
    "                # For all (general) points (close to the considered boundary point p1)\n",
    "                for i1 in range(len(ind_all[p2])):\n",
    "                    p1 = ind_all[p2][i1]\n",
    "                    \n",
    "                    for f1 in range(nfreqs):\n",
    "                        for r1 in range(nrays):\n",
    "            \n",
    "                            kk = k(r1, p1, f1, r2, p2, f2)\n",
    "                            j1 = r1 + nrays*(f1 + nfreqs*p1) \n",
    "                            j2 = r2 + nrays*(f2 + nfreqs*b2)\n",
    "                \n",
    "                            data[index] = kk\n",
    "                            id_i[index] = j1 \n",
    "                            id_j[index] = j2\n",
    "                            index += 1    \n",
    "\n",
    "    # For all (general) points\n",
    "    for p1 in range(npoints):\n",
    "        i1 = p1 + nboundary\n",
    "        \n",
    "        for f1 in range(nfreqs):\n",
    "            for r1 in range(nrays):\n",
    "            \n",
    "                # For all (general) points (close to the considered general point p1)\n",
    "                for i2 in range(min([len(ind_all[p1]), npoints])):\n",
    "                    p2 = ind_all[p1][i2]\n",
    "                    \n",
    "                    for f2 in range(nfreqs):\n",
    "                        for r2 in range(nrays):\n",
    "                            \n",
    "                            Lk = L_k(r1, p1, f1, r2, p2, f2)\n",
    "                            j1 = r1 + nrays*(f1 + nfreqs* p1             ) \n",
    "                            j2 = r2 + nrays*(f2 + nfreqs*(p2 + nboundary))\n",
    "                            \n",
    "                            data[index] = Lk\n",
    "                            id_i[index] = j1\n",
    "                            id_j[index] = j2\n",
    "                            index += 1\n",
    "\n",
    "    return (data, (id_i, id_j))\n",
    "\n",
    "\n",
    "# @njit\n",
    "def get_covariance():\n",
    "    # initialize\n",
    "    data = np.zeros(datsize_cov, dtype=np.float64)\n",
    "    id_i = np.zeros(datsize_cov, dtype=np.int64)\n",
    "    id_j = np.zeros(datsize_cov, dtype=np.int64)\n",
    "    # set index\n",
    "    index = 0\n",
    "    \n",
    "    # compute     \n",
    "    \n",
    "    # For all boundary points\n",
    "    for b1 in range(nboundary):\n",
    "        p1 = boundary2point[b1]\n",
    "\n",
    "        for f1 in range(nfreqs):\n",
    "            for r1 in range(nrays):\n",
    "                \n",
    "                # For all boundary points (close to the considered boundary point p1)\n",
    "                for i2 in range(min([len(ind_bdy[b1]), nboundary])):\n",
    "                    b2 = ind_bdy[b1][i2]\n",
    "                    p2 = boundary2point[b2]\n",
    "                    \n",
    "                    for f2 in range(nfreqs):\n",
    "                        for r2 in range(nrays):\n",
    "            \n",
    "                            kk = k(r1, p1, f1, r2, p2, f2)\n",
    "                            j1 = r1 + nrays*(f1 + nfreqs*b1) \n",
    "                            j2 = r2 + nrays*(f2 + nfreqs*b2)\n",
    "                \n",
    "                            data[index] = kk\n",
    "                            id_i[index] = j1 \n",
    "                            id_j[index] = j2\n",
    "                            index += 1\n",
    "                            \n",
    "#                             print ('kk  ', p1, r1, ';', p2, r2, ' ', kk)\n",
    " \n",
    "                # For all (general) points (close to the considered boundary point p1)\n",
    "                for i2 in range(min([len(ind_all[p1]), npoints])):\n",
    "                    p2 = ind_all[p1][i2]\n",
    "                    \n",
    "                    for f2 in range(nfreqs):\n",
    "                        for r2 in range(nrays):\n",
    "                    \n",
    "                            Lk = L_k(r1, p1, f1, r2, p2, f2)\n",
    "                            j1 = r1 + nrays*(f1 + nfreqs* b1             ) \n",
    "                            j2 = r2 + nrays*(f2 + nfreqs*(p2 + nboundary))\n",
    "\n",
    "                            data[index] = Lk\n",
    "                            id_i[index] = j1\n",
    "                            id_j[index] = j2\n",
    "                            index += 1\n",
    "                            \n",
    "                            data[index] = Lk\n",
    "                            id_i[index] = j2\n",
    "                            id_j[index] = j1 \n",
    "                            index += 1\n",
    "                        \n",
    "#                             print ('Lk', Lk, p1, r1, p2, r2)\n",
    "                            \n",
    "    # For all (general) points\n",
    "    for p1 in range(npoints):\n",
    "        i1 = p1 + nboundary\n",
    "        \n",
    "        for f1 in range(nfreqs):\n",
    "            for r1 in range(nrays):\n",
    "            \n",
    "                # For all (general) points (close to the considered general point p1)\n",
    "                for i2 in range(min([len(ind_all[p1]), npoints])):\n",
    "                    p2 = ind_all[p1][i2]\n",
    "                    \n",
    "                    for f2 in range(nfreqs):\n",
    "                        for r2 in range(nrays):\n",
    "                            \n",
    "                            L2 = L2_k(r1, p1, f1, r2, p2, f2)\n",
    "                            j1 = r1 + nrays*(f1 + nfreqs* i1             ) \n",
    "                            j2 = r2 + nrays*(f2 + nfreqs*(p2 + nboundary))\n",
    "                            \n",
    "                            data[index] = L2\n",
    "                            id_i[index] = j1\n",
    "                            id_j[index] = j2\n",
    "                            index += 1\n",
    "                            \n",
    "#                             print ('L2  ', p1, r1, ';', p2, r2, ' ', L2)\n",
    "                            \n",
    "    return (data, (id_i, id_j))\n",
    " \n",
    "\n",
    "# @njit\n",
    "def get_condition():\n",
    "    \n",
    "    # initialize\n",
    "    condition = np.zeros(matsize)\n",
    "    # compute\n",
    "\n",
    "    # For all boundary points\n",
    "    for i1 in range(nboundary):\n",
    "        p1 = boundary2point[i1]\n",
    "        \n",
    "        for f1 in range(nfreqs):\n",
    "            for r1 in range(nrays):    \n",
    "            \n",
    "#                 if np.dot([1,0,0], Rs[r1]) > 0:\n",
    "#                 if (i1 == 0):\n",
    "            \n",
    "                j1 = r1 + nrays*(f1 + nfreqs*i1)\n",
    "                \n",
    "#                 condition[j1] = boundary_condition[i1,f1]\n",
    "                condition[j1] = 0.0\n",
    "\n",
    "    # For all (general) points\n",
    "    for p1 in range(npoints):\n",
    "        i1 = p1 + nboundary\n",
    "        \n",
    "        for f1 in range(nfreqs):\n",
    "            for r1 in range(nrays):\n",
    "\n",
    "                j1 = r1 + nrays*(f1 + nfreqs* i1)\n",
    "                \n",
    "#                 condition[j1] = eta[p1,f1] / chi[p1,f1]\n",
    "                condition[j1] = 1.0\n",
    "\n",
    "    return condition"
   ]
  },
  {
   "cell_type": "code",
   "execution_count": 71,
   "metadata": {},
   "outputs": [
    {
     "data": {
      "text/plain": [
       "50"
      ]
     },
     "execution_count": 71,
     "metadata": {},
     "output_type": "execute_result"
    }
   ],
   "source": [
    "npoints*nfreqs*nrays"
   ]
  },
  {
   "cell_type": "code",
   "execution_count": 72,
   "metadata": {},
   "outputs": [],
   "source": [
    "dimsize = npoints * nfreqs * nrays"
   ]
  },
  {
   "cell_type": "code",
   "execution_count": 73,
   "metadata": {},
   "outputs": [],
   "source": [
    "def mylog(x):\n",
    "#     shape  = x.shape\n",
    "#     result = np.zeros(shape)\n",
    "#     x      = np.array(x     ).ravel()\n",
    "#     result = np.array(result).ravel()\n",
    "#     print(x.shape)\n",
    "#     print(result.shape)\n",
    "#     result[x> 0] =  np.log10( x[x>0])\n",
    "#     result[x< 0] = -np.log10(-x[x<0])\n",
    "#     result[x==0] =  np.NaN\n",
    "#     return result.reshape(shape)\n",
    "    return np.log10(np.abs(x))"
   ]
  },
  {
   "cell_type": "code",
   "execution_count": 74,
   "metadata": {},
   "outputs": [],
   "source": [
    "cov    = get_covariance()\n",
    "covars = sparse.coo_matrix(cov, shape=(matsize, matsize)).tocsc()"
   ]
  },
  {
   "cell_type": "code",
   "execution_count": 75,
   "metadata": {},
   "outputs": [
    {
     "name": "stdout",
     "output_type": "stream",
     "text": [
      "[[1.         1.         0.84082866 ... 0.         0.         0.        ]\n",
      " [1.         1.08163265 1.03939139 ... 0.         0.         0.        ]\n",
      " [0.84082866 1.03939139 1.140625   ... 0.         0.         0.        ]\n",
      " ...\n",
      " [0.         0.         0.         ... 1.21301775 1.04862423 0.78985655]\n",
      " [0.         0.         0.         ... 1.04862423 1.140625   1.03939139]\n",
      " [0.         0.         0.         ... 0.78985655 1.03939139 1.08163265]]\n"
     ]
    }
   ],
   "source": [
    "print(covars.todense())"
   ]
  },
  {
   "cell_type": "code",
   "execution_count": 76,
   "metadata": {},
   "outputs": [
    {
     "data": {
      "text/plain": [
       "<matplotlib.collections.PathCollection at 0x7f98f8b010d0>"
      ]
     },
     "execution_count": 76,
     "metadata": {},
     "output_type": "execute_result"
    },
    {
     "data": {
      "image/png": "[encoded data removed]",
      "text/plain": [
       "<Figure size 720x480 with 1 Axes>"
      ]
     },
     "metadata": {
      "needs_background": "light"
     },
     "output_type": "display_data"
    }
   ],
   "source": [
    "vmin = -np.max(np.abs(covars.todense()))\n",
    "vmax = +np.max(np.abs(covars.todense()))\n",
    "plt.figure(dpi=120)\n",
    "plt.imshow(covars.todense(), cmap='Spectral')\n",
    "plt.scatter(cov[1][1], cov[1][0], c='k', marker='.', s=1)"
   ]
  },
  {
   "cell_type": "code",
   "execution_count": 77,
   "metadata": {},
   "outputs": [
    {
     "data": {
      "text/plain": [
       "-8.139272345640867e-38"
      ]
     },
     "execution_count": 77,
     "metadata": {},
     "output_type": "execute_result"
    }
   ],
   "source": [
    "np.linalg.det(covars.todense())"
   ]
  },
  {
   "cell_type": "code",
   "execution_count": 78,
   "metadata": {},
   "outputs": [],
   "source": [
    "exp    = get_expansion()\n",
    "expans = sparse.coo_matrix(exp, shape=(dimsize, matsize)).tocsc()"
   ]
  },
  {
   "cell_type": "code",
   "execution_count": 79,
   "metadata": {},
   "outputs": [
    {
     "name": "stdout",
     "output_type": "stream",
     "text": [
      "[[1.         1.         0.84082866 ... 0.         0.         0.        ]\n",
      " [0.94595109 1.05107352 1.         ... 0.         0.         0.        ]\n",
      " [0.74479192 0.96424516 1.07724447 ... 0.         0.         0.        ]\n",
      " ...\n",
      " [0.         0.         0.         ... 1.         0.75352525 0.52533868]\n",
      " [0.         0.         0.         ... 1.07724447 1.         0.84082866]\n",
      " [0.         0.         0.         ... 0.96424516 1.05107352 1.        ]]\n"
     ]
    }
   ],
   "source": [
    "print(expans.todense())"
   ]
  },
  {
   "cell_type": "code",
   "execution_count": 80,
   "metadata": {},
   "outputs": [
    {
     "data": {
      "text/plain": [
       "<matplotlib.collections.PathCollection at 0x7f98f8af1190>"
      ]
     },
     "execution_count": 80,
     "metadata": {},
     "output_type": "execute_result"
    },
    {
     "data": {
      "image/png": "[encoded data removed]",
      "text/plain": [
       "<Figure size 660x440 with 1 Axes>"
      ]
     },
     "metadata": {
      "needs_background": "light"
     },
     "output_type": "display_data"
    }
   ],
   "source": [
    "vmin = -np.max(np.abs(expans.todense()))\n",
    "vmax = +np.max(np.abs(expans.todense()))\n",
    "plt.figure(dpi=110)\n",
    "plt.imshow(expans.todense(), cmap='Spectral', vmin=vmin, vmax=vmax)\n",
    "plt.scatter(exp[1][1], exp[1][0], c='k', marker='X', s=2)"
   ]
  },
  {
   "cell_type": "code",
   "execution_count": 81,
   "metadata": {},
   "outputs": [
    {
     "data": {
      "text/plain": [
       "array([0., 1., 1., 1., 1., 1., 1., 1., 1., 1., 1., 1., 1., 1., 1., 1., 1.,\n",
       "       1., 1., 1., 1., 1., 1., 1., 1., 1., 1., 1., 1., 1., 1., 1., 1., 1.,\n",
       "       1., 1., 1., 1., 1., 1., 1., 1., 1., 1., 1., 1., 1., 1., 1., 1., 1.])"
      ]
     },
     "execution_count": 81,
     "metadata": {},
     "output_type": "execute_result"
    }
   ],
   "source": [
    "condtn = get_condition()\n",
    "condtn"
   ]
  },
  {
   "cell_type": "code",
   "execution_count": 82,
   "metadata": {},
   "outputs": [
    {
     "data": {
      "text/plain": [
       "<matplotlib.image.AxesImage at 0x7f98f8a3e3d0>"
      ]
     },
     "execution_count": 82,
     "metadata": {},
     "output_type": "execute_result"
    },
    {
     "data": {
      "image/png": "[encoded data removed]",
      "text/plain": [
       "<Figure size 660x440 with 1 Axes>"
      ]
     },
     "metadata": {
      "needs_background": "light"
     },
     "output_type": "display_data"
    }
   ],
   "source": [
    "plt.figure(dpi=110)\n",
    "plt.imshow([condtn], cmap='Spectral')"
   ]
  },
  {
   "cell_type": "code",
   "execution_count": 83,
   "metadata": {},
   "outputs": [
    {
     "data": {
      "text/plain": [
       "array([-1.16697017e-14,  5.06626555e-01,  1.05535028e+00,  1.13389998e+00,\n",
       "        9.78636263e-01,  1.05152305e+00,  1.05665223e+00,  1.69811691e-01,\n",
       "        5.26570500e-01,  1.99466688e+00, -4.40949190e-01,  1.96993592e+00,\n",
       "        1.12302481e+00, -6.56391837e-02,  7.28519469e-01,  2.72544570e+00,\n",
       "        8.77318214e-02, -1.09642956e+00,  3.67082491e+00,  7.02766984e-01,\n",
       "       -8.19269454e-01,  1.28476615e+00,  2.80807030e+00, -5.21264541e-01,\n",
       "        3.49414370e-02,  2.84953244e+00, -1.12703864e-01,  9.95344531e-01,\n",
       "        1.04228037e+00,  9.04667820e-01,  5.56362180e-01,  1.91873572e+00,\n",
       "        3.53407493e-01, -4.28353656e-01,  3.37815302e+00,  1.58637554e-01,\n",
       "       -5.91010872e-01,  1.80635788e+00,  2.65930750e+00, -1.16228308e+00,\n",
       "        2.53823024e-01,  3.57244615e+00, -4.62108299e-01,  7.82807941e-02,\n",
       "        1.48564927e+00,  1.57967054e+00, -1.77240743e-01,  6.40596213e-01,\n",
       "        1.16352831e+00,  1.38857132e+00])"
      ]
     },
     "execution_count": 83,
     "metadata": {},
     "output_type": "execute_result"
    }
   ],
   "source": [
    "weight = sparse.linalg.spsolve(covars, condtn)\n",
    "result = expans * weight\n",
    "result"
   ]
  },
  {
   "cell_type": "code",
   "execution_count": 84,
   "metadata": {},
   "outputs": [
    {
     "data": {
      "text/plain": [
       "[<matplotlib.lines.Line2D at 0x7f98f8a7fed0>]"
      ]
     },
     "execution_count": 84,
     "metadata": {},
     "output_type": "execute_result"
    },
    {
     "data": {
      "image/png": "[encoded data removed]",
      "text/plain": [
       "<Figure size 432x288 with 1 Axes>"
      ]
     },
     "metadata": {
      "needs_background": "light"
     },
     "output_type": "display_data"
    }
   ],
   "source": [
    "plt.plot(rs, result)"
   ]
  },
  {
   "cell_type": "code",
   "execution_count": 300,
   "metadata": {},
   "outputs": [
    {
     "data": {
      "text/plain": [
       "(3, 5)"
      ]
     },
     "execution_count": 300,
     "metadata": {},
     "output_type": "execute_result"
    }
   ],
   "source": [
    "expans.shape"
   ]
  },
  {
   "cell_type": "code",
   "execution_count": 299,
   "metadata": {},
   "outputs": [
    {
     "data": {
      "text/plain": [
       "(10,)"
      ]
     },
     "execution_count": 299,
     "metadata": {},
     "output_type": "execute_result"
    }
   ],
   "source": [
    "condition.shape"
   ]
  },
  {
   "cell_type": "code",
   "execution_count": 298,
   "metadata": {},
   "outputs": [
    {
     "data": {
      "text/plain": [
       "(5,)"
      ]
     },
     "execution_count": 298,
     "metadata": {},
     "output_type": "execute_result"
    }
   ],
   "source": [
    "weight.shape"
   ]
  },
  {
   "cell_type": "code",
   "execution_count": 306,
   "metadata": {},
   "outputs": [
    {
     "data": {
      "text/plain": [
       "(3,)"
      ]
     },
     "execution_count": 306,
     "metadata": {},
     "output_type": "execute_result"
    }
   ],
   "source": [
    "result.shape"
   ]
  },
  {
   "cell_type": "code",
   "execution_count": 19,
   "metadata": {},
   "outputs": [],
   "source": [
    "# ld = model.lines.lineProducingSpecies[0].linedata\n",
    "\n",
    "# k = 0\n",
    "\n",
    "# frq_ = ld.frequency[k]\n",
    "# pop_ = tools.LTEpop         (ld, temp) * get_X_mol['a'] * nH2_in\n",
    "# phi_ = tools.profile        (ld, k, temp, (turb/magritte.CC)**2, frq_)\n",
    "# eta_ = tools.lineEmissivity (ld, pop_)[k] * phi_\n",
    "# chi_ = tools.lineOpacity    (ld, pop_)[k] * phi_\n",
    "# src_ = tools.lineSource     (ld, pop_)[k]\n",
    "# bdy_ = tools.I_CMB          (frq_)\n",
    "\n",
    "# def I_0 (x):\n",
    "#     a = src_\n",
    "#     b = (bdy_-src_)\n",
    "#     c = np.exp(-chi_*r_in*(1.0    - r_in/x    ))\n",
    "#     return a+b*c\n",
    "\n",
    "# def I_1 (x):\n",
    "#     return src_ + (bdy_-src_)*np.exp(-chi_*r_in*(r_in/x - r_in/r_out))\n",
    "# \n",
    "# plt.plot(x, I_0(x))\n",
    "# plt.plot(x, I_1(x))"
   ]
  },
  {
   "cell_type": "code",
   "execution_count": 20,
   "metadata": {},
   "outputs": [
    {
     "data": {
      "text/plain": [
       "matrix([[ 1.00000000e+00,  3.86592014e-03,  2.23430646e-10,\n",
       "          2.23406359e-10,  4.97870288e-21,  6.44218562e-33],\n",
       "        [ 2.23363144e-10,  1.92874985e-22,  3.86592014e-03,\n",
       "          3.86592014e-03, -4.94854794e-21, -6.41614670e-33],\n",
       "        [ 6.75020443e-14,  6.75020443e-14,  1.11156676e-23,\n",
       "         -4.34301808e-25, -1.07819957e-31, -2.12161604e-43],\n",
       "        [ 4.32156257e-14, -4.26937107e-14,  1.11156676e-23,\n",
       "         -4.34301808e-25, -4.34301808e-25, -1.07819957e-31],\n",
       "        [ 4.97870288e-21, -4.94854794e-21,  1.11156676e-23,\n",
       "         -4.34301808e-25, -4.34301808e-25, -1.07819957e-31],\n",
       "        [ 6.44218562e-33, -6.41614670e-33,  1.11156676e-23,\n",
       "         -4.34301808e-25, -1.07819957e-31, -2.12161604e-43]])"
      ]
     },
     "execution_count": 20,
     "metadata": {},
     "output_type": "execute_result"
    }
   ],
   "source": [
    "covariance.todense()"
   ]
  },
  {
   "cell_type": "code",
   "execution_count": 21,
   "metadata": {},
   "outputs": [
    {
     "data": {
      "text/plain": [
       "array([ 2.51339642e-06, -1.58967363e-06, -5.83733916e-13,  2.14001536e-20])"
      ]
     },
     "execution_count": 21,
     "metadata": {},
     "output_type": "execute_result"
    }
   ],
   "source": [
    "result"
   ]
  },
  {
   "cell_type": "code",
   "execution_count": 22,
   "metadata": {},
   "outputs": [
    {
     "data": {
      "text/plain": [
       "[<matplotlib.lines.Line2D at 0x7f5c60dde390>]"
      ]
     },
     "execution_count": 22,
     "metadata": {},
     "output_type": "execute_result"
    },
    {
     "data": {
      "image/png": "[encoded data removed]",
      "text/plain": [
       "<Figure size 432x288 with 1 Axes>"
      ]
     },
     "metadata": {
      "needs_background": "light"
     },
     "output_type": "display_data"
    }
   ],
   "source": [
    "plt.plot(rs, result)\n",
    "# plt.plot(rs, I_0(rs))\n",
    "# plt.plot(rs, I_1(rs))\n",
    "# plt.xscale('log')\n",
    "# plt.yscale('log')"
   ]
  },
  {
   "cell_type": "markdown",
   "metadata": {},
   "source": [
    "# Test\n",
    "---"
   ]
  },
  {
   "cell_type": "code",
   "execution_count": 35,
   "metadata": {},
   "outputs": [
    {
     "data": {
      "text/plain": [
       "[0, 1, 2]"
      ]
     },
     "execution_count": 35,
     "metadata": {},
     "output_type": "execute_result"
    }
   ],
   "source": [
    "rs"
   ]
  },
  {
   "cell_type": "code",
   "execution_count": 93,
   "metadata": {},
   "outputs": [],
   "source": [
    "x = rs"
   ]
  },
  {
   "cell_type": "code",
   "execution_count": 94,
   "metadata": {},
   "outputs": [
    {
     "ename": "ValueError",
     "evalue": "x and y arrays must be equal in length along interpolation axis.",
     "output_type": "error",
     "traceback": [
      "\u001b[0;31m---------------------------------------------------------------------------\u001b[0m",
      "\u001b[0;31mValueError\u001b[0m                                Traceback (most recent call last)",
      "\u001b[0;32m<ipython-input-94-d59b5a4ce31b>\u001b[0m in \u001b[0;36m<module>\u001b[0;34m\u001b[0m\n\u001b[0;32m----> 1\u001b[0;31m \u001b[0mchi_int\u001b[0m \u001b[0;34m=\u001b[0m \u001b[0minterp1d\u001b[0m\u001b[0;34m(\u001b[0m\u001b[0mrs\u001b[0m\u001b[0;34m,\u001b[0m \u001b[0mchi\u001b[0m\u001b[0;34m)\u001b[0m\u001b[0;34m\u001b[0m\u001b[0;34m\u001b[0m\u001b[0m\n\u001b[0m",
      "\u001b[0;32m~/software/Anaconda3/installation/envs/magritte/lib/python3.7/site-packages/scipy/interpolate/interpolate.py\u001b[0m in \u001b[0;36m__init__\u001b[0;34m(self, x, y, kind, axis, copy, bounds_error, fill_value, assume_sorted)\u001b[0m\n\u001b[1;32m    429\u001b[0m                  assume_sorted=False):\n\u001b[1;32m    430\u001b[0m         \u001b[0;34m\"\"\" Initialize a 1D linear interpolation class.\"\"\"\u001b[0m\u001b[0;34m\u001b[0m\u001b[0;34m\u001b[0m\u001b[0m\n\u001b[0;32m--> 431\u001b[0;31m         \u001b[0m_Interpolator1D\u001b[0m\u001b[0;34m.\u001b[0m\u001b[0m__init__\u001b[0m\u001b[0;34m(\u001b[0m\u001b[0mself\u001b[0m\u001b[0;34m,\u001b[0m \u001b[0mx\u001b[0m\u001b[0;34m,\u001b[0m \u001b[0my\u001b[0m\u001b[0;34m,\u001b[0m \u001b[0maxis\u001b[0m\u001b[0;34m=\u001b[0m\u001b[0maxis\u001b[0m\u001b[0;34m)\u001b[0m\u001b[0;34m\u001b[0m\u001b[0;34m\u001b[0m\u001b[0m\n\u001b[0m\u001b[1;32m    432\u001b[0m \u001b[0;34m\u001b[0m\u001b[0m\n\u001b[1;32m    433\u001b[0m         \u001b[0mself\u001b[0m\u001b[0;34m.\u001b[0m\u001b[0mbounds_error\u001b[0m \u001b[0;34m=\u001b[0m \u001b[0mbounds_error\u001b[0m  \u001b[0;31m# used by fill_value setter\u001b[0m\u001b[0;34m\u001b[0m\u001b[0;34m\u001b[0m\u001b[0m\n",
      "\u001b[0;32m~/software/Anaconda3/installation/envs/magritte/lib/python3.7/site-packages/scipy/interpolate/polyint.py\u001b[0m in \u001b[0;36m__init__\u001b[0;34m(self, xi, yi, axis)\u001b[0m\n\u001b[1;32m     58\u001b[0m         \u001b[0mself\u001b[0m\u001b[0;34m.\u001b[0m\u001b[0mdtype\u001b[0m \u001b[0;34m=\u001b[0m \u001b[0;32mNone\u001b[0m\u001b[0;34m\u001b[0m\u001b[0;34m\u001b[0m\u001b[0m\n\u001b[1;32m     59\u001b[0m         \u001b[0;32mif\u001b[0m \u001b[0myi\u001b[0m \u001b[0;32mis\u001b[0m \u001b[0;32mnot\u001b[0m \u001b[0;32mNone\u001b[0m\u001b[0;34m:\u001b[0m\u001b[0;34m\u001b[0m\u001b[0;34m\u001b[0m\u001b[0m\n\u001b[0;32m---> 60\u001b[0;31m             \u001b[0mself\u001b[0m\u001b[0;34m.\u001b[0m\u001b[0m_set_yi\u001b[0m\u001b[0;34m(\u001b[0m\u001b[0myi\u001b[0m\u001b[0;34m,\u001b[0m \u001b[0mxi\u001b[0m\u001b[0;34m=\u001b[0m\u001b[0mxi\u001b[0m\u001b[0;34m,\u001b[0m \u001b[0maxis\u001b[0m\u001b[0;34m=\u001b[0m\u001b[0maxis\u001b[0m\u001b[0;34m)\u001b[0m\u001b[0;34m\u001b[0m\u001b[0;34m\u001b[0m\u001b[0m\n\u001b[0m\u001b[1;32m     61\u001b[0m \u001b[0;34m\u001b[0m\u001b[0m\n\u001b[1;32m     62\u001b[0m     \u001b[0;32mdef\u001b[0m \u001b[0m__call__\u001b[0m\u001b[0;34m(\u001b[0m\u001b[0mself\u001b[0m\u001b[0;34m,\u001b[0m \u001b[0mx\u001b[0m\u001b[0;34m)\u001b[0m\u001b[0;34m:\u001b[0m\u001b[0;34m\u001b[0m\u001b[0;34m\u001b[0m\u001b[0m\n",
      "\u001b[0;32m~/software/Anaconda3/installation/envs/magritte/lib/python3.7/site-packages/scipy/interpolate/polyint.py\u001b[0m in \u001b[0;36m_set_yi\u001b[0;34m(self, yi, xi, axis)\u001b[0m\n\u001b[1;32m    123\u001b[0m             \u001b[0mshape\u001b[0m \u001b[0;34m=\u001b[0m \u001b[0;34m(\u001b[0m\u001b[0;36m1\u001b[0m\u001b[0;34m,\u001b[0m\u001b[0;34m)\u001b[0m\u001b[0;34m\u001b[0m\u001b[0;34m\u001b[0m\u001b[0m\n\u001b[1;32m    124\u001b[0m         \u001b[0;32mif\u001b[0m \u001b[0mxi\u001b[0m \u001b[0;32mis\u001b[0m \u001b[0;32mnot\u001b[0m \u001b[0;32mNone\u001b[0m \u001b[0;32mand\u001b[0m \u001b[0mshape\u001b[0m\u001b[0;34m[\u001b[0m\u001b[0maxis\u001b[0m\u001b[0;34m]\u001b[0m \u001b[0;34m!=\u001b[0m \u001b[0mlen\u001b[0m\u001b[0;34m(\u001b[0m\u001b[0mxi\u001b[0m\u001b[0;34m)\u001b[0m\u001b[0;34m:\u001b[0m\u001b[0;34m\u001b[0m\u001b[0;34m\u001b[0m\u001b[0m\n\u001b[0;32m--> 125\u001b[0;31m             raise ValueError(\"x and y arrays must be equal in length along \"\n\u001b[0m\u001b[1;32m    126\u001b[0m                              \"interpolation axis.\")\n\u001b[1;32m    127\u001b[0m \u001b[0;34m\u001b[0m\u001b[0m\n",
      "\u001b[0;31mValueError\u001b[0m: x and y arrays must be equal in length along interpolation axis."
     ]
    }
   ],
   "source": [
    "chi_int = interp1d(rs, chi)"
   ]
  },
  {
   "cell_type": "code",
   "execution_count": 95,
   "metadata": {},
   "outputs": [
    {
     "ename": "NameError",
     "evalue": "name 'chi_int' is not defined",
     "output_type": "error",
     "traceback": [
      "\u001b[0;31m---------------------------------------------------------------------------\u001b[0m",
      "\u001b[0;31mNameError\u001b[0m                                 Traceback (most recent call last)",
      "\u001b[0;32m<ipython-input-95-b37af400679e>\u001b[0m in \u001b[0;36m<module>\u001b[0;34m\u001b[0m\n\u001b[0;32m----> 1\u001b[0;31m \u001b[0mplt\u001b[0m\u001b[0;34m.\u001b[0m\u001b[0mplot\u001b[0m\u001b[0;34m(\u001b[0m\u001b[0mx\u001b[0m\u001b[0;34m,\u001b[0m \u001b[0mchi_int\u001b[0m\u001b[0;34m(\u001b[0m\u001b[0mx\u001b[0m\u001b[0;34m)\u001b[0m\u001b[0;34m)\u001b[0m\u001b[0;34m\u001b[0m\u001b[0;34m\u001b[0m\u001b[0m\n\u001b[0m\u001b[1;32m      2\u001b[0m \u001b[0;31m# plt.scatter(x, eta)\u001b[0m\u001b[0;34m\u001b[0m\u001b[0;34m\u001b[0m\u001b[0;34m\u001b[0m\u001b[0m\n\u001b[1;32m      3\u001b[0m \u001b[0mplt\u001b[0m\u001b[0;34m.\u001b[0m\u001b[0mscatter\u001b[0m\u001b[0;34m(\u001b[0m\u001b[0mx\u001b[0m\u001b[0;34m,\u001b[0m \u001b[0mchi\u001b[0m\u001b[0;34m)\u001b[0m\u001b[0;34m\u001b[0m\u001b[0;34m\u001b[0m\u001b[0m\n\u001b[1;32m      4\u001b[0m \u001b[0mplt\u001b[0m\u001b[0;34m.\u001b[0m\u001b[0myscale\u001b[0m\u001b[0;34m(\u001b[0m\u001b[0;34m'log'\u001b[0m\u001b[0;34m)\u001b[0m\u001b[0;34m\u001b[0m\u001b[0;34m\u001b[0m\u001b[0m\n",
      "\u001b[0;31mNameError\u001b[0m: name 'chi_int' is not defined"
     ]
    }
   ],
   "source": [
    "plt.plot(x, chi_int(x))\n",
    "# plt.scatter(x, eta)\n",
    "plt.scatter(x, chi)\n",
    "plt.yscale('log')"
   ]
  },
  {
   "cell_type": "code",
   "execution_count": 26,
   "metadata": {},
   "outputs": [],
   "source": [
    "alpha = 1.0\n",
    "\n",
    "def kernel(x, y, h):\n",
    "    result = alpha**2 * np.exp(-0.5 * (x-y)**2 / h**2)\n",
    "    result[result<1.0e-6] = 0.0 \n",
    "    return result\n",
    "\n",
    "def Lx_kernel(x, y, h):\n",
    "    g = (x-y)/(chi_int(x)*h**2)\n",
    "    return (1.0 - g) * kernel(x, y, h)\n",
    "\n",
    "def Ly_kernel(x, y, h):\n",
    "    g = (x-y)/(chi_int(y)*h**2)\n",
    "    return (1.0 + g) * kernel(x, y, h)\n",
    "\n",
    "def L2_kernel(x, y, h):\n",
    "    gx = (x-y)/(chi_int(x)*h**2)\n",
    "    gy = (x-y)/(chi_int(y)*h**2)\n",
    "    return ((1.0+gx)*(1.0-gy) + 1.0/(chi_int(x)*chi_int(y)*h**2)) * kernel(x, y, h)"
   ]
  },
  {
   "cell_type": "code",
   "execution_count": 27,
   "metadata": {},
   "outputs": [],
   "source": [
    "def corr(x, y, h):\n",
    "    x, y = np.meshgrid(x, y)\n",
    "    return kernel(x, y, h).T\n",
    "\n",
    "def Lx_corr(x, y, h):\n",
    "    x, y = np.meshgrid(x, y)\n",
    "    return Lx_kernel(x, y, h).T\n",
    "\n",
    "def Ly_corr(x, y, h):\n",
    "    x, y = np.meshgrid(x, y)\n",
    "    return Ly_kernel(x, y, h).T\n",
    "\n",
    "def L2_corr(x, y, h):\n",
    "    x, y = np.meshgrid(x, y)\n",
    "    return L2_kernel(x, y, h).T"
   ]
  },
  {
   "cell_type": "code",
   "execution_count": 38,
   "metadata": {},
   "outputs": [],
   "source": [
    "alpha = 1.0\n",
    "\n",
    "def kernel(x, y, h):\n",
    "    return alpha**2 * np.exp(-0.5 * (x-y)**2 / h**2)\n",
    "\n",
    "\n",
    "def Lx_dd(x, y, h):\n",
    "    \"\"\"\n",
    "    d_x k(x,y)\n",
    "    \"\"\"\n",
    "    return -(x-y)/h**2 * kernel(x, y, h)\n",
    "\n",
    "def Lx_od(x, y, h):\n",
    "    \"\"\"\n",
    "    chi(x) k(x,y)\n",
    "    \"\"\"\n",
    "    return chi_int(x) * kernel(x, y, h)\n",
    "\n",
    "\n",
    "def Ly_dd(x, y, h):\n",
    "    \"\"\"\n",
    "    d_y k(x,y)\n",
    "    \"\"\"\n",
    "    return  (x-y)/h**2 * kernel(x, y, h)\n",
    "\n",
    "def Ly_od(x, y, h):\n",
    "    \"\"\"\n",
    "    chi(y) k(x,y)\n",
    "    \"\"\"\n",
    "    return chi_int(y) * kernel(x, y, h)\n",
    "\n",
    "\n",
    "def L2_dd(x, y, h):\n",
    "    \"\"\"\n",
    "    (d_x d_y + chi(x) chi(y)) k(x,y)\n",
    "    \"\"\"\n",
    "    return (chi_int(x)*chi_int(y)*h**4 + h**2 - (x-y)**2) / h**4 * kernel(x, y, h)\n",
    "\n",
    "def L2_od(x, y, h):\n",
    "    \"\"\"\n",
    "    (chi(x) d_y + chi(y) d_x) k(x,y)\n",
    "    \"\"\"\n",
    "    return (chi_int(x)-chi_int(y))*(x-y) / h**2 * kernel(x, y, h)"
   ]
  },
  {
   "cell_type": "code",
   "execution_count": 81,
   "metadata": {},
   "outputs": [],
   "source": [
    "def corr(x, y, h):\n",
    "    x, y = np.meshgrid(x, y)\n",
    "    return kernel(x, y, h).T\n",
    "\n",
    "def Lx_dd_corr(x, y, h):\n",
    "    x, y = np.meshgrid(x, y)\n",
    "    return Lx_dd(x, y, h).T\n",
    "\n",
    "def Lx_od_corr(x, y, h):\n",
    "    x, y = np.meshgrid(x, y)\n",
    "    return Lx_od(x, y, h).T\n",
    "\n",
    "def Ly_dd_corr(x, y, h):\n",
    "    x, y = np.meshgrid(x, y)\n",
    "    return Ly_dd(x, y, h).T\n",
    "\n",
    "def Ly_od_corr(x, y, h):\n",
    "    x, y = np.meshgrid(x, y)\n",
    "    return Ly_od(x, y, h).T\n",
    "\n",
    "def L2_dd_corr(x, y, h):\n",
    "    x, y = np.meshgrid(x, y)\n",
    "    return L2_dd(x, y, h).T\n",
    "\n",
    "def L2_od_corr(x, y, h):\n",
    "    x, y = np.meshgrid(x, y)\n",
    "    return L2_od(x, y, h).T"
   ]
  },
  {
   "cell_type": "code",
   "execution_count": 28,
   "metadata": {},
   "outputs": [],
   "source": [
    "def diff(x, y):\n",
    "    # Compute derivative\n",
    "    dy = np.diff(y)\n",
    "    dx = np.diff(x)\n",
    "    # Compute corresponding x\n",
    "    x = 0.5*(x[:-1] + x[1:])\n",
    "    # Return result\n",
    "    return (x, dy/dx)\n",
    "\n",
    "def L_operator(x, y):\n",
    "    x_d, y_d = diff(x, y)\n",
    "    y_y = 0.5*(y[:-1] + y[1:])\n",
    "    return (x_d, chi_int(x_d)*y_y + y_d)"
   ]
  },
  {
   "cell_type": "code",
   "execution_count": 29,
   "metadata": {},
   "outputs": [],
   "source": [
    "import ipywidgets as widgets\n",
    "\n",
    "x_min = np.min(x)\n",
    "x_max = np.max(x)"
   ]
  },
  {
   "cell_type": "code",
   "execution_count": 30,
   "metadata": {},
   "outputs": [
    {
     "data": {
      "text/plain": [
       "array([3.77281369e-18, 3.77281369e-18])"
      ]
     },
     "execution_count": 30,
     "metadata": {},
     "output_type": "execute_result"
    }
   ],
   "source": [
    "boundary_condition"
   ]
  },
  {
   "cell_type": "code",
   "execution_count": 31,
   "metadata": {},
   "outputs": [
    {
     "data": {
      "text/plain": [
       "array([0.e+00, 1.e+12, 2.e+12, 3.e+12, 0.e+00, 1.e+12, 2.e+12, 3.e+12])"
      ]
     },
     "execution_count": 31,
     "metadata": {},
     "output_type": "execute_result"
    }
   ],
   "source": [
    " np.concatenate((rs,  rs               )) "
   ]
  },
  {
   "cell_type": "code",
   "execution_count": 32,
   "metadata": {},
   "outputs": [
    {
     "data": {
      "application/vnd.jupyter.widget-view+json": {
       "model_id": "21f0f78aa44846d8814be14bbf589747",
       "version_major": 2,
       "version_minor": 0
      },
      "text/plain": [
       "interactive(children=(FloatSlider(value=1000000000000.0, description='h', max=3000000000000.0, step=1000000000…"
      ]
     },
     "metadata": {},
     "output_type": "display_data"
    },
    {
     "data": {
      "text/plain": [
       "<function __main__.plot(h)>"
      ]
     },
     "execution_count": 32,
     "metadata": {},
     "output_type": "execute_result"
    }
   ],
   "source": [
    "y_p  = np.array([rs[0]])\n",
    "fy_p = np.array([boundary_condition[0]])\n",
    "\n",
    "y_d  = rs #np.linspace(0.0, 2.0, num=5)\n",
    "fy_d = eta/chi #np.array([eta(d) for d in y_d])\n",
    "\n",
    "\n",
    "def plot(h):\n",
    "    \n",
    "#     x = np.array([0.1])\n",
    "    \n",
    "    sigma_00 = corr(x, x, h)\n",
    "\n",
    "    sigma_10 = np.block([   corr(x, y_p, h),\n",
    "                         Ly_corr(x, y_d, h) ])\n",
    "    \n",
    "    sigma_01 = np.block([   corr(y_p, x, h).T,\n",
    "                         Lx_corr(y_d, x, h).T ]).T\n",
    "\n",
    "#     print(   corr(y_p, y_p, h).shape)\n",
    "#     print(Lx_corr(y_d, y_p, h).T.shape)\n",
    "#     print(Ly_corr(y_p, y_d, h).shape)\n",
    "#     print(L2_corr(y_d, y_d, h).shape)\n",
    "    \n",
    "    sigma_11 = np.block([[   corr(y_p, y_p, h), Lx_corr(y_d, y_p, h).T],\n",
    "                         [Ly_corr(y_p, y_d, h).T, L2_corr(y_d, y_d, h)  ] ])\n",
    "\n",
    "#     print(sigma_00)\n",
    "#     print(sigma_01)\n",
    "    print('sigma_10 ', sigma_10.shape)\n",
    "    print('sigma_11 ', sigma_11.shape)\n",
    "    \n",
    "    fy = np.block([fy_p, fy_d])\n",
    "\n",
    "    print(np.min(sigma_11), np.max(sigma_11), np.linalg.det(sigma_11))\n",
    "    inv = np.linalg.inv(sigma_11)\n",
    "    print(np.min(inv     ), np.max(inv     ))\n",
    "    \n",
    "#     print(sigma_11)\n",
    "\n",
    "    \n",
    "    mean =            np.matmul(np.matmul(sigma_10, np.linalg.inv(sigma_11)), fy)\n",
    "    cov  = sigma_00 - np.matmul(np.matmul(sigma_10, np.linalg.inv(sigma_11)), sigma_01)\n",
    "\n",
    "#     print(cov)\n",
    "    \n",
    "    xf = np.concatenate((-np.flip(x),x))\n",
    "\n",
    "    fig = plt.figure(constrained_layout=False, figsize=(5,6), dpi=175)\n",
    "    gsp = fig.add_gridspec(8, 2, wspace=0.5, hspace=2.1)\n",
    "    ax1 = fig.add_subplot(gsp[0:2, 0:1])\n",
    "    ax2 = fig.add_subplot(gsp[0:2, 1:2])\n",
    "    ax3 = fig.add_subplot(gsp[2:5, 0:2])\n",
    "    ax4 = fig.add_subplot(gsp[5:8, 0:2])\n",
    "\n",
    "    ax1.set_title('Correlation function $k$', fontsize=12)\n",
    "    ax1.plot(xf, kernel(0,xf, h))\n",
    "    ax1.set_xlabel('$x_1-x_2$')\n",
    "    ax1.set_ylabel('$k(x_1, x_2)$')\n",
    "    ax1.set_ylim((-0.05, alpha**2+0.05))\n",
    "\n",
    "    ax2.set_title('Correlation matrix $\\mathbf{\\Sigma}_{x | \\mathbf{x}}$', fontsize=12)\n",
    "    ax2.imshow(np.linalg.inv(sigma_11), cmap='Spectral')\n",
    "    ax2.set_xlabel('index $i$')\n",
    "    ax2.set_ylabel('index $j$')\n",
    "    \n",
    "    asp = np.abs(np.diff(ax1.get_xlim())[0] / np.diff(ax1.get_ylim())[0])\n",
    "    ax1.set_aspect(asp)\n",
    "\n",
    "    S = 25\n",
    "    \n",
    "    fs = np.random.multivariate_normal(mean, cov, S).T\n",
    "    \n",
    "    ax3.set_title('Samples drawn from $\\mathcal{N}(\\mathbf{\\mu}_{x | \\mathbf{x}},\\mathbf{\\Sigma}_{x | \\mathbf{x}})$', fontsize=12)\n",
    "#     ax3.plot(x, fs, c='gray', linewidth=0.2)\n",
    "    ax3.set_xlim((x_min, x_max))\n",
    "    ax3.set_xlabel('$x$')\n",
    "    ax3.set_ylabel('$f(x)$')\n",
    "    ax3.plot(x, mean, linewidth=0.75, marker='x')\n",
    "#     ax3.set_yscale('log')\n",
    "    ax3.plot(x, I_0(x), linewidth=0.75)\n",
    "    ax3.plot(x, I_1(x), linewidth=0.75)\n",
    "#     ax3.plot(x, mean+2.0*np.diagonal(cov), linestyle='--', c='red', linewidth=0.5)\n",
    "#     ax3.plot(x, mean-2.0*np.diagonal(cov), linestyle='--', c='red', linewidth=0.5)\n",
    "\n",
    "#     ax3.plot(x, np.exp(-x), linewidth=0.75)\n",
    "    \n",
    "#     for s in range(S):\n",
    "#         xs, Ls = L_operator(x, fs[:,s])\n",
    "#         ax4.plot(xs, Ls, c='gray', linewidth=0.2)\n",
    "        \n",
    "    xs, Ls = L_operator(x, mean)\n",
    "    ax4.plot(xs, Ls, linewidth=0.75)\n",
    "    ax4.set_xlim((x_min, x_max))\n",
    "    ax4.set_yscale('log')\n",
    "    ax4.plot(x, eta, linewidth=0.75)\n",
    "    \n",
    "    plt.show()\n",
    "    \n",
    "widgets.interact(plot, h=(rs[0], rs[-1], dx))"
   ]
  },
  {
   "cell_type": "code",
   "execution_count": 364,
   "metadata": {},
   "outputs": [
    {
     "name": "stdout",
     "output_type": "stream",
     "text": [
      "-0.0 23910392824741.31 3.816514145284991e+281\n",
      "-154.8072424902902 155.8072424902902\n"
     ]
    },
    {
     "data": {
      "image/png": "[encoded data removed]",
      "text/plain": [
       "<Figure size 875x1050 with 4 Axes>"
      ]
     },
     "metadata": {
      "needs_background": "light"
     },
     "output_type": "display_data"
    }
   ],
   "source": [
    "h = rs[0]\n",
    "\n",
    "sigma_00 = corr(x, x, h)\n",
    "\n",
    "sigma_10 = np.block([   corr(x, y_p, h),\n",
    "                     Ly_corr(x, y_d, h) ])\n",
    "    \n",
    "sigma_01 = np.block([   corr(y_p, x, h).T,\n",
    "                     Lx_corr(y_d, x, h).T ]).T\n",
    "\n",
    "sigma_11 = np.block([[   corr(y_p, y_p, h), Lx_corr(y_d, y_p, h).T],\n",
    "                     [Ly_corr(y_p, y_d, h).T, L2_corr(y_d, y_d, h)  ] ])\n",
    "    \n",
    "fy = np.block([fy_p, fy_d])\n",
    "\n",
    "print(np.min(sigma_11), np.max(sigma_11), np.linalg.det(sigma_11))\n",
    "inv = np.linalg.inv(sigma_11)\n",
    "print(np.min(inv     ), np.max(inv     ))\n",
    "    \n",
    "# print(sigma_11)\n",
    "\n",
    "    \n",
    "mean =            np.matmul(np.matmul(sigma_10, np.linalg.inv(sigma_11)), fy)\n",
    "cov  = sigma_00 - np.matmul(np.matmul(sigma_10, np.linalg.inv(sigma_11)), sigma_01)\n",
    "\n",
    "#     print(cov)\n",
    "    \n",
    "xf = np.concatenate((-np.flip(x),x))\n",
    "\n",
    "fig = plt.figure(constrained_layout=False, figsize=(5,6), dpi=175)\n",
    "gsp = fig.add_gridspec(8, 2, wspace=0.5, hspace=2.1)\n",
    "ax1 = fig.add_subplot(gsp[0:2, 0:1])\n",
    "ax2 = fig.add_subplot(gsp[0:2, 1:2])\n",
    "ax3 = fig.add_subplot(gsp[2:5, 0:2])\n",
    "ax4 = fig.add_subplot(gsp[5:8, 0:2])\n",
    "\n",
    "ax1.set_title('Correlation function $k$', fontsize=12)\n",
    "ax1.plot(xf, kernel(0,xf, h))\n",
    "ax1.set_xlabel('$x_1-x_2$')\n",
    "ax1.set_ylabel('$k(x_1, x_2)$')\n",
    "ax1.set_ylim((-0.05, alpha**2+0.05))\n",
    "\n",
    "ax2.set_title('Correlation matrix $\\mathbf{\\Sigma}_{x | \\mathbf{x}}$', fontsize=12)\n",
    "ax2.imshow(np.linalg.inv(sigma_11), cmap='Spectral')\n",
    "ax2.set_xlabel('index $i$')\n",
    "ax2.set_ylabel('index $j$')\n",
    "    \n",
    "asp = np.abs(np.diff(ax1.get_xlim())[0] / np.diff(ax1.get_ylim())[0])\n",
    "ax1.set_aspect(asp)\n",
    "\n",
    "S = 25\n",
    "    \n",
    "fs = np.random.multivariate_normal(mean, cov, S).T\n",
    "    \n",
    "ax3.set_title('Samples drawn from $\\mathcal{N}(\\mathbf{\\mu}_{x | \\mathbf{x}},\\mathbf{\\Sigma}_{x | \\mathbf{x}})$', fontsize=12)\n",
    "# ax3.plot(x, fs, c='gray', linewidth=0.2)\n",
    "ax3.set_xlim((x_min, x_max))\n",
    "ax3.set_xlabel('$x$')\n",
    "ax3.set_ylabel('$f(x)$')\n",
    "ax3.plot(x, mean, linewidth=0.75, marker='x')\n",
    "# ax3.set_yscale('log')\n",
    "ax3.plot(x, I_0(x), linewidth=0.75)\n",
    "ax3.plot(x, I_1(x), linewidth=0.75)\n",
    "# ax3.plot(x, mean+2.0*np.diagonal(cov), linestyle='--', c='red', linewidth=0.5)\n",
    "# ax3.plot(x, mean-2.0*np.diagonal(cov), linestyle='--', c='red', linewidth=0.5)\n",
    "\n",
    "# ax3.plot(x, np.exp(-x), linewidth=0.75)\n",
    "    \n",
    "# for s in range(S):\n",
    "#     xs, Ls = L_operator(x, fs[:,s])\n",
    "#     ax4.plot(xs, Ls, c='gray', linewidth=0.2)\n",
    "        \n",
    "xs, Ls = L_operator(x, mean)\n",
    "ax4.plot(xs, Ls, linewidth=0.75)\n",
    "ax4.set_xlim((x_min, x_max))\n",
    "ax4.set_yscale('log')\n",
    "ax4.plot(x, eta, linewidth=0.75)\n",
    "    \n",
    "plt.show()    "
   ]
  },
  {
   "cell_type": "code",
   "execution_count": 88,
   "metadata": {},
   "outputs": [
    {
     "data": {
      "application/vnd.jupyter.widget-view+json": {
       "model_id": "62655730aa9043a59f6187c8bc7bde7a",
       "version_major": 2,
       "version_minor": 0
      },
      "text/plain": [
       "interactive(children=(FloatSlider(value=24500000000000.0, description='h', max=49000000000000.0), Output()), _…"
      ]
     },
     "metadata": {},
     "output_type": "display_data"
    },
    {
     "data": {
      "text/plain": [
       "<function __main__.plot(h)>"
      ]
     },
     "execution_count": 88,
     "metadata": {},
     "output_type": "execute_result"
    }
   ],
   "source": [
    "y_p  = np.array([rs[0],                 rs[-1]])                 #np.array([0.0])\n",
    "fy_p = np.array([boundary_condition[0], boundary_condition[-1]]) #np.array([1.0])\n",
    "\n",
    "y_d  = np.concatenate((rs,  rs               ))  #np.linspace(0.0, 2.0, num=5)\n",
    "fy_d = np.concatenate((eta, np.zeros(npoints)))  #eta #np.array([eta(d) for d in y_d])\n",
    "\n",
    "\n",
    "\n",
    "\n",
    "def plot(h):\n",
    "    \n",
    "    print('h = ', h/rs[-1])\n",
    "    \n",
    "#     x = np.array([0.1])\n",
    "    \n",
    "#     sigma_00 = corr(x, x, h)\n",
    "    \n",
    "    kxx = corr(x, x, h)\n",
    "    sigma_00 = np.block([[kxx,                     np.zeros(kxx.shape)],\n",
    "                         [np.zeros(kxx.shape),     kxx                ] ])\n",
    "\n",
    "    kxy_p = corr(x, y_p, h)\n",
    "    sigma_10 = np.block([[kxy_p,                   np.zeros(kxy_p.shape)],\n",
    "                         [np.zeros(kxy_p.shape),   kxy_p                ],\n",
    "                         [Ly_dd_corr(x, y_d, h),   Ly_od_corr(x, y_d, h)],\n",
    "                         [Ly_od_corr(x, y_d, h),   Ly_dd_corr(x, y_d, h)]])\n",
    "     \n",
    "    kyx_p = corr(y_p, x, h)\n",
    "    sigma_01 = np.block([[kyx_p                .T, np.zeros(kyx_p.shape).T],\n",
    "                         [np.zeros(kyx_p.shape).T, kyx_p                .T],\n",
    "                         [Lx_dd_corr(y_d, x, h).T, Lx_od_corr(y_d, x, h).T],\n",
    "                         [Lx_od_corr(y_d, x, h).T, Lx_dd_corr(y_d, x, h).T] ]).T\n",
    "    \n",
    "\n",
    "    \n",
    "#     print(   corr(y_p, y_p, h).shape)\n",
    "#     print(Lx_corr(y_d, y_p, h).T.shape)\n",
    "#     print(Ly_corr(y_p, y_d, h).shape)\n",
    "#     print(L2_corr(y_d, y_d, h).shape)\n",
    "    \n",
    "    kyy_p = corr(y_p, y_p, h)\n",
    "    sigma_11 = np.block([[kyx_p,                     np.zeros(kyx_p.shape),     Ly_dd_corr(y_p, y_d, h).T, Ly_od_corr(y_p, y_d, h).T],\n",
    "                         [np.zeros(kyx_p.shape),     kyx_p,                     Ly_od_corr(y_p, y_d, h).T, Ly_dd_corr(y_p, y_d, h).T],\n",
    "                         [Lx_dd_corr(y_d, y_p, h).T, Lx_od_corr(y_d, y_p, h).T, L2_dd_corr(y_d, y_d, h),   L2_od_corr(y_d, y_d, h)  ],\n",
    "                         [Lx_od_corr(y_d, y_p, h).T, Lx_dd_corr(y_d, y_p, h).T, L2_od_corr(y_d, y_d, h),   L2_dd_corr(y_d, y_d, h)  ] ])\n",
    "        \n",
    "#     sigma_11 = np.block([[   corr(y_p, y_p, h), Lx_corr(y_d, y_p, h).T],\n",
    "#                          [Ly_corr(y_p, y_d, h).T, L2_corr(y_d, y_d, h)  ] ])\n",
    "\n",
    "#     print(sigma_00)\n",
    "#     print(sigma_01)\n",
    "    print('sigma_10 ', sigma_10.shape)\n",
    "    print('sigma_11 ', sigma_11.shape)\n",
    "    \n",
    "    fy = np.block([fy_p, fy_d])\n",
    "\n",
    "    print(fy_p.shape)\n",
    "    print(fy_d.shape),\n",
    "    print(fy.shape)\n",
    "    \n",
    "    mean =            np.matmul(np.matmul(sigma_10, np.linalg.inv(sigma_11)), fy)\n",
    "    cov  = sigma_00 - np.matmul(np.matmul(sigma_10, np.linalg.inv(sigma_11)), sigma_01)\n",
    "\n",
    "#     print(cov)\n",
    "    \n",
    "    xf = np.concatenate((-np.flip(x),x))\n",
    "\n",
    "    fig = plt.figure(constrained_layout=False, figsize=(5,13), dpi=175)\n",
    "    gsp = fig.add_gridspec(14, 2, wspace=0.5, hspace=2.1)\n",
    "    ax1 = fig.add_subplot(gsp[0:2, 0:1])\n",
    "    ax2 = fig.add_subplot(gsp[0:2, 1:2])\n",
    "    ax3 = fig.add_subplot(gsp[2:5, 0:2])\n",
    "    ax4 = fig.add_subplot(gsp[5:8, 0:2])\n",
    "    ax5 = fig.add_subplot(gsp[8:11, 0:2])\n",
    "    ax6 = fig.add_subplot(gsp[11:14, 0:2])\n",
    "\n",
    "    ax1.set_title('Correlation function $k$', fontsize=12)\n",
    "    ax1.plot(xf/x[-1], kernel(0,xf, h))\n",
    "    ax1.set_xlabel('$x_1-x_2$ [r_out]')\n",
    "    ax1.set_ylabel('$k(x_1, x_2)$')\n",
    "    ax1.set_ylim((-0.05, alpha**2+0.05))\n",
    "\n",
    "    ax2.set_title('Correlation matrix $\\mathbf{\\Sigma}_{x | \\mathbf{x}}$', fontsize=12)\n",
    "    pos = ax2.imshow(cov, vmin=0.0, vmax=np.max(cov))\n",
    "    ax2.set_xlabel('index $i$')\n",
    "    ax2.set_ylabel('index $j$')\n",
    "    fig.colorbar(pos, ax=ax2)\n",
    "    \n",
    "    asp = np.abs(np.diff(ax1.get_xlim())[0] / np.diff(ax1.get_ylim())[0])\n",
    "    ax1.set_aspect(asp)\n",
    "\n",
    "    S = 25\n",
    "    \n",
    "    fs = np.random.multivariate_normal(mean, cov, S).T\n",
    "    \n",
    "    ax3.set_title('Samples drawn from $\\mathcal{N}(\\mathbf{\\mu}_{x | \\mathbf{x}},\\mathbf{\\Sigma}_{x | \\mathbf{x}})$', fontsize=12)\n",
    "#     ax3.plot(x, fs, c='gray', linewidth=0.2)\n",
    "    ax3.set_xlim((x_min, x_max))\n",
    "    ax3.set_xlabel('$x$')\n",
    "    ax3.set_ylabel('$f(x)$')\n",
    "    ax3.plot(x, mean, linewidth=0.75, marker='x')\n",
    "#     ax3.plot(x, mean+2.0*np.diagonal(cov), linestyle='--', c='red', linewidth=0.5)\n",
    "#     ax3.plot(x, mean-2.0*np.diagonal(cov), linestyle='--', c='red', linewidth=0.5)\n",
    "\n",
    "    ax3.plot(x, I_0(x), linewidth=0.75)\n",
    "    ax3.plot(x, I_1(x), linewidth=0.75)\n",
    "    ax3.set_yscale('log')\n",
    "    \n",
    "#     for s in range(S):\n",
    "#         xs, Ls = L_operator(x, fs[:,s])\n",
    "#         ax4.plot(xs, Ls, c='gray', linewidth=0.2)\n",
    "        \n",
    "    xs, Ls = L_operator(x, mean)\n",
    "    ax4.plot(xs, Ls, linewidth=0.75)\n",
    "    ax4.plot(x, eta, linewidth=0.75)\n",
    "    ax4.set_xlim((x_min, x_max))\n",
    "    ax4.set_yscale('log')\n",
    "    \n",
    "    \n",
    "    ax5.set_title('Correlation matrix $\\mathbf{\\Sigma}_{x | \\mathbf{x}}$', fontsize=12)\n",
    "    pos = ax5.imshow(cov)\n",
    "    ax5.set_xlabel('index $i$')\n",
    "    ax5.set_ylabel('index $j$')\n",
    "    fig.colorbar(pos, ax=ax5)\n",
    "    \n",
    "    \n",
    "    ax6.set_title('Correlation matrix $\\mathbf{\\Sigma}_{x | \\mathbf{x}}$', fontsize=12)\n",
    "    pos = ax6.imshow(sigma_11)\n",
    "    ax6.set_xlabel('index $i$')\n",
    "    ax6.set_ylabel('index $j$')\n",
    "    fig.colorbar(pos, ax=ax6)\n",
    "    \n",
    "    plt.show()\n",
    "    \n",
    "widgets.interact(plot, h=(x[0], x[-1]))"
   ]
  },
  {
   "cell_type": "code",
   "execution_count": 40,
   "metadata": {},
   "outputs": [],
   "source": [
    "h = rs[-1]\n",
    "\n",
    "sigma_11 = np.block([[   corr(y_p, y_p, h),   Lx_corr(y_d, y_p, h).T],\n",
    "                     [Ly_corr(y_p, y_d, h).T, L2_corr(y_d, y_d, h)  ] ])"
   ]
  },
  {
   "cell_type": "code",
   "execution_count": 41,
   "metadata": {},
   "outputs": [],
   "source": [
    "ss = np.copy(sigma_11)"
   ]
  },
  {
   "cell_type": "code",
   "execution_count": 42,
   "metadata": {},
   "outputs": [],
   "source": [
    "ss[ss<1.0e-50] = 0.0"
   ]
  },
  {
   "cell_type": "code",
   "execution_count": 43,
   "metadata": {},
   "outputs": [
    {
     "data": {
      "text/plain": [
       "<matplotlib.colorbar.Colorbar at 0x7f2d0ca0b550>"
      ]
     },
     "execution_count": 43,
     "metadata": {},
     "output_type": "execute_result"
    },
    {
     "data": {
      "image/png": "[encoded data removed]",
      "text/plain": [
       "<Figure size 900x600 with 2 Axes>"
      ]
     },
     "metadata": {
      "needs_background": "light"
     },
     "output_type": "display_data"
    }
   ],
   "source": [
    "fig = plt.figure(dpi=150)\n",
    "pos = plt.imshow(np.log10(np.abs(ss)))\n",
    "fig.colorbar(pos)"
   ]
  },
  {
   "cell_type": "code",
   "execution_count": 44,
   "metadata": {},
   "outputs": [
    {
     "data": {
      "text/plain": [
       "<matplotlib.colorbar.Colorbar at 0x7f2d0c5dcc90>"
      ]
     },
     "execution_count": 44,
     "metadata": {},
     "output_type": "execute_result"
    },
    {
     "data": {
      "image/png": "[encoded data removed]",
      "text/plain": [
       "<Figure size 900x600 with 2 Axes>"
      ]
     },
     "metadata": {
      "needs_background": "light"
     },
     "output_type": "display_data"
    }
   ],
   "source": [
    "fig = plt.figure(dpi=150)\n",
    "pos = plt.imshow(tools.relative_error(ss, np.linalg.inv(np.linalg.inv(ss))))\n",
    "fig.colorbar(pos)"
   ]
  },
  {
   "cell_type": "code",
   "execution_count": 45,
   "metadata": {},
   "outputs": [
    {
     "name": "stderr",
     "output_type": "stream",
     "text": [
      "/home/frederik/software/Anaconda3/installation/envs/magritte/lib/python3.7/site-packages/ipykernel_launcher.py:2: RuntimeWarning: divide by zero encountered in log10\n",
      "  \n"
     ]
    },
    {
     "data": {
      "text/plain": [
       "<matplotlib.colorbar.Colorbar at 0x7f2d0c7cb750>"
      ]
     },
     "execution_count": 45,
     "metadata": {},
     "output_type": "execute_result"
    },
    {
     "data": {
      "image/png": "[encoded data removed]",
      "text/plain": [
       "<Figure size 900x600 with 2 Axes>"
      ]
     },
     "metadata": {
      "needs_background": "light"
     },
     "output_type": "display_data"
    }
   ],
   "source": [
    "fig = plt.figure(dpi=150)\n",
    "pos = plt.imshow(np.log10(np.abs(np.matmul(ss, np.linalg.inv(ss)))))\n",
    "fig.colorbar(pos)"
   ]
  },
  {
   "cell_type": "code",
   "execution_count": 46,
   "metadata": {},
   "outputs": [],
   "source": [
    "h = rs[1]\n",
    "\n",
    "sigma_11 = np.block([[   corr(y_p, y_p, h),   Lx_corr(y_d, y_p, h).T],\n",
    "                     [Ly_corr(y_p, y_d, h).T, L2_corr(y_d, y_d, h)  ] ])"
   ]
  },
  {
   "cell_type": "code",
   "execution_count": null,
   "metadata": {},
   "outputs": [],
   "source": []
  },
  {
   "cell_type": "code",
   "execution_count": 47,
   "metadata": {},
   "outputs": [
    {
     "data": {
      "application/vnd.jupyter.widget-view+json": {
       "model_id": "2c7918ac5ab843b791e25d209111fbef",
       "version_major": 2,
       "version_minor": 0
      },
      "text/plain": [
       "interactive(children=(FloatSlider(value=9500000000000.0, description='h', max=19000000000000.0), Output()), _d…"
      ]
     },
     "metadata": {},
     "output_type": "display_data"
    },
    {
     "data": {
      "text/plain": [
       "<function __main__.plot(h)>"
      ]
     },
     "execution_count": 47,
     "metadata": {},
     "output_type": "execute_result"
    }
   ],
   "source": [
    "def plot(h):\n",
    "    \n",
    "    sigma_00 = corr(x, x, h)\n",
    "\n",
    "    sigma_10 = np.block([   corr(x, y_p, h),\n",
    "                         Ly_corr(x, y_d, h) ])\n",
    "    \n",
    "    sigma_01 = np.block([   corr(y_p, x, h).T,\n",
    "                         Lx_corr(y_d, x, h).T ]).T\n",
    "    \n",
    "    \n",
    "    sigma_11 = np.block([[   corr(y_p, y_p, h), Lx_corr(y_d, y_p, h).T],\n",
    "                         [Ly_corr(y_p, y_d, h).T, L2_corr(y_d, y_d, h)  ] ])\n",
    "\n",
    "    \n",
    "    fy = np.block([fy_p, fy_d])\n",
    "\n",
    "    \n",
    "    mean =            np.matmul(np.matmul(sigma_10, np.linalg.inv(sigma_11)), fy)\n",
    "    cov  = sigma_00 - np.matmul(np.matmul(sigma_10, np.linalg.inv(sigma_11)), sigma_01)\n",
    "\n",
    "#     print(cov)\n",
    "    \n",
    "    xf = np.concatenate((-np.flip(x),x))\n",
    "\n",
    "    fig = plt.figure(constrained_layout=False, figsize=(14,16), dpi=175)\n",
    "    gsp = fig.add_gridspec(3, 2)\n",
    "    ax1 = fig.add_subplot(gsp[0])\n",
    "    ax2 = fig.add_subplot(gsp[1])\n",
    "    ax3 = fig.add_subplot(gsp[2])\n",
    "    ax4 = fig.add_subplot(gsp[3])\n",
    "    ax5 = fig.add_subplot(gsp[4])\n",
    "    ax6 = fig.add_subplot(gsp[5])\n",
    "\n",
    "#     ax1.set_title('Correlation matrix $\\mathbf{\\Sigma}_{x | \\mathbf{x}}$', fontsize=12)\n",
    "#     pos = ax1.imshow(cov)\n",
    "#     ax5.set_xlabel('index $i$')\n",
    "#     ax5.set_ylabel('index $j$')\n",
    "#     fig.colorbar(pos, ax=ax5)\n",
    "    \n",
    "    \n",
    "    ax1.set_title('+sigma_11')\n",
    "    pos = ax1.imshow(np.log10(sigma_11))\n",
    "#     ax1.set_xlabel('index $i$')\n",
    "#     ax1.set_ylabel('index $j$')\n",
    "    fig.colorbar(pos, ax=ax1)\n",
    "    \n",
    "    ax2.set_title('-sigma_11')\n",
    "    pos = ax2.imshow(np.log10(-sigma_11))\n",
    "#     ax2.set_xlabel('index $i$')\n",
    "#     ax2.set_ylabel('index $j$')\n",
    "    fig.colorbar(pos, ax=ax2)\n",
    "    \n",
    "    ax3.set_title('+cov')\n",
    "    pos = ax3.imshow(np.log10(cov))\n",
    "#     ax3.set_xlabel('index $i$')\n",
    "#     ax3.set_ylabel('index $j$')\n",
    "    fig.colorbar(pos, ax=ax3)\n",
    "    \n",
    "    ax4.set_title('-cov')\n",
    "    pos = ax4.imshow(np.log10(-cov))\n",
    "#     ax4.set_xlabel('index $i$')\n",
    "#     ax4.set_ylabel('index $j$')\n",
    "    fig.colorbar(pos, ax=ax4)\n",
    "    \n",
    "    ax5.set_title('+inverse_sigma_11')\n",
    "    pos = ax5.imshow(np.log10(np.linalg.inv(sigma_11)))\n",
    "#     ax5.set_xlabel('index $i$')\n",
    "#     ax5.set_ylabel('index $j$')\n",
    "    fig.colorbar(pos, ax=ax5)\n",
    "    \n",
    "    ax6.set_title('-inverse_sigma_11')\n",
    "    pos = ax6.imshow(np.log10(-np.linalg.inv(sigma_11)))\n",
    "#     ax4.set_xlabel('index $i$')\n",
    "#     ax4.set_ylabel('index $j$')\n",
    "    fig.colorbar(pos, ax=ax6)\n",
    "    \n",
    "    plt.show()\n",
    "    \n",
    "widgets.interact(plot, h=(x[0], x[-1]))"
   ]
  },
  {
   "cell_type": "code",
   "execution_count": 48,
   "metadata": {},
   "outputs": [
    {
     "data": {
      "application/vnd.jupyter.widget-view+json": {
       "model_id": "8766ee66caa849048e407cf1d5eb4ab6",
       "version_major": 2,
       "version_minor": 0
      },
      "text/plain": [
       "interactive(children=(FloatSlider(value=9500000000000.0, description='h', max=19000000000000.0), Output()), _d…"
      ]
     },
     "metadata": {},
     "output_type": "display_data"
    },
    {
     "data": {
      "text/plain": [
       "<function __main__.plot(h)>"
      ]
     },
     "execution_count": 48,
     "metadata": {},
     "output_type": "execute_result"
    }
   ],
   "source": [
    "def plot(h):\n",
    "    \n",
    "    sigma_00 = corr(x, x, h)\n",
    "\n",
    "    sigma_10 = np.block([   corr(x, y_p, h),\n",
    "                         Ly_corr(x, y_d, h) ])\n",
    "    \n",
    "    sigma_01 = np.block([   corr(y_p, x, h).T,\n",
    "                         Lx_corr(y_d, x, h).T ]).T\n",
    "    \n",
    "    \n",
    "    sigma_11 = np.block([[   corr(y_p, y_p, h), Lx_corr(y_d, y_p, h).T],\n",
    "                         [Ly_corr(y_p, y_d, h).T, L2_corr(y_d, y_d, h)  ] ])\n",
    "\n",
    "    \n",
    "    fy = np.block([fy_p, fy_d])\n",
    "\n",
    "    \n",
    "    mean =            np.matmul(np.matmul(sigma_10, np.linalg.inv(sigma_11)), fy)\n",
    "    cov  = sigma_00 - np.matmul(np.matmul(sigma_10, np.linalg.inv(sigma_11)), sigma_01)\n",
    "\n",
    "#     print(cov)\n",
    "    \n",
    "    xf = np.concatenate((-np.flip(x),x))\n",
    "\n",
    "    fig = plt.figure(constrained_layout=False, figsize=(14,16), dpi=100)\n",
    "    gsp = fig.add_gridspec(2, 1)\n",
    "    ax1 = fig.add_subplot(gsp[0])\n",
    "    ax3 = fig.add_subplot(gsp[1])\n",
    "\n",
    "\n",
    "#     ax1.set_title('Correlation matrix $\\mathbf{\\Sigma}_{x | \\mathbf{x}}$', fontsize=12)\n",
    "#     pos = ax1.imshow(cov)\n",
    "#     ax5.set_xlabel('index $i$')\n",
    "#     ax5.set_ylabel('index $j$')\n",
    "#     fig.colorbar(pos, ax=ax5)\n",
    "    \n",
    "    \n",
    "    ax1.set_title('+sigma_11')\n",
    "    pos = ax1.imshow(np.log10(tools.relative_error(sigma_11, sigma_11.T)))\n",
    "#     ax1.set_xlabel('index $i$')\n",
    "#     ax1.set_ylabel('index $j$')\n",
    "    fig.colorbar(pos, ax=ax1)\n",
    "    \n",
    "    ax3.set_title('+cov')\n",
    "    pos = ax3.imshow(np.log10(tools.relative_error(cov, cov.T)))\n",
    "#     ax3.set_xlabel('index $i$')\n",
    "#     ax3.set_ylabel('index $j$')\n",
    "    fig.colorbar(pos, ax=ax3)\n",
    "    \n",
    "    plt.show()\n",
    "\n",
    "    print(tools.relative_error(sigma_11, sigma_11.T))\n",
    "    print(tools.relative_error(cov,      cov.T     ))\n",
    "    \n",
    "widgets.interact(plot, h=(x[0], x[-1]))"
   ]
  },
  {
   "cell_type": "code",
   "execution_count": 72,
   "metadata": {},
   "outputs": [],
   "source": [
    "def mylog(x):\n",
    "    result = np.zeros(x.shape)\n",
    "    result[x>0] =  np.log(x[x>0])\n",
    "#     result[x<0] = -np.log(x[x<0])\n",
    "    return result"
   ]
  },
  {
   "cell_type": "code",
   "execution_count": 73,
   "metadata": {},
   "outputs": [
    {
     "data": {
      "text/plain": [
       "array([[  0.        , -30.32661851,   0.        ,   0.        ,\n",
       "          0.        ,   0.        ,   0.        ,   0.        ,\n",
       "          0.        ,   0.        ,   0.        ,   0.        ,\n",
       "          0.        ,   0.        ,   0.        ,   0.        ,\n",
       "          0.        ,   0.        ,   0.        ,   0.        ,\n",
       "          0.        ],\n",
       "       [-30.32661851, -55.25749606, -61.15323702,   0.        ,\n",
       "          0.        ,   0.        ,   0.        ,   0.        ,\n",
       "          0.        ,   0.        ,   0.        ,   0.        ,\n",
       "          0.        ,   0.        ,   0.        ,   0.        ,\n",
       "          0.        ,   0.        ,   0.        ,   0.        ,\n",
       "          0.        ],\n",
       "       [  0.        , -61.15323702, -55.25749606, -61.15323702,\n",
       "          0.        ,   0.        ,   0.        ,   0.        ,\n",
       "          0.        ,   0.        ,   0.        ,   0.        ,\n",
       "          0.        ,   0.        ,   0.        ,   0.        ,\n",
       "          0.        ,   0.        ,   0.        ,   0.        ,\n",
       "          0.        ],\n",
       "       [  0.        ,   0.        , -61.15323702, -55.25749606,\n",
       "        -61.15323702,   0.        ,   0.        ,   0.        ,\n",
       "          0.        ,   0.        ,   0.        ,   0.        ,\n",
       "          0.        ,   0.        ,   0.        ,   0.        ,\n",
       "          0.        ,   0.        ,   0.        ,   0.        ,\n",
       "          0.        ],\n",
       "       [  0.        ,   0.        ,   0.        , -61.15323702,\n",
       "        -55.25749606, -61.15323702,   0.        ,   0.        ,\n",
       "          0.        ,   0.        ,   0.        ,   0.        ,\n",
       "          0.        ,   0.        ,   0.        ,   0.        ,\n",
       "          0.        ,   0.        ,   0.        ,   0.        ,\n",
       "          0.        ],\n",
       "       [  0.        ,   0.        ,   0.        ,   0.        ,\n",
       "        -61.15323702, -55.25749606, -61.15323702,   0.        ,\n",
       "          0.        ,   0.        ,   0.        ,   0.        ,\n",
       "          0.        ,   0.        ,   0.        ,   0.        ,\n",
       "          0.        ,   0.        ,   0.        ,   0.        ,\n",
       "          0.        ],\n",
       "       [  0.        ,   0.        ,   0.        ,   0.        ,\n",
       "          0.        , -61.15323702, -55.25749606, -61.15323702,\n",
       "          0.        ,   0.        ,   0.        ,   0.        ,\n",
       "          0.        ,   0.        ,   0.        ,   0.        ,\n",
       "          0.        ,   0.        ,   0.        ,   0.        ,\n",
       "          0.        ],\n",
       "       [  0.        ,   0.        ,   0.        ,   0.        ,\n",
       "          0.        ,   0.        , -61.15323702, -55.25749606,\n",
       "        -61.15323702,   0.        ,   0.        ,   0.        ,\n",
       "          0.        ,   0.        ,   0.        ,   0.        ,\n",
       "          0.        ,   0.        ,   0.        ,   0.        ,\n",
       "          0.        ],\n",
       "       [  0.        ,   0.        ,   0.        ,   0.        ,\n",
       "          0.        ,   0.        ,   0.        , -61.15323702,\n",
       "        -55.25749606, -61.15323702,   0.        ,   0.        ,\n",
       "          0.        ,   0.        ,   0.        ,   0.        ,\n",
       "          0.        ,   0.        ,   0.        ,   0.        ,\n",
       "          0.        ],\n",
       "       [  0.        ,   0.        ,   0.        ,   0.        ,\n",
       "          0.        ,   0.        ,   0.        ,   0.        ,\n",
       "        -61.15323702, -55.25749606, -61.15323702,   0.        ,\n",
       "          0.        ,   0.        ,   0.        ,   0.        ,\n",
       "          0.        ,   0.        ,   0.        ,   0.        ,\n",
       "          0.        ],\n",
       "       [  0.        ,   0.        ,   0.        ,   0.        ,\n",
       "          0.        ,   0.        ,   0.        ,   0.        ,\n",
       "          0.        , -61.15323702, -55.25749606, -61.15323702,\n",
       "          0.        ,   0.        ,   0.        ,   0.        ,\n",
       "          0.        ,   0.        ,   0.        ,   0.        ,\n",
       "          0.        ],\n",
       "       [  0.        ,   0.        ,   0.        ,   0.        ,\n",
       "          0.        ,   0.        ,   0.        ,   0.        ,\n",
       "          0.        ,   0.        , -61.15323702, -55.25749606,\n",
       "        -61.15323702,   0.        ,   0.        ,   0.        ,\n",
       "          0.        ,   0.        ,   0.        ,   0.        ,\n",
       "          0.        ],\n",
       "       [  0.        ,   0.        ,   0.        ,   0.        ,\n",
       "          0.        ,   0.        ,   0.        ,   0.        ,\n",
       "          0.        ,   0.        ,   0.        , -61.15323702,\n",
       "        -55.25749606, -61.15323702,   0.        ,   0.        ,\n",
       "          0.        ,   0.        ,   0.        ,   0.        ,\n",
       "          0.        ],\n",
       "       [  0.        ,   0.        ,   0.        ,   0.        ,\n",
       "          0.        ,   0.        ,   0.        ,   0.        ,\n",
       "          0.        ,   0.        ,   0.        ,   0.        ,\n",
       "        -61.15323702, -55.25749606, -61.15323702,   0.        ,\n",
       "          0.        ,   0.        ,   0.        ,   0.        ,\n",
       "          0.        ],\n",
       "       [  0.        ,   0.        ,   0.        ,   0.        ,\n",
       "          0.        ,   0.        ,   0.        ,   0.        ,\n",
       "          0.        ,   0.        ,   0.        ,   0.        ,\n",
       "          0.        , -61.15323702, -55.25749606, -61.15323702,\n",
       "          0.        ,   0.        ,   0.        ,   0.        ,\n",
       "          0.        ],\n",
       "       [  0.        ,   0.        ,   0.        ,   0.        ,\n",
       "          0.        ,   0.        ,   0.        ,   0.        ,\n",
       "          0.        ,   0.        ,   0.        ,   0.        ,\n",
       "          0.        ,   0.        , -61.15323702, -55.25749606,\n",
       "        -61.15323702,   0.        ,   0.        ,   0.        ,\n",
       "          0.        ],\n",
       "       [  0.        ,   0.        ,   0.        ,   0.        ,\n",
       "          0.        ,   0.        ,   0.        ,   0.        ,\n",
       "          0.        ,   0.        ,   0.        ,   0.        ,\n",
       "          0.        ,   0.        ,   0.        , -61.15323702,\n",
       "        -55.25749606, -61.15323702,   0.        ,   0.        ,\n",
       "          0.        ],\n",
       "       [  0.        ,   0.        ,   0.        ,   0.        ,\n",
       "          0.        ,   0.        ,   0.        ,   0.        ,\n",
       "          0.        ,   0.        ,   0.        ,   0.        ,\n",
       "          0.        ,   0.        ,   0.        ,   0.        ,\n",
       "        -61.15323702, -55.25749606, -61.15323702,   0.        ,\n",
       "          0.        ],\n",
       "       [  0.        ,   0.        ,   0.        ,   0.        ,\n",
       "          0.        ,   0.        ,   0.        ,   0.        ,\n",
       "          0.        ,   0.        ,   0.        ,   0.        ,\n",
       "          0.        ,   0.        ,   0.        ,   0.        ,\n",
       "          0.        , -61.15323702, -55.25749606, -61.15323702,\n",
       "          0.        ],\n",
       "       [  0.        ,   0.        ,   0.        ,   0.        ,\n",
       "          0.        ,   0.        ,   0.        ,   0.        ,\n",
       "          0.        ,   0.        ,   0.        ,   0.        ,\n",
       "          0.        ,   0.        ,   0.        ,   0.        ,\n",
       "          0.        ,   0.        , -61.15323702, -55.25749606,\n",
       "        -61.15323702],\n",
       "       [  0.        ,   0.        ,   0.        ,   0.        ,\n",
       "          0.        ,   0.        ,   0.        ,   0.        ,\n",
       "          0.        ,   0.        ,   0.        ,   0.        ,\n",
       "          0.        ,   0.        ,   0.        ,   0.        ,\n",
       "          0.        ,   0.        ,   0.        , -61.15323702,\n",
       "        -55.25749606]])"
      ]
     },
     "execution_count": 73,
     "metadata": {},
     "output_type": "execute_result"
    }
   ],
   "source": [
    "mylog(sigma_11)"
   ]
  },
  {
   "cell_type": "code",
   "execution_count": 127,
   "metadata": {},
   "outputs": [
    {
     "data": {
      "text/plain": [
       "array([[ 0.,  0., -0., -0., -0., -0., -0., -0., -0., -0., -0., -0., -0.,\n",
       "        -0., -0., -0., -0., -0., -0., -0., -0.],\n",
       "       [ 0.,  0.,  0., -0., -0., -0., -0., -0., -0., -0., -0., -0., -0.,\n",
       "        -0., -0., -0., -0., -0., -0., -0., -0.],\n",
       "       [-0.,  0.,  0.,  0., -0., -0., -0., -0., -0., -0., -0., -0., -0.,\n",
       "        -0., -0., -0., -0., -0., -0., -0., -0.],\n",
       "       [-0., -0.,  0.,  0.,  0., -0., -0., -0., -0., -0., -0., -0., -0.,\n",
       "        -0., -0., -0., -0., -0., -0., -0., -0.],\n",
       "       [-0., -0., -0.,  0.,  0.,  0., -0., -0., -0., -0., -0., -0., -0.,\n",
       "        -0., -0., -0., -0., -0., -0., -0., -0.],\n",
       "       [-0., -0., -0., -0.,  0.,  0.,  0., -0., -0., -0., -0., -0., -0.,\n",
       "        -0., -0., -0., -0., -0., -0., -0., -0.],\n",
       "       [-0., -0., -0., -0., -0.,  0.,  0.,  0., -0., -0., -0., -0., -0.,\n",
       "        -0., -0., -0., -0., -0., -0., -0., -0.],\n",
       "       [-0., -0., -0., -0., -0., -0.,  0.,  0.,  0., -0., -0., -0., -0.,\n",
       "        -0., -0., -0., -0., -0., -0., -0., -0.],\n",
       "       [-0., -0., -0., -0., -0., -0., -0.,  0.,  0.,  0., -0., -0., -0.,\n",
       "        -0., -0., -0., -0., -0., -0., -0., -0.],\n",
       "       [-0., -0., -0., -0., -0., -0., -0., -0.,  0.,  0.,  0., -0., -0.,\n",
       "        -0., -0., -0., -0., -0., -0., -0., -0.],\n",
       "       [-0., -0., -0., -0., -0., -0., -0., -0., -0.,  0.,  0.,  0., -0.,\n",
       "        -0., -0., -0., -0., -0., -0., -0., -0.],\n",
       "       [-0., -0., -0., -0., -0., -0., -0., -0., -0., -0.,  0.,  0.,  0.,\n",
       "        -0., -0., -0., -0., -0., -0., -0., -0.],\n",
       "       [-0., -0., -0., -0., -0., -0., -0., -0., -0., -0., -0.,  0.,  0.,\n",
       "         0., -0., -0., -0., -0., -0., -0., -0.],\n",
       "       [-0., -0., -0., -0., -0., -0., -0., -0., -0., -0., -0., -0.,  0.,\n",
       "         0.,  0., -0., -0., -0., -0., -0., -0.],\n",
       "       [-0., -0., -0., -0., -0., -0., -0., -0., -0., -0., -0., -0., -0.,\n",
       "         0.,  0.,  0., -0., -0., -0., -0., -0.],\n",
       "       [-0., -0., -0., -0., -0., -0., -0., -0., -0., -0., -0., -0., -0.,\n",
       "        -0.,  0.,  0.,  0., -0., -0., -0., -0.],\n",
       "       [-0., -0., -0., -0., -0., -0., -0., -0., -0., -0., -0., -0., -0.,\n",
       "        -0., -0.,  0.,  0.,  0., -0., -0., -0.],\n",
       "       [-0., -0., -0., -0., -0., -0., -0., -0., -0., -0., -0., -0., -0.,\n",
       "        -0., -0., -0.,  0.,  0.,  0., -0., -0.],\n",
       "       [-0., -0., -0., -0., -0., -0., -0., -0., -0., -0., -0., -0., -0.,\n",
       "        -0., -0., -0., -0.,  0.,  0.,  0., -0.],\n",
       "       [-0., -0., -0., -0., -0., -0., -0., -0., -0., -0., -0., -0., -0.,\n",
       "        -0., -0., -0., -0., -0.,  0.,  0.,  0.],\n",
       "       [-0., -0., -0., -0., -0., -0., -0., -0., -0., -0., -0., -0., -0.,\n",
       "        -0., -0., -0., -0., -0., -0.,  0.,  0.]])"
      ]
     },
     "execution_count": 127,
     "metadata": {},
     "output_type": "execute_result"
    }
   ],
   "source": []
  },
  {
   "cell_type": "code",
   "execution_count": 139,
   "metadata": {},
   "outputs": [],
   "source": [
    "sigma_00 = corr(x, x, h)\n",
    "\n",
    "sigma_10 = np.block([   corr(x, y_p, h),\n",
    "                     Ly_corr(x, y_d, h) ])\n",
    "    \n",
    "sigma_01 = np.block([   corr(y_p, x, h).T,\n",
    "                     Lx_corr(y_d, x, h).T ]).T\n",
    "    \n",
    "sigma_11 = np.block([[   corr(y_p, y_p, h), Lx_corr(y_d, y_p, h).T],\n",
    "                     [Ly_corr(y_p, y_d, h).T, L2_corr(y_d, y_d, h)  ] ])\n",
    "\n",
    "fy = np.block([fy_p, fy_d])"
   ]
  },
  {
   "cell_type": "code",
   "execution_count": 148,
   "metadata": {},
   "outputs": [
    {
     "data": {
      "text/plain": [
       "(4, 4)"
      ]
     },
     "execution_count": 148,
     "metadata": {},
     "output_type": "execute_result"
    }
   ],
   "source": [
    "sigma_11.shape"
   ]
  },
  {
   "cell_type": "code",
   "execution_count": 147,
   "metadata": {},
   "outputs": [
    {
     "data": {
      "text/plain": [
       "(5, 5)"
      ]
     },
     "execution_count": 147,
     "metadata": {},
     "output_type": "execute_result"
    }
   ],
   "source": [
    "covariance.toarray().shape"
   ]
  },
  {
   "cell_type": "code",
   "execution_count": 146,
   "metadata": {},
   "outputs": [
    {
     "data": {
      "text/plain": [
       "array([3.77281369e-18, 9.97040097e-31, 9.97040097e-31, 9.97040097e-31])"
      ]
     },
     "execution_count": 146,
     "metadata": {},
     "output_type": "execute_result"
    }
   ],
   "source": [
    "fy"
   ]
  },
  {
   "cell_type": "code",
   "execution_count": 145,
   "metadata": {},
   "outputs": [
    {
     "data": {
      "text/plain": [
       "array([3.77281369e-18, 3.77281369e-18, 9.97040097e-31, 9.97040097e-31,\n",
       "       9.97040097e-31])"
      ]
     },
     "execution_count": 145,
     "metadata": {},
     "output_type": "execute_result"
    }
   ],
   "source": [
    "condition"
   ]
  },
  {
   "cell_type": "code",
   "execution_count": null,
   "metadata": {},
   "outputs": [],
   "source": []
  }
 ],
 "metadata": {
  "kernelspec": {
   "display_name": "Python 3",
   "language": "python",
   "name": "python3"
  },
  "language_info": {
   "codemirror_mode": {
    "name": "ipython",
    "version": 3
   },
   "file_extension": ".py",
   "mimetype": "text/x-python",
   "name": "python",
   "nbconvert_exporter": "python",
   "pygments_lexer": "ipython3",
   "version": "3.7.5"
  }
 },
 "nbformat": 4,
 "nbformat_minor": 4
}

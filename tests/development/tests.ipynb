{
 "cells": [
  {
   "cell_type": "markdown",
   "metadata": {},
   "source": [
    "# Tests"
   ]
  },
  {
   "cell_type": "markdown",
   "metadata": {},
   "source": [
    "### Imports"
   ]
  },
  {
   "cell_type": "code",
   "execution_count": 1,
   "metadata": {},
   "outputs": [],
   "source": [
    "import numpy             as np\n",
    "import matplotlib.pyplot as plt\n",
    "import itertools\n",
    "\n",
    "from scipy.spatial import cKDTree\n",
    "from scipy         import sparse\n",
    "from scipy.sparse  import linalg as sparse_linalg\n",
    "from numba         import njit"
   ]
  },
  {
   "cell_type": "code",
   "execution_count": 2,
   "metadata": {},
   "outputs": [],
   "source": [
    "Nb = 10\n",
    "Nd = 10\n",
    "Nt = 100"
   ]
  },
  {
   "cell_type": "code",
   "execution_count": 3,
   "metadata": {},
   "outputs": [],
   "source": [
    "r_in  =  1.0\n",
    "r_out =  5.0\n",
    "\n",
    "xs = np.logspace(np.log10(r_in), np.log10(r_out), Nd)\n",
    "xt = np.logspace(np.log10(r_in), np.log10(r_out), Nt)\n",
    "ys = np.exp(-xs)\n",
    "yt = np.exp(-xt)"
   ]
  },
  {
   "cell_type": "code",
   "execution_count": 4,
   "metadata": {},
   "outputs": [
    {
     "data": {
      "text/plain": [
       "[<matplotlib.lines.Line2D at 0x7f423f3a5860>]"
      ]
     },
     "execution_count": 4,
     "metadata": {},
     "output_type": "execute_result"
    },
    {
     "data": {
      "image/png": "[encoded data removed]",
      "text/plain": [
       "<Figure size 780x520 with 1 Axes>"
      ]
     },
     "metadata": {
      "needs_background": "light"
     },
     "output_type": "display_data"
    }
   ],
   "source": [
    "plt.figure(dpi=130)\n",
    "plt.scatter(xs, ys)\n",
    "plt.plot   (xt, yt)"
   ]
  },
  {
   "cell_type": "code",
   "execution_count": 5,
   "metadata": {},
   "outputs": [],
   "source": [
    "# Define polynomial feature map\n",
    "Phi = np.zeros((Nd, Nb))\n",
    "for d in range(Nd):\n",
    "    x = xs[d]\n",
    "    for i in range(Nb):\n",
    "        Phi[d,i] = np.power(x,i)\n",
    "        \n",
    "# Corresponding expansion\n",
    "def f(x,w):\n",
    "    result = w[0]*np.power(x,0)\n",
    "    for i in range(1,Nb):\n",
    "        result += w[i]*np.power(x,i)\n",
    "    return result"
   ]
  },
  {
   "cell_type": "code",
   "execution_count": 17,
   "metadata": {},
   "outputs": [],
   "source": [
    "# Define Gaussian (RBF) feature map\n",
    "Phi = np.zeros((Nd, Nb))\n",
    "for d in range(Nd):\n",
    "    xd = xs[d]\n",
    "    for i in range(Nb):\n",
    "        xi = xs[i]\n",
    "        Phi[d,i] = np.exp(-0.1*(xi - xd)**2)\n",
    "        \n",
    "# Corresponding expansion\n",
    "def f(x,w):\n",
    "    result = np.zeros(x.shape)\n",
    "    for i in range(Nb):\n",
    "        xi = xs[i]\n",
    "        result += w[i]*np.exp(-0.1*(xi - x)**2)\n",
    "    return result"
   ]
  },
  {
   "cell_type": "code",
   "execution_count": 18,
   "metadata": {},
   "outputs": [
    {
     "data": {
      "text/plain": [
       "array([[1.        , 0.99617306, 0.9816825 , 0.95084275, 0.89658412,\n",
       "        0.81150558, 0.69060695, 0.53617717, 0.3634773 , 0.20189652],\n",
       "       [0.99617306, 1.        , 0.9945321 , 0.97391005, 0.93045659,\n",
       "        0.85547368, 0.74180483, 0.58898633, 0.41012783, 0.23523183],\n",
       "       [0.9816825 , 0.9945321 , 1.        , 0.99219027, 0.96290248,\n",
       "        0.90206204, 0.79994035, 0.6524064 , 0.46909148, 0.27956736],\n",
       "       [0.95084275, 0.97391005, 0.99219027, 1.        , 0.98885111,\n",
       "        0.94737779, 0.86295758, 0.72673381, 0.54295866, 0.33877272],\n",
       "       [0.89658412, 0.93045659, 0.96290248, 0.98885111, 1.        ,\n",
       "        0.98409573, 0.92561184, 0.80996618, 0.63353563, 0.41756555],\n",
       "       [0.81150558, 0.85547368, 0.90206204, 0.94737779, 0.98409573,\n",
       "        1.        , 0.97733538, 0.89535314, 0.73979342, 0.52064141],\n",
       "       [0.69060695, 0.74180483, 0.79994035, 0.86295758, 0.92561184,\n",
       "        0.97733538, 1.        , 0.96774889, 0.85379463, 0.64987825],\n",
       "       [0.53617717, 0.58898633, 0.6524064 , 0.72673381, 0.80996618,\n",
       "        0.89535314, 0.96774889, 1.        , 0.95420366, 0.79769617],\n",
       "       [0.3634773 , 0.41012783, 0.46909148, 0.54295866, 0.63353563,\n",
       "        0.73979342, 0.85379463, 0.95420366, 1.        , 0.93516311],\n",
       "       [0.20189652, 0.23523183, 0.27956736, 0.33877272, 0.41756555,\n",
       "        0.52064141, 0.64987825, 0.79769617, 0.93516311, 1.        ]])"
      ]
     },
     "execution_count": 18,
     "metadata": {},
     "output_type": "execute_result"
    }
   ],
   "source": [
    "Phi"
   ]
  },
  {
   "cell_type": "code",
   "execution_count": 19,
   "metadata": {},
   "outputs": [],
   "source": [
    "K = np.matmul(Phi, Phi.T)\n",
    "M = np.matmul(Phi.T, Phi)"
   ]
  },
  {
   "cell_type": "code",
   "execution_count": 20,
   "metadata": {},
   "outputs": [
    {
     "name": "stdout",
     "output_type": "stream",
     "text": [
      "-5.808003665549658e-76\n",
      "-5.808003665549658e-76\n"
     ]
    }
   ],
   "source": [
    "print(np.linalg.det(M))\n",
    "print(np.linalg.det(K))"
   ]
  },
  {
   "cell_type": "code",
   "execution_count": 21,
   "metadata": {},
   "outputs": [
    {
     "name": "stdout",
     "output_type": "stream",
     "text": [
      "1.735185573558285e+17 (10, 10)\n"
     ]
    }
   ],
   "source": [
    "# mat = np.matmul(K.T, K)\n",
    "# w_K = np.matmul(np.linalg.solve(mat, ys).T, np.matmul(K.T, Phi))\n",
    "mat = K\n",
    "w_K = np.matmul(np.linalg.solve(mat, ys).T, Phi)\n",
    "print(np.linalg.cond(mat), mat.shape)"
   ]
  },
  {
   "cell_type": "code",
   "execution_count": 22,
   "metadata": {},
   "outputs": [
    {
     "data": {
      "text/plain": [
       "array([ 1.56491646e+03, -2.82222691e+03, -6.39092617e+01,  2.25248768e+03,\n",
       "        5.45047035e+01, -2.07338659e+03,  1.45647533e+03, -4.09145199e+02,\n",
       "        4.08772159e+01,  1.06559277e+00])"
      ]
     },
     "execution_count": 22,
     "metadata": {},
     "output_type": "execute_result"
    }
   ],
   "source": [
    "w_K"
   ]
  },
  {
   "cell_type": "code",
   "execution_count": 23,
   "metadata": {},
   "outputs": [
    {
     "name": "stdout",
     "output_type": "stream",
     "text": [
      "1.735185573558285e+17 (10, 10)\n"
     ]
    }
   ],
   "source": [
    "mat = M\n",
    "w_M = np.linalg.solve(mat, np.matmul(Phi.T, ys))\n",
    "print(np.linalg.cond(mat), mat.shape)"
   ]
  },
  {
   "cell_type": "code",
   "execution_count": 24,
   "metadata": {},
   "outputs": [
    {
     "data": {
      "text/plain": [
       "array([  -42.34818838,  1836.77430942, -3692.47012467,  1048.28390442,\n",
       "        2019.64946794,  -492.16839814, -1827.9516887 ,  1665.6442005 ,\n",
       "        -602.7774279 ,    89.52350807])"
      ]
     },
     "execution_count": 24,
     "metadata": {},
     "output_type": "execute_result"
    }
   ],
   "source": [
    "w_M"
   ]
  },
  {
   "cell_type": "code",
   "execution_count": 25,
   "metadata": {},
   "outputs": [
    {
     "data": {
      "text/plain": [
       "<matplotlib.legend.Legend at 0x7f42371b4eb8>"
      ]
     },
     "execution_count": 25,
     "metadata": {},
     "output_type": "execute_result"
    },
    {
     "data": {
      "image/png": "[encoded data removed]",
      "text/plain": [
       "<Figure size 780x520 with 1 Axes>"
      ]
     },
     "metadata": {
      "needs_background": "light"
     },
     "output_type": "display_data"
    }
   ],
   "source": [
    "plt.figure(dpi=130)\n",
    "plt.scatter(xs, ys)\n",
    "plt.plot   (xt, yt)\n",
    "plt.plot   (xt, f(xt, w_M), label='M', linestyle='dashed')\n",
    "plt.plot   (xt, f(xt, w_K), label='K', linestyle='dotted')\n",
    "# plt.plot   (xt, f(xt, np.identity(Nb)[2]))\n",
    "plt.legend()"
   ]
  },
  {
   "cell_type": "code",
   "execution_count": 26,
   "metadata": {},
   "outputs": [
    {
     "data": {
      "text/plain": [
       "<matplotlib.image.AxesImage at 0x7f423706e198>"
      ]
     },
     "execution_count": 26,
     "metadata": {},
     "output_type": "execute_result"
    },
    {
     "data": {
      "image/png": "[encoded data removed]",
      "text/plain": [
       "<Figure size 432x288 with 1 Axes>"
      ]
     },
     "metadata": {
      "needs_background": "light"
     },
     "output_type": "display_data"
    }
   ],
   "source": [
    "plt.imshow(K)"
   ]
  },
  {
   "cell_type": "code",
   "execution_count": 27,
   "metadata": {},
   "outputs": [
    {
     "data": {
      "text/plain": [
       "<matplotlib.image.AxesImage at 0x7f423703fe10>"
      ]
     },
     "execution_count": 27,
     "metadata": {},
     "output_type": "execute_result"
    },
    {
     "data": {
      "image/png": "[encoded data removed]",
      "text/plain": [
       "<Figure size 432x288 with 1 Axes>"
      ]
     },
     "metadata": {
      "needs_background": "light"
     },
     "output_type": "display_data"
    }
   ],
   "source": [
    "plt.imshow(M)"
   ]
  },
  {
   "cell_type": "code",
   "execution_count": null,
   "metadata": {},
   "outputs": [],
   "source": []
  }
 ],
 "metadata": {
  "kernelspec": {
   "display_name": "Python 3",
   "language": "python",
   "name": "python3"
  },
  "language_info": {
   "codemirror_mode": {
    "name": "ipython",
    "version": 3
   },
   "file_extension": ".py",
   "mimetype": "text/x-python",
   "name": "python",
   "nbconvert_exporter": "python",
   "pygments_lexer": "ipython3",
   "version": "3.6.12"
  }
 },
 "nbformat": 4,
 "nbformat_minor": 4
}

{
 "cells": [
  {
   "cell_type": "code",
   "execution_count": 1,
   "metadata": {},
   "outputs": [],
   "source": [
    "import numpy             as np\n",
    "import matplotlib.pyplot as plt\n",
    "\n",
    "from scipy.spatial import cKDTree, Delaunay\n",
    "from numba         import njit"
   ]
  },
  {
   "cell_type": "code",
   "execution_count": 2,
   "metadata": {},
   "outputs": [],
   "source": [
    "ndim    = 1\n",
    "npoints = 50\n",
    "nnbs    = 5"
   ]
  },
  {
   "cell_type": "code",
   "execution_count": 3,
   "metadata": {},
   "outputs": [
    {
     "ename": "ValueError",
     "evalue": "Need at least 2-D data",
     "output_type": "error",
     "traceback": [
      "\u001b[0;31m---------------------------------------------------------------------------\u001b[0m",
      "\u001b[0;31mValueError\u001b[0m                                Traceback (most recent call last)",
      "\u001b[0;32m<ipython-input-3-c02b696bd024>\u001b[0m in \u001b[0;36m<module>\u001b[0;34m\u001b[0m\n\u001b[1;32m      3\u001b[0m \u001b[0;31m# xs         = np.array([np.linspace(0, 1, npoints)]).T\u001b[0m\u001b[0;34m\u001b[0m\u001b[0;34m\u001b[0m\u001b[0;34m\u001b[0m\u001b[0m\n\u001b[1;32m      4\u001b[0m \u001b[0mKDTree\u001b[0m     \u001b[0;34m=\u001b[0m \u001b[0mcKDTree\u001b[0m\u001b[0;34m(\u001b[0m\u001b[0mxs\u001b[0m\u001b[0;34m)\u001b[0m\u001b[0;34m\u001b[0m\u001b[0;34m\u001b[0m\u001b[0m\n\u001b[0;32m----> 5\u001b[0;31m \u001b[0mdelaunay\u001b[0m   \u001b[0;34m=\u001b[0m \u001b[0mDelaunay\u001b[0m\u001b[0;34m(\u001b[0m\u001b[0mxs\u001b[0m\u001b[0;34m)\u001b[0m\u001b[0;34m\u001b[0m\u001b[0;34m\u001b[0m\u001b[0m\n\u001b[0m\u001b[1;32m      6\u001b[0m \u001b[0mdists\u001b[0m\u001b[0;34m,\u001b[0m \u001b[0mids\u001b[0m \u001b[0;34m=\u001b[0m \u001b[0mKDTree\u001b[0m\u001b[0;34m.\u001b[0m\u001b[0mquery\u001b[0m\u001b[0;34m(\u001b[0m\u001b[0mxs\u001b[0m\u001b[0;34m,\u001b[0m \u001b[0mnnbs\u001b[0m\u001b[0;34m+\u001b[0m\u001b[0;36m1\u001b[0m\u001b[0;34m)\u001b[0m\u001b[0;34m\u001b[0m\u001b[0;34m\u001b[0m\u001b[0m\n\u001b[1;32m      7\u001b[0m \u001b[0mhs\u001b[0m         \u001b[0;34m=\u001b[0m \u001b[0mnp\u001b[0m\u001b[0;34m.\u001b[0m\u001b[0msqrt\u001b[0m\u001b[0;34m(\u001b[0m\u001b[0mnp\u001b[0m\u001b[0;34m.\u001b[0m\u001b[0mmean\u001b[0m\u001b[0;34m(\u001b[0m\u001b[0mdists\u001b[0m\u001b[0;34m[\u001b[0m\u001b[0;34m:\u001b[0m\u001b[0;34m,\u001b[0m\u001b[0;36m1\u001b[0m\u001b[0;34m:\u001b[0m\u001b[0;34m]\u001b[0m\u001b[0;34m**\u001b[0m\u001b[0;36m2\u001b[0m\u001b[0;34m,\u001b[0m \u001b[0maxis\u001b[0m\u001b[0;34m=\u001b[0m\u001b[0;36m1\u001b[0m\u001b[0;34m)\u001b[0m\u001b[0;34m)\u001b[0m\u001b[0;34m\u001b[0m\u001b[0;34m\u001b[0m\u001b[0m\n",
      "\u001b[0;32mqhull.pyx\u001b[0m in \u001b[0;36mscipy.spatial.qhull.Delaunay.__init__\u001b[0;34m()\u001b[0m\n",
      "\u001b[0;32mqhull.pyx\u001b[0m in \u001b[0;36mscipy.spatial.qhull._Qhull.__init__\u001b[0;34m()\u001b[0m\n",
      "\u001b[0;31mValueError\u001b[0m: Need at least 2-D data"
     ]
    }
   ],
   "source": [
    "# xs         = np.random.rand(npoints, ndim)\n",
    "xs         = np.array([np.logspace(-2, 1, npoints)]).T\n",
    "# xs         = np.array([np.linspace(0, 1, npoints)]).T\n",
    "KDTree     = cKDTree(xs)\n",
    "delaunay   = Delaunay(xs)\n",
    "dists, ids = KDTree.query(xs, nnbs+1)\n",
    "hs         = np.sqrt(np.mean(dists[:,1:]**2, axis=1))"
   ]
  },
  {
   "cell_type": "code",
   "execution_count": 4,
   "metadata": {},
   "outputs": [],
   "source": [
    "@njit\n",
    "def smooth(i1, i2, hs):\n",
    "    h1 = hs[i1]**2\n",
    "    h2 = hs[i2]**2\n",
    "    return (h1 + h2)/(h1 * h2)"
   ]
  },
  {
   "cell_type": "code",
   "execution_count": 5,
   "metadata": {},
   "outputs": [],
   "source": [
    "@njit\n",
    "def kernel(i1, i2, hs):\n",
    "    r = xs[i1] - xs[i2]\n",
    "    d = np.dot(r,r)\n",
    "    return np.exp(-d*smooth(i1, i2, hs))"
   ]
  },
  {
   "cell_type": "code",
   "execution_count": 6,
   "metadata": {},
   "outputs": [],
   "source": [
    "@njit\n",
    "def grad2_kernel(i1, i2, hs, grad_hs):\n",
    "    \n",
    "    a1 = 1.0 / hs[i1]**2\n",
    "    a2 = 1.0 / hs[i2]**2\n",
    "\n",
    "    rr = xs[i1] - xs[i2]\n",
    "\n",
    "    ff = 1.0 + np.dot(rr, grad_hs[i2]/hs[i2])\n",
    "    \n",
    "    return rr * (a1 + a2*ff) * kernel(i1, i2, hs)"
   ]
  },
  {
   "cell_type": "markdown",
   "metadata": {},
   "source": [
    "The following is a \"smooth\" way to define the local element size distribution\n",
    "\\begin{equation}\n",
    "    h(x_i)^2 \\ = \\\n",
    "    \\frac{\\sum_{j} ( x_i - x_j )^2 \\ k(x_i, x_j) }\n",
    "         {\\sum_{j}                   k(x_i, x_j) }.\n",
    "\\end{equation}\n",
    "However, it is recusrively defined, since $k$ depends on $h$, but can be (recursively) computed."
   ]
  },
  {
   "cell_type": "code",
   "execution_count": 7,
   "metadata": {},
   "outputs": [],
   "source": [
    "@njit\n",
    "def max_relative_difference(a, b):\n",
    "    return 2.0*np.max(np.abs((a - b)/(a + b)))"
   ]
  },
  {
   "cell_type": "code",
   "execution_count": 8,
   "metadata": {},
   "outputs": [],
   "source": [
    "@njit\n",
    "def recompute_hs(hs):\n",
    "    \n",
    "    h_new = np.zeros(npoints)\n",
    "    \n",
    "    for i in range(npoints):\n",
    "        norm = 0.0\n",
    "        for (j, dist) in zip(ids[i][1:], dists[i][1:]):\n",
    "            kern      = kernel(i, j, hs)\n",
    "            norm     += kern\n",
    "            h_new[i] += kern * dist**2\n",
    "        h_new[i] /= norm\n",
    "    \n",
    "    h_new = np.sqrt(h_new)\n",
    "    \n",
    "    print('max relative change =', max_relative_difference(hs, h_new))\n",
    "    \n",
    "    return h_new"
   ]
  },
  {
   "cell_type": "code",
   "execution_count": 9,
   "metadata": {},
   "outputs": [
    {
     "name": "stdout",
     "output_type": "stream",
     "text": [
      "max relative change = 0.4972771345255995\n",
      "max relative change = 0.3515361333280706\n",
      "max relative change = 0.2362170073674853\n",
      "max relative change = 0.08687912527764435\n",
      "max relative change = 0.03947509574882385\n",
      "max relative change = 0.01532598387924326\n",
      "max relative change = 0.007657718425655312\n",
      "max relative change = 0.0034623924333318165\n",
      "max relative change = 0.0017485089921771269\n",
      "max relative change = 0.0008563512560465091\n",
      "max relative change = 0.0004125994751000302\n",
      "max relative change = 0.00019748212115662858\n",
      "max relative change = 9.429238278185955e-05\n",
      "max relative change = 4.498508397008028e-05\n",
      "max relative change = 2.1454124756662654e-05\n",
      "max relative change = 1.0228983996471064e-05\n",
      "max relative change = 5.189811928522613e-06\n",
      "max relative change = 2.9512967468880262e-06\n",
      "max relative change = 1.849573895664547e-06\n",
      "max relative change = 1.159106254210473e-06\n"
     ]
    }
   ],
   "source": [
    "for i in range(20):\n",
    "    hs = recompute_hs(hs)"
   ]
  },
  {
   "cell_type": "markdown",
   "metadata": {},
   "source": [
    "Computing the gradient based on nearest neighbor information based on Meyer, Eriksson, and Maggio (2001).\n",
    "For a point at position $\\textbf{x}_{i}$, and nearest neighbors $\\textbf{x}_{j}$, we can observe that\n",
    "\\begin{equation}\n",
    "f_{j} - f_{i} \\ = \\ \\left(\\textbf{x}_{j} - \\textbf{x}_{i} \\right) \\cdot \\nabla f_{i}\n",
    "\\end{equation}\n",
    "\n",
    "\\begin{equation}\n",
    "\\Delta f \\ = \\ \\Delta \\textbf{x}^{\\text{T}} \\nabla f\n",
    "\\end{equation}\n",
    "\n",
    "\\begin{equation}\n",
    "\\nabla f \\ = \\\n",
    "\\left( \\Delta \\textbf{x}^{\\text{T}} \\Delta \\textbf{x} \\right)^{-1} \\ \\Delta \\textbf{x}^{\\text{T}} \\Delta f\n",
    "\\end{equation}"
   ]
  },
  {
   "cell_type": "code",
   "execution_count": 10,
   "metadata": {},
   "outputs": [],
   "source": [
    "def get_grad_hs(hs):\n",
    "\n",
    "    grad_hs = np.zeros((npoints, ndim))\n",
    "    \n",
    "    for i in range(npoints):\n",
    "        nbs = ids[i][1:]\n",
    "        dx  = xs[i] - xs[nbs]\n",
    "        dh  = hs[i] - hs[nbs]\n",
    "        grad_hs[i] = np.matmul(np.linalg.inv(np.matmul(dx.T, dx)), np.matmul(dx.T, dh))\n",
    "    \n",
    "    return grad_hs"
   ]
  },
  {
   "cell_type": "code",
   "execution_count": 11,
   "metadata": {},
   "outputs": [],
   "source": [
    "grad_hs = get_grad_hs(hs)"
   ]
  },
  {
   "cell_type": "code",
   "execution_count": 12,
   "metadata": {},
   "outputs": [
    {
     "data": {
      "image/png": "[encoded data removed]",
      "text/plain": [
       "<Figure size 432x288 with 1 Axes>"
      ]
     },
     "metadata": {
      "needs_background": "light"
     },
     "output_type": "display_data"
    }
   ],
   "source": [
    "plt.plot(xs[:,0], hs)\n",
    "plt.xscale('log')\n",
    "plt.yscale('log')"
   ]
  },
  {
   "cell_type": "code",
   "execution_count": 34,
   "metadata": {},
   "outputs": [
    {
     "data": {
      "image/png": "[encoded data removed]",
      "text/plain": [
       "<Figure size 432x288 with 1 Axes>"
      ]
     },
     "metadata": {
      "needs_background": "light"
     },
     "output_type": "display_data"
    }
   ],
   "source": [
    "plt.plot(xs[:,0], grad_hs)\n",
    "plt.xscale('log')\n",
    "# plt.yscale('log')"
   ]
  },
  {
   "cell_type": "code",
   "execution_count": 19,
   "metadata": {},
   "outputs": [],
   "source": [
    "def diff(x, y):\n",
    "    # Compute derivative\n",
    "    dy = np.diff(y)\n",
    "    dx = np.diff(x)\n",
    "    # Compute corresponding x\n",
    "    x = 0.5*(x[:-1] + x[1:])\n",
    "    # Return result\n",
    "    return (x, dy/dx)"
   ]
  },
  {
   "cell_type": "code",
   "execution_count": 20,
   "metadata": {},
   "outputs": [
    {
     "data": {
      "image/png": "[encoded data removed]",
      "text/plain": [
       "<Figure size 432x288 with 1 Axes>"
      ]
     },
     "metadata": {
      "needs_background": "light"
     },
     "output_type": "display_data"
    }
   ],
   "source": [
    "x, y = diff(xs[:,0], hs)\n",
    "\n",
    "plt.plot(x, y)\n",
    "plt.plot(xs[:,0], grad_hs)\n",
    "plt.xscale('log')\n",
    "# plt.yscale('log')"
   ]
  },
  {
   "cell_type": "code",
   "execution_count": 17,
   "metadata": {},
   "outputs": [
    {
     "data": {
      "text/plain": [
       "(array([  0,  14,  26,  34,  48,  63,  80,  89, 103, 120, 133, 145, 156,\n",
       "        164, 176, 188, 197, 210, 223, 237, 247, 260, 273, 287, 299, 311,\n",
       "        322, 332, 340, 353, 362, 372, 383, 396, 408, 421, 435, 448, 459,\n",
       "        469, 483, 494, 506, 520, 528, 543, 550, 562, 576, 583, 592],\n",
       "       dtype=int32),\n",
       " array([19, 47, 28, 11, 24, 25, 44, 41, 14, 42, 12, 13, 20,  7, 32, 43, 15,\n",
       "        11, 27, 17, 25, 24,  8,  9,  5, 46, 45, 16, 37, 36, 47, 29,  8, 34,\n",
       "        32, 35, 40, 17, 38, 13, 42, 20, 41, 18, 33, 21, 26,  5,  8, 29, 31,\n",
       "         9,  5, 47, 10, 39, 18, 14, 21, 22, 37, 34,  6,  3, 32, 35,  9, 18,\n",
       "        17,  1, 21, 27, 26, 38, 49, 31,  8,  4, 46,  6,  4, 22, 18,  5,  9,\n",
       "        35, 34, 23,  8, 17, 24, 25, 20, 38, 27, 48, 26, 39, 21, 13,  0, 46,\n",
       "        49, 36, 15, 11, 31, 30, 47, 29, 25, 49,  1,  9,  2,  5,  4, 46, 34,\n",
       "         6, 23, 32, 15,  1,  8, 22, 35,  5, 31,  4, 46, 34,  6, 14, 19, 33,\n",
       "        47, 37, 31, 30, 39, 42, 12, 18,  4, 24,  0, 25, 44, 28, 43, 36, 15,\n",
       "         8, 30,  1, 39, 19, 10, 42, 20,  0, 18, 13, 42, 20, 38, 48, 40, 41,\n",
       "        12,  0,  7, 24, 44,  3, 19, 33, 10, 47, 37, 41, 28,  0, 16, 18, 22,\n",
       "         4, 36, 43, 11, 23, 32,  8,  1,  9, 34, 41, 33, 28, 44, 14, 37, 35,\n",
       "        23, 36, 45,  2, 22, 34,  7, 24, 25, 20, 38, 27, 48, 40, 32, 26,  1,\n",
       "         3,  5, 14, 33, 10, 42, 35, 12, 39, 20, 21,  3, 22,  5,  4,  6, 47,\n",
       "         0, 28, 14, 33, 10, 41, 42, 12, 39, 17,  7, 38, 48, 12, 42, 39, 26,\n",
       "        21, 18, 13,  0,  3, 39, 31, 30, 26, 20,  7, 49, 18,  3,  5, 27,  4,\n",
       "        46, 23, 32, 35,  9, 16, 44, 33, 18, 14, 37,  4, 29, 34,  6, 36, 43,\n",
       "        44, 15, 16, 28, 32, 35,  9, 22, 34,  6, 11,  0, 25, 44, 17,  7, 43,\n",
       "        48, 40, 32, 13,  1, 11, 24,  0, 17,  7, 27,  8, 30,  1, 46, 49, 20,\n",
       "        17, 38,  7, 27, 39, 21,  3,  5, 46, 17,  7, 25, 26,  1,  5, 21, 46,\n",
       "        19, 47,  0, 44, 11, 41, 14, 37, 33, 16, 36, 23, 45,  8, 31, 47,  2,\n",
       "        37, 36,  4, 22, 34, 31, 47, 10, 39, 21,  8, 11, 25, 49, 46, 30, 47,\n",
       "        10, 39, 21,  8, 29, 49,  5,  9,  4, 40, 17, 24, 44, 43, 35, 23, 15,\n",
       "         1,  3,  9, 22,  5, 14, 19, 10, 41, 28, 16, 44, 42, 35, 18,  3, 22,\n",
       "        23, 36, 15,  9, 16, 22,  4, 29,  8,  2, 37, 45,  6, 41, 44, 33, 40,\n",
       "        16, 32, 23, 18, 42,  3, 22,  9,  5,  6, 44, 11, 28, 43, 15, 23, 16,\n",
       "        45,  8,  2, 47, 29, 34, 14, 47, 10, 28, 16, 45,  2, 29, 22,  4, 34,\n",
       "        20, 17,  7, 48, 40, 26, 13, 42,  3,  5, 31, 30, 10, 21, 12, 19, 42,\n",
       "        20, 26,  7, 49, 18,  4, 46, 35, 41, 44, 48, 17, 38, 24, 32, 13, 42,\n",
       "         3, 44,  0, 28, 14, 19, 33, 16, 42, 35, 40, 13,  3, 41, 19, 33, 10,\n",
       "         0, 12, 39, 20, 18, 35, 13, 38, 40,  3, 44, 11, 24, 36, 15, 32, 23,\n",
       "         1, 11,  0, 28, 24, 41, 16, 33, 43, 36, 35, 40, 32, 23, 13, 22, 16,\n",
       "        37, 28, 36, 47,  2, 34,  9,  1,  8, 25,  5, 49, 30, 27,  7, 21, 26,\n",
       "        39, 19,  0, 28, 14, 10, 37, 31, 30, 45,  8, 29,  2, 36,  4, 20,  7,\n",
       "        38, 17, 40, 24, 13, 31, 21, 30,  8, 39,  5, 46, 25,  7],\n",
       "       dtype=int32))"
      ]
     },
     "execution_count": 17,
     "metadata": {},
     "output_type": "execute_result"
    }
   ],
   "source": [
    "delaunay.vertex_neighbor_vertices"
   ]
  },
  {
   "cell_type": "code",
   "execution_count": null,
   "metadata": {},
   "outputs": [],
   "source": []
  }
 ],
 "metadata": {
  "kernelspec": {
   "display_name": "Python 3",
   "language": "python",
   "name": "python3"
  },
  "language_info": {
   "codemirror_mode": {
    "name": "ipython",
    "version": 3
   },
   "file_extension": ".py",
   "mimetype": "text/x-python",
   "name": "python",
   "nbconvert_exporter": "python",
   "pygments_lexer": "ipython3",
   "version": "3.6.12"
  }
 },
 "nbformat": 4,
 "nbformat_minor": 4
}

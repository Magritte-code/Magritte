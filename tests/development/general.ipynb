{
 "cells": [
  {
   "cell_type": "code",
   "execution_count": 1,
   "metadata": {},
   "outputs": [],
   "source": [
    "import numpy             as np\n",
    "import matplotlib.pyplot as plt\n",
    "import itertools\n",
    "\n",
    "from scipy.spatial import cKDTree\n",
    "from scipy         import sparse\n",
    "from scipy.sparse  import linalg as sparse_linalg\n",
    "from numba         import njit"
   ]
  },
  {
   "cell_type": "markdown",
   "metadata": {
    "heading_collapsed": "true"
   },
   "source": [
    "# Setup"
   ]
  },
  {
   "cell_type": "code",
   "execution_count": 2,
   "metadata": {},
   "outputs": [],
   "source": [
    "dimension = 1\n",
    "npoints   = 50\n",
    "nfreqs    = 1\n",
    "nrays     = 1\n",
    "nboundary = 1\n",
    "\n",
    "boundary2point = np.array([0])\n",
    "point2boundary = np.array([npoints for _ in range(npoints)])\n",
    "point2boundary[0] = 0\n",
    "\n",
    "rs     = np.array([i for i in range(npoints)])\n",
    "# rs     = np.logspace(np.log10(10e-5), np.log10(1e+1), npoints, endpoint=True)\n",
    "\n",
    "xs_blk = np.array([[r,0,0] for r in rs])\n",
    "xs_bdy = xs_blk[boundary2point]\n",
    "xs     = xs_blk[:,:dimension]\n",
    "\n",
    "eta                = np.array([[0.0] for _ in range(npoints  )])\n",
    "chi                = np.array([[1.0] for _ in range(npoints  )])\n",
    "operator_condition = eta / chi\n",
    "boundary_condition = np.array([[10.] for _ in range(nboundary)])\n",
    "boundary_normal    = np.array([[-1.0, 0.0, 0.0]])"
   ]
  },
  {
   "cell_type": "markdown",
   "metadata": {
    "heading_collapsed": "true"
   },
   "source": [
    "# Setup"
   ]
  },
  {
   "cell_type": "code",
   "execution_count": 3,
   "metadata": {},
   "outputs": [],
   "source": [
    "import sys\n",
    "sys.path.append('/home/frederik/Dropbox/GitHub/Magritte/tests/benchmarks/analytic/')\n",
    "from density_distribution_single_ray import create_model"
   ]
  },
  {
   "cell_type": "code",
   "execution_count": 4,
   "metadata": {},
   "outputs": [
    {
     "data": {
      "text/plain": [
       "0"
      ]
     },
     "execution_count": 4,
     "metadata": {},
     "output_type": "execute_result"
    }
   ],
   "source": [
    "model = create_model('a')\n",
    "\n",
    "model.compute_spectral_discretisation()\n",
    "model.compute_inverse_line_widths    ()\n",
    "model.compute_LTE_level_populations  ()\n",
    "\n",
    "model.set_eta_and_chi       ()\n",
    "model.set_boundary_condition()"
   ]
  },
  {
   "cell_type": "code",
   "execution_count": 5,
   "metadata": {},
   "outputs": [],
   "source": [
    "dimension = model.parameters.dimension()\n",
    "npoints   = model.parameters.npoints  ()\n",
    "nfreqs    = model.parameters.nfreqs   ()\n",
    "nrays     = model.parameters.nrays    ()\n",
    "nboundary = model.parameters.nboundary()\n",
    "\n",
    "boundary2point = np.array(model.geometry.boundary.boundary2point)\n",
    "point2boundary = np.array(model.geometry.boundary.point2boundary)\n",
    "\n",
    "xs_blk = np.array(model.geometry.points.position)\n",
    "xs_bdy = xs_blk[boundary2point]\n",
    "xs     = xs_blk[:,:dimension]\n",
    "rs     = np.linalg.norm(xs, axis=1)\n",
    "\n",
    "eta                = np.array(model.eta,                dtype=np.float64)\n",
    "chi                = np.array(model.chi,                dtype=np.float64)\n",
    "boundary_condition = np.array(model.boundary_condition, dtype=np.float64)\n",
    "operator_condition = eta / chi\n",
    "# boundary_normal    = np.array([[-1.0, 0.0, 0.0]])"
   ]
  },
  {
   "cell_type": "markdown",
   "metadata": {},
   "source": [
    "# Work"
   ]
  },
  {
   "cell_type": "code",
   "execution_count": 6,
   "metadata": {},
   "outputs": [],
   "source": [
    "ncp = npoints #64\n",
    "\n",
    "dis_blk, red_blk = cKDTree(xs_blk).query(xs_blk, ncp)\n",
    "dis_bdy, red_bdy = cKDTree(xs_bdy).query(xs_bdy, ncp)\n",
    "\n",
    "dis_bdy = dis_bdy[:,:nboundary]\n",
    "red_bdy = red_bdy[:,:nboundary]\n",
    "\n",
    "dis_blk = dis_blk[:,:npoints]\n",
    "red_blk = red_blk[:,:npoints]"
   ]
  },
  {
   "cell_type": "code",
   "execution_count": 7,
   "metadata": {},
   "outputs": [
    {
     "data": {
      "text/plain": [
       "<matplotlib.image.AxesImage at 0x7efd981730b8>"
      ]
     },
     "execution_count": 7,
     "metadata": {},
     "output_type": "execute_result"
    },
    {
     "data": {
      "image/png": "[encoded data removed]",
      "text/plain": [
       "<Figure size 432x288 with 1 Axes>"
      ]
     },
     "metadata": {
      "needs_background": "light"
     },
     "output_type": "display_data"
    }
   ],
   "source": [
    "mat = np.zeros((npoints, npoints))\n",
    "for i, ids in enumerate(red_blk):\n",
    "    for j in ids:\n",
    "        mat[i,j] = 1.0\n",
    "plt.imshow(mat)"
   ]
  },
  {
   "cell_type": "code",
   "execution_count": 8,
   "metadata": {},
   "outputs": [
    {
     "data": {
      "text/plain": [
       "array([[  0,   1,   2, ..., 197, 198, 199],\n",
       "       [  1,   0,   2, ..., 197, 198, 199],\n",
       "       [  2,   1,   3, ..., 197, 198, 199],\n",
       "       ...,\n",
       "       [197, 196, 198, ...,   2,   1,   0],\n",
       "       [198, 197, 199, ...,   2,   1,   0],\n",
       "       [199, 198, 197, ...,   2,   1,   0]])"
      ]
     },
     "execution_count": 8,
     "metadata": {},
     "output_type": "execute_result"
    }
   ],
   "source": [
    "red_blk"
   ]
  },
  {
   "cell_type": "code",
   "execution_count": 9,
   "metadata": {},
   "outputs": [],
   "source": [
    "@njit\n",
    "def get_neighbors(i):\n",
    "    if   (i == 0):\n",
    "        return [1]\n",
    "    elif (i == npoints-1):\n",
    "        return [npoints-2]\n",
    "    else:\n",
    "        return [i-1, i+1]"
   ]
  },
  {
   "cell_type": "code",
   "execution_count": 10,
   "metadata": {},
   "outputs": [],
   "source": [
    "def get_hs_stats():\n",
    "    \"\"\"\n",
    "    Returns for each point the distance to its farthest neighbour,\n",
    "    and the average distance to all its neighbours.\n",
    "    \"\"\"\n",
    "    # Initialize a new array\n",
    "    hs_min  = np.zeros(npoints)\n",
    "    hs_mean = np.zeros(npoints)\n",
    "    # Loop over all points\n",
    "    for i in range(npoints):\n",
    "        # Get distances to neighbours.\n",
    "        dist = np.linalg.norm(xs[i] - xs[get_neighbors(i)], axis=1)\n",
    "        hs_min [i] = np.max (dist)\n",
    "        hs_mean[i] = np.mean(dist)\n",
    "    return hs_min, hs_mean"
   ]
  },
  {
   "cell_type": "code",
   "execution_count": 11,
   "metadata": {},
   "outputs": [],
   "source": [
    "hs_min, hs_mean = get_hs_stats()"
   ]
  },
  {
   "cell_type": "markdown",
   "metadata": {},
   "source": [
    "Computing the gradient based on nearest neighbor information based on Meyer, Eriksson, and Maggio (2001).\n",
    "For a point at position $\\textbf{x}_{i}$, and nearest neighbors $\\textbf{x}_{j}$, we can observe that\n",
    "\\begin{equation}\n",
    "f_{j} - f_{i} \\ = \\ \\left(\\textbf{x}_{j} - \\textbf{x}_{i} \\right) \\cdot \\nabla f_{i}\n",
    "\\end{equation}\n",
    "\n",
    "\\begin{equation}\n",
    "\\Delta f \\ = \\ \\Delta \\textbf{x} \\cdot \\nabla f\n",
    "\\end{equation}\n",
    "\n",
    "\\begin{equation}\n",
    "\\nabla f \\ = \\\n",
    "\\left( \\Delta \\textbf{x} ^{\\text{T}} \\Delta \\textbf{x} \\right)^{-1} \\ \\Delta \\textbf{x}^{\\text{T}} \\Delta f\n",
    "\\end{equation}"
   ]
  },
  {
   "cell_type": "code",
   "execution_count": 12,
   "metadata": {},
   "outputs": [],
   "source": [
    "def get_grad(ys, xs):\n",
    "    # Initialize a new array\n",
    "    grad_ys = np.zeros(xs.shape)\n",
    "    # In 1D use basic finite difference.    \n",
    "    if (xs.shape[1] == 1):\n",
    "        # Unpack xs\n",
    "        xs = xs[:,0]\n",
    "        # Finite difference\n",
    "        dy = np.diff(ys)\n",
    "        dx = np.diff(xs)\n",
    "        # Go to second order.\n",
    "        dy1 = np.concatenate((dy,      [dy[-1]]))\n",
    "        dy2 = np.concatenate(([dy[0]], dy      ))\n",
    "        dx1 = np.concatenate((dx,      [dx[-1]]))\n",
    "        dx2 = np.concatenate(([dx[0]], dx      ))\n",
    "        # Compose gradient.\n",
    "        grad_ys = (dy1 + dy2) / (dx1 + dx2)\n",
    "    # In 2D & 3D use Meyer, Eriksson, and Maggio (2001).\n",
    "    else:\n",
    "        # Loop over all points.\n",
    "        for i in range(npoints):\n",
    "            nb = get_neighbors(i)\n",
    "            dx = xs[i] - xs[nb]\n",
    "            dy = ys[i] - ys[nb]\n",
    "            grad_ys[i] = np.matmul(np.linalg.inv(np.matmul(dx.T, dx)), np.matmul(dx.T, dy))        \n",
    "    # return grad\n",
    "    return grad_ys"
   ]
  },
  {
   "cell_type": "code",
   "execution_count": 13,
   "metadata": {},
   "outputs": [],
   "source": [
    "# Define the (tabulated) scale function\n",
    "# hs = 0.5*hs_min\n",
    "hs = 25*hs_min\n",
    "\n",
    "# Get the gradient of the log of the (tabulated) scale function \n",
    "dlog_hs = get_grad(np.log10(hs), xs)"
   ]
  },
  {
   "cell_type": "code",
   "execution_count": 14,
   "metadata": {},
   "outputs": [
    {
     "data": {
      "image/png": "[encoded data removed]",
      "text/plain": [
       "<Figure size 660x440 with 1 Axes>"
      ]
     },
     "metadata": {
      "needs_background": "light"
     },
     "output_type": "display_data"
    }
   ],
   "source": [
    "plt.figure(dpi=110)\n",
    "plt.title(r'$h$')\n",
    "plt.plot(np.linalg.norm(xs_blk, axis=1), hs)\n",
    "plt.xscale('log')\n",
    "plt.yscale('log')"
   ]
  },
  {
   "cell_type": "code",
   "execution_count": 15,
   "metadata": {},
   "outputs": [
    {
     "data": {
      "image/png": "[encoded data removed]",
      "text/plain": [
       "<Figure size 660x440 with 1 Axes>"
      ]
     },
     "metadata": {
      "needs_background": "light"
     },
     "output_type": "display_data"
    }
   ],
   "source": [
    "plt.figure(dpi=110)\n",
    "plt.title(r'$\\nabla \\log (h)$')\n",
    "plt.plot(np.linalg.norm(xs_blk, axis=1), dlog_hs)\n",
    "plt.xscale('log')\n",
    "# plt.yscale('log')"
   ]
  },
  {
   "cell_type": "code",
   "execution_count": 16,
   "metadata": {},
   "outputs": [
    {
     "data": {
      "text/plain": [
       "-1"
      ]
     },
     "execution_count": 16,
     "metadata": {},
     "output_type": "execute_result"
    }
   ],
   "source": [
    "np.sign(-56)"
   ]
  },
  {
   "cell_type": "code",
   "execution_count": 17,
   "metadata": {},
   "outputs": [],
   "source": [
    "def RBF_Lucy(r):\n",
    "    \"\"\"\n",
    "    Lucy's smoothing kernel (Lucy 1977).\n",
    "    \"\"\"\n",
    "    # Ensure to take the absolute value\n",
    "    rr = np.abs(r)\n",
    "    # Compute Lucy's kernel\n",
    "    if (rr < 1.0):\n",
    "        return (1.0 + 3.0*rr) * (1 - rr)**3\n",
    "    else:\n",
    "        return 0.0\n",
    "    \n",
    "@njit\n",
    "def grad_RBF_Lucy(r):\n",
    "    # Ensure to take the absolute value\n",
    "    rr = np.abs(r)\n",
    "    # Compute the gradient of Lucy's kernel\n",
    "    if (rr < 1.0):\n",
    "        return -12.0 * (rr - 1.0)**2 * rr * np.sign(r)\n",
    "    else:\n",
    "        return 0.0\n",
    "\n",
    "@njit\n",
    "def grad2_RBF_Lucy(r):\n",
    "    # Ensure to take the absolute value\n",
    "    rr = np.abs(r)\n",
    "    # Compute the gradient^2 of Lucy's kernel\n",
    "    if (rr < 1.0):\n",
    "        return -12.0 * (rr - 1.0) * (3.0 * rr - 1.0)\n",
    "    else:\n",
    "        return 0.0"
   ]
  },
  {
   "cell_type": "code",
   "execution_count": 18,
   "metadata": {},
   "outputs": [],
   "source": [
    "@njit\n",
    "def RBF_hexp(r):\n",
    "    \"\"\"\n",
    "    Minus half exponential kernel.\n",
    "    \"\"\"\n",
    "    # Ensure to take the absolute value\n",
    "    rr = np.abs(r)\n",
    "    # Compute hexp kernel\n",
    "    return np.exp(-0.5*rr)\n",
    "\n",
    "@njit\n",
    "def grad_RBF_hexp(r):\n",
    "    return -0.50 * RBF_hexp(r)\n",
    "\n",
    "@njit\n",
    "def grad2_RBF_hexp(r):\n",
    "    return +0.25 * RBF_hexp(r)"
   ]
  },
  {
   "cell_type": "markdown",
   "metadata": {},
   "source": [
    "Consider a kernel, $k$, of the form\n",
    "\\begin{equation}\n",
    "k(x,y) \\ = \\ K \\left( \\frac{\\|x - y\\|^2}{h(x) \\, h(y)} \\right).\n",
    "\\end{equation}\n",
    "Then one can compute\n",
    "\n",
    "\\begin{equation}\n",
    "\\partial_{x}k(x,y) \\ = \\ \\frac{1}{h(x) \\, h(y)} \\Big(+2\\left(x-y\\right) \\ - \\ \\left(x-y\\right)^{2} \\ \\partial_{x} \\log h(x)\\Big) K' \\left( \\frac{\\|x - y\\|^2}{h(x) \\, h(y)} \\right)\n",
    "\\end{equation}\n",
    "\n",
    "\\begin{equation}\n",
    "\\partial_{y}k(x,y) \\ = \\ \\frac{1}{h(x) \\, h(y)} \\Big(-2\\left(x-y\\right) \\ - \\ \\left(x-y\\right)^{2} \\ \\partial_{y} \\log h(y)\\Big) K' \\left( \\frac{\\|x - y\\|^2}{h(x) \\, h(y)} \\right)\n",
    "\\end{equation}\n",
    "\n",
    "\\begin{equation}\n",
    "\\begin{split}\n",
    "\\partial_{x}\\partial_{y}k(x,y) \\ = \\\n",
    "\\frac{1}{h(x)^{2} h(y)^{2}}\n",
    "&\\Big(+2\\left(x-y\\right) \\ - \\ \\left(x-y\\right)^{2} \\ \\partial_{x} \\log h(x)\\Big) \\\\\n",
    "&\\Big(-2\\left(x-y\\right) \\ - \\ \\left(x-y\\right)^{2} \\ \\partial_{y} \\log h(y)\\Big) \\ K'' \\left( \\frac{\\|x - y\\|^2}{h(x) \\, h(y)} \\right) \\\\\n",
    "& \\hskip-23mm + \\frac{1}{h(x) \\, h(y)}\n",
    "\\Big(-2 \\ + \\ 2 \\left(x-y\\right)     \\ \\partial_{x} \\log h(x)\n",
    "        \\ - \\ 2 \\left(x-y\\right)     \\ \\partial_{y} \\log h(y)\n",
    "        \\ + \\   \\left(x-y\\right)^{2} \\ \\partial_{x} \\log h(x) \\ \\partial_{y} \\log h(y) \\Big) K' \\left( \\frac{\\|x - y\\|^2}{h(x) \\, h(y)} \\right)\n",
    "\\end{split}\n",
    "\\end{equation}"
   ]
  },
  {
   "cell_type": "code",
   "execution_count": 19,
   "metadata": {},
   "outputs": [],
   "source": [
    "# Define kernel\n",
    "KK       = RBF_hexp\n",
    "grad_KK  = grad_RBF_hexp\n",
    "grad2_KK = grad2_RBF_hexp"
   ]
  },
  {
   "cell_type": "code",
   "execution_count": 20,
   "metadata": {},
   "outputs": [],
   "source": [
    "# Define kernel\n",
    "KK       = RBF_Lucy\n",
    "grad_KK  = grad_RBF_Lucy\n",
    "grad2_KK = grad2_RBF_Lucy"
   ]
  },
  {
   "cell_type": "code",
   "execution_count": 21,
   "metadata": {},
   "outputs": [],
   "source": [
    "# @njit\n",
    "def kernel(i1, i2):\n",
    "    \"\"\"\n",
    "    k(x1,x2) = K(|x1-x2|^2 / h(x1)h(x2))\n",
    "    \"\"\"\n",
    "    d = xs[i1] - xs[i2]\n",
    "    r = np.dot(d,d) / (hs[i1] * hs[i2])\n",
    "    return KK(r)\n",
    "\n",
    "# @njit\n",
    "def d1_kernel(i1, i2):\n",
    "    \"\"\"\n",
    "    ∂k(x1,x2)/∂x1\n",
    "    \"\"\"\n",
    "    d = xs[i1] - xs[i2]\n",
    "    a = 1.0 / (hs[i1] * hs[i2])\n",
    "    r = np.dot(d,d) * a\n",
    "    return (+2.0*d*a - r*dlog_hs[i1]) * grad_KK(r)\n",
    "\n",
    "# @njit\n",
    "def d2_kernel(i1, i2):\n",
    "    \"\"\"\n",
    "    ∂k(x1,x2)/∂x2\n",
    "    \"\"\"\n",
    "    d = xs[i1] - xs[i2]\n",
    "    a = 1.0 / (hs[i1] * hs[i2])\n",
    "    r = np.dot(d,d) * a\n",
    "    return (-2.0*d*a - r*dlog_hs[i2]) * grad_KK(r)\n",
    "\n",
    "# @njit\n",
    "def d1d2_kernel(i1, i2):\n",
    "    \"\"\"\n",
    "    ∂∂k(x1,x2)/∂x1∂x2\n",
    "    \"\"\"\n",
    "    d = xs[i1] - xs[i2]\n",
    "    a = 1.0 / (hs[i1] * hs[i2])\n",
    "    r = np.dot(d,d) * a\n",
    "    term1 = - 2.0 * a * (1.0 + d*(dlog_hs[i2] - dlog_hs[i1])) \\\n",
    "            + r * dlog_hs[i1] * dlog_hs[i2] \n",
    "    term2 =  (+2.0*d*a - r*dlog_hs[i1]) \\\n",
    "            *(-2.0*d*a - r*dlog_hs[i2])\n",
    "    return term1*grad_KK(r) + term2*grad2_KK(r)"
   ]
  },
  {
   "cell_type": "code",
   "execution_count": 22,
   "metadata": {},
   "outputs": [
    {
     "data": {
      "text/plain": [
       "[<matplotlib.lines.Line2D at 0x7efd734e64a8>]"
      ]
     },
     "execution_count": 22,
     "metadata": {},
     "output_type": "execute_result"
    },
    {
     "data": {
      "image/png": "[encoded data removed]",
      "text/plain": [
       "<Figure size 900x600 with 1 Axes>"
      ]
     },
     "metadata": {
      "needs_background": "light"
     },
     "output_type": "display_data"
    }
   ],
   "source": [
    "plt.figure(dpi=150)\n",
    "\n",
    "ks      = [     kernel(npoints//2, i) for i in range(npoints)]\n",
    "d1_ks   = [  d1_kernel(npoints//2, i) for i in range(npoints)]\n",
    "d2_ks   = [  d2_kernel(npoints//2, i) for i in range(npoints)]\n",
    "d1d2_ks = [d1d2_kernel(npoints//2, i) for i in range(npoints)]\n",
    "\n",
    "plt.plot(xs,      ks)\n",
    "plt.plot(xs,   d1_ks)\n",
    "plt.plot(xs,   d2_ks)\n",
    "plt.plot(xs, d1d2_ks)\n",
    "\n",
    "ks      = [     kernel(40, i) for i in range(npoints)]\n",
    "d1_ks   = [  d1_kernel(40, i) for i in range(npoints)]\n",
    "d2_ks   = [  d2_kernel(40, i) for i in range(npoints)]\n",
    "d1d2_ks = [d1d2_kernel(40, i) for i in range(npoints)]\n",
    "\n",
    "plt.plot(xs,      ks)\n",
    "plt.plot(xs,   d1_ks)\n",
    "plt.plot(xs,   d2_ks)\n",
    "plt.plot(xs, d1d2_ks)\n",
    "\n",
    "# plt.xscale('log')\n",
    "# plt.yscale('log')"
   ]
  },
  {
   "cell_type": "code",
   "execution_count": 23,
   "metadata": {},
   "outputs": [],
   "source": [
    "# Specify dimensions of (sub-spaces of) the domain\n",
    "xdim_blk = [npoints,   nfreqs, nrays]\n",
    "xdim_bdy = [nboundary, nfreqs, nrays]\n",
    "# Specify dimensions of (sub-spaces of) the codomain\n",
    "ydim_blk = [1]\n",
    "ydim_bdy = [1]\n",
    "# Get total dims\n",
    "dims_blk = xdim_blk + ydim_blk\n",
    "dims_bdy = xdim_bdy + ydim_bdy\n",
    "# Initialize indices and reductions\n",
    "inds_blk = [np.arange(dim) for dim in dims_blk]\n",
    "inds_bdy = [np.arange(dim) for dim in dims_bdy]\n",
    "# (Optionally) specify reductions of sub-spaces\n",
    "# Set default for reductions\n",
    "REDS_blk = [np.arange(dim) for dim in dims_blk]\n",
    "def reds_blk(ii):\n",
    "    REDS_blk[0] = red_blk[ii[0]]\n",
    "    return REDS_blk\n",
    "REDS_bdy = [np.arange(dim) for dim in dims_bdy]\n",
    "def reds_bdy(ii):\n",
    "    REDS_bdy[0] = red_bdy[ii[0]]\n",
    "    return REDS_bdy\n",
    "# Get dimensions of linearised spaces\n",
    "dim_blk = np.prod(dims_blk)\n",
    "dim_bdy = np.prod(dims_bdy)\n",
    "dim_tot = dim_blk + dim_bdy\n",
    "# Get indices of linearised spaces\n",
    "linds_blk = np.arange(dim_blk).reshape(dims_blk)\n",
    "linds_bdy = np.arange(dim_bdy).reshape(dims_bdy)\n",
    "\n",
    "def bdy_2_blk(ii):\n",
    "    ii = list(ii)\n",
    "    ii[0] = boundary2point[ii[0]]\n",
    "    return tuple(ii)"
   ]
  },
  {
   "cell_type": "code",
   "execution_count": 24,
   "metadata": {},
   "outputs": [],
   "source": [
    "def get_datsize_S22():\n",
    "\n",
    "    # Set index\n",
    "    index = 0\n",
    "\n",
    "    for ii1_bdy in itertools.product(*inds_bdy):\n",
    "        ii1_blk = bdy_2_blk(ii1_bdy)\n",
    "        ii1     = linds_bdy[ii1_bdy]\n",
    "        for ii2_bdy in itertools.product(*reds_bdy(ii1_bdy)):    \n",
    "            ii2_blk = bdy_2_blk(ii2_bdy)\n",
    "            ii2     = linds_bdy[ii2_bdy]\n",
    "            if (ii1 <= ii2):\n",
    "                index += 1\n",
    "                if (ii1 < ii2):\n",
    "                    index += 1\n",
    "\n",
    "    for ii1_bdy in itertools.product(*inds_bdy):\n",
    "        ii1_blk = bdy_2_blk(ii1_bdy)\n",
    "        for ii2_blk in itertools.product(*reds_blk(ii1_blk)): \n",
    "            index += 2\n",
    "            \n",
    "    for ii1_blk in itertools.product(*inds_blk):\n",
    "        ii1 = linds_blk[ii1_blk] + dim_bdy\n",
    "        for ii2_blk in itertools.product(*reds_blk(ii1_blk)):\n",
    "            ii2 = linds_blk[ii2_blk] + dim_bdy\n",
    "            if (ii1 <= ii2):\n",
    "                index += 1\n",
    "                if (ii1 < ii2):\n",
    "                    index += 1\n",
    "                    \n",
    "    return index+1\n",
    "\n",
    "\n",
    "def get_datsize_S12():\n",
    "\n",
    "    # Set index\n",
    "    index = 0\n",
    "    \n",
    "    for ii1_bdy in itertools.product(*inds_bdy):\n",
    "        ii1_blk = bdy_2_blk(ii1_bdy)\n",
    "        ii1     = linds_bdy[ii1_bdy]\n",
    "        for ii2_blk in itertools.product(*reds_blk(ii1_blk)):\n",
    "            ii2 = linds_blk[ii2_blk]\n",
    "            index += 1\n",
    "\n",
    "    for ii1_blk in itertools.product(*inds_blk):\n",
    "        ii1 = linds_blk[ii1_blk]\n",
    "        for ii2_blk in itertools.product(*reds_blk(ii1_blk)):\n",
    "            ii2 = linds_blk[ii2_blk] + dim_bdy\n",
    "            index += 1\n",
    "                    \n",
    "    return index+1"
   ]
  },
  {
   "cell_type": "code",
   "execution_count": 25,
   "metadata": {},
   "outputs": [
    {
     "name": "stdout",
     "output_type": "stream",
     "text": [
      "S12 size: 161601\n",
      "S22 size: 163217\n"
     ]
    }
   ],
   "source": [
    "datsize_S22 = get_datsize_S22()\n",
    "datsize_S12 = get_datsize_S12()\n",
    "\n",
    "print('S12 size:', datsize_S12)\n",
    "print('S22 size:', datsize_S22)"
   ]
  },
  {
   "cell_type": "code",
   "execution_count": 26,
   "metadata": {},
   "outputs": [],
   "source": [
    "# @njit\n",
    "def k (ii1, ii2):\n",
    "    # Unpack indices\n",
    "    p1, p2 = ii1[0], ii2[0]\n",
    "    f1, f2 = ii1[1], ii2[1]\n",
    "    r1, r2 = ii1[2], ii2[2]\n",
    "    z1, z2 = ii1[3], ii2[3]\n",
    "    # Apply operator\n",
    "    return kernel(p1, p2)\n",
    "\n",
    "# @njit\n",
    "def B2_k(ii1, ii2):\n",
    "    \"\"\"\n",
    "    B2 k(x1,x2) = k(x1,x2)\n",
    "    \"\"\"\n",
    "    return k(ii1, ii2)\n",
    "\n",
    "# @njit\n",
    "def L2_k(ii1, ii2):\n",
    "    \"\"\"\n",
    "    L2 k(x1,x2) = (1 + ∇2/χ2) k(x1,x2)\n",
    "    \"\"\"\n",
    "    # Unpack indices\n",
    "    p1, p2 = ii1[0], ii2[0]\n",
    "    f1, f2 = ii1[1], ii2[1]\n",
    "    r1, r2 = ii1[2], ii2[2]\n",
    "    z1, z2 = ii1[3], ii2[3]\n",
    "    # Apply operator\n",
    "    return kernel(p1,p2) + d2_kernel(p1,p2) / chi[p2,f2]\n",
    "\n",
    "# @njit\n",
    "def B1B2_k(ii1, ii2):\n",
    "    \"\"\"\n",
    "    B1 B2 k(x1,x2) = k(x1,x2)\n",
    "    \"\"\"\n",
    "    return k(ii1, ii2)\n",
    "\n",
    "# @njit\n",
    "def B1L2_k(ii1, ii2):\n",
    "    \"\"\"\n",
    "    B1L2 k(x1,x2) = L2 k(x1,x2)\n",
    "    \"\"\"\n",
    "    return L2_k(ii1,ii2)\n",
    "\n",
    "# @njit\n",
    "def L1L2_k(ii1, ii2):\n",
    "    \"\"\"\n",
    "    L1 L2 k(x1,x2) = (1 + ∇1/χ1) (1 + ∇2/χ2) k(x1,x2)\n",
    "    \"\"\"\n",
    "    # Unpack indices\n",
    "    p1, p2 = ii1[0], ii2[0]\n",
    "    f1, f2 = ii1[1], ii2[1]\n",
    "    r1, r2 = ii1[2], ii2[2]\n",
    "    z1, z2 = ii1[3], ii2[3]\n",
    "    # Apply operator\n",
    "    return         kernel(p1,p2)              \\\n",
    "            +   d2_kernel(p1,p2) / chi[p2,f2] \\\n",
    "            +   d1_kernel(p1,p2) / chi[p1,f1] \\\n",
    "            + d1d2_kernel(p1,p2) / chi[p1,f1] / chi[p2,f2]\n",
    "\n",
    "# @njit\n",
    "def get_boundary_condition(ii1):\n",
    "    # Unpack indices\n",
    "    p1 = ii1[0]\n",
    "    f1 = ii1[1]\n",
    "    r1 = ii1[2]\n",
    "    z1 = ii1[3]\n",
    "    return boundary_condition[p1,f1]\n",
    "\n",
    "# @njit\n",
    "def get_operator_condition(ii1):\n",
    "    # Unpack indices\n",
    "    p1 = ii1[0]\n",
    "    f1 = ii1[1]\n",
    "    r1 = ii1[2]\n",
    "    z1 = ii1[3]\n",
    "    return operator_condition[p1,f1]"
   ]
  },
  {
   "cell_type": "code",
   "execution_count": 27,
   "metadata": {},
   "outputs": [],
   "source": [
    "# # @njit\n",
    "# def B1_k(ii1, ii2):\n",
    "#     \"\"\"\n",
    "#     B1 k(x1,x2) = (1 + ∇1/χ1) k(x1,x2)\n",
    "#     \"\"\"\n",
    "#     # Unpack indices\n",
    "#     p1, p2 = ii1[0], ii2[0]\n",
    "#     f1, f2 = ii1[1], ii2[1]\n",
    "#     r1, r2 = ii1[2], ii2[2]\n",
    "#     z1, z2 = ii1[3], ii2[3]\n",
    "#     # Apply operator\n",
    "#     if (np.dot(boundary_normal[point2boundary[p1]], Rs[r1]) < 0.0):\n",
    "#         if (z2 == 0):\n",
    "#             return +kernel(p1,p2)\n",
    "#         else:\n",
    "#             return +kernel(p1,p2)\n",
    "#     else:\n",
    "#         if (z2 == 0):\n",
    "#             return +kernel(p1,p2)\n",
    "#         else:\n",
    "#             return -kernel(p1,p2)\n",
    "        \n",
    "# # @njit\n",
    "# def L1_k(ii1, ii2):\n",
    "#     \"\"\"\n",
    "#     L1 k(x1,x2) = (1 + ∇1/χ1) k(x1,x2)\n",
    "#     \"\"\"\n",
    "#     # Unpack indices\n",
    "#     p1, p2 = ii1[0], ii2[0]\n",
    "#     f1, f2 = ii1[1], ii2[1]\n",
    "#     r1, r2 = ii1[2], ii2[2]\n",
    "#     z1, z2 = ii1[3], ii2[3]\n",
    "#     # Apply operator\n",
    "#     if (z1 == 0):\n",
    "#         if (z2 == 0):\n",
    "#             return d1_kernel(p1,p2)\n",
    "#         else:\n",
    "#             return kernel(p1,p2)\n",
    "#     else:\n",
    "#         if (z2 == 0):\n",
    "#             return kernel(p1,p2)\n",
    "#         else:\n",
    "#             return d1_kernel(p1,p2)\n",
    "\n",
    "\n",
    "# # @njit\n",
    "# def B1B2_k(ii1, ii2):\n",
    "#     \"\"\"\n",
    "#     B1 B2 k(x1,x2) = (1 + ∇1/χ1) k(x1,x2)\n",
    "#     \"\"\"\n",
    "#     # Unpack indices\n",
    "#     p1, p2 = ii1[0], ii2[0]\n",
    "#     f1, f2 = ii1[1], ii2[1]\n",
    "#     r1, r2 = ii1[2], ii2[2]\n",
    "#     z1, z2 = ii1[3], ii2[3]\n",
    "#     # Apply operator\n",
    "#     if (np.dot(boundary_normal[point2boundary[p1]], Rs[r1]) < 0.0):\n",
    "#         if (z2 == 0):\n",
    "#             return 2.0 * kernel(p1,p2)\n",
    "#         else:\n",
    "#             return 0.0\n",
    "#     else:\n",
    "#         if (z2 == 0):\n",
    "#             return 0.0\n",
    "#         else:\n",
    "#             return 2.0 * kernel(p1,p2)\n",
    "\n",
    "# # @njit\n",
    "# def L1B2_k(ii1, ii2):\n",
    "#     \"\"\"\n",
    "#     L1 B2 k(x1,x2) = (1 + ∇1/χ1) k(x1,x2)\n",
    "#     \"\"\"\n",
    "#     # Unpack indices\n",
    "#     p1, p2 = ii1[0], ii2[0]\n",
    "#     f1, f2 = ii1[1], ii2[1]\n",
    "#     r1, r2 = ii1[2], ii2[2]\n",
    "#     z1, z2 = ii1[3], ii2[3]\n",
    "#     # Apply operator\n",
    "#     if (np.dot(boundary_normal[point2boundary[p1]], Rs[r1]) < 0.0):\n",
    "#         if (z2 == 0):\n",
    "#             return +kernel(p1,p2) + d1_kernel(p1,p2) / chi[p1,f1]\n",
    "#         else:\n",
    "#             return +kernel(p1,p2) + d1_kernel(p1,p2) / chi[p1,f1]\n",
    "#     else:\n",
    "#         if (z2 == 0):\n",
    "#             return -kernel(p1,p2) + d1_kernel(p1,p2) / chi[p1,f1]\n",
    "#         else:\n",
    "#             return +kernel(p1,p2) - d1_kernel(p1,p2) / chi[p1,f1]\n",
    "            \n",
    "\n",
    "# # @njit\n",
    "# def L1L2_k(ii1, ii2):\n",
    "#     \"\"\"\n",
    "#     L1 L2 k(x1,x2) = [ 1 + (∇1/χ1) (∇2/χ2)  (∇1/χ1)  +  (∇2/χ2) ] \n",
    "#                      [ (∇1/χ1)  +  (∇2/χ2)  1 + (∇1/χ1) (∇2/χ2) ] k(x1,x2)\n",
    "#     \"\"\"\n",
    "#     # Unpack indices\n",
    "#     p1, p2 = ii1[0], ii2[0]\n",
    "#     f1, f2 = ii1[1], ii2[1]\n",
    "#     r1, r2 = ii1[2], ii2[2]\n",
    "#     z1, z2 = ii1[3], ii2[3]\n",
    "#     # Apply operator\n",
    "#     if (z1 == z2):\n",
    "#         return kernel(p1,p2) + d1d2_kernel(p1,p2) / (chi[p1,f1] * chi[p2,f2])\n",
    "#     else:\n",
    "#         return d2_kernel(p1,p2) / chi[p2,f2] + d1_kernel(p1,p2) / chi[p1,f1]"
   ]
  },
  {
   "cell_type": "markdown",
   "metadata": {},
   "source": [
    "\\begin{equation}\n",
    "\\left[\n",
    "\\begin{array}{rr}\n",
    "             f(x_{\\texttt{i}}) \\\\\n",
    "    \\text{B} f(x_{\\texttt{b}}) \\\\\n",
    "    \\text{L} f(x_{\\texttt{a}})\n",
    "\\end{array} \n",
    "\\right]\\\n",
    "\\ \\sim \\\n",
    "\\mathcal{N}\n",
    "\\left(\n",
    "    \\left[\n",
    "    \\begin{array}{rr}\n",
    "                 \\mu(x_{\\texttt{i}}) \\\\\n",
    "        \\text{B} \\mu(x_{\\texttt{b}}) \\\\\n",
    "        \\text{L} \\mu(x_{\\texttt{a}})\n",
    "    \\end{array}\n",
    "    \\right],\n",
    "    \\left[\n",
    "    \\begin{array}{rrr}\n",
    "                   k(x_{\\texttt{i}}, x_{\\texttt{i}}) &                \\text{B}^{(2)} k(x_{\\texttt{i}}, x_{\\texttt{b}}) &                \\text{L}^{(2)} k(x_{\\texttt{i}}, x_{\\texttt{a}}) \\\\\n",
    "    \\text{B}^{(1)} k(x_{\\texttt{b}}, x_{\\texttt{i}}) & \\text{B}^{(1)} \\text{B}^{(2)} k(x_{\\texttt{b}}, x_{\\texttt{b}}) & \\text{B}^{(1)} \\text{L}^{(2)} k(x_{\\texttt{b}}, x_{\\texttt{a}}) \\\\\n",
    "    \\text{L}^{(1)} k(x_{\\texttt{a}}, x_{\\texttt{i}}) & \\text{L}^{(1)} \\text{B}^{(2)} k(x_{\\texttt{a}}, x_{\\texttt{b}}) & \\text{L}^{(1)} \\text{L}^{(2)} k(x_{\\texttt{a}}, x_{\\texttt{a}})\n",
    "    \\end{array}\n",
    "    \\right]\n",
    "\\right) .\n",
    "\\end{equation}"
   ]
  },
  {
   "cell_type": "code",
   "execution_count": 28,
   "metadata": {},
   "outputs": [],
   "source": [
    "# @njit\n",
    "def get_Sigma12():\n",
    "    \"\"\"\n",
    "    Σ12 = [ B(2) k(xi,xb)  L(2) k(xi,xa) ]\n",
    "    \"\"\"\n",
    "    # initialize\n",
    "    data = np.zeros(datsize_S12, dtype=np.float64)\n",
    "    id_1 = np.zeros(datsize_S12, dtype=np.int64)\n",
    "    id_2 = np.zeros(datsize_S12, dtype=np.int64)\n",
    "    # set index\n",
    "    index = 0\n",
    "    \n",
    "    for ii2_bdy in itertools.product(*inds_bdy):\n",
    "        ii2_blk = bdy_2_blk(ii2_bdy)\n",
    "        ii2     = linds_bdy[ii2_bdy]\n",
    "        for ii1_blk in itertools.product(*reds_blk(ii2_blk)):\n",
    "            ii1 = linds_blk[ii1_blk]\n",
    "            # Compute element\n",
    "            Bk = B2_k(ii1_blk, ii2_blk)\n",
    "            # Add element\n",
    "            data[index] = Bk\n",
    "            id_1[index] = ii1\n",
    "            id_2[index] = ii2\n",
    "            index += 1\n",
    "\n",
    "    for ii1_blk in itertools.product(*inds_blk):\n",
    "        ii1 = linds_blk[ii1_blk]\n",
    "        for ii2_blk in itertools.product(*reds_blk(ii1_blk)):\n",
    "            ii2 = linds_blk[ii2_blk] + dim_bdy\n",
    "            # Compute element\n",
    "            Lk = L2_k(ii1_blk, ii2_blk)\n",
    "            # Add element\n",
    "            data[index] = Lk\n",
    "            id_1[index] = ii1\n",
    "            id_2[index] = ii2\n",
    "            index += 1\n",
    "\n",
    "    return (data, (id_1, id_2))\n",
    "\n",
    "\n",
    "def get_Sigma22():\n",
    "    \"\"\"\n",
    "    Σ22 = [ B(1) k(xb,xb) B(2)  B(1) k(xb,xa) L(2) ]\n",
    "          [ L(1) k(xa,xb) B(2)  L(1) k(xa,xa) L(2) ]\n",
    "    \"\"\"\n",
    "    # Initialize\n",
    "    data = np.zeros(datsize_S22, dtype=np.float64)\n",
    "    id_1 = np.zeros(datsize_S22, dtype=np.int64)\n",
    "    id_2 = np.zeros(datsize_S22, dtype=np.int64)\n",
    "    # Set index\n",
    "    index = 0\n",
    "\n",
    "    for ii1_bdy in itertools.product(*inds_bdy):\n",
    "        ii1_blk = bdy_2_blk(ii1_bdy)\n",
    "        ii1     = linds_bdy[ii1_bdy]\n",
    "        for ii2_bdy in itertools.product(*reds_bdy(ii1_bdy)):    \n",
    "            ii2_blk = bdy_2_blk(ii2_bdy)\n",
    "            ii2     = linds_bdy[ii2_bdy]\n",
    "            if (ii1 <= ii2):\n",
    "                # Compute element\n",
    "                BB = B1B2_k(ii1_blk, ii2_blk)\n",
    "                # Add upper triangular part\n",
    "                data[index] = BB\n",
    "                id_1[index] = ii1\n",
    "                id_2[index] = ii2\n",
    "                index += 1\n",
    "                if (ii1 < ii2):\n",
    "                    # Add lower triangular part\n",
    "                    data[index] = BB\n",
    "                    id_1[index] = ii2\n",
    "                    id_2[index] = ii1\n",
    "                    index += 1\n",
    "\n",
    "    for ii1_bdy in itertools.product(*inds_bdy):\n",
    "        ii1_blk = bdy_2_blk(ii1_bdy)\n",
    "        ii1     = linds_bdy[ii1_bdy]\n",
    "        for ii2_blk in itertools.product(*reds_blk(ii1_blk)):\n",
    "            ii2 = linds_blk[ii2_blk] + dim_bdy   \n",
    "            # Compute element\n",
    "            LB = B1L2_k(ii1_blk, ii2_blk)\n",
    "            # Add upper triangular part\n",
    "            data[index] = LB\n",
    "            id_1[index] = ii1\n",
    "            id_2[index] = ii2\n",
    "            index += 1\n",
    "            # Add lower triangular part\n",
    "            data[index] = LB\n",
    "            id_1[index] = ii2\n",
    "            id_2[index] = ii1 \n",
    "            index += 1\n",
    "            \n",
    "    for ii1_blk in itertools.product(*inds_blk):\n",
    "        ii1 = linds_blk[ii1_blk] + dim_bdy\n",
    "        for ii2_blk in itertools.product(*reds_blk(ii1_blk)):\n",
    "            ii2 = linds_blk[ii2_blk] + dim_bdy\n",
    "            if (ii1 <= ii2):\n",
    "                # Compute element\n",
    "                LL = L1L2_k(ii1_blk, ii2_blk)\n",
    "                # Add upper triangular part\n",
    "                data[index] = LL\n",
    "                id_1[index] = ii1\n",
    "                id_2[index] = ii2\n",
    "                index += 1\n",
    "                if (ii1 < ii2):\n",
    "                    # Add lower triangular part\n",
    "                    data[index] = LL\n",
    "                    id_1[index] = ii2\n",
    "                    id_2[index] = ii1\n",
    "                    index += 1\n",
    "                    \n",
    "    # Return the data\n",
    "    return (data, (id_1, id_2))\n",
    "\n",
    "\n",
    "# @njit\n",
    "def get_condition():\n",
    "    \"\"\"\n",
    "    condition = [ boundary condition ]\n",
    "                [ operator condition ] \n",
    "    \"\"\"\n",
    "    # initialize\n",
    "    condition = np.zeros(dim_tot)\n",
    "\n",
    "    for ii1_bdy in itertools.product(*inds_bdy):\n",
    "        ii1_blk = bdy_2_blk(ii1_bdy)\n",
    "        ii1     = linds_bdy[ii1_bdy]\n",
    "        # Set boundary condition\n",
    "        condition[ii1] = get_boundary_condition(ii1_bdy)\n",
    "        \n",
    "    for ii1_blk in itertools.product(*inds_blk):\n",
    "        ii1 = linds_blk[ii1_blk] + dim_bdy\n",
    "        # Set operator condition\n",
    "        condition[ii1] = get_operator_condition(ii1_blk)\n",
    "\n",
    "    return condition"
   ]
  },
  {
   "cell_type": "code",
   "execution_count": 29,
   "metadata": {},
   "outputs": [],
   "source": [
    "SIGMA22 = get_Sigma22() \n",
    "Sigma22 = sparse.coo_matrix(SIGMA22, shape=(dim_tot, dim_tot)).tocsc()\n",
    "S22     = Sigma22.todense()"
   ]
  },
  {
   "cell_type": "code",
   "execution_count": 47,
   "metadata": {},
   "outputs": [
    {
     "data": {
      "text/plain": [
       "-1597983.741722515"
      ]
     },
     "execution_count": 47,
     "metadata": {},
     "output_type": "execute_result"
    }
   ],
   "source": [
    "np.min(S22)"
   ]
  },
  {
   "cell_type": "code",
   "execution_count": 48,
   "metadata": {},
   "outputs": [
    {
     "data": {
      "text/plain": [
       "1417151.0753360484"
      ]
     },
     "execution_count": 48,
     "metadata": {},
     "output_type": "execute_result"
    }
   ],
   "source": [
    "np.max(S22)"
   ]
  },
  {
   "cell_type": "code",
   "execution_count": 30,
   "metadata": {},
   "outputs": [],
   "source": [
    "P     = np.sqrt(np.diag(np.diag(S22)))\n",
    "P_inv = np.linalg.inv(P)"
   ]
  },
  {
   "cell_type": "code",
   "execution_count": 31,
   "metadata": {},
   "outputs": [
    {
     "data": {
      "text/plain": [
       "array([[1., 0., 0., ..., 0., 0., 0.],\n",
       "       [0., 1., 0., ..., 0., 0., 0.],\n",
       "       [0., 0., 1., ..., 0., 0., 0.],\n",
       "       ...,\n",
       "       [0., 0., 0., ..., 1., 0., 0.],\n",
       "       [0., 0., 0., ..., 0., 1., 0.],\n",
       "       [0., 0., 0., ..., 0., 0., 1.]])"
      ]
     },
     "execution_count": 31,
     "metadata": {},
     "output_type": "execute_result"
    }
   ],
   "source": [
    "P*P_inv"
   ]
  },
  {
   "cell_type": "code",
   "execution_count": 32,
   "metadata": {},
   "outputs": [
    {
     "data": {
      "text/plain": [
       "3.7353111951317846e+52"
      ]
     },
     "execution_count": 32,
     "metadata": {},
     "output_type": "execute_result"
    }
   ],
   "source": [
    "np.linalg.cond(S22)"
   ]
  },
  {
   "cell_type": "code",
   "execution_count": 33,
   "metadata": {},
   "outputs": [
    {
     "data": {
      "text/plain": [
       "3.7353111951317846e+52"
      ]
     },
     "execution_count": 33,
     "metadata": {},
     "output_type": "execute_result"
    }
   ],
   "source": [
    "np.linalg.cond(P_inv * S22 * P_inv)"
   ]
  },
  {
   "cell_type": "code",
   "execution_count": 46,
   "metadata": {},
   "outputs": [
    {
     "data": {
      "text/plain": [
       "0.0"
      ]
     },
     "execution_count": 46,
     "metadata": {},
     "output_type": "execute_result"
    }
   ],
   "source": [
    "np.linalg.det(S22)"
   ]
  },
  {
   "cell_type": "code",
   "execution_count": 35,
   "metadata": {},
   "outputs": [
    {
     "data": {
      "text/plain": [
       "0.0"
      ]
     },
     "execution_count": 35,
     "metadata": {},
     "output_type": "execute_result"
    }
   ],
   "source": [
    "np.linalg.det(P_inv * S22 * P_inv)"
   ]
  },
  {
   "cell_type": "code",
   "execution_count": 36,
   "metadata": {},
   "outputs": [
    {
     "name": "stdout",
     "output_type": "stream",
     "text": [
      "[[1.00000000e+00 1.00000000e+00 0.00000000e+00 ... 0.00000000e+00\n",
      "  0.00000000e+00 0.00000000e+00]\n",
      " [1.00000000e+00 1.00000000e+00 0.00000000e+00 ... 0.00000000e+00\n",
      "  0.00000000e+00 0.00000000e+00]\n",
      " [0.00000000e+00 0.00000000e+00 1.00000000e+00 ... 1.80074940e+00\n",
      "  1.00000000e+00 1.00000000e+00]\n",
      " ...\n",
      " [0.00000000e+00 0.00000000e+00 1.80074940e+00 ... 1.00000000e+00\n",
      "  3.41841921e+04 3.41841921e+04]\n",
      " [0.00000000e+00 0.00000000e+00 1.00000000e+00 ... 3.41841921e+04\n",
      "  1.00000000e+00 1.00000000e+00]\n",
      " [0.00000000e+00 0.00000000e+00 1.00000000e+00 ... 3.41841921e+04\n",
      "  1.00000000e+00 1.00000000e+00]]\n"
     ]
    }
   ],
   "source": [
    "print(Sigma22.todense())"
   ]
  },
  {
   "cell_type": "code",
   "execution_count": 37,
   "metadata": {},
   "outputs": [
    {
     "data": {
      "text/plain": [
       "<matplotlib.image.AxesImage at 0x7efd733e6780>"
      ]
     },
     "execution_count": 37,
     "metadata": {},
     "output_type": "execute_result"
    },
    {
     "data": {
      "image/png": "[encoded data removed]",
      "text/plain": [
       "<Figure size 720x480 with 1 Axes>"
      ]
     },
     "metadata": {
      "needs_background": "light"
     },
     "output_type": "display_data"
    }
   ],
   "source": [
    "vmin = -np.max(np.abs(Sigma22.todense()))\n",
    "vmax = +np.max(np.abs(Sigma22.todense()))\n",
    "plt.figure(dpi=120)\n",
    "plt.imshow(Sigma22.todense(), cmap='Spectral')\n",
    "# plt.scatter(SIGMA22[1][1], SIGMA22[1][0], c='k', marker='.', s=1)"
   ]
  },
  {
   "cell_type": "code",
   "execution_count": 38,
   "metadata": {},
   "outputs": [],
   "source": [
    "SIGMA12 = get_Sigma12()\n",
    "Sigma12 = sparse.coo_matrix(SIGMA12, shape=(dim_blk, dim_tot)).tocsc()"
   ]
  },
  {
   "cell_type": "code",
   "execution_count": 39,
   "metadata": {},
   "outputs": [
    {
     "name": "stdout",
     "output_type": "stream",
     "text": [
      "[[1.         1.         0.         ... 0.         0.         0.        ]\n",
      " [1.         1.         0.         ... 0.         0.         0.        ]\n",
      " [0.99998599 0.99998599 0.         ... 0.         0.         0.        ]\n",
      " ...\n",
      " [0.         0.         0.99998467 ... 1.         0.12810704 0.12810704]\n",
      " [0.         0.         1.         ... 1.8007494  1.         1.        ]\n",
      " [0.         0.         1.         ... 1.8007494  1.         1.        ]]\n"
     ]
    }
   ],
   "source": [
    "print(Sigma12.todense())"
   ]
  },
  {
   "cell_type": "code",
   "execution_count": 40,
   "metadata": {},
   "outputs": [
    {
     "data": {
      "text/plain": [
       "<matplotlib.image.AxesImage at 0x7efd73357da0>"
      ]
     },
     "execution_count": 40,
     "metadata": {},
     "output_type": "execute_result"
    },
    {
     "data": {
      "image/png": "[encoded data removed]",
      "text/plain": [
       "<Figure size 660x440 with 1 Axes>"
      ]
     },
     "metadata": {
      "needs_background": "light"
     },
     "output_type": "display_data"
    }
   ],
   "source": [
    "vmin = -np.max(np.abs(Sigma12.todense()))\n",
    "vmax = +np.max(np.abs(Sigma12.todense()))\n",
    "plt.figure(dpi=110)\n",
    "plt.imshow(Sigma12.todense(), cmap='Spectral', vmin=vmin, vmax=vmax)\n",
    "# plt.scatter(SIGMA12[1][1], SIGMA12[1][0], c='k', marker='X', s=2)"
   ]
  },
  {
   "cell_type": "code",
   "execution_count": 41,
   "metadata": {},
   "outputs": [
    {
     "data": {
      "text/plain": [
       "array([3.77281369e-18, 3.77281369e-18, 3.77281369e-18, 3.77281369e-18,\n",
       "       1.58983312e-16, 1.58983312e-16, 1.58983312e-16, 1.58983312e-16,\n",
       "       1.58983312e-16, 1.58983312e-16, 1.58983312e-16, 1.58983312e-16,\n",
       "       1.58983312e-16, 1.58983312e-16, 1.58983312e-16, 1.58983312e-16,\n",
       "       1.58983312e-16, 1.58983312e-16, 1.58983312e-16, 1.58983312e-16,\n",
       "       1.58983312e-16, 1.58983312e-16, 1.58983312e-16, 1.58983312e-16,\n",
       "       1.58983312e-16, 1.58983312e-16, 1.58983312e-16, 1.58983312e-16,\n",
       "       1.58983312e-16, 1.58983312e-16, 1.58983312e-16, 1.58983312e-16,\n",
       "       1.58983312e-16, 1.58983312e-16, 1.58983312e-16, 1.58983312e-16,\n",
       "       1.58983312e-16, 1.58983312e-16, 1.58983312e-16, 1.58983312e-16,\n",
       "       1.58983312e-16, 1.58983312e-16, 1.58983312e-16, 1.58983312e-16,\n",
       "       1.58983312e-16, 1.58983312e-16, 1.58983312e-16, 1.58983312e-16,\n",
       "       1.58983312e-16, 1.58983312e-16, 1.58983312e-16, 1.58983312e-16,\n",
       "       1.58983312e-16, 1.58983312e-16, 1.58983312e-16, 1.58983312e-16,\n",
       "       1.58983312e-16, 1.58983312e-16, 1.58983312e-16, 1.58983312e-16,\n",
       "       1.58983312e-16, 1.58983312e-16, 1.58983312e-16, 1.58983312e-16,\n",
       "       1.58983312e-16, 1.58983312e-16, 1.58983312e-16, 1.58983312e-16,\n",
       "       1.58983312e-16, 1.58983312e-16, 1.58983312e-16, 1.58983312e-16,\n",
       "       1.58983312e-16, 1.58983312e-16, 1.58983312e-16, 1.58983312e-16,\n",
       "       1.58983312e-16, 1.58983312e-16, 1.58983312e-16, 1.58983312e-16,\n",
       "       1.58983312e-16, 1.58983312e-16, 1.58983312e-16, 1.58983312e-16,\n",
       "       1.58983312e-16, 1.58983312e-16, 1.58983312e-16, 1.58983312e-16,\n",
       "       1.58983312e-16, 1.58983312e-16, 1.58983312e-16, 1.58983312e-16,\n",
       "       1.58983312e-16, 1.58983312e-16, 1.58983312e-16, 1.58983312e-16,\n",
       "       1.58983312e-16, 1.58983312e-16, 1.58983312e-16, 1.58983312e-16,\n",
       "       1.58983312e-16, 1.58983312e-16, 1.58983312e-16, 1.58983312e-16,\n",
       "       1.58983312e-16, 1.58983312e-16, 1.58983312e-16, 1.58983312e-16,\n",
       "       1.58983312e-16, 1.58983312e-16, 1.58983312e-16, 1.58983312e-16,\n",
       "       1.58983312e-16, 1.58983312e-16, 1.58983312e-16, 1.58983312e-16,\n",
       "       1.58983312e-16, 1.58983312e-16, 1.58983312e-16, 1.58983312e-16,\n",
       "       1.58983312e-16, 1.58983312e-16, 1.58983312e-16, 1.58983312e-16,\n",
       "       1.58983312e-16, 1.58983312e-16, 1.58983312e-16, 1.58983312e-16,\n",
       "       1.58983312e-16, 1.58983312e-16, 1.58983312e-16, 1.58983312e-16,\n",
       "       1.58983312e-16, 1.58983312e-16, 1.58983312e-16, 1.58983312e-16,\n",
       "       1.58983312e-16, 1.58983312e-16, 1.58983312e-16, 1.58983312e-16,\n",
       "       1.58983312e-16, 1.58983312e-16, 1.58983312e-16, 1.58983312e-16,\n",
       "       1.58983312e-16, 1.58983312e-16, 1.58983312e-16, 1.58983312e-16,\n",
       "       1.58983312e-16, 1.58983312e-16, 1.58983312e-16, 1.58983312e-16,\n",
       "       1.58983312e-16, 1.58983312e-16, 1.58983312e-16, 1.58983312e-16,\n",
       "       1.58983312e-16, 1.58983312e-16, 1.58983312e-16, 1.58983312e-16,\n",
       "       1.58983312e-16, 1.58983312e-16, 1.58983312e-16, 1.58983312e-16,\n",
       "       1.58983312e-16, 1.58983312e-16, 1.58983312e-16, 1.58983312e-16,\n",
       "       1.58983312e-16, 1.58983312e-16, 1.58983312e-16, 1.58983312e-16,\n",
       "       1.58983312e-16, 1.58983312e-16, 1.58983312e-16, 1.58983312e-16,\n",
       "       1.58983312e-16, 1.58983312e-16, 1.58983312e-16, 1.58983312e-16,\n",
       "       1.58983312e-16, 1.58983312e-16, 1.58983312e-16, 1.58983312e-16,\n",
       "       1.58983312e-16, 1.58983312e-16, 1.58983312e-16, 1.58983312e-16,\n",
       "       1.58983312e-16, 1.58983312e-16, 1.58983312e-16, 1.58983312e-16,\n",
       "       1.58983312e-16, 1.58983312e-16, 1.58983312e-16, 1.58983312e-16,\n",
       "       1.58983312e-16, 1.58983312e-16, 1.58983312e-16, 1.58983312e-16,\n",
       "       1.58983312e-16, 1.58983312e-16, 1.58983312e-16, 1.58983312e-16,\n",
       "       1.58983312e-16, 1.58983312e-16, 1.58983312e-16, 1.58983312e-16,\n",
       "       1.58983312e-16, 1.58983312e-16, 1.58983312e-16, 1.58983312e-16,\n",
       "       1.58983312e-16, 1.58983312e-16, 1.58983312e-16, 1.58983312e-16,\n",
       "       1.58983312e-16, 1.58983312e-16, 1.58983312e-16, 1.58983312e-16,\n",
       "       1.58983312e-16, 1.58983312e-16, 1.58983312e-16, 1.58983312e-16,\n",
       "       1.58983312e-16, 1.58983312e-16, 1.58983312e-16, 1.58983312e-16,\n",
       "       1.58983312e-16, 1.58983312e-16, 1.58983312e-16, 1.58983312e-16,\n",
       "       1.58983312e-16, 1.58983312e-16, 1.58983312e-16, 1.58983312e-16,\n",
       "       1.58983312e-16, 1.58983312e-16, 1.58983312e-16, 1.58983312e-16,\n",
       "       1.58983312e-16, 1.58983312e-16, 1.58983312e-16, 1.58983312e-16,\n",
       "       1.58983312e-16, 1.58983312e-16, 1.58983312e-16, 1.58983312e-16,\n",
       "       1.58983312e-16, 1.58983312e-16, 1.58983312e-16, 1.58983312e-16,\n",
       "       1.58983312e-16, 1.58983312e-16, 1.58983312e-16, 1.58983312e-16,\n",
       "       1.58983312e-16, 1.58983312e-16, 1.58983312e-16, 1.58983312e-16,\n",
       "       1.58983312e-16, 1.58983312e-16, 1.58983312e-16, 1.58983312e-16,\n",
       "       1.58983312e-16, 1.58983312e-16, 1.58983312e-16, 1.58983312e-16,\n",
       "       1.58983312e-16, 1.58983312e-16, 1.58983312e-16, 1.58983312e-16,\n",
       "       1.58983312e-16, 1.58983312e-16, 1.58983312e-16, 1.58983312e-16,\n",
       "       1.58983312e-16, 1.58983312e-16, 1.58983312e-16, 1.58983312e-16,\n",
       "       1.58983312e-16, 1.58983312e-16, 1.58983312e-16, 1.58983312e-16,\n",
       "       1.58983312e-16, 1.58983312e-16, 1.58983312e-16, 1.58983312e-16,\n",
       "       1.58983312e-16, 1.58983312e-16, 1.58983312e-16, 1.58983312e-16,\n",
       "       1.58983312e-16, 1.58983312e-16, 1.58983312e-16, 1.58983312e-16,\n",
       "       1.58983312e-16, 1.58983312e-16, 1.58983312e-16, 1.58983312e-16,\n",
       "       1.58983312e-16, 1.58983312e-16, 1.58983311e-16, 1.58983311e-16,\n",
       "       1.58983311e-16, 1.58983311e-16, 1.58983311e-16, 1.58983311e-16,\n",
       "       1.58983311e-16, 1.58983311e-16, 1.58983311e-16, 1.58983311e-16,\n",
       "       1.58983311e-16, 1.58983311e-16, 1.58983311e-16, 1.58983311e-16,\n",
       "       1.58983311e-16, 1.58983311e-16, 1.58983311e-16, 1.58983311e-16,\n",
       "       1.58983310e-16, 1.58983310e-16, 1.58983310e-16, 1.58983310e-16,\n",
       "       1.58983310e-16, 1.58983310e-16, 1.58983310e-16, 1.58983310e-16,\n",
       "       1.58983310e-16, 1.58983310e-16, 1.58983309e-16, 1.58983309e-16,\n",
       "       1.58983309e-16, 1.58983309e-16, 1.58983309e-16, 1.58983309e-16,\n",
       "       1.58983308e-16, 1.58983308e-16, 1.58983308e-16, 1.58983308e-16,\n",
       "       1.58983308e-16, 1.58983308e-16, 1.58983307e-16, 1.58983307e-16,\n",
       "       1.58983307e-16, 1.58983307e-16, 1.58983306e-16, 1.58983306e-16,\n",
       "       1.58983306e-16, 1.58983306e-16, 1.58983305e-16, 1.58983305e-16,\n",
       "       1.58983304e-16, 1.58983304e-16, 1.58983303e-16, 1.58983303e-16,\n",
       "       1.58983303e-16, 1.58983303e-16, 1.58983302e-16, 1.58983302e-16,\n",
       "       1.58983301e-16, 1.58983301e-16, 1.58983300e-16, 1.58983300e-16,\n",
       "       1.58983298e-16, 1.58983298e-16, 1.58983297e-16, 1.58983297e-16,\n",
       "       1.58983296e-16, 1.58983296e-16, 1.58983294e-16, 1.58983294e-16,\n",
       "       1.58983292e-16, 1.58983292e-16, 1.58983290e-16, 1.58983290e-16,\n",
       "       1.58983288e-16, 1.58983288e-16, 1.58983286e-16, 1.58983286e-16,\n",
       "       1.58983283e-16, 1.58983283e-16, 1.58983281e-16, 1.58983281e-16,\n",
       "       1.58983278e-16, 1.58983278e-16, 1.58983275e-16, 1.58983275e-16,\n",
       "       1.58983271e-16, 1.58983271e-16, 1.58983267e-16, 1.58983267e-16,\n",
       "       1.58983263e-16, 1.58983263e-16, 1.58983258e-16, 1.58983258e-16,\n",
       "       1.58983253e-16, 1.58983253e-16, 1.58983247e-16, 1.58983247e-16,\n",
       "       1.58983241e-16, 1.58983241e-16, 1.58983235e-16, 1.58983235e-16])"
      ]
     },
     "execution_count": 41,
     "metadata": {},
     "output_type": "execute_result"
    }
   ],
   "source": [
    "condition = get_condition()\n",
    "condition"
   ]
  },
  {
   "cell_type": "code",
   "execution_count": 42,
   "metadata": {},
   "outputs": [
    {
     "data": {
      "text/plain": [
       "<matplotlib.image.AxesImage at 0x7efd732c9588>"
      ]
     },
     "execution_count": 42,
     "metadata": {},
     "output_type": "execute_result"
    },
    {
     "data": {
      "image/png": "[encoded data removed]",
      "text/plain": [
       "<Figure size 660x440 with 1 Axes>"
      ]
     },
     "metadata": {
      "needs_background": "light"
     },
     "output_type": "display_data"
    }
   ],
   "source": [
    "plt.figure(dpi=110)\n",
    "plt.imshow([condition], cmap='Spectral')"
   ]
  },
  {
   "cell_type": "code",
   "execution_count": 43,
   "metadata": {},
   "outputs": [],
   "source": [
    "from scipy.sparse.linalg import minres\n",
    "from scipy.sparse.linalg import lobpcg"
   ]
  },
  {
   "cell_type": "code",
   "execution_count": 44,
   "metadata": {},
   "outputs": [
    {
     "ename": "ValueError",
     "evalue": "expected rank-2 array for argument X",
     "output_type": "error",
     "traceback": [
      "\u001b[0;31m---------------------------------------------------------------------------\u001b[0m",
      "\u001b[0;31mValueError\u001b[0m                                Traceback (most recent call last)",
      "\u001b[0;32m<ipython-input-44-a2543178fc93>\u001b[0m in \u001b[0;36m<module>\u001b[0;34m\u001b[0m\n\u001b[0;32m----> 1\u001b[0;31m \u001b[0mx\u001b[0m\u001b[0;34m,\u001b[0m \u001b[0mexitCode\u001b[0m \u001b[0;34m=\u001b[0m \u001b[0mlobpcg\u001b[0m\u001b[0;34m(\u001b[0m\u001b[0mSigma22\u001b[0m\u001b[0;34m,\u001b[0m \u001b[0mcondition\u001b[0m\u001b[0;34m)\u001b[0m\u001b[0;34m\u001b[0m\u001b[0;34m\u001b[0m\u001b[0m\n\u001b[0m",
      "\u001b[0;32m~/software/Anaconda3/installation/envs/magritte/lib/python3.6/site-packages/scipy/sparse/linalg/eigen/lobpcg/lobpcg.py\u001b[0m in \u001b[0;36mlobpcg\u001b[0;34m(A, X, B, M, Y, tol, maxiter, largest, verbosityLevel, retLambdaHistory, retResidualNormsHistory)\u001b[0m\n\u001b[1;32m    297\u001b[0m     \u001b[0;31m# Block size.\u001b[0m\u001b[0;34m\u001b[0m\u001b[0;34m\u001b[0m\u001b[0;34m\u001b[0m\u001b[0m\n\u001b[1;32m    298\u001b[0m     \u001b[0;32mif\u001b[0m \u001b[0mlen\u001b[0m\u001b[0;34m(\u001b[0m\u001b[0mblockVectorX\u001b[0m\u001b[0;34m.\u001b[0m\u001b[0mshape\u001b[0m\u001b[0;34m)\u001b[0m \u001b[0;34m!=\u001b[0m \u001b[0;36m2\u001b[0m\u001b[0;34m:\u001b[0m\u001b[0;34m\u001b[0m\u001b[0;34m\u001b[0m\u001b[0m\n\u001b[0;32m--> 299\u001b[0;31m         \u001b[0;32mraise\u001b[0m \u001b[0mValueError\u001b[0m\u001b[0;34m(\u001b[0m\u001b[0;34m'expected rank-2 array for argument X'\u001b[0m\u001b[0;34m)\u001b[0m\u001b[0;34m\u001b[0m\u001b[0;34m\u001b[0m\u001b[0m\n\u001b[0m\u001b[1;32m    300\u001b[0m \u001b[0;34m\u001b[0m\u001b[0m\n\u001b[1;32m    301\u001b[0m     \u001b[0mn\u001b[0m\u001b[0;34m,\u001b[0m \u001b[0msizeX\u001b[0m \u001b[0;34m=\u001b[0m \u001b[0mblockVectorX\u001b[0m\u001b[0;34m.\u001b[0m\u001b[0mshape\u001b[0m\u001b[0;34m\u001b[0m\u001b[0;34m\u001b[0m\u001b[0m\n",
      "\u001b[0;31mValueError\u001b[0m: expected rank-2 array for argument X"
     ]
    }
   ],
   "source": [
    "x, exitCode = lobpcg(Sigma22, condition)"
   ]
  },
  {
   "cell_type": "code",
   "execution_count": 45,
   "metadata": {},
   "outputs": [
    {
     "ename": "NameError",
     "evalue": "name 'exitCode' is not defined",
     "output_type": "error",
     "traceback": [
      "\u001b[0;31m---------------------------------------------------------------------------\u001b[0m",
      "\u001b[0;31mNameError\u001b[0m                                 Traceback (most recent call last)",
      "\u001b[0;32m<ipython-input-45-ea13edbc49e3>\u001b[0m in \u001b[0;36m<module>\u001b[0;34m\u001b[0m\n\u001b[0;32m----> 1\u001b[0;31m \u001b[0mexitCode\u001b[0m\u001b[0;34m\u001b[0m\u001b[0;34m\u001b[0m\u001b[0m\n\u001b[0m",
      "\u001b[0;31mNameError\u001b[0m: name 'exitCode' is not defined"
     ]
    }
   ],
   "source": [
    "exitCode"
   ]
  },
  {
   "cell_type": "code",
   "execution_count": 79,
   "metadata": {},
   "outputs": [
    {
     "data": {
      "text/plain": [
       "array([ 9.97597980e+00,  3.51727460e+00,  1.31243388e+00,  4.65211488e-01,\n",
       "        1.17089509e-01,  1.13392809e-01,  4.32776949e-02, -6.35331360e-02,\n",
       "       -7.78162803e-03,  7.09288884e-02,  7.77494963e-03, -7.18352781e-02,\n",
       "       -3.46164712e-02,  2.37063160e-02, -4.95092573e-03, -5.71526389e-02,\n",
       "       -5.03632543e-02, -1.11048953e-02,  1.78437961e-02,  2.38208629e-02,\n",
       "       -9.70758729e-03, -2.51674985e-02,  4.76695420e-02,  6.14566104e-02,\n",
       "        3.40992259e-03, -1.23917913e-01, -6.95885407e-02, -2.71493754e-02,\n",
       "        8.65670420e-03,  8.39929441e-03, -3.59391300e-02, -2.76260949e-03,\n",
       "        5.96363257e-02,  2.67642293e-02, -3.47544206e-02, -1.12254880e-02,\n",
       "        3.73695956e-02,  2.00188766e-02, -9.36024760e-03,  1.18211102e-02,\n",
       "        2.73177067e-02,  8.52413617e-03,  1.90755310e-02,  2.98585867e-02,\n",
       "       -3.62775352e-02, -4.46999644e-02,  6.37422384e-02, -1.85767430e-02,\n",
       "       -6.61330575e-03,  1.35904084e-01])"
      ]
     },
     "execution_count": 79,
     "metadata": {},
     "output_type": "execute_result"
    }
   ],
   "source": [
    "Sigma12.dot(x)"
   ]
  },
  {
   "cell_type": "code",
   "execution_count": 74,
   "metadata": {},
   "outputs": [
    {
     "data": {
      "text/plain": [
       "array([ 1.00000000e+01,  3.57848454e+00,  1.28151922e+00,  4.59446976e-01,\n",
       "        1.64695286e-01,  5.84036517e-02,  1.94093707e-02,  4.41285302e-03,\n",
       "       -2.02953885e-03, -5.38834387e-03, -7.55559095e-03, -9.13107758e-03,\n",
       "       -1.02396176e-02, -1.08231730e-02, -1.07455229e-02, -9.83042412e-03,\n",
       "       -7.87708008e-03, -4.67018846e-03,  4.55946595e-06,  6.32185233e-03,\n",
       "        1.43081441e-02,  2.35271017e-02,  3.21600769e-02,  3.43087458e-02,\n",
       "        1.20721389e-02, -8.77371908e-02, -5.30872295e-02, -3.74517679e-02,\n",
       "       -2.82260753e-02, -2.12967994e-02, -1.53970682e-02, -1.01911699e-02,\n",
       "       -5.62783482e-03, -1.72489779e-03,  1.49951211e-03,  4.04619899e-03,\n",
       "        5.93756487e-03,  7.21499498e-03,  7.93488515e-03,  8.16483520e-03,\n",
       "        7.98102594e-03,  7.46850443e-03,  6.72881380e-03,  5.90724717e-03,\n",
       "        5.27403848e-03,  5.45545539e-03,  8.08317849e-03,  1.76124912e-02,\n",
       "        4.64079934e-02,  1.28965420e-01])"
      ]
     },
     "execution_count": 74,
     "metadata": {},
     "output_type": "execute_result"
    }
   ],
   "source": [
    "weight = sparse.linalg.spsolve(Sigma22, condition)\n",
    "result = Sigma12.dot(weight)\n",
    "result"
   ]
  },
  {
   "cell_type": "code",
   "execution_count": 75,
   "metadata": {},
   "outputs": [
    {
     "data": {
      "image/png": "[encoded data removed]",
      "text/plain": [
       "<Figure size 900x600 with 1 Axes>"
      ]
     },
     "metadata": {
      "needs_background": "light"
     },
     "output_type": "display_data"
    }
   ],
   "source": [
    "plt.figure(dpi=150)\n",
    "plt.plot(rs, result)\n",
    "# plt.xscale('log')\n",
    "plt.yscale('log')"
   ]
  },
  {
   "cell_type": "code",
   "execution_count": null,
   "metadata": {},
   "outputs": [],
   "source": []
  },
  {
   "cell_type": "code",
   "execution_count": 98,
   "metadata": {},
   "outputs": [
    {
     "ename": "RuntimeError",
     "evalue": "Factor is exactly singular",
     "output_type": "error",
     "traceback": [
      "\u001b[0;31m---------------------------------------------------------------------------\u001b[0m",
      "\u001b[0;31mRuntimeError\u001b[0m                              Traceback (most recent call last)",
      "\u001b[0;32m<ipython-input-98-cea5ec673e54>\u001b[0m in \u001b[0;36m<module>\u001b[0;34m\u001b[0m\n\u001b[1;32m      1\u001b[0m \u001b[0mnorm_22\u001b[0m         \u001b[0;34m=\u001b[0m \u001b[0msparse\u001b[0m\u001b[0;34m.\u001b[0m\u001b[0mlinalg\u001b[0m\u001b[0;34m.\u001b[0m\u001b[0mnorm\u001b[0m\u001b[0;34m(\u001b[0m\u001b[0mSigma22\u001b[0m\u001b[0;34m)\u001b[0m\u001b[0;34m\u001b[0m\u001b[0;34m\u001b[0m\u001b[0m\n\u001b[0;32m----> 2\u001b[0;31m \u001b[0mnorm_22_inverse\u001b[0m \u001b[0;34m=\u001b[0m \u001b[0msparse\u001b[0m\u001b[0;34m.\u001b[0m\u001b[0mlinalg\u001b[0m\u001b[0;34m.\u001b[0m\u001b[0mnorm\u001b[0m\u001b[0;34m(\u001b[0m\u001b[0msparse\u001b[0m\u001b[0;34m.\u001b[0m\u001b[0mlinalg\u001b[0m\u001b[0;34m.\u001b[0m\u001b[0minv\u001b[0m\u001b[0;34m(\u001b[0m\u001b[0mSigma22\u001b[0m\u001b[0;34m)\u001b[0m\u001b[0;34m)\u001b[0m\u001b[0;34m\u001b[0m\u001b[0;34m\u001b[0m\u001b[0m\n\u001b[0m\u001b[1;32m      3\u001b[0m \u001b[0;34m\u001b[0m\u001b[0m\n\u001b[1;32m      4\u001b[0m \u001b[0mcond\u001b[0m \u001b[0;34m=\u001b[0m \u001b[0mnorm_22\u001b[0m \u001b[0;34m*\u001b[0m \u001b[0mnorm_22_inverse\u001b[0m\u001b[0;34m\u001b[0m\u001b[0;34m\u001b[0m\u001b[0m\n\u001b[1;32m      5\u001b[0m \u001b[0mcond\u001b[0m\u001b[0;34m\u001b[0m\u001b[0;34m\u001b[0m\u001b[0m\n",
      "\u001b[0;32m~/software/Anaconda3/installation/envs/magritte/lib/python3.6/site-packages/scipy/sparse/linalg/matfuncs.py\u001b[0m in \u001b[0;36minv\u001b[0;34m(A)\u001b[0m\n\u001b[1;32m     75\u001b[0m \u001b[0;34m\u001b[0m\u001b[0m\n\u001b[1;32m     76\u001b[0m     \u001b[0mI\u001b[0m \u001b[0;34m=\u001b[0m \u001b[0m_ident_like\u001b[0m\u001b[0;34m(\u001b[0m\u001b[0mA\u001b[0m\u001b[0;34m)\u001b[0m\u001b[0;34m\u001b[0m\u001b[0;34m\u001b[0m\u001b[0m\n\u001b[0;32m---> 77\u001b[0;31m     \u001b[0mAinv\u001b[0m \u001b[0;34m=\u001b[0m \u001b[0mspsolve\u001b[0m\u001b[0;34m(\u001b[0m\u001b[0mA\u001b[0m\u001b[0;34m,\u001b[0m \u001b[0mI\u001b[0m\u001b[0;34m)\u001b[0m\u001b[0;34m\u001b[0m\u001b[0;34m\u001b[0m\u001b[0m\n\u001b[0m\u001b[1;32m     78\u001b[0m     \u001b[0;32mreturn\u001b[0m \u001b[0mAinv\u001b[0m\u001b[0;34m\u001b[0m\u001b[0;34m\u001b[0m\u001b[0m\n\u001b[1;32m     79\u001b[0m \u001b[0;34m\u001b[0m\u001b[0m\n",
      "\u001b[0;32m~/software/Anaconda3/installation/envs/magritte/lib/python3.6/site-packages/scipy/sparse/linalg/dsolve/linsolve.py\u001b[0m in \u001b[0;36mspsolve\u001b[0;34m(A, b, permc_spec, use_umfpack)\u001b[0m\n\u001b[1;32m    210\u001b[0m         \u001b[0;32melse\u001b[0m\u001b[0;34m:\u001b[0m\u001b[0;34m\u001b[0m\u001b[0;34m\u001b[0m\u001b[0m\n\u001b[1;32m    211\u001b[0m             \u001b[0;31m# b is sparse\u001b[0m\u001b[0;34m\u001b[0m\u001b[0;34m\u001b[0m\u001b[0;34m\u001b[0m\u001b[0m\n\u001b[0;32m--> 212\u001b[0;31m             \u001b[0mAfactsolve\u001b[0m \u001b[0;34m=\u001b[0m \u001b[0mfactorized\u001b[0m\u001b[0;34m(\u001b[0m\u001b[0mA\u001b[0m\u001b[0;34m)\u001b[0m\u001b[0;34m\u001b[0m\u001b[0;34m\u001b[0m\u001b[0m\n\u001b[0m\u001b[1;32m    213\u001b[0m \u001b[0;34m\u001b[0m\u001b[0m\n\u001b[1;32m    214\u001b[0m             \u001b[0;32mif\u001b[0m \u001b[0;32mnot\u001b[0m \u001b[0;34m(\u001b[0m\u001b[0misspmatrix_csc\u001b[0m\u001b[0;34m(\u001b[0m\u001b[0mb\u001b[0m\u001b[0;34m)\u001b[0m \u001b[0;32mor\u001b[0m \u001b[0mis_pydata_spmatrix\u001b[0m\u001b[0;34m(\u001b[0m\u001b[0mb\u001b[0m\u001b[0;34m)\u001b[0m\u001b[0;34m)\u001b[0m\u001b[0;34m:\u001b[0m\u001b[0;34m\u001b[0m\u001b[0;34m\u001b[0m\u001b[0m\n",
      "\u001b[0;32m~/software/Anaconda3/installation/envs/magritte/lib/python3.6/site-packages/scipy/sparse/linalg/dsolve/linsolve.py\u001b[0m in \u001b[0;36mfactorized\u001b[0;34m(A)\u001b[0m\n\u001b[1;32m    486\u001b[0m         \u001b[0;32mreturn\u001b[0m \u001b[0msolve\u001b[0m\u001b[0;34m\u001b[0m\u001b[0;34m\u001b[0m\u001b[0m\n\u001b[1;32m    487\u001b[0m     \u001b[0;32melse\u001b[0m\u001b[0;34m:\u001b[0m\u001b[0;34m\u001b[0m\u001b[0;34m\u001b[0m\u001b[0m\n\u001b[0;32m--> 488\u001b[0;31m         \u001b[0;32mreturn\u001b[0m \u001b[0msplu\u001b[0m\u001b[0;34m(\u001b[0m\u001b[0mA\u001b[0m\u001b[0;34m)\u001b[0m\u001b[0;34m.\u001b[0m\u001b[0msolve\u001b[0m\u001b[0;34m\u001b[0m\u001b[0;34m\u001b[0m\u001b[0m\n\u001b[0m\u001b[1;32m    489\u001b[0m \u001b[0;34m\u001b[0m\u001b[0m\n\u001b[1;32m    490\u001b[0m \u001b[0;34m\u001b[0m\u001b[0m\n",
      "\u001b[0;32m~/software/Anaconda3/installation/envs/magritte/lib/python3.6/site-packages/scipy/sparse/linalg/dsolve/linsolve.py\u001b[0m in \u001b[0;36msplu\u001b[0;34m(A, permc_spec, diag_pivot_thresh, relax, panel_size, options)\u001b[0m\n\u001b[1;32m    337\u001b[0m     return _superlu.gstrf(N, A.nnz, A.data, A.indices, A.indptr,\n\u001b[1;32m    338\u001b[0m                           \u001b[0mcsc_construct_func\u001b[0m\u001b[0;34m=\u001b[0m\u001b[0mcsc_construct_func\u001b[0m\u001b[0;34m,\u001b[0m\u001b[0;34m\u001b[0m\u001b[0;34m\u001b[0m\u001b[0m\n\u001b[0;32m--> 339\u001b[0;31m                           ilu=False, options=_options)\n\u001b[0m\u001b[1;32m    340\u001b[0m \u001b[0;34m\u001b[0m\u001b[0m\n\u001b[1;32m    341\u001b[0m \u001b[0;34m\u001b[0m\u001b[0m\n",
      "\u001b[0;31mRuntimeError\u001b[0m: Factor is exactly singular"
     ]
    }
   ],
   "source": [
    "norm_22         = sparse.linalg.norm(Sigma22)\n",
    "norm_22_inverse = sparse.linalg.norm(sparse.linalg.inv(Sigma22))\n",
    "\n",
    "cond = norm_22 * norm_22_inverse\n",
    "cond"
   ]
  },
  {
   "cell_type": "code",
   "execution_count": 99,
   "metadata": {},
   "outputs": [
    {
     "ename": "RuntimeError",
     "evalue": "Factor is exactly singular",
     "output_type": "error",
     "traceback": [
      "\u001b[0;31m---------------------------------------------------------------------------\u001b[0m",
      "\u001b[0;31mRuntimeError\u001b[0m                              Traceback (most recent call last)",
      "\u001b[0;32m<ipython-input-99-7d2fc00239d1>\u001b[0m in \u001b[0;36m<module>\u001b[0;34m\u001b[0m\n\u001b[0;32m----> 1\u001b[0;31m \u001b[0mSigma12\u001b[0m \u001b[0;34m*\u001b[0m \u001b[0msparse\u001b[0m\u001b[0;34m.\u001b[0m\u001b[0mlinalg\u001b[0m\u001b[0;34m.\u001b[0m\u001b[0minv\u001b[0m\u001b[0;34m(\u001b[0m\u001b[0mSigma22\u001b[0m\u001b[0;34m)\u001b[0m \u001b[0;34m*\u001b[0m \u001b[0mcondition\u001b[0m\u001b[0;34m\u001b[0m\u001b[0;34m\u001b[0m\u001b[0m\n\u001b[0m",
      "\u001b[0;32m~/software/Anaconda3/installation/envs/magritte/lib/python3.6/site-packages/scipy/sparse/linalg/matfuncs.py\u001b[0m in \u001b[0;36minv\u001b[0;34m(A)\u001b[0m\n\u001b[1;32m     75\u001b[0m \u001b[0;34m\u001b[0m\u001b[0m\n\u001b[1;32m     76\u001b[0m     \u001b[0mI\u001b[0m \u001b[0;34m=\u001b[0m \u001b[0m_ident_like\u001b[0m\u001b[0;34m(\u001b[0m\u001b[0mA\u001b[0m\u001b[0;34m)\u001b[0m\u001b[0;34m\u001b[0m\u001b[0;34m\u001b[0m\u001b[0m\n\u001b[0;32m---> 77\u001b[0;31m     \u001b[0mAinv\u001b[0m \u001b[0;34m=\u001b[0m \u001b[0mspsolve\u001b[0m\u001b[0;34m(\u001b[0m\u001b[0mA\u001b[0m\u001b[0;34m,\u001b[0m \u001b[0mI\u001b[0m\u001b[0;34m)\u001b[0m\u001b[0;34m\u001b[0m\u001b[0;34m\u001b[0m\u001b[0m\n\u001b[0m\u001b[1;32m     78\u001b[0m     \u001b[0;32mreturn\u001b[0m \u001b[0mAinv\u001b[0m\u001b[0;34m\u001b[0m\u001b[0;34m\u001b[0m\u001b[0m\n\u001b[1;32m     79\u001b[0m \u001b[0;34m\u001b[0m\u001b[0m\n",
      "\u001b[0;32m~/software/Anaconda3/installation/envs/magritte/lib/python3.6/site-packages/scipy/sparse/linalg/dsolve/linsolve.py\u001b[0m in \u001b[0;36mspsolve\u001b[0;34m(A, b, permc_spec, use_umfpack)\u001b[0m\n\u001b[1;32m    210\u001b[0m         \u001b[0;32melse\u001b[0m\u001b[0;34m:\u001b[0m\u001b[0;34m\u001b[0m\u001b[0;34m\u001b[0m\u001b[0m\n\u001b[1;32m    211\u001b[0m             \u001b[0;31m# b is sparse\u001b[0m\u001b[0;34m\u001b[0m\u001b[0;34m\u001b[0m\u001b[0;34m\u001b[0m\u001b[0m\n\u001b[0;32m--> 212\u001b[0;31m             \u001b[0mAfactsolve\u001b[0m \u001b[0;34m=\u001b[0m \u001b[0mfactorized\u001b[0m\u001b[0;34m(\u001b[0m\u001b[0mA\u001b[0m\u001b[0;34m)\u001b[0m\u001b[0;34m\u001b[0m\u001b[0;34m\u001b[0m\u001b[0m\n\u001b[0m\u001b[1;32m    213\u001b[0m \u001b[0;34m\u001b[0m\u001b[0m\n\u001b[1;32m    214\u001b[0m             \u001b[0;32mif\u001b[0m \u001b[0;32mnot\u001b[0m \u001b[0;34m(\u001b[0m\u001b[0misspmatrix_csc\u001b[0m\u001b[0;34m(\u001b[0m\u001b[0mb\u001b[0m\u001b[0;34m)\u001b[0m \u001b[0;32mor\u001b[0m \u001b[0mis_pydata_spmatrix\u001b[0m\u001b[0;34m(\u001b[0m\u001b[0mb\u001b[0m\u001b[0;34m)\u001b[0m\u001b[0;34m)\u001b[0m\u001b[0;34m:\u001b[0m\u001b[0;34m\u001b[0m\u001b[0;34m\u001b[0m\u001b[0m\n",
      "\u001b[0;32m~/software/Anaconda3/installation/envs/magritte/lib/python3.6/site-packages/scipy/sparse/linalg/dsolve/linsolve.py\u001b[0m in \u001b[0;36mfactorized\u001b[0;34m(A)\u001b[0m\n\u001b[1;32m    486\u001b[0m         \u001b[0;32mreturn\u001b[0m \u001b[0msolve\u001b[0m\u001b[0;34m\u001b[0m\u001b[0;34m\u001b[0m\u001b[0m\n\u001b[1;32m    487\u001b[0m     \u001b[0;32melse\u001b[0m\u001b[0;34m:\u001b[0m\u001b[0;34m\u001b[0m\u001b[0;34m\u001b[0m\u001b[0m\n\u001b[0;32m--> 488\u001b[0;31m         \u001b[0;32mreturn\u001b[0m \u001b[0msplu\u001b[0m\u001b[0;34m(\u001b[0m\u001b[0mA\u001b[0m\u001b[0;34m)\u001b[0m\u001b[0;34m.\u001b[0m\u001b[0msolve\u001b[0m\u001b[0;34m\u001b[0m\u001b[0;34m\u001b[0m\u001b[0m\n\u001b[0m\u001b[1;32m    489\u001b[0m \u001b[0;34m\u001b[0m\u001b[0m\n\u001b[1;32m    490\u001b[0m \u001b[0;34m\u001b[0m\u001b[0m\n",
      "\u001b[0;32m~/software/Anaconda3/installation/envs/magritte/lib/python3.6/site-packages/scipy/sparse/linalg/dsolve/linsolve.py\u001b[0m in \u001b[0;36msplu\u001b[0;34m(A, permc_spec, diag_pivot_thresh, relax, panel_size, options)\u001b[0m\n\u001b[1;32m    337\u001b[0m     return _superlu.gstrf(N, A.nnz, A.data, A.indices, A.indptr,\n\u001b[1;32m    338\u001b[0m                           \u001b[0mcsc_construct_func\u001b[0m\u001b[0;34m=\u001b[0m\u001b[0mcsc_construct_func\u001b[0m\u001b[0;34m,\u001b[0m\u001b[0;34m\u001b[0m\u001b[0;34m\u001b[0m\u001b[0m\n\u001b[0;32m--> 339\u001b[0;31m                           ilu=False, options=_options)\n\u001b[0m\u001b[1;32m    340\u001b[0m \u001b[0;34m\u001b[0m\u001b[0m\n\u001b[1;32m    341\u001b[0m \u001b[0;34m\u001b[0m\u001b[0m\n",
      "\u001b[0;31mRuntimeError\u001b[0m: Factor is exactly singular"
     ]
    }
   ],
   "source": [
    "Sigma12 * sparse.linalg.inv(Sigma22) * condition"
   ]
  },
  {
   "cell_type": "code",
   "execution_count": 45,
   "metadata": {},
   "outputs": [
    {
     "data": {
      "text/plain": [
       "2601"
      ]
     },
     "execution_count": 45,
     "metadata": {},
     "output_type": "execute_result"
    }
   ],
   "source": [
    "51**2"
   ]
  },
  {
   "cell_type": "code",
   "execution_count": null,
   "metadata": {},
   "outputs": [],
   "source": []
  }
 ],
 "metadata": {
  "kernelspec": {
   "display_name": "Python 3",
   "language": "python",
   "name": "python3"
  },
  "language_info": {
   "codemirror_mode": {
    "name": "ipython",
    "version": 3
   },
   "file_extension": ".py",
   "mimetype": "text/x-python",
   "name": "python",
   "nbconvert_exporter": "python",
   "pygments_lexer": "ipython3",
   "version": "3.7.5"
  },
  "widgets": {
   "application/vnd.jupyter.widget-state+json": {
    "state": {},
    "version_major": 2,
    "version_minor": 0
   }
  }
 },
 "nbformat": 4,
 "nbformat_minor": 4
}

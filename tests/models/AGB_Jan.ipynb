{
 "cells": [
  {
   "cell_type": "markdown",
   "metadata": {},
   "source": [
    "# AGB model Jan"
   ]
  },
  {
   "cell_type": "markdown",
   "metadata": {},
   "source": [
    "## Imports"
   ]
  },
  {
   "cell_type": "code",
   "execution_count": 1,
   "metadata": {},
   "outputs": [],
   "source": [
    "import vtk\n",
    "import meshio\n",
    "import numpy          as np\n",
    "import magritte.setup as setup\n",
    "import magritte.core  as magritte\n",
    "\n",
    "from tqdm                   import tqdm\n",
    "from astropy                import constants\n",
    "from vtk.util.numpy_support import vtk_to_numpy\n",
    "from scipy.spatial          import Delaunay"
   ]
  },
  {
   "cell_type": "markdown",
   "metadata": {},
   "source": [
    "## Dowload Jan's model from Frederik's nextcloud account (~400MB, so might take a while)."
   ]
  },
  {
   "cell_type": "code",
   "execution_count": 2,
   "metadata": {},
   "outputs": [
    {
     "name": "stdout",
     "output_type": "stream",
     "text": [
      "--2021-03-23 14:19:59--  https://owncloud.ster.kuleuven.be/index.php/s/mqtDyDSMPm2TjmG/download\n",
      "Resolving owncloud.ster.kuleuven.be (owncloud.ster.kuleuven.be)... 134.58.130.75\n",
      "Connecting to owncloud.ster.kuleuven.be (owncloud.ster.kuleuven.be)|134.58.130.75|:443... connected.\n",
      "HTTP request sent, awaiting response... 200 OK\n",
      "Length: 415691447 (396M) [application/octet-stream]\n",
      "Saving to: ‘model.vtu’\n",
      "\n",
      "model.vtu           100%[===================>] 396.43M  21.3MB/s    in 23s     \n",
      "\n",
      "2021-03-23 14:20:23 (17.1 MB/s) - ‘model.vtu’ saved [415691447/415691447]\n",
      "\n"
     ]
    }
   ],
   "source": [
    "!wget -O \"model.vtu\" https://owncloud.ster.kuleuven.be/index.php/s/mqtDyDSMPm2TjmG/download"
   ]
  },
  {
   "cell_type": "code",
   "execution_count": 3,
   "metadata": {},
   "outputs": [],
   "source": [
    "vtu_file   = 'model.vtu'\n",
    "model_file = 'model.hdf5'\n",
    "#lamda_file = '../data/co.txt'\n",
    "lamda_file = '../data/test.txt'"
   ]
  },
  {
   "cell_type": "markdown",
   "metadata": {},
   "source": [
    "## Extract the required data from the AMRVAC vtu file."
   ]
  },
  {
   "cell_type": "code",
   "execution_count": 4,
   "metadata": {},
   "outputs": [
    {
     "name": "stderr",
     "output_type": "stream",
     "text": [
      "100%|██████████| 89/89 [00:00<00:00, 383257.76it/s]\n",
      "100%|██████████| 297984/297984 [00:06<00:00, 45405.31it/s]\n",
      "297984it [00:00, 708687.03it/s]\n"
     ]
    }
   ],
   "source": [
    "# Create a vtk reader to read the AMRVAC file\n",
    "reader = vtk.vtkXMLUnstructuredGridReader()\n",
    "reader.SetFileName(vtu_file)\n",
    "reader.Update()\n",
    "\n",
    "# Read the model\n",
    "grid = reader.GetOutput()\n",
    "\n",
    "# Set model parameters\n",
    "dimension = 3\n",
    "npoints   = grid.GetNumberOfCells()\n",
    "nrays     = 12\n",
    "nspecs    = 5\n",
    "nlspecs   = 1\n",
    "nquads    = 1\n",
    "\n",
    "# Extract cell data\n",
    "cellData = grid.GetCellData()\n",
    "for i in tqdm(range(cellData.GetNumberOfArrays())):\n",
    "    array = cellData.GetArray(i)\n",
    "    if (array.GetName() == 'rho'):\n",
    "        rho = vtk_to_numpy(array)\n",
    "    if (array.GetName() == 'temperature'):\n",
    "        tmp = vtk_to_numpy(array)\n",
    "    if (array.GetName() == 'v1'):\n",
    "        v_x = vtk_to_numpy(array)\n",
    "    if (array.GetName() == 'v2'):\n",
    "        v_y = vtk_to_numpy(array)\n",
    "    if (array.GetName() == 'v3'):\n",
    "        v_z = vtk_to_numpy(array)\n",
    "\n",
    "# Convert rho (total density) to abundances\n",
    "nH2 = rho * 1.0e+6 * constants.N_A.si.value / 2.02\n",
    "nCO = nH2 * 1.0e-4\n",
    "\n",
    "# Convert to fractions of the speed of light\n",
    "velocity = np.array((v_x, v_y, v_z)).transpose() / constants.c.cgs.value\n",
    "\n",
    "# Defince turbulence at 150 m/s\n",
    "trb = (150.0/constants.c.si.value)**2 * np.ones(grid.GetNumberOfCells())\n",
    "\n",
    "# Extract cell centres as Magritte points\n",
    "centres = []\n",
    "for c in tqdm(range(grid.GetNumberOfCells())):\n",
    "    cell = grid.GetCell(c)\n",
    "    centre = np.zeros(3)\n",
    "    for i in range(8):\n",
    "        centre = centre + np.array(cell.GetPoints().GetPoint(i))\n",
    "    centre = 0.125 * centre\n",
    "    centres.append(centre)\n",
    "centres  = np.array(centres)\n",
    "centres *= 1.0e-2   # convert [cm] to [m]\n",
    "position = centres\n",
    "\n",
    "# we assume that the geometry to be a cube centred around the origin.\n",
    "# we assume that there is (at least) one face of the cube that has not been refined\n",
    "# (or that is completely covered by the coarsest elements that can be found on the boundary.).\n",
    "bound = 0.999*np.min(np.max(np.abs(centres), axis=0))\n",
    "x_max = y_max = z_max =  bound\n",
    "x_min = y_min = z_min = -bound\n",
    "\n",
    "# Extract the (artificial) boundary\n",
    "boundary = []\n",
    "for i, (x,y,z) in tqdm(enumerate(centres)):\n",
    "    if not ((x_min < x < x_max) and\n",
    "            (y_min < y < y_max) and\n",
    "            (z_min < z < z_max)    ):\n",
    "        boundary.append(i)\n",
    "boundary = np.array(boundary)\n",
    "\n",
    "# Extract Delaunay vertices (= Voronoi neighbors)\n",
    "delaunay = Delaunay(centres)\n",
    "(indptr, indices) = delaunay.vertex_neighbor_vertices\n",
    "neighbors = [indices[indptr[k]:indptr[k+1]] for k in range(npoints)]\n",
    "nbs       = [n for sublist in neighbors for n in sublist]\n",
    "n_nbs     = [len(sublist) for sublist in neighbors]\n",
    "\n",
    "# Convenience arrays\n",
    "zeros = np.zeros(npoints)\n",
    "ones  = np.ones (npoints)"
   ]
  },
  {
   "cell_type": "code",
   "execution_count": 4,
   "metadata": {},
   "outputs": [
    {
     "data": {
      "text/plain": [
       "True"
      ]
     },
     "execution_count": 4,
     "metadata": {},
     "output_type": "execute_result"
    }
   ],
   "source": [
    "sum(n_nbs)==len(nbs)"
   ]
  },
  {
   "cell_type": "markdown",
   "metadata": {},
   "source": [
    "## Create a Magritte model from the data."
   ]
  },
  {
   "cell_type": "code",
   "execution_count": 5,
   "metadata": {},
   "outputs": [],
   "source": [
    "model = magritte.Model ()\n",
    "model.parameters.set_spherical_symmetry(False)\n",
    "model.parameters.set_pop_prec          (1.0e-6)\n",
    "model.parameters.set_model_name        (model_file)\n",
    "model.parameters.set_dimension         (dimension)\n",
    "model.parameters.set_npoints           (npoints)\n",
    "model.parameters.set_nrays             (nrays)\n",
    "model.parameters.set_nspecs            (nspecs)\n",
    "model.parameters.set_nlspecs           (nlspecs)\n",
    "model.parameters.set_nquads            (nquads)\n",
    "\n",
    "model.geometry.points.position.set(position)\n",
    "model.geometry.points.velocity.set(velocity)\n",
    "\n",
    "#model.geometry.points.  neighbors.set(  nbs)\n",
    "#model.geometry.points.n_neighbors.set(n_nbs)\n",
    "model.geometry.points.multiscale.set_all_neighbors(n_nbs,nbs)\n",
    "\n",
    "model.chemistry.species.abundance = np.array((zeros, nCO, nH2, zeros, ones)).T\n",
    "# model.chemistry.species.symbol    = ['dummy0', 'CO', 'H2', 'e-', 'dummy1']\n",
    "model.chemistry.species.symbol    = ['dummy0', 'test', 'H2', 'e-', 'dummy1']\n",
    "\n",
    "model.thermodynamics.temperature.gas  .set(tmp)\n",
    "model.thermodynamics.turbulence.vturb2.set(trb)\n",
    "\n",
    "model.parameters.set_nboundary(boundary.shape[0])\n",
    "model.geometry.boundary.boundary2point.set(boundary)\n",
    "\n",
    "model = setup.set_boundary_condition_CMB  (model)\n",
    "model = setup.set_uniform_rays            (model)\n",
    "# model = setup.set_linedata_from_LAMDA_file(model, lamda_file, {'considered transitions': [0, 1]})\n",
    "model = setup.set_linedata_from_LAMDA_file(model, lamda_file)\n",
    "model = setup.set_quadrature              (model)\n",
    "\n",
    "model.write()"
   ]
  },
  {
   "cell_type": "code",
   "execution_count": 6,
   "metadata": {},
   "outputs": [
    {
     "data": {
      "text/plain": [
       "297984"
      ]
     },
     "execution_count": 6,
     "metadata": {},
     "output_type": "execute_result"
    }
   ],
   "source": [
    "model.parameters.npoints()"
   ]
  },
  {
   "cell_type": "markdown",
   "metadata": {},
   "source": [
    "## Run the Magritte model."
   ]
  },
  {
   "cell_type": "code",
   "execution_count": 7,
   "metadata": {},
   "outputs": [
    {
     "data": {
      "text/plain": [
       "0"
      ]
     },
     "execution_count": 7,
     "metadata": {},
     "output_type": "execute_result"
    }
   ],
   "source": [
    "model = magritte.Model (model_file)\n",
    "\n",
    "model.compute_spectral_discretisation ()\n",
    "model.compute_inverse_line_widths     ()\n",
    "model.compute_LTE_level_populations   ()"
   ]
  },
  {
   "cell_type": "code",
   "execution_count": null,
   "metadata": {},
   "outputs": [],
   "source": []
  }
 ],
 "metadata": {
  "kernelspec": {
   "display_name": "Python 3",
   "language": "python",
   "name": "python3"
  },
  "language_info": {
   "codemirror_mode": {
    "name": "ipython",
    "version": 3
   },
   "file_extension": ".py",
   "mimetype": "text/x-python",
   "name": "python",
   "nbconvert_exporter": "python",
   "pygments_lexer": "ipython3",
   "version": "3.7.9"
  }
 },
 "nbformat": 4,
 "nbformat_minor": 4
}
